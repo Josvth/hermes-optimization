{
 "cells": [
  {
   "cell_type": "code",
   "execution_count": 8,
   "metadata": {},
   "outputs": [],
   "source": [
    "import pandas as pd\n",
    "import numpy as np\n",
    "\n",
    "passes_df = pd.read_pickle('Telesat_0_7day.pkl')\n",
    "\n",
    "N_passes = 10\n",
    "passes_df = passes_df[0:N_passes]\n",
    "    \n",
    "def non_overlapping_constraint(passes_df):\n",
    "    # Construct the non-overlapping pass matrix\n",
    "    b = passes_df.StartTof.values\n",
    "    e = passes_df.StopTof.values\n",
    "\n",
    "    B = np.tile(b, (len(passes_df), 1)).T\n",
    "    E = np.tile(e, (len(passes_df), 1))\n",
    "\n",
    "    C = np.tril(E - B, -1)\n",
    "\n",
    "    return C\n",
    "\n",
    "C = non_overlapping_constraint(passes_df)"
   ]
  },
  {
   "cell_type": "code",
   "execution_count": 9,
   "metadata": {
    "pycharm": {
     "name": "#%%\n"
    }
   },
   "outputs": [
    {
     "name": "stdout",
     "output_type": "stream",
     "text": [
      "Best solution found: [1 1 0 1 1 1 0 1 1 1]\n",
      "Function value: [-1156.]\n",
      "Constraint violation: [0.]\n"
     ]
    }
   ],
   "source": [
    "import numpy as np\n",
    "\n",
    "from pymoo.factory import get_algorithm, get_crossover, get_mutation, get_sampling\n",
    "from pymoo.optimize import minimize\n",
    "from pymoo.model.problem import Problem\n",
    "\n",
    "\n",
    "class MyProblem(Problem):\n",
    "\n",
    "    def __init__(self):\n",
    "        super().__init__(n_var=N_passes, n_obj=1, n_constr=N_passes*N_passes, xl=0, xu=1, type_var=np.int)\n",
    "\n",
    "    def _evaluate(self, xx, out, *args, **kwargs):\n",
    "\n",
    "        f1 = np.zeros((np.size(xx, 0), 1))\n",
    "        g1 = np.zeros((np.size(xx, 0), N_passes*N_passes))\n",
    "\n",
    "        # not vectorized\n",
    "        for i in range(np.size(xx, 0)):\n",
    "            x = xx[i,:]\n",
    "\n",
    "            b = passes_df.StartTof[x == 1].values\n",
    "            e = passes_df.StopTof[x == 1].values\n",
    "\n",
    "            contact_time = np.sum(e - b)\n",
    "\n",
    "            overlap = C * x\n",
    "\n",
    "            f1[i] = -1 * contact_time\n",
    "            g1[i,:] = overlap.flatten()\n",
    "\n",
    "        out[\"F\"] = f1\n",
    "        out[\"G\"] = g1\n",
    "\n",
    "method = get_algorithm(\"ga\",\n",
    "                       pop_size=20,\n",
    "                       sampling=get_sampling(\"int_random\"),\n",
    "                       crossover=get_crossover(\"int_sbx\", prob=1.0, eta=3.0),\n",
    "                       mutation=get_mutation(\"int_pm\", eta=3.0),\n",
    "                       eliminate_duplicates=True,\n",
    "                       )\n",
    "\n",
    "res = minimize(MyProblem(),\n",
    "               method,\n",
    "               termination=('n_gen', 40),\n",
    "               seed=1,\n",
    "               save_history=True\n",
    "               )\n",
    "\n",
    "print(\"Best solution found: %s\" % res.X)\n",
    "print(\"Function value: %s\" % res.F)\n",
    "print(\"Constraint violation: %s\" % res.CV)"
   ]
  },
  {
   "cell_type": "code",
   "execution_count": 11,
   "metadata": {
    "pycharm": {
     "name": "#%%\n"
    }
   },
   "outputs": [
    {
     "data": {
      "image/png": "[encoded data removed]",
      "text/plain": [
       "<Figure size 230.4x172.8 with 1 Axes>"
      ]
     },
     "metadata": {
      "needs_background": "light"
     },
     "output_type": "display_data"
    }
   ],
   "source": [
    "import matplotlib.pyplot as plt\n",
    "plt.figure(figsize=(3.2, 2.4))\n",
    "\n",
    "import matplotlib\n",
    "import matplotlib.pyplot as plt\n",
    "matplotlib.use(\"pgf\")\n",
    "matplotlib.rcParams.update({\n",
    "    \"pgf.texsystem\": \"xelatex\",\n",
    "    'font.family': 'sans-serif',\n",
    "    'text.usetex': False,\n",
    "    'pgf.rcfonts': False\n",
    "})\n",
    "\n",
    "lines = [None] * N_passes\n",
    "for n in range(N_passes):\n",
    "    pass_df = passes_df.iloc[n]\n",
    "    line, = plt.plot(pass_df.ttof, pass_df.rrange / 1000., linewidth=0.5)\n",
    "    lines[n] = line\n",
    "\n",
    "plt.xlabel('time of flight [s]')\n",
    "plt.ylabel('range [km]')\n",
    "plt.grid()\n",
    "plt.xlim((0, passes_df.iloc[-1].StopTof))\n",
    "plt.tight_layout()\n",
    "\n",
    "plt.savefig('D:/git/thesis_report_ae/figures/passes_unmarked.pgf')\n",
    "\n",
    "for i in np.where(res.X == 1)[0]:\n",
    "    lines[i].set_linewidth(1.5)\n",
    "\n",
    "plt.savefig('D:/git/thesis_report_ae/figures/passes_marked.pgf')"
   ]
  }
 ],
 "metadata": {
  "kernelspec": {
   "display_name": "Python 3",
   "language": "python",
   "name": "python3"
  },
  "language_info": {
   "codemirror_mode": {
    "name": "ipython",
    "version": 3
   },
   "file_extension": ".py",
   "mimetype": "text/x-python",
   "name": "python",
   "nbconvert_exporter": "python",
   "pygments_lexer": "ipython3",
   "version": "3.7.6"
  },
  "pycharm": {
   "stem_cell": {
    "cell_type": "raw",
    "metadata": {
     "collapsed": false
    },
    "source": []
   }
  }
 },
 "nbformat": 4,
 "nbformat_minor": 1
}
