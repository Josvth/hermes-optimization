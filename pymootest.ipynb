{
 "cells": [
  {
   "cell_type": "code",
   "execution_count": 4,
   "metadata": {
    "pycharm": {
     "is_executing": false
    }
   },
   "outputs": [],
   "source": [
    "import pandas as pd\n",
    "import numpy as np\n",
    "from PlotUtil import apply_report_formatting\n",
    "\n",
    "telesat_passes_df = pd.read_pickle('Telesat_0_7day.pkl')\n",
    "\n",
    "N_passes = 20\n",
    "telesat_passes_df = telesat_passes_df[0:N_passes]\n",
    "\n",
    "def transform_sff(passes_df): \n",
    "    import quaternion as qn\n",
    "    \n",
    "    qq = [None] * len(passes_df)\n",
    "    ll = [None] * len(passes_df)\n",
    "    \n",
    "    # Todo make this properly vectorized\n",
    "    for i, pass_df in passes_df.iterrows():\n",
    "        rr_a = pass_df.rr_a\n",
    "        rr_ab = pass_df.rr_b - pass_df.rr_a\n",
    "            \n",
    "        # Start by finding the rotation of the sc in the ECIF\n",
    "        z_ecif = np.array([[0,0,1]])\n",
    "        \n",
    "        def rotate_vectors(qq, vv):\n",
    "            vvp = np.zeros(vv.shape)\n",
    "            for j, q in enumerate(qq):\n",
    "                q = q.normalized()\n",
    "                vvp[j, :] = (q * np.quaternion(0, vv[j, 0], vv[j, 1], vv[j, 2]) * q.inverse()).vec\n",
    "    \n",
    "            return vvp\n",
    "\n",
    "        ## New method\n",
    "        vv1 = rr_a\n",
    "        vv2 = z_ecif\n",
    "        \n",
    "        def find_quat(v1, v2):\n",
    "            # v1 - vector to rotate to\n",
    "            # v2 - vector to rotate from\n",
    "            xyz = np.cross(v1, v2)\n",
    "            x, y, z = xyz[:,0], xyz[:,1], xyz[:,2]\n",
    "            w = np.sqrt(np.linalg.norm(v1, axis=1) ** 2 * np.linalg.norm(v2, axis=1)**2) + np.sum(v1*v2, axis=1)\n",
    "            n = np.sqrt(x**2 + y**2 +  z**2 + w**2)\n",
    "            return qn.as_quat_array(np.array([w, x, y, z]).T) / n\n",
    "        \n",
    "        qq[i] = find_quat(vv1, vv2)\n",
    "        ll[i] = rotate_vectors(qq[i], rr_ab)\n",
    "\n",
    "    passes_df['qq'] = qq\n",
    "    passes_df['ll'] = ll\n",
    "    return passes_df\n",
    "\n",
    "telesat_passes_df = transform_sff(telesat_passes_df)\n",
    "  \n",
    "def non_overlapping_constraint(passes_df):\n",
    "    # Construct the non-overlapping pass matrix\n",
    "    b = passes_df.StartTof.values\n",
    "    e = passes_df.StopTof.values\n",
    "\n",
    "    B = np.tile(b, (len(passes_df), 1)).T\n",
    "    E = np.tile(e, (len(passes_df), 1))\n",
    "\n",
    "    C = np.tril(E - B, -1)\n",
    "\n",
    "    return C\n",
    "\n",
    "C = non_overlapping_constraint(telesat_passes_df)"
   ]
  },
  {
   "cell_type": "code",
   "execution_count": 5,
   "metadata": {
    "pycharm": {
     "name": "#%%\n",
     "is_executing": false
    }
   },
   "outputs": [
    {
     "name": "stdout",
     "text": [
      "Best solution found: [1 1 0 1 1 1 0 1 1 1 1 1 0 1 1 1 1 1 1 1]\n",
      "Function value: -1990.00\n",
      "Constraint violation: [0.]\n"
     ],
     "output_type": "stream"
    }
   ],
   "source": [
    "import numpy as np\n",
    "\n",
    "from pymoo.factory import get_algorithm, get_crossover, get_mutation, get_sampling\n",
    "from pymoo.optimize import minimize\n",
    "from pymoo.model.problem import Problem\n",
    "\n",
    "\n",
    "class MyProblem(Problem):\n",
    "\n",
    "    def __init__(self):\n",
    "        super().__init__(n_var=N_passes, n_obj=1, n_constr=N_passes*N_passes, xl=0, xu=1, type_var=np.int)\n",
    "\n",
    "    def _evaluate(self, xx, out, *args, **kwargs):\n",
    "\n",
    "        f1 = np.zeros((np.size(xx, 0), 1))\n",
    "        g1 = np.zeros((np.size(xx, 0), N_passes*N_passes))\n",
    "\n",
    "        # not vectorized\n",
    "        for i in range(np.size(xx, 0)):\n",
    "            x = xx[i,:]\n",
    "\n",
    "            b = telesat_passes_df.StartTof[x == 1].values\n",
    "            e = telesat_passes_df.StopTof[x == 1].values\n",
    "\n",
    "            contact_time = np.sum(e - b)\n",
    "\n",
    "            overlap = C * x\n",
    "\n",
    "            f1[i] = -1 * contact_time\n",
    "            g1[i,:] = overlap.flatten()\n",
    "\n",
    "        out[\"F\"] = f1\n",
    "        out[\"G\"] = g1\n",
    "\n",
    "method = get_algorithm(\"ga\",\n",
    "                       pop_size=20,\n",
    "                       sampling=get_sampling(\"int_random\"),\n",
    "                       crossover=get_crossover(\"int_sbx\", prob=1.0, eta=3.0),\n",
    "                       mutation=get_mutation(\"int_pm\", eta=3.0),\n",
    "                       eliminate_duplicates=True,\n",
    "                       )\n",
    "\n",
    "res = minimize(MyProblem(),\n",
    "               method,\n",
    "               termination=('n_gen', 40),\n",
    "               seed=1,\n",
    "               save_history=True\n",
    "               )\n",
    "\n",
    "print(\"Best solution found: %s\" % res.X)\n",
    "print(\"Function value: %.2f\" % res.F)\n",
    "print(\"Constraint violation: %s\" % res.CV)"
   ]
  },
  {
   "cell_type": "code",
   "execution_count": 6,
   "metadata": {
    "pycharm": {
     "name": "#%%\n",
     "is_executing": false
    }
   },
   "outputs": [
    {
     "data": {
      "text/plain": "<Figure size 230.4x172.8 with 1 Axes>",
      "image/png": "[encoded data removed]"
     },
     "metadata": {
      "needs_background": "light"
     },
     "output_type": "display_data"
    }
   ],
   "source": [
    "import matplotlib.pyplot as plt\n",
    "fig = plt.figure(figsize=(3.2, 2.4))\n",
    "\n",
    "import matplotlib\n",
    "import matplotlib.pyplot as plt\n",
    "matplotlib.use(\"pgf\")\n",
    "matplotlib.rcParams.update({\n",
    "    \"pgf.texsystem\": \"xelatex\",\n",
    "    'font.family': 'sans-serif',\n",
    "    'text.usetex': False,\n",
    "    'pgf.rcfonts': False\n",
    "})\n",
    "\n",
    "lines = [None] * N_passes\n",
    "for n in range(N_passes):\n",
    "    pass_df = telesat_passes_df.iloc[n]\n",
    "    line, = plt.plot(pass_df.ttof, pass_df.rrange / 1000., linewidth=0.5)\n",
    "    lines[n] = line\n",
    "\n",
    "plt.xlabel('time of flight [s]')\n",
    "plt.ylabel('range [km]')\n",
    "plt.grid()\n",
    "plt.xlim((0, telesat_passes_df.iloc[-1].StopTof))\n",
    "plt.tight_layout()\n",
    "\n",
    "for i in np.where(res.X != 1)[0]:\n",
    "    lines[i].set_linestyle('dotted')\n",
    "\n",
    "plt.annotate('7', (2800,900), fontsize=8)\n",
    "plt.annotate('8', (2800,530), fontsize=8)\n",
    "apply_report_formatting()\n",
    "plt.savefig('D:/git/thesis_report_ae/figures/passes_marked.pgf')"
   ]
  },
  {
   "cell_type": "code",
   "execution_count": 7,
   "outputs": [
    {
     "data": {
      "text/plain": "<Figure size 172.8x172.8 with 1 Axes>",
      "image/png": "[encoded data removed]"
     },
     "metadata": {
      "needs_background": "light"
     },
     "output_type": "display_data"
    }
   ],
   "source": [
    "fig = plt.figure(figsize=(2.4, 2.4))\n",
    "\n",
    "lines = [None] * N_passes\n",
    "\n",
    "def xyz_to_shperical(xyz):\n",
    "    xy = xyz[:,0]**2 + xyz[:,1]**2\n",
    "    r = np.sqrt(xy + xyz[:,2]**2)\n",
    "    theta = np.arctan2(np.sqrt(xy), xyz[:,2]) # for elevation angle defined from Z-axis down\n",
    "    phi = np.arctan2(xyz[:,1], xyz[:,0])\n",
    "    return r, theta, phi\n",
    "\n",
    "for i, pass_df in telesat_passes_df.head(N_passes).iterrows():\n",
    "    ll = pass_df.ll/1000\n",
    "    r, theta, phi = xyz_to_shperical(ll)\n",
    "    line, = plt.polar(phi, theta * 180 / np.pi, linewidth=0.5)\n",
    "    lines[i] = line\n",
    "    \n",
    "for i in np.where(res.X != 1)[0]:\n",
    "    lines[i].set_linestyle('dotted')\n",
    "    \n",
    "plt.yticks(ticks=plt.yticks()[0], labels=[\"%d\" % v for v in 90 - np.array(plt.yticks()[0])])\n",
    "#plt.grid()\n",
    "plt.tight_layout()\n",
    "# plt.subplots_adjust(bottom=0.1)\n",
    "apply_report_formatting()\n",
    "plt.savefig('D:/git/thesis_report_ae/figures/skyplot_marked.pgf')\n",
    "\n"
   ],
   "metadata": {
    "collapsed": false,
    "pycharm": {
     "name": "#%% \n",
     "is_executing": false
    }
   }
  }
 ],
 "metadata": {
  "kernelspec": {
   "display_name": "Python 3",
   "language": "python",
   "name": "python3"
  },
  "language_info": {
   "codemirror_mode": {
    "name": "ipython",
    "version": 3
   },
   "file_extension": ".py",
   "mimetype": "text/x-python",
   "name": "python",
   "nbconvert_exporter": "python",
   "pygments_lexer": "ipython3",
   "version": "3.7.6"
  },
  "pycharm": {
   "stem_cell": {
    "cell_type": "raw",
    "source": [],
    "metadata": {
     "collapsed": false
    }
   }
  }
 },
 "nbformat": 4,
 "nbformat_minor": 1
}