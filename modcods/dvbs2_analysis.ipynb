{
 "cells": [
  {
   "cell_type": "code",
   "execution_count": 1,
   "metadata": {
    "collapsed": true
   },
   "outputs": [],
   "source": [
    "from random import randint\n",
    "import numpy as np\n",
    "import pandas as pd\n",
    "import matplotlib.pyplot as plt\n",
    "import modcods.util.modulation as md\n",
    "import modcods.util.maee as maee"
   ]
  },
  {
   "cell_type": "code",
   "execution_count": 2,
   "outputs": [
    {
     "name": "stdout",
     "output_type": "stream",
     "text": [
      "    order_name  order   rate                label         label_string  isend  \\\n",
      "acm                                                                             \n",
      "0         QPSK      2   1/4      DVB-S2 QPSK 1/4      DVB_S2_QPSK_1r4   -2.35   \n",
      "1         QPSK      2   1/3      DVB-S2 QPSK 1/3      DVB_S2_QPSK_1r3   -1.24   \n",
      "2         QPSK      2   2/5      DVB-S2 QPSK 2/5      DVB_S2_QPSK_2r5   -0.30   \n",
      "3         QPSK      2   1/2      DVB-S2 QPSK 1/2      DVB_S2_QPSK_1r2    1.00   \n",
      "4         QPSK      2   3/5      DVB-S2 QPSK 3/5      DVB_S2_QPSK_3r5    2.23   \n",
      "5         QPSK      2   2/3      DVB-S2 QPSK 2/3      DVB_S2_QPSK_2r3    3.10   \n",
      "6         QPSK      2   3/4      DVB-S2 QPSK 3/4      DVB_S2_QPSK_3r4    4.03   \n",
      "7         QPSK      2   4/5      DVB-S2 QPSK 4/5      DVB_S2_QPSK_4r5    4.68   \n",
      "8         QPSK      2   5/6      DVB-S2 QPSK 5/6      DVB_S2_QPSK_5r6    5.18   \n",
      "9         QPSK      2   8/9      DVB-S2 QPSK 8/9      DVB_S2_QPSK_8r9    6.20   \n",
      "10        QPSK      2  9/10     DVB-S2 QPSK 9/10     DVB_S2_QPSK_9r10    6.42   \n",
      "11        8PSK      3   3/5      DVB-S2 8PSK 3/5      DVB_S2_8PSK_3r5    5.50   \n",
      "12        8PSK      3   2/3      DVB-S2 8PSK 2/3      DVB_S2_8PSK_2r3    6.62   \n",
      "13        8PSK      3   3/4      DVB-S2 8PSK 3/4      DVB_S2_8PSK_3r4    7.91   \n",
      "14        8PSK      3   5/6      DVB-S2 8PSK 5/6      DVB_S2_8PSK_5r6    9.35   \n",
      "15        8PSK      3   8/9      DVB-S2 8PSK 8/9      DVB_S2_8PSK_8r9   10.69   \n",
      "16        8PSK      3  9/10     DVB-S2 8PSK 9/10     DVB_S2_8PSK_9r10   10.98   \n",
      "17      16APSK      4   2/3    DVB-S2 16APSK 2/3    DVB_S2_16APSK_2r3    8.97   \n",
      "18      16APSK      4   3/4    DVB-S2 16APSK 3/4    DVB_S2_16APSK_3r4   10.21   \n",
      "19      16APSK      4   4/5    DVB-S2 16APSK 4/5    DVB_S2_16APSK_4r5   11.03   \n",
      "20      16APSK      4   5/6    DVB-S2 16APSK 5/6    DVB_S2_16APSK_5r6   11.61   \n",
      "21      16APSK      4   8/9    DVB-S2 16APSK 8/9    DVB_S2_16APSK_8r9   12.89   \n",
      "22      16APSK      4  9/10   DVB-S2 16APSK 9/10   DVB_S2_16APSK_9r10   13.13   \n",
      "23      32APSK      5   3/4    DVB-S2 32APSK 3/4    DVB_S2_32APSK_3r4   12.73   \n",
      "24      32APSK      5   4/5    DVB-S2 32APSK 4/5    DVB_S2_32APSK_4r5   13.64   \n",
      "25      32APSK      5   5/6    DVB-S2 32APSK 5/6    DVB_S2_32APSK_5r6   14.28   \n",
      "26      32APSK      5   8/9    DVB-S2 32APSK 8/9    DVB_S2_32APSK_8r9   15.69   \n",
      "27      32APSK      5  9/10   DVB-S2 32APSK 9/10   DVB_S2_32APSK_9r10   16.05   \n",
      "\n",
      "        ibend       eta  m1  m2  ...   g22   g23   g24   g25   g26   g27  \\\n",
      "acm                              ...                                       \n",
      "0    0.745886  0.490243   4   0  ...   NaN   NaN   NaN   NaN   NaN   NaN   \n",
      "1    0.587997  0.656448   4   0  ...   NaN   NaN   NaN   NaN   NaN   NaN   \n",
      "2    0.726963  0.789412   4   0  ...   NaN   NaN   NaN   NaN   NaN   NaN   \n",
      "3    1.048661  0.988858   4   0  ...   NaN   NaN   NaN   NaN   NaN   NaN   \n",
      "4    1.480724  1.188304   4   0  ...   NaN   NaN   NaN   NaN   NaN   NaN   \n",
      "5    1.886854  1.322253   4   0  ...   NaN   NaN   NaN   NaN   NaN   NaN   \n",
      "6    2.305509  1.487473   4   0  ...   NaN   NaN   NaN   NaN   NaN   NaN   \n",
      "7    2.673694  1.587196   4   0  ...   NaN   NaN   NaN   NaN   NaN   NaN   \n",
      "8    2.992904  1.654663   4   0  ...   NaN   NaN   NaN   NaN   NaN   NaN   \n",
      "9    3.728984  1.766451   4   0  ...   NaN   NaN   NaN   NaN   NaN   NaN   \n",
      "10   3.894839  1.788612   4   0  ...   NaN   NaN   NaN   NaN   NaN   NaN   \n",
      "11   2.995822  1.779991   8   0  ...   NaN   NaN   NaN   NaN   NaN   NaN   \n",
      "12   3.651953  1.980636   8   0  ...   NaN   NaN   NaN   NaN   NaN   NaN   \n",
      "13   4.430606  2.228124   8   0  ...   NaN   NaN   NaN   NaN   NaN   NaN   \n",
      "14   5.408002  2.478562   8   0  ...   NaN   NaN   NaN   NaN   NaN   NaN   \n",
      "15   6.464082  2.646012   8   0  ...   NaN   NaN   NaN   NaN   NaN   NaN   \n",
      "16   6.699937  2.679207   8   0  ...   NaN   NaN   NaN   NaN   NaN   NaN   \n",
      "17   4.758568  2.637201   4  12  ...   NaN   NaN   NaN   NaN   NaN   NaN   \n",
      "18   5.487223  2.966728   4  12  ...   NaN   NaN   NaN   NaN   NaN   NaN   \n",
      "19   6.025408  3.165623   4  12  ...   NaN   NaN   NaN   NaN   NaN   NaN   \n",
      "20   6.424618  3.300184   4  12  ...   NaN   NaN   NaN   NaN   NaN   NaN   \n",
      "21   7.420697  3.523143   4  12  ...   NaN   NaN   NaN   NaN   NaN   NaN   \n",
      "22   7.606553  3.567342   4  12  ...   NaN   NaN   NaN   NaN   NaN   NaN   \n",
      "23   7.044117  3.703295   4  12  ...  28.0  30.0  14.0  31.0  15.0  11.0   \n",
      "24   7.672302  3.951571   4  12  ...  28.0  30.0  14.0  31.0  15.0  11.0   \n",
      "25   8.131513  4.119540   4  12  ...  28.0  30.0  14.0  31.0  15.0  11.0   \n",
      "26   9.257592  4.397854   4  12  ...  28.0  30.0  14.0  31.0  15.0  11.0   \n",
      "27   9.563447  4.453027   4  12  ...  28.0  30.0  14.0  31.0  15.0  11.0   \n",
      "\n",
      "      g28   g29   g30   g31  \n",
      "acm                          \n",
      "0     NaN   NaN   NaN   NaN  \n",
      "1     NaN   NaN   NaN   NaN  \n",
      "2     NaN   NaN   NaN   NaN  \n",
      "3     NaN   NaN   NaN   NaN  \n",
      "4     NaN   NaN   NaN   NaN  \n",
      "5     NaN   NaN   NaN   NaN  \n",
      "6     NaN   NaN   NaN   NaN  \n",
      "7     NaN   NaN   NaN   NaN  \n",
      "8     NaN   NaN   NaN   NaN  \n",
      "9     NaN   NaN   NaN   NaN  \n",
      "10    NaN   NaN   NaN   NaN  \n",
      "11    NaN   NaN   NaN   NaN  \n",
      "12    NaN   NaN   NaN   NaN  \n",
      "13    NaN   NaN   NaN   NaN  \n",
      "14    NaN   NaN   NaN   NaN  \n",
      "15    NaN   NaN   NaN   NaN  \n",
      "16    NaN   NaN   NaN   NaN  \n",
      "17    NaN   NaN   NaN   NaN  \n",
      "18    NaN   NaN   NaN   NaN  \n",
      "19    NaN   NaN   NaN   NaN  \n",
      "20    NaN   NaN   NaN   NaN  \n",
      "21    NaN   NaN   NaN   NaN  \n",
      "22    NaN   NaN   NaN   NaN  \n",
      "23   27.0  10.0  26.0  24.0  \n",
      "24   27.0  10.0  26.0  24.0  \n",
      "25   27.0  10.0  26.0  24.0  \n",
      "26   27.0  10.0  26.0  24.0  \n",
      "27   27.0  10.0  26.0  24.0  \n",
      "\n",
      "[28 rows x 48 columns]\n"
     ]
    }
   ],
   "source": [
    "modcod_df = pd.read_excel('modcods_dvbs2.xlsx', index_col='acm')\n",
    "\n",
    "print(modcod_df)"
   ],
   "metadata": {
    "collapsed": false,
    "pycharm": {
     "name": "#%%\n"
    }
   }
  },
  {
   "cell_type": "code",
   "execution_count": 3,
   "outputs": [],
   "source": [
    "upsample = 10\n",
    "\n",
    "t, h_rrc = md.raised_root_cosine(upsample, 3, 0.35)\n",
    "\n",
    "# fig, ax = plt.subplots(figsize=(8,8))\n",
    "# ax.plot(t, h_rrc)"
   ],
   "metadata": {
    "collapsed": false,
    "pycharm": {
     "name": "#%%\n"
    }
   }
  },
  {
   "cell_type": "code",
   "execution_count": 4,
   "outputs": [],
   "source": [
    "VkVs_list = [0.0, 0.12, 0.31, 0.43]\n",
    "\n",
    "# Calculate maee for each VkVs\n",
    "for VkVs in VkVs_list:\n",
    "\n",
    "    a, Pdiss, gamma = maee.power_dissipation_profile(VkVs)\n",
    "\n",
    "    if False:\n",
    "        maee.plot_disspation_profile(a, Pdiss, gamma)\n",
    "\n",
    "    max_mod_order = np.max(modcod_df['order'])\n",
    "    N_sym = 100 * max_mod_order\n",
    "    N_bit = N_sym * 2**max_mod_order\n",
    "\n",
    "    bit_seq = np.random.randint(0, 2, N_bit)\n",
    "\n",
    "    eta_maee = np.zeros(len(modcod_df))\n",
    "    papr = np.zeros(len(modcod_df))\n",
    "    EPD = np.zeros(len(modcod_df))\n",
    "\n",
    "    mag_list = [None] * len(modcod_df)\n",
    "    filt_sym_seq_list = [None] * len(modcod_df)\n",
    "\n",
    "    # Generate symbols\n",
    "    for i, row in modcod_df.iterrows():\n",
    "\n",
    "        symbols, grey_mapping = md.generate_apsk_symbols(row)\n",
    "        mod_order = int(np.log2(len(symbols)))\n",
    "\n",
    "        seq_len = int((N_sym / 5) * mod_order * (2**mod_order))\n",
    "        sym_seq = md.modulate(symbols, grey_mapping, bit_seq[:seq_len])\n",
    "        filt_sym_seq = np.convolve(sym_seq.repeat(upsample), h_rrc)\n",
    "        filt_sym_seq = filt_sym_seq / np.max(np.abs(filt_sym_seq))\n",
    "\n",
    "        filt_sym_seq_list[i] = filt_sym_seq\n",
    "\n",
    "    # Calculate metrics\n",
    "    for i, row in modcod_df.iterrows():\n",
    "\n",
    "        filt_sym_seq = filt_sym_seq_list[i]\n",
    "\n",
    "        # PAPR\n",
    "        papr[i] = maee.papr(filt_sym_seq)\n",
    "\n",
    "        # MAEE\n",
    "        eta_maee[i] = maee.maee(filt_sym_seq, a, Pdiss)\n",
    "\n",
    "    modcod_df['maee_%d' % int(VkVs * 100)] = eta_maee\n",
    "    modcod_df['papr'] = papr"
   ],
   "metadata": {
    "collapsed": false,
    "pycharm": {
     "name": "#%%\n"
    }
   }
  },
  {
   "cell_type": "code",
   "execution_count": 5,
   "outputs": [],
   "source": [
    "modcod_df.to_pickle('dvbs2.pkl')"
   ],
   "metadata": {
    "collapsed": false,
    "pycharm": {
     "name": "#%% Pickle modcod dataframe\n"
    }
   }
  },
  {
   "cell_type": "code",
   "execution_count": 6,
   "outputs": [
    {
     "data": {
      "text/plain": "<Figure size 460.8x201.6 with 1 Axes>",
      "image/png": "[encoded data removed]"
     },
     "metadata": {
      "needs_background": "light"
     },
     "output_type": "display_data"
    }
   ],
   "source": [
    "fig, ax = plt.subplots(1,1, figsize=(6.4, 2.4))\n",
    "#modcod_df = modcod_df.sort_values('eta')\n",
    "\n",
    "maee_label = [\"Theoretical ($V_k/V_s=%.2f$)\" % VkVs_list[0],\n",
    "              \"Practical ($V_k/V_s=%.2f$)\" % VkVs_list[1],\n",
    "              \"GaAs MESFET ($V_k/V_s=%.2f$)\" % VkVs_list[2],\n",
    "              \"Si CMOS ($V_k/V_s=%.2f$)\" % VkVs_list[3]]\n",
    "\n",
    "for i, VkVs in enumerate(VkVs_list):\n",
    "    ax.step(modcod_df.eta, modcod_df['maee_%d' % int(VkVs*100)] * 100, label=maee_label[i])\n",
    "\n",
    "# ax.text(modcod_df.eta[0], modcod_df.maee[0] * 100 + .05, 'QPSK')\n",
    "# ax.text(modcod_df.eta[11], modcod_df.maee[11] * 100 + .05, '8PSK')\n",
    "# ax.text(modcod_df.eta[17], modcod_df.maee[17] * 100 + .05, '16PSK')\n",
    "# ax.text(modcod_df.eta[23], modcod_df.maee[23] * 100 + .05, '32PSK')\n",
    "\n",
    "ax.legend(bbox_to_anchor=(1.05, 1), loc='upper left')\n",
    "ax.set_ylim((14, 40))\n",
    "\n",
    "ax.text(modcod_df.eta[0] + np.diff(modcod_df.eta[[0,10]])/2, 14.5, 'QPSK', horizontalalignment='center',)\n",
    "ax.text(modcod_df.eta[10] + np.diff(modcod_df.eta[[10,16]])/2, 14.5, '8PSK', horizontalalignment='center',)\n",
    "ax.text(modcod_df.eta[16] + np.diff(modcod_df.eta[[16,22]])/2, 14.5, '16PSK', horizontalalignment='center',)\n",
    "ax.text(modcod_df.eta[22] + np.diff(modcod_df.eta[[22,27]])/2, 14.5, '32PSK', horizontalalignment='center',)\n",
    "\n",
    "#ax.plot(papr)\n",
    "# for i, row in modcod_df.iterrows():\n",
    "#     ax.text(row.eta, row.maee, row.order_name + row.rate)\n",
    "\n",
    "#ax.set_ylim((22.8, 23.7))\n",
    "ax.grid()\n",
    "ax.set_ylabel('$\\eta_{maee}$ [%]')\n",
    "ax.set_xlabel('Spectral efficiency $\\eta$ [bits/Hz]')\n",
    "ax.set_xticks(modcod_df.loc[[0,10,16,22,27]].eta)\n",
    "\n",
    "from pyreport import PlotUtil\n",
    "PlotUtil.apply_report_formatting(6.4, 2.8)\n",
    "plt.tight_layout()\n",
    "plt.savefig('D:/git/thesis_report_ae/figures/maee_dvb_s2.pdf')"
   ],
   "metadata": {
    "collapsed": false,
    "pycharm": {
     "name": "#%%\n"
    }
   }
  },
  {
   "cell_type": "code",
   "execution_count": 7,
   "outputs": [
    {
     "data": {
      "text/plain": "<Figure size 230.4x172.8 with 1 Axes>",
      "image/png": "[encoded data removed]"
     },
     "metadata": {
      "needs_background": "light"
     },
     "output_type": "display_data"
    }
   ],
   "source": [
    "fig, ax = plt.subplots(1,1)\n",
    "#modcod_df = modcod_df.sort_values('eta')\n",
    "\n",
    "papr_db = 10*np.log10(modcod_df.papr)\n",
    "#ax.step(modcod_df.eta, papr_db)\n",
    "eta_papr = 0.5*10**(-papr_db/20)\n",
    "\n",
    "ax.step(modcod_df.eta, eta_papr * 100)\n",
    "ax.text(modcod_df.eta[0], eta_papr[0] * 100 + .4, 'QPSK')\n",
    "ax.text(modcod_df.eta[11], eta_papr[11] * 100 + .4, '8PSK')\n",
    "ax.text(modcod_df.eta[17] + 0.1, eta_papr[17] * 100 + 1, '16PSK')\n",
    "ax.text(modcod_df.eta[23], eta_papr[23] * 100 + 1, '32PSK')\n",
    "\n",
    "#ax.plot(papr)\n",
    "# for i, row in modcod_df.iterrows():\n",
    "#     ax.text(row.eta, row.maee, row.order_name + row.rate)\n",
    "\n",
    "ax.set_ylim((23, 33))\n",
    "ax.grid()\n",
    "ax.set_ylabel('$\\eta_{maee}$ [%]')\n",
    "ax.set_xlabel('Spectral efficiency \\eta [bits/Hz]')\n",
    "\n",
    "from pyreport import PlotUtil\n",
    "PlotUtil.apply_report_formatting()\n",
    "plt.tight_layout()\n",
    "plt.savefig('D:/git/thesis_report_ae/figures/papr_dvb_s2.pdf')\n",
    "\n"
   ],
   "metadata": {
    "collapsed": false,
    "pycharm": {
     "name": "#%% PAPR\n"
    }
   }
  }
 ],
 "metadata": {
  "kernelspec": {
   "name": "pycharm-34b782de",
   "language": "python",
   "display_name": "PyCharm (hermes-simulator)"
  },
  "language_info": {
   "codemirror_mode": {
    "name": "ipython",
    "version": 2
   },
   "file_extension": ".py",
   "mimetype": "text/x-python",
   "name": "python",
   "nbconvert_exporter": "python",
   "pygments_lexer": "ipython2",
   "version": "2.7.6"
  }
 },
 "nbformat": 4,
 "nbformat_minor": 0
}