{
 "cells": [
  {
   "cell_type": "code",
   "execution_count": 5,
   "metadata": {
    "pycharm": {
     "is_executing": false
    }
   },
   "outputs": [
    {
     "data": {
      "image/png": "[encoded data removed]",
      "text/plain": [
       "<Figure size 432x288 with 1 Axes>"
      ]
     },
     "metadata": {
      "needs_background": "light"
     },
     "output_type": "display_data"
    }
   ],
   "source": [
    "%matplotlib inline\n",
    "\n",
    "import pandas as pd\n",
    "import numpy as np\n",
    "\n",
    "passes_df = pd.read_pickle('Telesat_0_7day.pkl')\n",
    "\n",
    "import matplotlib.pyplot as plt\n",
    "\n",
    "N_passes = 10\n",
    "\n",
    "fig, ax = plt.subplots()\n",
    "\n",
    "for n in range(N_passes):\n",
    "    pass_df = passes_df.iloc[n]\n",
    "    ax.plot(pass_df.ttof, pass_df.rrange)\n",
    "    #fig.show()\n",
    "\n",
    "#fig.show()"
   ]
  },
  {
   "cell_type": "code",
   "execution_count": 11,
   "metadata": {},
   "outputs": [],
   "source": [
    "def non_overlapping_constraint(passes_df)\n",
    "    # Construct the non-overlapping pass matrix\n",
    "    b = passes_df.StartTof.values\n",
    "    e = passes_df.StopTof.values\n",
    "\n",
    "    B = np.repeat(b, 1, len(passes_df))\n",
    "    E = np.repeat(e.T, len(passes_df), 1)\n",
    "    \n",
    "    C = np.tril(E - B, -1)\n",
    "    \n",
    "    return C\n",
    "    \n",
    "\n",
    "C = non_overlapping_constraint(passes_df[1:N_passes])\n",
    "\n",
    "\n",
    "#from platypus import NSGAII, Problem Integer\n",
    "\n",
    "import numpy as np\n",
    "from pymoo.util.misc import stack\n",
    "from pymoo.model.problem import Problem\n",
    "\n",
    "class SingleObjectiveProblem(Problem):\n",
    "    \n",
    "    def __init__(self, n_var):\n",
    "        super().__init__(n_var=n_var,\n",
    "                         n_obj=1,\n",
    "                         n_constr=1,\n",
    "                         xl=np.array([0,1]),\n",
    "                         xu=np.array([0,1]))\n",
    "        \n",
    "        def evaluate(self,\n",
    "                 x,\n",
    "                 out,\n",
    "                 *args,\n",
    "                 return_values_of=\"auto\",\n",
    "                 return_as_dictionary=False,\n",
    "                 **kwargs):\n",
    "            \n",
    "            b = passes_df.StartTof[x == 1].values\n",
    "            e = passes_df.StopTof[x == 1].values\n",
    "        \n",
    "            contact_time = np.sum(e - b)\n",
    "            \n",
    "            f1 = -1*contact_time\n",
    "            \n",
    "            out[\"F\"] = np.column_stack([f1])\n",
    "            out[\"G\"] = -1\n",
    "\n",
    "from pymoo.factory import get_algorithm, get_crossover, get_mutation, get_sampling\n",
    "    \n",
    "method = get_algorithm(\"ga\",\n",
    "                       pop_size=20,\n",
    "                       sampling=get_sampling(\"int_random\"),\n",
    "                       crossover=get_crossover(\"int_sbx\", prob=1.0, eta=3.0),\n",
    "                       mutation=get_mutation(\"int_pm\", eta=3.0),\n",
    "                       eliminate_duplicates=True,\n",
    "                       )\n",
    "\n"
   ]
  }
 ],
 "metadata": {
  "kernelspec": {
   "display_name": "Python 3",
   "language": "python",
   "name": "python3"
  },
  "language_info": {
   "codemirror_mode": {
    "name": "ipython",
    "version": 3
   },
   "file_extension": ".py",
   "mimetype": "text/x-python",
   "name": "python",
   "nbconvert_exporter": "python",
   "pygments_lexer": "ipython3",
   "version": "3.7.6"
  },
  "pycharm": {
   "stem_cell": {
    "cell_type": "raw",
    "source": [],
    "metadata": {
     "collapsed": false
    }
   }
  }
 },
 "nbformat": 4,
 "nbformat_minor": 1
}