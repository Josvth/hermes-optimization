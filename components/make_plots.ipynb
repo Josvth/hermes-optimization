{
 "cells": [
  {
   "cell_type": "code",
   "execution_count": 1,
   "metadata": {
    "collapsed": true
   },
   "outputs": [],
   "source": [
    "from random import randint\n",
    "import numpy as np\n",
    "import pandas as pd\n",
    "import matplotlib.pyplot as plt\n",
    "import modcods.util.modulation as md\n",
    "import modcods.util.maee as maee\n",
    "\n",
    "from pyreport import PlotUtil\n",
    "\n",
    "np.random.seed(seed=11231512)"
   ]
  },
  {
   "cell_type": "code",
   "execution_count": 3,
   "outputs": [
    {
     "name": "stdout",
     "output_type": "stream",
     "text": [
      "      Unnamed: 0  bandwidth_MHz  datarate_Mbps  rf_power_W  dc_power_W  \\\n",
      "0  Astro Digital          86.40         320.60         0.6        20.0   \n",
      "1      Swift-KTX         500.00         100.00         2.0        25.0   \n",
      "2          ISARA            NaN            NaN         0.5        10.0   \n",
      "3            NSS            NaN          10.00         2.0        30.0   \n",
      "4           HDS2         600.00        1674.00         2.0        50.0   \n",
      "5           HODO         125.00         538.00         2.0        22.0   \n",
      "6           IRIS           8.44           6.25         3.8        33.7   \n",
      "7          XLINK         475.00          25.00         0.5        15.0   \n",
      "8         PULSAR         300.00          50.00         2.0        15.0   \n",
      "9        NanoCom         500.00         225.00         3.0        28.5   \n",
      "\n",
      "   size_U  mass_kg   link_eff  mod_power_W  \n",
      "0    1.00     1.00  16.030000    18.000000  \n",
      "1    0.33     0.50   4.000000    18.333333  \n",
      "2    0.50     0.19        NaN     8.333333  \n",
      "3    0.50     0.60   0.333333    23.333333  \n",
      "4    0.25      NaN  33.480000    43.333333  \n",
      "5    1.05     1.30  24.454545    15.333333  \n",
      "6    0.56     1.20   0.185460    21.033333  \n",
      "7    0.16     0.20   1.666667    13.333333  \n",
      "8    0.10     0.13   3.333333     8.333333  \n",
      "9    0.10     0.32   7.894737    18.500000  \n"
     ]
    }
   ],
   "source": [
    "transmitters = pd.read_excel('transmitters.xlsx')\n",
    "\n",
    "transmitters['link_eff'] = transmitters['datarate_Mbps'] / transmitters['dc_power_W']\n",
    "#transmitters['link_eff'] = transmitters['datarate_Mbps'] / transmitters['dc_power_W']\n",
    "rf_eff = 0.3\n",
    "transmitters['mod_power_W'] = transmitters['dc_power_W'] - (transmitters['rf_power_W'] / rf_eff)\n",
    "\n",
    "print(transmitters)"
   ],
   "metadata": {
    "collapsed": false,
    "pycharm": {
     "name": "#%% Transmitters\n"
    }
   }
  },
  {
   "cell_type": "code",
   "execution_count": null,
   "outputs": [],
   "source": [
    "# Plot datarate vs mod power\n",
    "sel = ~transmitters['datarate_Mbps'].isnull()\n",
    "\n",
    "fig, ax = plt.subplots()\n",
    "ax.scatter(transmitters['datarate_Mbps'], transmitters['mod_power_W'], marker='+')\n",
    "ax.set_ylim((0, 50))\n",
    "ax.set_xlim((0, 1800))\n",
    "ax.grid()\n",
    "\n",
    "z = np.polyfit(transmitters[sel]['datarate_Mbps'], transmitters[sel]['mod_power_W'], 1)\n",
    "p = np.poly1d(z)\n",
    "ax.plot(transmitters['datarate_Mbps'].values,p(transmitters['datarate_Mbps'].values),\"r-\", linewidth=0.5)\n",
    "ax.text(0.5, 0.5, 'y = %.3fx + %.3f' % (z[0], z[1]), transform=ax.transAxes, fontsize=8)\n",
    "ax.set_xlabel('Datarate [Mbps]')\n",
    "ax.set_ylabel('Modulator power [W]')\n",
    "\n",
    "PlotUtil.apply_report_formatting()\n",
    "plt.tight_layout()\n",
    "\n",
    "fig.savefig('D:/git/thesis_report_ae/figures/transmitters_mod_efficiency.pdf')\n",
    "\n",
    "# Plot volume vs mass\n",
    "sel = ~transmitters['mass_kg'].isnull()\n",
    "\n",
    "fig, ax = plt.subplots()\n",
    "ax.scatter(transmitters['size_U'], transmitters['mass_kg'], marker='+')\n",
    "ax.set_ylim((0, 1.5))\n",
    "ax.set_xlim((0, 1.5))\n",
    "ax.grid()\n",
    "\n",
    "z = np.polyfit(transmitters[sel]['size_U'], transmitters[sel]['mass_kg'], 1)\n",
    "p = np.poly1d(z)\n",
    "ax.plot(transmitters['size_U'].values,p(transmitters['size_U'].values),\"r-\", linewidth=0.5)\n",
    "ax.text(0.5, 0.45, 'y = %.3fx + %.3f' % (z[0], z[1]), transform=ax.transAxes, fontsize=8)\n",
    "ax.set_xlabel('Volume [U]')\n",
    "ax.set_ylabel('Mass [kg]')\n",
    "\n",
    "PlotUtil.apply_report_formatting()\n",
    "plt.tight_layout()\n",
    "fig.savefig('D:/git/thesis_report_ae/figures/transmitters_mass.pdf')"
   ],
   "metadata": {
    "collapsed": false,
    "pycharm": {
     "name": "#%%\n"
    }
   }
  },
  {
   "cell_type": "code",
   "execution_count": 154,
   "outputs": [
    {
     "data": {
      "text/plain": "<Figure size 230.4x172.8 with 1 Axes>",
      "image/png": "[encoded data removed]"
     },
     "metadata": {
      "needs_background": "light"
     },
     "output_type": "display_data"
    },
    {
     "data": {
      "text/plain": "<Figure size 230.4x172.8 with 1 Axes>",
      "image/png": "[encoded data removed]"
     },
     "metadata": {
      "needs_background": "light"
     },
     "output_type": "display_data"
    }
   ],
   "source": [
    "antennas = pd.read_excel('antennas.xlsx')\n",
    "\n",
    "#print(antennas)\n",
    "\n",
    "# Plot mass vs volume\n",
    "fig, ax = plt.subplots()\n",
    "\n",
    "from matplotlib.patches import Ellipse\n",
    "\n",
    "# Planar\n",
    "sel = antennas['Type'].str.contains('Planar')\n",
    "sel = sel & ~antennas['Volume\\n[U]'].str.contains('\\?', na=False) & ~antennas['Gain\\n[dBi]'].isnull()\n",
    "ax.scatter(antennas[sel]['Volume\\n[U]'], antennas[sel]['Gain\\n[dBi]'], marker='+')\n",
    "ellipse = Ellipse(xy=(0, 21.5), width=0.7, height=12, ls='--',\n",
    "                        edgecolor='tab:grey', fc='None', lw=1)\n",
    "ax.add_patch(ellipse)\n",
    "ax.text(0.1, 12.5, 'planar', fontsize=6)\n",
    "\n",
    "# Horn & inflate\n",
    "sel = antennas['Type'].str.contains('Horn') | antennas['Type'].str.contains('Lens') | antennas['Type'].str.contains('Inflate')\n",
    "sel = sel & ~antennas['Volume\\n[U]'].str.contains('\\?', na=False) & ~antennas['Gain\\n[dBi]'].isnull()\n",
    "ax.scatter(antennas[sel]['Volume\\n[U]'], antennas[sel]['Gain\\n[dBi]'], marker='x')\n",
    "ellipse = Ellipse(xy=(0.7, 24), width=0.7, height=10, ls='--',\n",
    "                        edgecolor='tab:grey', fc='None', lw=.5)\n",
    "ax.add_patch(ellipse)\n",
    "ax.text(0.7, 15, 'horn/lens & inflate', fontsize=6)\n",
    "\n",
    "# Mesh\n",
    "sel = antennas['Type'].str.contains('Mesh')\n",
    "sel = sel & ~antennas['Volume\\n[U]'].str.contains('\\?', na=False) & ~antennas['Gain\\n[dBi]'].isnull()\n",
    "ax.scatter(antennas[sel]['Volume\\n[U]'], antennas[sel]['Gain\\n[dBi]'], marker='.')\n",
    "ellipse = Ellipse(xy=(2.35, 45), width=1.9, height=16, ls='--',\n",
    "                        edgecolor='tab:grey', fc='None', lw=.5)\n",
    "ax.add_patch(ellipse)\n",
    "ax.text(2.1, 55, 'mesh', fontsize=6)\n",
    "\n",
    "# Reflect\n",
    "sel = antennas['Type'].str.contains('Reflect')\n",
    "sel = sel & ~antennas['Volume\\n[U]'].str.contains('\\?', na=False) & ~antennas['Gain\\n[dBi]'].isnull()\n",
    "ax.scatter(antennas[sel]['Volume\\n[U]'], antennas[sel]['Gain\\n[dBi]'], 15, marker='^',)\n",
    "ellipse = Ellipse(xy=(0.9, 31), width=1.75, height=10, ls='--',\n",
    "                        edgecolor='tab:grey', fc='None', lw=.5)\n",
    "ax.add_patch(ellipse)\n",
    "ax.text(0.55, 37, 'reflect', fontsize=6)\n",
    "\n",
    "ax.set_ylim((0, 60))\n",
    "ax.set_xlim((0, 4.0))\n",
    "\n",
    "# Plot trend\n",
    "sel = ~antennas['Volume\\n[U]'].str.contains('\\?', na=False) & ~antennas['Gain\\n[dBi]'].isnull()\n",
    "z = np.polyfit(antennas[sel]['Volume\\n[U]'].astype('float').values, antennas[sel]['Gain\\n[dBi]'].values, 1)\n",
    "p = np.poly1d(z)\n",
    "ax.plot(antennas[sel]['Volume\\n[U]'].astype('float').values,p(antennas[sel]['Volume\\n[U]'].astype('float').values),\"r-\", linewidth=0.5)\n",
    "ax.text(0.51, 0.51, 'y = %.3fx + %.3f' % (z[0], z[1]), transform=ax.transAxes, fontsize=6)\n",
    "\n",
    "ax.set_xlabel('Volume [U]')\n",
    "ax.set_ylabel('Gain [dBi]')\n",
    "ax.grid()\n",
    "\n",
    "PlotUtil.apply_report_formatting()\n",
    "plt.tight_layout()\n",
    "\n",
    "fig.savefig('D:/git/thesis_report_ae/figures/antennas_gain_vs_volume.pdf')\n",
    "\n",
    "# Plot gain vs mass\n",
    "fig, ax = plt.subplots()\n",
    "\n",
    "sel = ~antennas['Mass\\n[kg]'].str.contains('\\?', na=False) & ~antennas['Gain\\n[dBi]'].isnull()\n",
    "ax.scatter(antennas[sel]['Mass\\n[kg]'], antennas[sel]['Gain\\n[dBi]'], marker='.',)\n",
    "\n",
    "# Plot trend\n",
    "z = np.polyfit(antennas[sel]['Mass\\n[kg]'].astype('float').values, antennas[sel]['Gain\\n[dBi]'].values, 1)\n",
    "p = np.poly1d(z)\n",
    "ax.plot(antennas[sel]['Mass\\n[kg]'].astype('float').values,p(antennas[sel]['Mass\\n[kg]'].astype('float').values),\"r-\", linewidth=0.5)\n",
    "ax.text(0.55, 0.60, 'y = %.3fx + %.3f' % (z[0], z[1]), transform=ax.transAxes, fontsize=6)\n",
    "\n",
    "ax.set_ylim((0, 60))\n",
    "ax.set_xlim((0, 3.0))\n",
    "\n",
    "ax.set_xlabel('Mass [kg]')\n",
    "ax.set_ylabel('Gain [dBi]')\n",
    "ax.grid()\n",
    "\n",
    "PlotUtil.apply_report_formatting()\n",
    "plt.tight_layout()\n",
    "\n",
    "fig.savefig('D:/git/thesis_report_ae/figures/antennas_gain_vs_mass.pdf')\n"
   ],
   "metadata": {
    "collapsed": false,
    "pycharm": {
     "name": "#%% Antennas\n"
    }
   }
  }
 ],
 "metadata": {
  "kernelspec": {
   "name": "pycharm-34b782de",
   "language": "python",
   "display_name": "PyCharm (hermes-simulator)"
  },
  "language_info": {
   "codemirror_mode": {
    "name": "ipython",
    "version": 2
   },
   "file_extension": ".py",
   "mimetype": "text/x-python",
   "name": "python",
   "nbconvert_exporter": "python",
   "pygments_lexer": "ipython2",
   "version": "2.7.6"
  }
 },
 "nbformat": 4,
 "nbformat_minor": 0
}