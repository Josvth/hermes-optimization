{
 "cells": [
  {
   "cell_type": "code",
   "execution_count": 1,
   "outputs": [
    {
     "name": "stdout",
     "output_type": "stream",
     "text": [
      "Using matplotlib backend: Qt5Agg\n"
     ]
    }
   ],
   "source": [
    "import pandas as pd\n",
    "import numpy as np\n",
    "from pymoo.optimize import minimize\n",
    "import pickle\n",
    "\n",
    "from pymoo.util.termination.f_tol import MultiObjectiveSpaceToleranceTermination\n",
    "from pymoo.visualization.scatter import Scatter\n",
    "from notebooks.optimization_problems.constraints import Requirements\n",
    "from pyreport import PlotUtil\n",
    "import matplotlib.pyplot as plt\n",
    "\n",
    "%matplotlib"
   ],
   "metadata": {
    "collapsed": false,
    "pycharm": {
     "name": "#%%\n"
    }
   }
  },
  {
   "cell_type": "code",
   "execution_count": 2,
   "outputs": [],
   "source": [
    "columns = ['strand_name', 'tof',\n",
    "           'r_a_x', 'r_a_y', 'r_a_z',\n",
    "           'v_a_x', 'v_a_y', 'v_a_z',\n",
    "           'r_b_x', 'r_b_y', 'r_b_z',\n",
    "           'd',\n",
    "           'r_ab_sff_x', 'r_ab_sff_y', 'r_ab_sff_z']\n",
    "\n",
    "file_path = \"example_data.h5\"\n",
    "\n",
    "row_limit = -1\n",
    "\n",
    "store_500km = pd.HDFStore(file_path)\n",
    "\n",
    "instances_500km_df = store_500km.select('contact_instances', 'columns = %s' % str(columns), stop = row_limit)\n",
    "\n",
    "# Sort by pass id\n",
    "instances_500km_df = instances_500km_df.sort_index(0)"
   ],
   "metadata": {
    "collapsed": false,
    "pycharm": {
     "name": "#%% Import data files from visibility analysis at 500 km\n"
    }
   }
  },
  {
   "cell_type": "code",
   "execution_count": 3,
   "outputs": [],
   "source": [
    "N_passes = 20\n",
    "\n",
    "instances_df = instances_500km_df.loc[0:N_passes,:]"
   ],
   "metadata": {
    "collapsed": false,
    "pycharm": {
     "name": "#%% Limit number of passes\n"
    }
   }
  },
  {
   "cell_type": "code",
   "execution_count": 4,
   "outputs": [
    {
     "name": "stdout",
     "output_type": "stream",
     "text": [
      "# dirs: 680\n"
     ]
    }
   ],
   "source": [
    "from problems.max_latency_problem import MaxLatencyProblem\n",
    "from notebooks.optimization_problems.design_vector import design_vector_default_scm, SystemParameters\n",
    "\n",
    "sys_param = SystemParameters()\n",
    "sys_param.margin_dB = 3.0\n",
    "sys_param.B_Hz_array = np.array([0.1, 0.5, 1, 10, 50, 100, 200, 300]) * 1e6\n",
    "sys_param.Gtx_dBi_bounds = (3., 30.)\n",
    "sys_param.Ptx_dBm_bounds = (20., 43.)\n",
    "\n",
    "modcods_df = pd.read_pickle('dvbs2.pkl')\n",
    "\n",
    "sys_param.EsN0_req_dB_array = modcods_df['isend'].to_numpy()\n",
    "sys_param.eta_bitsym_array = modcods_df[['eta', 'eta_200MHz', 'eta_300MHz']].to_numpy()\n",
    "sys_param.eta_maee_array = modcods_df[['maee_12', 'maee_12_200MHz', 'maee_12_300MHz']].to_numpy()\n",
    "\n",
    "requirements = Requirements()\n",
    "#requirements.min_throughput = 0.5e9\n",
    "requirements.max_throughput = 50e9\n",
    "requirements.max_latency = 5400\n",
    "\n",
    "problem = MaxLatencyProblem(instances_df, sys_param, requirements=requirements)\n",
    "\n",
    "sampling, crossover, mutation = design_vector_default_scm(problem.x_length, problem.x_indices)\n",
    "\n",
    "algo_settings = {'pop_size': 1000, 'n_offsprings': 50, 'n_max_gen': 20000}\n",
    "\n",
    "settings = {}\n",
    "\n",
    "# NSGA-III\n",
    "from pymoo.algorithms.nsga3 import NSGA3\n",
    "from pymoo.factory import get_reference_directions, get_visualization\n",
    "\n",
    "ref_dirs = get_reference_directions(\"das-dennis\", 4, n_partitions=14)\n",
    "algo_settings['pop_size'] = int(np.ceil(len(ref_dirs) / 100) * 100)\n",
    "algo_settings['n_offsprings'] = int(np.ceil(len(ref_dirs) / 100) * 100 / 4)\n",
    "\n",
    "print(\"# dirs: %d\" % len(ref_dirs))\n",
    "\n",
    "settings['NSGA-III'] = {\n",
    "    'label': 'nsga3',\n",
    "    'algorithm': NSGA3(\n",
    "        pop_size=algo_settings['pop_size'],\n",
    "        n_offsprings=algo_settings['n_offsprings'],\n",
    "        sampling=sampling,\n",
    "        crossover=crossover,\n",
    "        mutation=mutation,\n",
    "        ref_dirs=ref_dirs,\n",
    "        eliminate_duplicates=True,\n",
    "    ),\n",
    "    'termination': MultiObjectiveSpaceToleranceTermination(tol=0.00001,\n",
    "                                                      n_last=30,\n",
    "                                                      nth_gen=5,\n",
    "                                                      n_max_gen=algo_settings['n_max_gen'],\n",
    "                                                      n_max_evals=None)\n",
    "}\n",
    "\n",
    "setting = settings['NSGA-III']"
   ],
   "metadata": {
    "collapsed": false,
    "pycharm": {
     "name": "#%%\n"
    }
   }
  },
  {
   "cell_type": "code",
   "execution_count": 5,
   "outputs": [
    {
     "name": "stdout",
     "output_type": "stream",
     "text": [
      "=====================================================================================\n",
      "n_gen |  n_eval |   cv (min)   |   cv (avg)   |  n_nds  |     eps      |  indicator  \n",
      "=====================================================================================\n",
      "    1 |     700 |  0.00000E+00 |  2.229620997 |      33 |            - |            -\n",
      "    2 |     875 |  0.00000E+00 |  1.183360286 |      35 |  0.210708661 |        nadir\n",
      "    3 |    1050 |  0.00000E+00 |  0.854018363 |      44 |  1.047542250 |        nadir\n",
      "    4 |    1225 |  0.00000E+00 |  0.636133947 |      42 |  0.013570481 |        nadir\n",
      "    5 |    1400 |  0.00000E+00 |  0.506083507 |      49 |  0.006929028 |        ideal\n",
      "    6 |    1575 |  0.00000E+00 |  0.402428015 |      48 |  0.023956442 |            f\n",
      "    7 |    1750 |  0.00000E+00 |  0.307913569 |      41 |  0.011268898 |        ideal\n",
      "    8 |    1925 |  0.00000E+00 |  0.219895464 |      51 |  0.054290670 |            f\n",
      "    9 |    2100 |  0.00000E+00 |  0.151445169 |      52 |  0.011596103 |        ideal\n",
      "   10 |    2275 |  0.00000E+00 |  0.090082578 |      58 |  0.152491488 |        nadir\n",
      "   11 |    2450 |  0.00000E+00 |  0.051819777 |      63 |  0.017509211 |            f\n",
      "   12 |    2625 |  0.00000E+00 |  0.023613831 |      58 |  0.023989570 |        nadir\n",
      "   13 |    2800 |  0.00000E+00 |  0.007964191 |      58 |  0.010234377 |            f\n",
      "   14 |    2975 |  0.00000E+00 |  0.002008039 |      62 |  0.020180924 |            f\n",
      "   15 |    3150 |  0.00000E+00 |  0.000451350 |      62 |  0.005848115 |            f\n",
      "   16 |    3325 |  0.00000E+00 |  0.00000E+00 |      60 |  0.005725457 |            f\n"
     ]
    },
    {
     "ename": "KeyboardInterrupt",
     "evalue": "",
     "output_type": "error",
     "traceback": [
      "\u001B[1;31m---------------------------------------------------------------------------\u001B[0m",
      "\u001B[1;31mKeyboardInterrupt\u001B[0m                         Traceback (most recent call last)",
      "\u001B[1;32m<ipython-input-5-52177e9f65bc>\u001B[0m in \u001B[0;36m<module>\u001B[1;34m\u001B[0m\n\u001B[0;32m      7\u001B[0m                \u001B[0mseed\u001B[0m\u001B[1;33m=\u001B[0m\u001B[1;36m1\u001B[0m\u001B[1;33m,\u001B[0m\u001B[1;33m\u001B[0m\u001B[1;33m\u001B[0m\u001B[0m\n\u001B[0;32m      8\u001B[0m                \u001B[1;31m#save_history=True,\u001B[0m\u001B[1;33m\u001B[0m\u001B[1;33m\u001B[0m\u001B[1;33m\u001B[0m\u001B[0m\n\u001B[1;32m----> 9\u001B[1;33m                \u001B[0mverbose\u001B[0m\u001B[1;33m=\u001B[0m\u001B[1;32mTrue\u001B[0m\u001B[1;33m\u001B[0m\u001B[1;33m\u001B[0m\u001B[0m\n\u001B[0m\u001B[0;32m     10\u001B[0m                )\n\u001B[0;32m     11\u001B[0m \u001B[1;33m\u001B[0m\u001B[0m\n",
      "\u001B[1;32mC:\\git\\hermes-optimization\\cenv\\lib\\site-packages\\pymoo\\optimize.py\u001B[0m in \u001B[0;36mminimize\u001B[1;34m(problem, algorithm, termination, copy_algorithm, copy_termination, **kwargs)\u001B[0m\n\u001B[0;32m     83\u001B[0m \u001B[1;33m\u001B[0m\u001B[0m\n\u001B[0;32m     84\u001B[0m     \u001B[1;31m# actually execute the algorithm\u001B[0m\u001B[1;33m\u001B[0m\u001B[1;33m\u001B[0m\u001B[1;33m\u001B[0m\u001B[0m\n\u001B[1;32m---> 85\u001B[1;33m     \u001B[0mres\u001B[0m \u001B[1;33m=\u001B[0m \u001B[0malgorithm\u001B[0m\u001B[1;33m.\u001B[0m\u001B[0msolve\u001B[0m\u001B[1;33m(\u001B[0m\u001B[1;33m)\u001B[0m\u001B[1;33m\u001B[0m\u001B[1;33m\u001B[0m\u001B[0m\n\u001B[0m\u001B[0;32m     86\u001B[0m \u001B[1;33m\u001B[0m\u001B[0m\n\u001B[0;32m     87\u001B[0m     \u001B[1;31m# store the deep copied algorithm in the result object\u001B[0m\u001B[1;33m\u001B[0m\u001B[1;33m\u001B[0m\u001B[1;33m\u001B[0m\u001B[0m\n",
      "\u001B[1;32mC:\\git\\hermes-optimization\\cenv\\lib\\site-packages\\pymoo\\model\\algorithm.py\u001B[0m in \u001B[0;36msolve\u001B[1;34m(self)\u001B[0m\n\u001B[0;32m    224\u001B[0m \u001B[1;33m\u001B[0m\u001B[0m\n\u001B[0;32m    225\u001B[0m         \u001B[1;31m# call the algorithm to solve the problem\u001B[0m\u001B[1;33m\u001B[0m\u001B[1;33m\u001B[0m\u001B[1;33m\u001B[0m\u001B[0m\n\u001B[1;32m--> 226\u001B[1;33m         \u001B[0mself\u001B[0m\u001B[1;33m.\u001B[0m\u001B[0m_solve\u001B[0m\u001B[1;33m(\u001B[0m\u001B[0mself\u001B[0m\u001B[1;33m.\u001B[0m\u001B[0mproblem\u001B[0m\u001B[1;33m)\u001B[0m\u001B[1;33m\u001B[0m\u001B[1;33m\u001B[0m\u001B[0m\n\u001B[0m\u001B[0;32m    227\u001B[0m \u001B[1;33m\u001B[0m\u001B[0m\n\u001B[0;32m    228\u001B[0m         \u001B[1;31m# create the result object based on the current iteration\u001B[0m\u001B[1;33m\u001B[0m\u001B[1;33m\u001B[0m\u001B[1;33m\u001B[0m\u001B[0m\n",
      "\u001B[1;32mC:\\git\\hermes-optimization\\cenv\\lib\\site-packages\\pymoo\\algorithms\\nsga3.py\u001B[0m in \u001B[0;36m_solve\u001B[1;34m(self, problem)\u001B[0m\n\u001B[0;32m    107\u001B[0m                 (self.ref_dirs.shape[1], problem.n_obj))\n\u001B[0;32m    108\u001B[0m \u001B[1;33m\u001B[0m\u001B[0m\n\u001B[1;32m--> 109\u001B[1;33m         \u001B[1;32mreturn\u001B[0m \u001B[0msuper\u001B[0m\u001B[1;33m(\u001B[0m\u001B[1;33m)\u001B[0m\u001B[1;33m.\u001B[0m\u001B[0m_solve\u001B[0m\u001B[1;33m(\u001B[0m\u001B[0mproblem\u001B[0m\u001B[1;33m)\u001B[0m\u001B[1;33m\u001B[0m\u001B[1;33m\u001B[0m\u001B[0m\n\u001B[0m\u001B[0;32m    110\u001B[0m \u001B[1;33m\u001B[0m\u001B[0m\n\u001B[0;32m    111\u001B[0m     \u001B[1;32mdef\u001B[0m \u001B[0m_set_optimum\u001B[0m\u001B[1;33m(\u001B[0m\u001B[0mself\u001B[0m\u001B[1;33m,\u001B[0m \u001B[1;33m**\u001B[0m\u001B[0mkwargs\u001B[0m\u001B[1;33m)\u001B[0m\u001B[1;33m:\u001B[0m\u001B[1;33m\u001B[0m\u001B[1;33m\u001B[0m\u001B[0m\n",
      "\u001B[1;32mC:\\git\\hermes-optimization\\cenv\\lib\\site-packages\\pymoo\\model\\algorithm.py\u001B[0m in \u001B[0;36m_solve\u001B[1;34m(self, problem)\u001B[0m\n\u001B[0;32m    319\u001B[0m         \u001B[1;31m# while termination criterion not fulfilled\u001B[0m\u001B[1;33m\u001B[0m\u001B[1;33m\u001B[0m\u001B[1;33m\u001B[0m\u001B[0m\n\u001B[0;32m    320\u001B[0m         \u001B[1;32mwhile\u001B[0m \u001B[0mself\u001B[0m\u001B[1;33m.\u001B[0m\u001B[0mhas_next\u001B[0m\u001B[1;33m(\u001B[0m\u001B[1;33m)\u001B[0m\u001B[1;33m:\u001B[0m\u001B[1;33m\u001B[0m\u001B[1;33m\u001B[0m\u001B[0m\n\u001B[1;32m--> 321\u001B[1;33m             \u001B[0mself\u001B[0m\u001B[1;33m.\u001B[0m\u001B[0mnext\u001B[0m\u001B[1;33m(\u001B[0m\u001B[1;33m)\u001B[0m\u001B[1;33m\u001B[0m\u001B[1;33m\u001B[0m\u001B[0m\n\u001B[0m\u001B[0;32m    322\u001B[0m \u001B[1;33m\u001B[0m\u001B[0m\n\u001B[0;32m    323\u001B[0m     \u001B[1;31m# method that is called each iteration to call some algorithms regularly\u001B[0m\u001B[1;33m\u001B[0m\u001B[1;33m\u001B[0m\u001B[1;33m\u001B[0m\u001B[0m\n",
      "\u001B[1;32mC:\\git\\hermes-optimization\\cenv\\lib\\site-packages\\pymoo\\model\\algorithm.py\u001B[0m in \u001B[0;36mnext\u001B[1;34m(self)\u001B[0m\n\u001B[0;32m    244\u001B[0m             \u001B[0mself\u001B[0m\u001B[1;33m.\u001B[0m\u001B[0mis_initialized\u001B[0m \u001B[1;33m=\u001B[0m \u001B[1;32mTrue\u001B[0m\u001B[1;33m\u001B[0m\u001B[1;33m\u001B[0m\u001B[0m\n\u001B[0;32m    245\u001B[0m         \u001B[1;32melse\u001B[0m\u001B[1;33m:\u001B[0m\u001B[1;33m\u001B[0m\u001B[1;33m\u001B[0m\u001B[0m\n\u001B[1;32m--> 246\u001B[1;33m             \u001B[0mself\u001B[0m\u001B[1;33m.\u001B[0m\u001B[0m_next\u001B[0m\u001B[1;33m(\u001B[0m\u001B[1;33m)\u001B[0m\u001B[1;33m\u001B[0m\u001B[1;33m\u001B[0m\u001B[0m\n\u001B[0m\u001B[0;32m    247\u001B[0m             \u001B[0mself\u001B[0m\u001B[1;33m.\u001B[0m\u001B[0mn_gen\u001B[0m \u001B[1;33m+=\u001B[0m \u001B[1;36m1\u001B[0m\u001B[1;33m\u001B[0m\u001B[1;33m\u001B[0m\u001B[0m\n\u001B[0;32m    248\u001B[0m \u001B[1;33m\u001B[0m\u001B[0m\n",
      "\u001B[1;32mC:\\git\\hermes-optimization\\cenv\\lib\\site-packages\\pymoo\\algorithms\\genetic_algorithm.py\u001B[0m in \u001B[0;36m_next\u001B[1;34m(self)\u001B[0m\n\u001B[0;32m    105\u001B[0m \u001B[1;33m\u001B[0m\u001B[0m\n\u001B[0;32m    106\u001B[0m         \u001B[1;31m# evaluate the offspring\u001B[0m\u001B[1;33m\u001B[0m\u001B[1;33m\u001B[0m\u001B[1;33m\u001B[0m\u001B[0m\n\u001B[1;32m--> 107\u001B[1;33m         \u001B[0mself\u001B[0m\u001B[1;33m.\u001B[0m\u001B[0mevaluator\u001B[0m\u001B[1;33m.\u001B[0m\u001B[0meval\u001B[0m\u001B[1;33m(\u001B[0m\u001B[0mself\u001B[0m\u001B[1;33m.\u001B[0m\u001B[0mproblem\u001B[0m\u001B[1;33m,\u001B[0m \u001B[0mself\u001B[0m\u001B[1;33m.\u001B[0m\u001B[0moff\u001B[0m\u001B[1;33m,\u001B[0m \u001B[0malgorithm\u001B[0m\u001B[1;33m=\u001B[0m\u001B[0mself\u001B[0m\u001B[1;33m)\u001B[0m\u001B[1;33m\u001B[0m\u001B[1;33m\u001B[0m\u001B[0m\n\u001B[0m\u001B[0;32m    108\u001B[0m \u001B[1;33m\u001B[0m\u001B[0m\n\u001B[0;32m    109\u001B[0m         \u001B[1;31m# merge the offsprings with the current population\u001B[0m\u001B[1;33m\u001B[0m\u001B[1;33m\u001B[0m\u001B[1;33m\u001B[0m\u001B[0m\n",
      "\u001B[1;32mC:\\git\\hermes-optimization\\cenv\\lib\\site-packages\\pymoo\\model\\evaluator.py\u001B[0m in \u001B[0;36meval\u001B[1;34m(self, problem, pop, **kwargs)\u001B[0m\n\u001B[0;32m     76\u001B[0m         \u001B[1;31m# actually evaluate all solutions using the function that can be overwritten\u001B[0m\u001B[1;33m\u001B[0m\u001B[1;33m\u001B[0m\u001B[1;33m\u001B[0m\u001B[0m\n\u001B[0;32m     77\u001B[0m         \u001B[1;32mif\u001B[0m \u001B[0mlen\u001B[0m\u001B[1;33m(\u001B[0m\u001B[0mI\u001B[0m\u001B[1;33m)\u001B[0m \u001B[1;33m>\u001B[0m \u001B[1;36m0\u001B[0m\u001B[1;33m:\u001B[0m\u001B[1;33m\u001B[0m\u001B[1;33m\u001B[0m\u001B[0m\n\u001B[1;32m---> 78\u001B[1;33m             \u001B[0mself\u001B[0m\u001B[1;33m.\u001B[0m\u001B[0m_eval\u001B[0m\u001B[1;33m(\u001B[0m\u001B[0mproblem\u001B[0m\u001B[1;33m,\u001B[0m \u001B[0mpop\u001B[0m\u001B[1;33m[\u001B[0m\u001B[0mI\u001B[0m\u001B[1;33m]\u001B[0m\u001B[1;33m,\u001B[0m \u001B[1;33m**\u001B[0m\u001B[0mkwargs\u001B[0m\u001B[1;33m)\u001B[0m\u001B[1;33m\u001B[0m\u001B[1;33m\u001B[0m\u001B[0m\n\u001B[0m\u001B[0;32m     79\u001B[0m \u001B[1;33m\u001B[0m\u001B[0m\n\u001B[0;32m     80\u001B[0m             \u001B[1;31m# set the feasibility attribute if cv exists\u001B[0m\u001B[1;33m\u001B[0m\u001B[1;33m\u001B[0m\u001B[1;33m\u001B[0m\u001B[0m\n",
      "\u001B[1;32mC:\\git\\hermes-optimization\\cenv\\lib\\site-packages\\pymoo\\model\\evaluator.py\u001B[0m in \u001B[0;36m_eval\u001B[1;34m(self, problem, pop, **kwargs)\u001B[0m\n\u001B[0;32m     95\u001B[0m                                \u001B[0mreturn_values_of\u001B[0m\u001B[1;33m=\u001B[0m\u001B[0mself\u001B[0m\u001B[1;33m.\u001B[0m\u001B[0mevaluate_values_of\u001B[0m\u001B[1;33m,\u001B[0m\u001B[1;33m\u001B[0m\u001B[1;33m\u001B[0m\u001B[0m\n\u001B[0;32m     96\u001B[0m                                \u001B[0mreturn_as_dictionary\u001B[0m\u001B[1;33m=\u001B[0m\u001B[1;32mTrue\u001B[0m\u001B[1;33m,\u001B[0m\u001B[1;33m\u001B[0m\u001B[1;33m\u001B[0m\u001B[0m\n\u001B[1;32m---> 97\u001B[1;33m                                **kwargs)\n\u001B[0m\u001B[0;32m     98\u001B[0m \u001B[1;33m\u001B[0m\u001B[0m\n\u001B[0;32m     99\u001B[0m         \u001B[1;32mfor\u001B[0m \u001B[0mkey\u001B[0m\u001B[1;33m,\u001B[0m \u001B[0mval\u001B[0m \u001B[1;32min\u001B[0m \u001B[0mout\u001B[0m\u001B[1;33m.\u001B[0m\u001B[0mitems\u001B[0m\u001B[1;33m(\u001B[0m\u001B[1;33m)\u001B[0m\u001B[1;33m:\u001B[0m\u001B[1;33m\u001B[0m\u001B[1;33m\u001B[0m\u001B[0m\n",
      "\u001B[1;32mC:\\git\\hermes-optimization\\cenv\\lib\\site-packages\\pymoo\\model\\problem.py\u001B[0m in \u001B[0;36mevaluate\u001B[1;34m(self, X, return_values_of, return_as_dictionary, *args, **kwargs)\u001B[0m\n\u001B[0;32m    282\u001B[0m         \u001B[1;31m# calculate the output array - either elementwise or not. also consider the gradient\u001B[0m\u001B[1;33m\u001B[0m\u001B[1;33m\u001B[0m\u001B[1;33m\u001B[0m\u001B[0m\n\u001B[0;32m    283\u001B[0m         \u001B[1;32mif\u001B[0m \u001B[0mself\u001B[0m\u001B[1;33m.\u001B[0m\u001B[0melementwise_evaluation\u001B[0m\u001B[1;33m:\u001B[0m\u001B[1;33m\u001B[0m\u001B[1;33m\u001B[0m\u001B[0m\n\u001B[1;32m--> 284\u001B[1;33m             \u001B[0mout\u001B[0m \u001B[1;33m=\u001B[0m \u001B[0mself\u001B[0m\u001B[1;33m.\u001B[0m\u001B[0m_evaluate_elementwise\u001B[0m\u001B[1;33m(\u001B[0m\u001B[0mX\u001B[0m\u001B[1;33m,\u001B[0m \u001B[0mcalc_gradient\u001B[0m\u001B[1;33m,\u001B[0m \u001B[0mout\u001B[0m\u001B[1;33m,\u001B[0m \u001B[1;33m*\u001B[0m\u001B[0margs\u001B[0m\u001B[1;33m,\u001B[0m \u001B[1;33m**\u001B[0m\u001B[0mkwargs\u001B[0m\u001B[1;33m)\u001B[0m\u001B[1;33m\u001B[0m\u001B[1;33m\u001B[0m\u001B[0m\n\u001B[0m\u001B[0;32m    285\u001B[0m         \u001B[1;32melse\u001B[0m\u001B[1;33m:\u001B[0m\u001B[1;33m\u001B[0m\u001B[1;33m\u001B[0m\u001B[0m\n\u001B[0;32m    286\u001B[0m             \u001B[0mout\u001B[0m \u001B[1;33m=\u001B[0m \u001B[0mself\u001B[0m\u001B[1;33m.\u001B[0m\u001B[0m_evaluate_batch\u001B[0m\u001B[1;33m(\u001B[0m\u001B[0mX\u001B[0m\u001B[1;33m,\u001B[0m \u001B[0mcalc_gradient\u001B[0m\u001B[1;33m,\u001B[0m \u001B[0mout\u001B[0m\u001B[1;33m,\u001B[0m \u001B[1;33m*\u001B[0m\u001B[0margs\u001B[0m\u001B[1;33m,\u001B[0m \u001B[1;33m**\u001B[0m\u001B[0mkwargs\u001B[0m\u001B[1;33m)\u001B[0m\u001B[1;33m\u001B[0m\u001B[1;33m\u001B[0m\u001B[0m\n",
      "\u001B[1;32mC:\\git\\hermes-optimization\\cenv\\lib\\site-packages\\pymoo\\model\\problem.py\u001B[0m in \u001B[0;36m_evaluate_elementwise\u001B[1;34m(self, X, calc_gradient, out, *args, **kwargs)\u001B[0m\n\u001B[0;32m    410\u001B[0m         \u001B[1;31m# just serialize evaluation\u001B[0m\u001B[1;33m\u001B[0m\u001B[1;33m\u001B[0m\u001B[1;33m\u001B[0m\u001B[0m\n\u001B[0;32m    411\u001B[0m         \u001B[1;32mif\u001B[0m \u001B[0m_type\u001B[0m \u001B[1;32mis\u001B[0m \u001B[1;32mNone\u001B[0m\u001B[1;33m:\u001B[0m\u001B[1;33m\u001B[0m\u001B[1;33m\u001B[0m\u001B[0m\n\u001B[1;32m--> 412\u001B[1;33m             \u001B[1;33m[\u001B[0m\u001B[0mret\u001B[0m\u001B[1;33m.\u001B[0m\u001B[0mappend\u001B[0m\u001B[1;33m(\u001B[0m\u001B[0mfunc\u001B[0m\u001B[1;33m(\u001B[0m\u001B[0mx\u001B[0m\u001B[1;33m)\u001B[0m\u001B[1;33m)\u001B[0m \u001B[1;32mfor\u001B[0m \u001B[0mx\u001B[0m \u001B[1;32min\u001B[0m \u001B[0mX\u001B[0m\u001B[1;33m]\u001B[0m\u001B[1;33m\u001B[0m\u001B[1;33m\u001B[0m\u001B[0m\n\u001B[0m\u001B[0;32m    413\u001B[0m \u001B[1;33m\u001B[0m\u001B[0m\n\u001B[0;32m    414\u001B[0m         \u001B[1;32melif\u001B[0m \u001B[0m_type\u001B[0m \u001B[1;33m==\u001B[0m \u001B[1;34m\"starmap\"\u001B[0m\u001B[1;33m:\u001B[0m\u001B[1;33m\u001B[0m\u001B[1;33m\u001B[0m\u001B[0m\n",
      "\u001B[1;32mC:\\git\\hermes-optimization\\cenv\\lib\\site-packages\\pymoo\\model\\problem.py\u001B[0m in \u001B[0;36m<listcomp>\u001B[1;34m(.0)\u001B[0m\n\u001B[0;32m    410\u001B[0m         \u001B[1;31m# just serialize evaluation\u001B[0m\u001B[1;33m\u001B[0m\u001B[1;33m\u001B[0m\u001B[1;33m\u001B[0m\u001B[0m\n\u001B[0;32m    411\u001B[0m         \u001B[1;32mif\u001B[0m \u001B[0m_type\u001B[0m \u001B[1;32mis\u001B[0m \u001B[1;32mNone\u001B[0m\u001B[1;33m:\u001B[0m\u001B[1;33m\u001B[0m\u001B[1;33m\u001B[0m\u001B[0m\n\u001B[1;32m--> 412\u001B[1;33m             \u001B[1;33m[\u001B[0m\u001B[0mret\u001B[0m\u001B[1;33m.\u001B[0m\u001B[0mappend\u001B[0m\u001B[1;33m(\u001B[0m\u001B[0mfunc\u001B[0m\u001B[1;33m(\u001B[0m\u001B[0mx\u001B[0m\u001B[1;33m)\u001B[0m\u001B[1;33m)\u001B[0m \u001B[1;32mfor\u001B[0m \u001B[0mx\u001B[0m \u001B[1;32min\u001B[0m \u001B[0mX\u001B[0m\u001B[1;33m]\u001B[0m\u001B[1;33m\u001B[0m\u001B[1;33m\u001B[0m\u001B[0m\n\u001B[0m\u001B[0;32m    413\u001B[0m \u001B[1;33m\u001B[0m\u001B[0m\n\u001B[0;32m    414\u001B[0m         \u001B[1;32melif\u001B[0m \u001B[0m_type\u001B[0m \u001B[1;33m==\u001B[0m \u001B[1;34m\"starmap\"\u001B[0m\u001B[1;33m:\u001B[0m\u001B[1;33m\u001B[0m\u001B[1;33m\u001B[0m\u001B[0m\n",
      "\u001B[1;32mC:\\git\\hermes-optimization\\cenv\\lib\\site-packages\\pymoo\\model\\problem.py\u001B[0m in \u001B[0;36mfunc\u001B[1;34m(_x)\u001B[0m\n\u001B[0;32m    397\u001B[0m                 \u001B[0m_out\u001B[0m\u001B[1;33m[\u001B[0m\u001B[1;34m\"__autograd__\"\u001B[0m\u001B[1;33m]\u001B[0m \u001B[1;33m=\u001B[0m \u001B[0mgrad\u001B[0m\u001B[1;33m\u001B[0m\u001B[1;33m\u001B[0m\u001B[0m\n\u001B[0;32m    398\u001B[0m             \u001B[1;32melse\u001B[0m\u001B[1;33m:\u001B[0m\u001B[1;33m\u001B[0m\u001B[1;33m\u001B[0m\u001B[0m\n\u001B[1;32m--> 399\u001B[1;33m                 \u001B[0mself\u001B[0m\u001B[1;33m.\u001B[0m\u001B[0m_evaluate\u001B[0m\u001B[1;33m(\u001B[0m\u001B[0m_x\u001B[0m\u001B[1;33m,\u001B[0m \u001B[0m_out\u001B[0m\u001B[1;33m,\u001B[0m \u001B[1;33m*\u001B[0m\u001B[0margs\u001B[0m\u001B[1;33m,\u001B[0m \u001B[1;33m**\u001B[0m\u001B[0mkwargs\u001B[0m\u001B[1;33m)\u001B[0m\u001B[1;33m\u001B[0m\u001B[1;33m\u001B[0m\u001B[0m\n\u001B[0m\u001B[0;32m    400\u001B[0m             \u001B[1;32mreturn\u001B[0m \u001B[0m_out\u001B[0m\u001B[1;33m\u001B[0m\u001B[1;33m\u001B[0m\u001B[0m\n\u001B[0;32m    401\u001B[0m \u001B[1;33m\u001B[0m\u001B[0m\n",
      "\u001B[1;32mC:\\git\\hermes-optimization\\problems\\max_latency_problem.py\u001B[0m in \u001B[0;36m_evaluate\u001B[1;34m(self, x, out, *args, **kwargs)\u001B[0m\n\u001B[0;32m     94\u001B[0m                 \u001B[0mpass_inds\u001B[0m\u001B[1;33m,\u001B[0m \u001B[0mList\u001B[0m\u001B[1;33m(\u001B[0m\u001B[0mself\u001B[0m\u001B[1;33m.\u001B[0m\u001B[0mtof_s_list\u001B[0m\u001B[1;33m)\u001B[0m\u001B[1;33m,\u001B[0m \u001B[0mList\u001B[0m\u001B[1;33m(\u001B[0m\u001B[0mself\u001B[0m\u001B[1;33m.\u001B[0m\u001B[0mfspl_dB_list\u001B[0m\u001B[1;33m)\u001B[0m\u001B[1;33m,\u001B[0m\u001B[1;33m\u001B[0m\u001B[1;33m\u001B[0m\u001B[0m\n\u001B[0;32m     95\u001B[0m                 \u001B[0mPtx_dBm_array\u001B[0m\u001B[1;33m,\u001B[0m \u001B[0mGtx_dBi\u001B[0m\u001B[1;33m,\u001B[0m \u001B[0mself\u001B[0m\u001B[1;33m.\u001B[0m\u001B[0msys_param\u001B[0m\u001B[1;33m.\u001B[0m\u001B[0mGT_dBK\u001B[0m\u001B[1;33m,\u001B[0m \u001B[0mB_Hz\u001B[0m\u001B[1;33m,\u001B[0m \u001B[0malpha\u001B[0m\u001B[1;33m,\u001B[0m\u001B[1;33m\u001B[0m\u001B[1;33m\u001B[0m\u001B[0m\n\u001B[1;32m---> 96\u001B[1;33m                 EsN0_req_dB_array, eta_bitsym_array, self.sys_param.margin_dB)\n\u001B[0m\u001B[0;32m     97\u001B[0m \u001B[1;33m\u001B[0m\u001B[0m\n\u001B[0;32m     98\u001B[0m             \u001B[1;31m# Energy\u001B[0m\u001B[1;33m\u001B[0m\u001B[1;33m\u001B[0m\u001B[1;33m\u001B[0m\u001B[0m\n",
      "\u001B[1;31mKeyboardInterrupt\u001B[0m: "
     ]
    }
   ],
   "source": [
    "termination = setting['termination']\n",
    "algorithm = setting['algorithm']\n",
    "\n",
    "res = minimize(problem,\n",
    "               algorithm,\n",
    "               termination=termination,\n",
    "               seed=1,\n",
    "               #save_history=True,\n",
    "               verbose=True\n",
    "               )\n",
    "\n",
    "print('Processes:', res.exec_time)\n",
    "print(\"Best solution found: %s\" % res.X)"
   ],
   "metadata": {
    "collapsed": false,
    "pycharm": {
     "name": "#%%\n"
    }
   }
  },
  {
   "cell_type": "code",
   "execution_count": null,
   "outputs": [],
   "source": [
    "pickle.dump((problem, setting, res), open('max_latency_res_%s_%d_%d.pkl' % (setting['label'], algo_settings['pop_size'], algo_settings['n_max_gen']), 'wb'))\n",
    "\n",
    "\n"
   ],
   "metadata": {
    "collapsed": false,
    "pycharm": {
     "name": "#%%\n"
    }
   }
  }
 ],
 "metadata": {
  "kernelspec": {
   "name": "pycharm-34b782de",
   "language": "python",
   "display_name": "PyCharm (hermes-simulator)"
  },
  "language_info": {
   "codemirror_mode": {
    "name": "ipython",
    "version": 2
   },
   "file_extension": ".py",
   "mimetype": "text/x-python",
   "name": "python",
   "nbconvert_exporter": "python",
   "pygments_lexer": "ipython2",
   "version": "2.7.6"
  }
 },
 "nbformat": 4,
 "nbformat_minor": 0
}