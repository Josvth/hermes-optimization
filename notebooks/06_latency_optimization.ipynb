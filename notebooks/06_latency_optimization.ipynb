{
 "cells": [
  {
   "cell_type": "code",
   "execution_count": 6,
   "outputs": [
    {
     "name": "stdout",
     "output_type": "stream",
     "text": [
      "Using matplotlib backend: Qt5Agg\n"
     ]
    }
   ],
   "source": [
    "import pandas as pd\n",
    "import numpy as np\n",
    "from pymoo.optimize import minimize\n",
    "import pickle\n",
    "\n",
    "from pymoo.util.termination.f_tol import MultiObjectiveSpaceToleranceTermination\n",
    "from pymoo.visualization.scatter import Scatter\n",
    "from notebooks.optimization_problems.constraints import Requirements\n",
    "from pyreport import PlotUtil\n",
    "import matplotlib.pyplot as plt\n",
    "\n",
    "%matplotlib"
   ],
   "metadata": {
    "collapsed": false,
    "pycharm": {
     "name": "#%%\n"
    }
   }
  },
  {
   "cell_type": "code",
   "execution_count": 7,
   "outputs": [],
   "source": [
    "columns = ['strand_name', 'tof',\n",
    "           'r_a_x', 'r_a_y', 'r_a_z',\n",
    "           'v_a_x', 'v_a_y', 'v_a_z',\n",
    "           'r_b_x', 'r_b_y', 'r_b_z',\n",
    "           'd',\n",
    "           'r_ab_sff_x', 'r_ab_sff_y', 'r_ab_sff_z']\n",
    "\n",
    "file_path = \"example_data.h5\"\n",
    "\n",
    "row_limit = -1\n",
    "\n",
    "store_500km = pd.HDFStore(file_path)\n",
    "\n",
    "instances_500km_df = store_500km.select('contact_instances', 'columns = %s' % str(columns), stop = row_limit)\n",
    "\n",
    "# Sort by pass id\n",
    "instances_500km_df = instances_500km_df.sort_index(0)"
   ],
   "metadata": {
    "collapsed": false,
    "pycharm": {
     "name": "#%% Import data files from visibility analysis at 500 km\n"
    }
   }
  },
  {
   "cell_type": "code",
   "execution_count": 8,
   "outputs": [],
   "source": [
    "N_passes = 20\n",
    "\n",
    "instances_df = instances_500km_df.loc[0:N_passes,:]"
   ],
   "metadata": {
    "collapsed": false,
    "pycharm": {
     "name": "#%% Limit number of passes\n"
    }
   }
  },
  {
   "cell_type": "code",
   "execution_count": 9,
   "outputs": [
    {
     "name": "stdout",
     "output_type": "stream",
     "text": [
      "# dirs: 560\n"
     ]
    }
   ],
   "source": [
    "from problems.latency_problem import LatencyProblem\n",
    "from notebooks.optimization_problems.design_vector import design_vector_default_scm, SystemParameters\n",
    "\n",
    "sys_param = SystemParameters()\n",
    "sys_param.margin_dB = 3.0\n",
    "sys_param.B_Hz_array = np.array([0.1, 0.5, 1, 10, 50, 100, 200, 300]) * 1e6\n",
    "sys_param.Gtx_dBi_bounds = (3., 30.)\n",
    "sys_param.Ptx_dBm_bounds = (20., 43.)\n",
    "\n",
    "modcods_df = pd.read_pickle('dvbs2.pkl')\n",
    "\n",
    "sys_param.EsN0_req_dB_array = modcods_df['isend'].to_numpy()\n",
    "sys_param.eta_bitsym_array = modcods_df[['eta', 'eta_200MHz', 'eta_300MHz']].to_numpy()\n",
    "sys_param.eta_maee_array = modcods_df[['maee_12', 'maee_12_200MHz', 'maee_12_300MHz']].to_numpy()\n",
    "\n",
    "requirements = Requirements()\n",
    "#requirements.min_throughput = 0.5e9\n",
    "requirements.max_throughput = 50e9\n",
    "requirements.max_latency = 5400\n",
    "\n",
    "problem = LatencyProblem(instances_df, sys_param, requirements=requirements)\n",
    "\n",
    "sampling, crossover, mutation = design_vector_default_scm(problem.x_length, problem.x_indices)\n",
    "\n",
    "algo_settings = {'pop_size': 1000, 'n_offsprings': 50, 'n_max_gen': 20000}\n",
    "\n",
    "settings = {}\n",
    "\n",
    "# NSGA-III\n",
    "from pymoo.algorithms.nsga3 import NSGA3\n",
    "from pymoo.factory import get_reference_directions, get_visualization\n",
    "\n",
    "ref_dirs = get_reference_directions(\"das-dennis\", 4, n_partitions=13)\n",
    "algo_settings['pop_size'] = int(np.ceil(len(ref_dirs) / 100) * 100)\n",
    "algo_settings['n_offsprings'] = int(np.ceil(len(ref_dirs) / 100) * 100 / 4)\n",
    "\n",
    "print(\"# dirs: %d\" % len(ref_dirs))\n",
    "\n",
    "settings['NSGA-III'] = {\n",
    "    'label': 'nsga3',\n",
    "    'algorithm': NSGA3(\n",
    "        pop_size=algo_settings['pop_size'],\n",
    "        n_offsprings=algo_settings['n_offsprings'],\n",
    "        sampling=sampling,\n",
    "        crossover=crossover,\n",
    "        mutation=mutation,\n",
    "        ref_dirs=ref_dirs,\n",
    "        eliminate_duplicates=True,\n",
    "    ),\n",
    "    'termination': MultiObjectiveSpaceToleranceTermination(tol=0.00001,\n",
    "                                                      n_last=30,\n",
    "                                                      nth_gen=5,\n",
    "                                                      n_max_gen=algo_settings['n_max_gen'],\n",
    "                                                      n_max_evals=None)\n",
    "}\n",
    "\n",
    "setting = settings['NSGA-III']"
   ],
   "metadata": {
    "collapsed": false,
    "pycharm": {
     "name": "#%%\n"
    }
   }
  },
  {
   "cell_type": "code",
   "execution_count": null,
   "outputs": [
    {
     "name": "stdout",
     "output_type": "stream",
     "text": [
      "=====================================================================================\n",
      "n_gen |  n_eval |   cv (min)   |   cv (avg)   |  n_nds  |     eps      |  indicator  \n",
      "=====================================================================================\n",
      "    1 |     600 |  0.00000E+00 |  2.027106109 |      16 |            - |            -\n",
      "    2 |     750 |  0.00000E+00 |  1.463684688 |      21 |  0.091701374 |            f\n"
     ]
    }
   ],
   "source": [
    "termination = setting['termination']\n",
    "algorithm = setting['algorithm']\n",
    "\n",
    "res = minimize(problem,\n",
    "               algorithm,\n",
    "               termination=termination,\n",
    "               seed=1,\n",
    "               #save_history=True,\n",
    "               verbose=True\n",
    "               )\n",
    "\n",
    "print('Processes:', res.exec_time)\n",
    "print(\"Best solution found: %s\" % res.X)"
   ],
   "metadata": {
    "collapsed": false,
    "pycharm": {
     "name": "#%%\n",
     "is_executing": true
    }
   }
  },
  {
   "cell_type": "code",
   "execution_count": null,
   "outputs": [],
   "source": [
    "pickle.dump((problem, setting, res), open('max_latency_res_%s_%d_%d.pkl' % (setting['label'], algo_settings['pop_size'], algo_settings['n_max_gen']), 'wb'))\n",
    "\n",
    "\n"
   ],
   "metadata": {
    "collapsed": false,
    "pycharm": {
     "name": "#%%\n",
     "is_executing": true
    }
   }
  }
 ],
 "metadata": {
  "kernelspec": {
   "name": "pycharm-34b782de",
   "language": "python",
   "display_name": "PyCharm (hermes-simulator)"
  },
  "language_info": {
   "codemirror_mode": {
    "name": "ipython",
    "version": 2
   },
   "file_extension": ".py",
   "mimetype": "text/x-python",
   "name": "python",
   "nbconvert_exporter": "python",
   "pygments_lexer": "ipython2",
   "version": "2.7.6"
  }
 },
 "nbformat": 4,
 "nbformat_minor": 0
}