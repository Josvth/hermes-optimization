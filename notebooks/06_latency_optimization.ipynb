{
 "cells": [
  {
   "cell_type": "code",
   "execution_count": 52,
   "outputs": [
    {
     "name": "stdout",
     "output_type": "stream",
     "text": [
      "Using matplotlib backend: Qt5Agg\n"
     ]
    }
   ],
   "source": [
    "import pandas as pd\n",
    "import numpy as np\n",
    "from pymoo.optimize import minimize\n",
    "import pickle\n",
    "\n",
    "from pymoo.util.termination.f_tol import MultiObjectiveSpaceToleranceTermination\n",
    "from pymoo.visualization.scatter import Scatter\n",
    "from notebooks.optimization_problems.constraints import Requirements\n",
    "from pyreport import PlotUtil\n",
    "import matplotlib.pyplot as plt\n",
    "\n",
    "%matplotlib"
   ],
   "metadata": {
    "collapsed": false,
    "pycharm": {
     "name": "#%%\n"
    }
   }
  },
  {
   "cell_type": "code",
   "execution_count": 53,
   "outputs": [],
   "source": [
    "columns = ['strand_name', 'tof',\n",
    "           'r_a_x', 'r_a_y', 'r_a_z',\n",
    "           'v_a_x', 'v_a_y', 'v_a_z',\n",
    "           'r_b_x', 'r_b_y', 'r_b_z',\n",
    "           'd',\n",
    "           'r_ab_sff_x', 'r_ab_sff_y', 'r_ab_sff_z']\n",
    "\n",
    "file_path = \"example_data.h5\"\n",
    "\n",
    "row_limit = -1\n",
    "\n",
    "store_500km = pd.HDFStore(file_path)\n",
    "\n",
    "instances_500km_df = store_500km.select('contact_instances', 'columns = %s' % str(columns), stop = row_limit)\n",
    "\n",
    "# Sort by pass id\n",
    "instances_500km_df = instances_500km_df.sort_index(0)"
   ],
   "metadata": {
    "collapsed": false,
    "pycharm": {
     "name": "#%% Import data files from visibility analysis at 500 km\n"
    }
   }
  },
  {
   "cell_type": "code",
   "execution_count": 54,
   "outputs": [],
   "source": [
    "N_passes = 20\n",
    "\n",
    "instances_df = instances_500km_df.loc[0:N_passes,:]"
   ],
   "metadata": {
    "collapsed": false,
    "pycharm": {
     "name": "#%% Limit number of passes\n"
    }
   }
  },
  {
   "cell_type": "code",
   "execution_count": 55,
   "outputs": [
    {
     "name": "stdout",
     "output_type": "stream",
     "text": [
      "# dirs: 165\n"
     ]
    }
   ],
   "source": [
    "from problems.latency_problem import LatencyProblem\n",
    "from notebooks.optimization_problems.design_vector import design_vector_default_scm, SystemParameters\n",
    "\n",
    "sys_param = SystemParameters()\n",
    "sys_param.margin_dB = 3.0\n",
    "sys_param.B_Hz_array = np.array([0.1, 0.5, 1, 10, 50, 100, 200, 300]) * 1e6\n",
    "sys_param.Gtx_dBi_bounds = (3., 30.)\n",
    "sys_param.Ptx_dBm_bounds = (20., 43.)\n",
    "\n",
    "modcods_df = pd.read_pickle('dvbs2.pkl')\n",
    "\n",
    "sys_param.EsN0_req_dB_array = modcods_df['isend'].to_numpy()\n",
    "sys_param.eta_bitsym_array = modcods_df[['eta', 'eta_200MHz', 'eta_300MHz']].to_numpy()\n",
    "sys_param.eta_maee_array = modcods_df[['maee_12', 'maee_12_200MHz', 'maee_12_300MHz']].to_numpy()\n",
    "\n",
    "requirements = Requirements()\n",
    "requirements.min_throughput = 5e9\n",
    "#requirements.max_throughput = 50e9\n",
    "#requirements.max_latency = 5400\n",
    "\n",
    "problem = LatencyProblem(instances_df, sys_param, requirements=requirements)\n",
    "\n",
    "sampling, crossover, mutation = design_vector_default_scm(problem.x_length, problem.x_indices)\n",
    "\n",
    "algo_settings = {'pop_size': 1000, 'n_offsprings': 50, 'n_max_gen': 1000}\n",
    "\n",
    "settings = {}\n",
    "\n",
    "# NSGA-III\n",
    "from pymoo.algorithms.nsga3 import NSGA3\n",
    "from pymoo.factory import get_reference_directions, get_visualization\n",
    "\n",
    "ref_dirs = get_reference_directions(\"das-dennis\", 4, n_partitions=8)\n",
    "algo_settings['pop_size'] = int(np.ceil(len(ref_dirs) / 100) * 100)\n",
    "algo_settings['n_offsprings'] = int(np.ceil(len(ref_dirs) / 100) * 100 / 4)\n",
    "\n",
    "print(\"# dirs: %d\" % len(ref_dirs))\n",
    "\n",
    "settings['NSGA-III'] = {\n",
    "    'label': 'nsga3',\n",
    "    'algorithm': NSGA3(\n",
    "        pop_size=algo_settings['pop_size'],\n",
    "        n_offsprings=algo_settings['n_offsprings'],\n",
    "        sampling=sampling,\n",
    "        crossover=crossover,\n",
    "        mutation=mutation,\n",
    "        ref_dirs=ref_dirs,\n",
    "        eliminate_duplicates=True,\n",
    "    ),\n",
    "    'termination': MultiObjectiveSpaceToleranceTermination(tol=0.00001,\n",
    "                                                      n_last=30,\n",
    "                                                      nth_gen=5,\n",
    "                                                      n_max_gen=algo_settings['n_max_gen'],\n",
    "                                                      n_max_evals=None)\n",
    "}\n",
    "\n",
    "setting = settings['NSGA-III']"
   ],
   "metadata": {
    "collapsed": false,
    "pycharm": {
     "name": "#%%\n"
    }
   }
  },
  {
   "cell_type": "code",
   "execution_count": 56,
   "outputs": [],
   "source": [
    "termination = setting['termination']\n",
    "algorithm = setting['algorithm']\n",
    "\n",
    "n_gen_inc = 100"
   ],
   "metadata": {
    "collapsed": false,
    "pycharm": {
     "name": "#%%\n"
    }
   }
  },
  {
   "cell_type": "code",
   "execution_count": 57,
   "outputs": [],
   "source": [
    "from os import path\n",
    "\n",
    "file_name = 'no_max_latency_res_%s_%d.pkl' % (setting['label'], algo_settings['pop_size'])\n",
    "if path.exists(file_name):\n",
    "    problem, setting, res = pickle.load(open(file_name, 'rb'))\n",
    "    algorithm = res.algorithm\n",
    "    algorithm.has_terminated = False\n",
    "    n_gen = res.algorithm.n_gen\n",
    "else:\n",
    "    n_gen = 0"
   ],
   "metadata": {
    "collapsed": false,
    "pycharm": {
     "name": "#%%\n"
    }
   }
  },
  {
   "cell_type": "code",
   "execution_count": 58,
   "outputs": [
    {
     "name": "stdout",
     "output_type": "stream",
     "text": [
      "    1 |     200 |  0.00000E+00 |  1.832061868 |      18 |  3.774249378 |        ideal\n",
      "    2 |     250 |  0.00000E+00 |  1.365984530 |      19 |  0.106626723 |        nadir\n",
      "    3 |     300 |  0.00000E+00 |  1.058548886 |      20 |  0.018201372 |        ideal\n",
      "    4 |     350 |  0.00000E+00 |  0.793172568 |      19 |  0.119357441 |        ideal\n",
      "    5 |     400 |  0.00000E+00 |  0.455359349 |      19 |  0.031094205 |            f\n",
      "    6 |     450 |  0.00000E+00 |  0.237522813 |      20 |  0.354089806 |        ideal\n",
      "    7 |     500 |  0.00000E+00 |  0.103469156 |      21 |  0.008737354 |            f\n",
      "    8 |     550 |  0.00000E+00 |  0.010008539 |      22 |  0.035979819 |            f\n",
      "    9 |     600 |  0.00000E+00 |  0.00000E+00 |      24 |  0.026895398 |            f\n",
      "   10 |     650 |  0.00000E+00 |  0.00000E+00 |      25 |  0.024630647 |            f\n",
      "   11 |     700 |  0.00000E+00 |  0.00000E+00 |      25 |  0.015156963 |        ideal\n",
      "   12 |     750 |  0.00000E+00 |  0.00000E+00 |      26 |  0.014930659 |        ideal\n",
      "   13 |     800 |  0.00000E+00 |  0.00000E+00 |      29 |  0.031576985 |            f\n",
      "   14 |     850 |  0.00000E+00 |  0.00000E+00 |      32 |  0.032313281 |            f\n",
      "   15 |     900 |  0.00000E+00 |  0.00000E+00 |      32 |  0.010517001 |            f\n",
      "   16 |     950 |  0.00000E+00 |  0.00000E+00 |      33 |  0.018115869 |            f\n",
      "   17 |    1000 |  0.00000E+00 |  0.00000E+00 |      36 |  0.030593881 |        nadir\n",
      "   18 |    1050 |  0.00000E+00 |  0.00000E+00 |      37 |  0.010699248 |            f\n",
      "   19 |    1100 |  0.00000E+00 |  0.00000E+00 |      37 |  0.013285324 |        ideal\n",
      "   20 |    1150 |  0.00000E+00 |  0.00000E+00 |      40 |  0.015161737 |        ideal\n",
      "   21 |    1200 |  0.00000E+00 |  0.00000E+00 |      35 |  0.044269479 |        ideal\n",
      "   22 |    1250 |  0.00000E+00 |  0.00000E+00 |      35 |  0.005043167 |        nadir\n",
      "   23 |    1300 |  0.00000E+00 |  0.00000E+00 |      36 |  0.183169699 |        ideal\n",
      "   24 |    1350 |  0.00000E+00 |  0.00000E+00 |      37 |  0.024437954 |            f\n",
      "   25 |    1400 |  0.00000E+00 |  0.00000E+00 |      40 |  0.020499541 |            f\n",
      "   26 |    1450 |  0.00000E+00 |  0.00000E+00 |      36 |  0.108094599 |        ideal\n",
      "   27 |    1500 |  0.00000E+00 |  0.00000E+00 |      37 |  0.026448485 |            f\n",
      "   28 |    1550 |  0.00000E+00 |  0.00000E+00 |      40 |  0.023656070 |            f\n",
      "   29 |    1600 |  0.00000E+00 |  0.00000E+00 |      41 |  0.013730438 |            f\n",
      "   30 |    1650 |  0.00000E+00 |  0.00000E+00 |      44 |  0.018265044 |            f\n",
      "   31 |    1700 |  0.00000E+00 |  0.00000E+00 |      40 |  0.116437652 |        ideal\n",
      "   32 |    1750 |  0.00000E+00 |  0.00000E+00 |      41 |  0.014569452 |            f\n",
      "   33 |    1800 |  0.00000E+00 |  0.00000E+00 |      42 |  0.012529734 |            f\n",
      "   34 |    1850 |  0.00000E+00 |  0.00000E+00 |      43 |  0.008762187 |        ideal\n",
      "   35 |    1900 |  0.00000E+00 |  0.00000E+00 |      45 |  0.009009166 |        ideal\n",
      "   36 |    1950 |  0.00000E+00 |  0.00000E+00 |      45 |  0.006068935 |        ideal\n",
      "   37 |    2000 |  0.00000E+00 |  0.00000E+00 |      45 |  0.006498283 |        ideal\n",
      "   38 |    2050 |  0.00000E+00 |  0.00000E+00 |      45 |  0.002933985 |        ideal\n",
      "   39 |    2100 |  0.00000E+00 |  0.00000E+00 |      45 |  0.010240977 |            f\n",
      "   40 |    2150 |  0.00000E+00 |  0.00000E+00 |      45 |  0.007380673 |            f\n",
      "   41 |    2200 |  0.00000E+00 |  0.00000E+00 |      46 |  0.023916572 |        nadir\n",
      "   42 |    2250 |  0.00000E+00 |  0.00000E+00 |      46 |  0.005528814 |            f\n",
      "   43 |    2300 |  0.00000E+00 |  0.00000E+00 |      47 |  0.126184117 |        nadir\n",
      "   44 |    2350 |  0.00000E+00 |  0.00000E+00 |      48 |  0.096617176 |        nadir\n",
      "   45 |    2400 |  0.00000E+00 |  0.00000E+00 |      47 |  0.003326240 |        ideal\n",
      "   46 |    2450 |  0.00000E+00 |  0.00000E+00 |      49 |  0.039601541 |            f\n",
      "   47 |    2500 |  0.00000E+00 |  0.00000E+00 |      51 |  0.014476325 |            f\n",
      "   48 |    2550 |  0.00000E+00 |  0.00000E+00 |      51 |  0.006605105 |            f\n",
      "   49 |    2600 |  0.00000E+00 |  0.00000E+00 |      48 |  0.012650221 |        nadir\n",
      "   50 |    2650 |  0.00000E+00 |  0.00000E+00 |      48 |  0.001089175 |            f\n",
      "   51 |    2700 |  0.00000E+00 |  0.00000E+00 |      51 |  0.107070766 |        nadir\n",
      "   52 |    2750 |  0.00000E+00 |  0.00000E+00 |      52 |  0.041941282 |        nadir\n",
      "   53 |    2800 |  0.00000E+00 |  0.00000E+00 |      52 |  0.000795793 |            f\n",
      "   54 |    2850 |  0.00000E+00 |  0.00000E+00 |      52 |  0.003392941 |            f\n",
      "   55 |    2900 |  0.00000E+00 |  0.00000E+00 |      53 |  0.009390094 |            f\n",
      "   56 |    2950 |  0.00000E+00 |  0.00000E+00 |      54 |  0.043777361 |        nadir\n",
      "   57 |    3000 |  0.00000E+00 |  0.00000E+00 |      53 |  0.035200339 |        ideal\n",
      "   58 |    3050 |  0.00000E+00 |  0.00000E+00 |      55 |  0.010409109 |            f\n",
      "   59 |    3100 |  0.00000E+00 |  0.00000E+00 |      52 |  0.012025469 |        ideal\n",
      "   60 |    3150 |  0.00000E+00 |  0.00000E+00 |      56 |  0.011882576 |        ideal\n",
      "   61 |    3200 |  0.00000E+00 |  0.00000E+00 |      57 |  0.085207586 |        nadir\n",
      "   62 |    3250 |  0.00000E+00 |  0.00000E+00 |      58 |  0.001744327 |            f\n",
      "   63 |    3300 |  0.00000E+00 |  0.00000E+00 |      59 |  0.036484609 |        ideal\n",
      "   64 |    3350 |  0.00000E+00 |  0.00000E+00 |      61 |  0.007498991 |            f\n",
      "   65 |    3400 |  0.00000E+00 |  0.00000E+00 |      61 |  0.001638425 |            f\n",
      "   66 |    3450 |  0.00000E+00 |  0.00000E+00 |      61 |  0.001206882 |            f\n",
      "   67 |    3500 |  0.00000E+00 |  0.00000E+00 |      61 |  0.004370902 |            f\n",
      "   68 |    3550 |  0.00000E+00 |  0.00000E+00 |      55 |  0.023598170 |        ideal\n",
      "   69 |    3600 |  0.00000E+00 |  0.00000E+00 |      61 |  0.024168503 |        ideal\n",
      "   70 |    3650 |  0.00000E+00 |  0.00000E+00 |      61 |  0.011237728 |            f\n",
      "   71 |    3700 |  0.00000E+00 |  0.00000E+00 |      61 |  0.002923477 |            f\n",
      "   72 |    3750 |  0.00000E+00 |  0.00000E+00 |      55 |  0.023598170 |        ideal\n",
      "   73 |    3800 |  0.00000E+00 |  0.00000E+00 |      59 |  0.011882576 |        ideal\n",
      "   74 |    3850 |  0.00000E+00 |  0.00000E+00 |      57 |  0.036484609 |        ideal\n",
      "   75 |    3900 |  0.00000E+00 |  0.00000E+00 |      57 |  0.029320975 |        ideal\n",
      "   76 |    3950 |  0.00000E+00 |  0.00000E+00 |      57 |  0.006078829 |            f\n",
      "   77 |    4000 |  0.00000E+00 |  0.00000E+00 |      57 |  0.002551643 |            f\n",
      "   78 |    4050 |  0.00000E+00 |  0.00000E+00 |      58 |  0.008153424 |            f\n",
      "   79 |    4100 |  0.00000E+00 |  0.00000E+00 |      60 |  0.006056960 |        ideal\n",
      "   80 |    4150 |  0.00000E+00 |  0.00000E+00 |      58 |  0.006093870 |        ideal\n",
      "   81 |    4200 |  0.00000E+00 |  0.00000E+00 |      60 |  0.015971962 |        ideal\n",
      "   82 |    4250 |  0.00000E+00 |  0.00000E+00 |      61 |  0.007561687 |            f\n",
      "   83 |    4300 |  0.00000E+00 |  0.00000E+00 |      61 |  0.020862123 |            f\n",
      "   84 |    4350 |  0.00000E+00 |  0.00000E+00 |      59 |  0.010075934 |        ideal\n",
      "   85 |    4400 |  0.00000E+00 |  0.00000E+00 |      59 |  0.000735580 |            f\n",
      "   86 |    4450 |  0.00000E+00 |  0.00000E+00 |      57 |  0.071067491 |        ideal\n",
      "   87 |    4500 |  0.00000E+00 |  0.00000E+00 |      57 |  0.011080258 |            f\n",
      "   88 |    4550 |  0.00000E+00 |  0.00000E+00 |      59 |  0.004977106 |            f\n",
      "   89 |    4600 |  0.00000E+00 |  0.00000E+00 |      59 |  0.001749869 |            f\n",
      "   90 |    4650 |  0.00000E+00 |  0.00000E+00 |      59 |  0.008478811 |            f\n",
      "   91 |    4700 |  0.00000E+00 |  0.00000E+00 |      58 |  0.149265016 |        nadir\n",
      "   92 |    4750 |  0.00000E+00 |  0.00000E+00 |      62 |  0.017095310 |        nadir\n",
      "   93 |    4800 |  0.00000E+00 |  0.00000E+00 |      62 |  0.002380305 |            f\n",
      "   94 |    4850 |  0.00000E+00 |  0.00000E+00 |      61 |  0.00000E+00 |            f\n",
      "   95 |    4900 |  0.00000E+00 |  0.00000E+00 |      60 |  0.004460687 |            f\n",
      "   96 |    4950 |  0.00000E+00 |  0.00000E+00 |      60 |  0.003672340 |            f\n",
      "   97 |    5000 |  0.00000E+00 |  0.00000E+00 |      60 |  0.00000E+00 |            f\n",
      "   98 |    5050 |  0.00000E+00 |  0.00000E+00 |      60 |  0.002203873 |            f\n",
      "   99 |    5100 |  0.00000E+00 |  0.00000E+00 |      61 |  0.017392643 |        nadir\n",
      "  100 |    5150 |  0.00000E+00 |  0.00000E+00 |      62 |  0.017095310 |        nadir\n",
      "Processes: 77.25571298599243\n",
      "Best solution found: [[False False True ... 33.223068606699705 29.35663626948412 7]\n",
      " [False False False ... 41.1276627057635 5.466653066452089 7]\n",
      " [False True False ... 31.31118345584899 5.567506192951766 5]\n",
      " ...\n",
      " [True True False ... 27.4182732435717 29.915721434251843 7]\n",
      " [True True True ... 42.93647175015289 5.466653066452089 3]\n",
      " [False False True ... 35.242829725355435 29.879648656071957 7]]\n"
     ]
    }
   ],
   "source": [
    "n_gen = n_gen + n_gen_inc\n",
    "res = minimize(problem,\n",
    "               algorithm,\n",
    "               ('n_gen', n_gen),\n",
    "               seed=1,\n",
    "               copy_algorithm=False,\n",
    "               #save_history=True,\n",
    "               verbose=True\n",
    "               )\n",
    "\n",
    "print('Processes:', res.exec_time)\n",
    "print(\"Best solution found: %s\" % res.X)\n",
    "\n",
    "pickle.dump((problem, setting, res), open(file_name, 'wb'))"
   ],
   "metadata": {
    "collapsed": false,
    "pycharm": {
     "name": "#%%\n"
    }
   }
  },
  {
   "cell_type": "code",
   "execution_count": 59,
   "outputs": [
    {
     "name": "stdout",
     "output_type": "stream",
     "text": [
      "no_max_latency_res_nsga3_200.pkl\n"
     ]
    }
   ],
   "source": [
    "print(file_name)"
   ],
   "metadata": {
    "collapsed": false,
    "pycharm": {
     "name": "#%%\n"
    }
   }
  }
 ],
 "metadata": {
  "kernelspec": {
   "name": "pycharm-34b782de",
   "language": "python",
   "display_name": "PyCharm (hermes-simulator)"
  },
  "language_info": {
   "codemirror_mode": {
    "name": "ipython",
    "version": 2
   },
   "file_extension": ".py",
   "mimetype": "text/x-python",
   "name": "python",
   "nbconvert_exporter": "python",
   "pygments_lexer": "ipython2",
   "version": "2.7.6"
  }
 },
 "nbformat": 4,
 "nbformat_minor": 0
}