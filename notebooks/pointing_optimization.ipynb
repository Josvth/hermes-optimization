{
 "cells": [
  {
   "cell_type": "code",
   "execution_count": 1,
   "outputs": [],
   "source": [
    "import pandas as pd\n",
    "import numpy as np\n",
    "from pymoo.optimize import minimize\n",
    "\n",
    "#%matplotlib qt\n",
    "from pymoo.util.termination.f_tol import MultiObjectiveSpaceToleranceTermination\n",
    "import PlotUtil\n",
    "from notebooks.optimization_problems.constraints import Requirements\n",
    "%load_ext autoreload\n",
    "\n",
    "%autoreload 2"
   ],
   "metadata": {
    "collapsed": false,
    "pycharm": {
     "name": "#%%\n"
    }
   }
  },
  {
   "cell_type": "code",
   "execution_count": 2,
   "outputs": [],
   "source": [
    "columns = ['strand_name', 'tof',\n",
    "           'r_a_x', 'r_a_y', 'r_a_z',\n",
    "           'v_a_x', 'v_a_y', 'v_a_z',\n",
    "           'r_b_x', 'r_b_y', 'r_b_z',\n",
    "           'd',\n",
    "           'r_ab_sff_x', 'r_ab_sff_y', 'r_ab_sff_z']\n",
    "\n",
    "file_path = \"example_data.h5\"\n",
    "\n",
    "row_limit = -1\n",
    "\n",
    "store_500km = pd.HDFStore(file_path)\n",
    "\n",
    "instances_500km_df = store_500km.select('contact_instances', 'columns = %s' % str(columns), stop = row_limit)\n",
    "\n",
    "# Sort by pass id\n",
    "instances_500km_df = instances_500km_df.sort_index(0)"
   ],
   "metadata": {
    "collapsed": false,
    "pycharm": {
     "name": "#%% Import data files from visibility analysis at 500 km\n"
    }
   }
  },
  {
   "cell_type": "code",
   "execution_count": 3,
   "outputs": [],
   "source": [
    "N_passes = 20\n",
    "\n",
    "instances_df = instances_500km_df.loc[0:N_passes,:]"
   ],
   "metadata": {
    "collapsed": false,
    "pycharm": {
     "name": "#%% Limit number of passes\n"
    }
   }
  },
  {
   "cell_type": "code",
   "execution_count": 4,
   "outputs": [
    {
     "ename": "TypingError",
     "evalue": "Failed in nopython mode pipeline (step: nopython frontend)\n\u001B[1m\u001B[1mnon-precise type array(pyobject, 1d, C)\u001B[0m\n\u001B[0m\u001B[1mDuring: typing of argument at C:\\git\\hermes-optimization\\models\\vcm.py (32)\u001B[0m\n\u001B[1m\nFile \"..\\models\\vcm.py\", line 32:\u001B[0m\n\u001B[1mdef compute_passes_throughput(tof_s_list, fspl_dB_list, Ptx_dBm_array, Gtx_dBi, GT_dBK, B_Hz,\n    <source elided>\n                              alpha, EsN0_req_dB_array, eta_bitsym_array, min_margin_dB):\n\u001B[1m    linktime_s_array = np.empty(len(tof_s_list))\n\u001B[0m    \u001B[1m^\u001B[0m\u001B[0m\n",
     "output_type": "error",
     "traceback": [
      "\u001B[1;31m---------------------------------------------------------------------------\u001B[0m",
      "\u001B[1;31mTypingError\u001B[0m                               Traceback (most recent call last)",
      "\u001B[1;32m<ipython-input-4-af667b11ac3f>\u001B[0m in \u001B[0;36m<module>\u001B[1;34m\u001B[0m\n\u001B[0;32m     72\u001B[0m                \u001B[0mseed\u001B[0m\u001B[1;33m=\u001B[0m\u001B[1;36m1\u001B[0m\u001B[1;33m,\u001B[0m\u001B[1;33m\u001B[0m\u001B[1;33m\u001B[0m\u001B[0m\n\u001B[0;32m     73\u001B[0m                \u001B[1;31m#save_history=True,\u001B[0m\u001B[1;33m\u001B[0m\u001B[1;33m\u001B[0m\u001B[1;33m\u001B[0m\u001B[0m\n\u001B[1;32m---> 74\u001B[1;33m                \u001B[0mverbose\u001B[0m\u001B[1;33m=\u001B[0m\u001B[1;32mTrue\u001B[0m\u001B[1;33m\u001B[0m\u001B[1;33m\u001B[0m\u001B[0m\n\u001B[0m\u001B[0;32m     75\u001B[0m                )\n\u001B[0;32m     76\u001B[0m \u001B[1;33m\u001B[0m\u001B[0m\n",
      "\u001B[1;32mC:\\git\\hermes-optimization\\cenv\\lib\\site-packages\\pymoo\\optimize.py\u001B[0m in \u001B[0;36mminimize\u001B[1;34m(problem, algorithm, termination, copy_algorithm, copy_termination, **kwargs)\u001B[0m\n\u001B[0;32m     83\u001B[0m \u001B[1;33m\u001B[0m\u001B[0m\n\u001B[0;32m     84\u001B[0m     \u001B[1;31m# actually execute the algorithm\u001B[0m\u001B[1;33m\u001B[0m\u001B[1;33m\u001B[0m\u001B[1;33m\u001B[0m\u001B[0m\n\u001B[1;32m---> 85\u001B[1;33m     \u001B[0mres\u001B[0m \u001B[1;33m=\u001B[0m \u001B[0malgorithm\u001B[0m\u001B[1;33m.\u001B[0m\u001B[0msolve\u001B[0m\u001B[1;33m(\u001B[0m\u001B[1;33m)\u001B[0m\u001B[1;33m\u001B[0m\u001B[1;33m\u001B[0m\u001B[0m\n\u001B[0m\u001B[0;32m     86\u001B[0m \u001B[1;33m\u001B[0m\u001B[0m\n\u001B[0;32m     87\u001B[0m     \u001B[1;31m# store the deep copied algorithm in the result object\u001B[0m\u001B[1;33m\u001B[0m\u001B[1;33m\u001B[0m\u001B[1;33m\u001B[0m\u001B[0m\n",
      "\u001B[1;32mC:\\git\\hermes-optimization\\cenv\\lib\\site-packages\\pymoo\\model\\algorithm.py\u001B[0m in \u001B[0;36msolve\u001B[1;34m(self)\u001B[0m\n\u001B[0;32m    224\u001B[0m \u001B[1;33m\u001B[0m\u001B[0m\n\u001B[0;32m    225\u001B[0m         \u001B[1;31m# call the algorithm to solve the problem\u001B[0m\u001B[1;33m\u001B[0m\u001B[1;33m\u001B[0m\u001B[1;33m\u001B[0m\u001B[0m\n\u001B[1;32m--> 226\u001B[1;33m         \u001B[0mself\u001B[0m\u001B[1;33m.\u001B[0m\u001B[0m_solve\u001B[0m\u001B[1;33m(\u001B[0m\u001B[0mself\u001B[0m\u001B[1;33m.\u001B[0m\u001B[0mproblem\u001B[0m\u001B[1;33m)\u001B[0m\u001B[1;33m\u001B[0m\u001B[1;33m\u001B[0m\u001B[0m\n\u001B[0m\u001B[0;32m    227\u001B[0m \u001B[1;33m\u001B[0m\u001B[0m\n\u001B[0;32m    228\u001B[0m         \u001B[1;31m# create the result object based on the current iteration\u001B[0m\u001B[1;33m\u001B[0m\u001B[1;33m\u001B[0m\u001B[1;33m\u001B[0m\u001B[0m\n",
      "\u001B[1;32mC:\\git\\hermes-optimization\\cenv\\lib\\site-packages\\pymoo\\model\\algorithm.py\u001B[0m in \u001B[0;36m_solve\u001B[1;34m(self, problem)\u001B[0m\n\u001B[0;32m    319\u001B[0m         \u001B[1;31m# while termination criterion not fulfilled\u001B[0m\u001B[1;33m\u001B[0m\u001B[1;33m\u001B[0m\u001B[1;33m\u001B[0m\u001B[0m\n\u001B[0;32m    320\u001B[0m         \u001B[1;32mwhile\u001B[0m \u001B[0mself\u001B[0m\u001B[1;33m.\u001B[0m\u001B[0mhas_next\u001B[0m\u001B[1;33m(\u001B[0m\u001B[1;33m)\u001B[0m\u001B[1;33m:\u001B[0m\u001B[1;33m\u001B[0m\u001B[1;33m\u001B[0m\u001B[0m\n\u001B[1;32m--> 321\u001B[1;33m             \u001B[0mself\u001B[0m\u001B[1;33m.\u001B[0m\u001B[0mnext\u001B[0m\u001B[1;33m(\u001B[0m\u001B[1;33m)\u001B[0m\u001B[1;33m\u001B[0m\u001B[1;33m\u001B[0m\u001B[0m\n\u001B[0m\u001B[0;32m    322\u001B[0m \u001B[1;33m\u001B[0m\u001B[0m\n\u001B[0;32m    323\u001B[0m     \u001B[1;31m# method that is called each iteration to call some algorithms regularly\u001B[0m\u001B[1;33m\u001B[0m\u001B[1;33m\u001B[0m\u001B[1;33m\u001B[0m\u001B[0m\n",
      "\u001B[1;32mC:\\git\\hermes-optimization\\cenv\\lib\\site-packages\\pymoo\\model\\algorithm.py\u001B[0m in \u001B[0;36mnext\u001B[1;34m(self)\u001B[0m\n\u001B[0;32m    241\u001B[0m         \u001B[1;31m# call next of the implementation of the algorithm\u001B[0m\u001B[1;33m\u001B[0m\u001B[1;33m\u001B[0m\u001B[1;33m\u001B[0m\u001B[0m\n\u001B[0;32m    242\u001B[0m         \u001B[1;32mif\u001B[0m \u001B[1;32mnot\u001B[0m \u001B[0mself\u001B[0m\u001B[1;33m.\u001B[0m\u001B[0mis_initialized\u001B[0m\u001B[1;33m:\u001B[0m\u001B[1;33m\u001B[0m\u001B[1;33m\u001B[0m\u001B[0m\n\u001B[1;32m--> 243\u001B[1;33m             \u001B[0mself\u001B[0m\u001B[1;33m.\u001B[0m\u001B[0minitialize\u001B[0m\u001B[1;33m(\u001B[0m\u001B[1;33m)\u001B[0m\u001B[1;33m\u001B[0m\u001B[1;33m\u001B[0m\u001B[0m\n\u001B[0m\u001B[0;32m    244\u001B[0m             \u001B[0mself\u001B[0m\u001B[1;33m.\u001B[0m\u001B[0mis_initialized\u001B[0m \u001B[1;33m=\u001B[0m \u001B[1;32mTrue\u001B[0m\u001B[1;33m\u001B[0m\u001B[1;33m\u001B[0m\u001B[0m\n\u001B[0;32m    245\u001B[0m         \u001B[1;32melse\u001B[0m\u001B[1;33m:\u001B[0m\u001B[1;33m\u001B[0m\u001B[1;33m\u001B[0m\u001B[0m\n",
      "\u001B[1;32mC:\\git\\hermes-optimization\\cenv\\lib\\site-packages\\pymoo\\model\\algorithm.py\u001B[0m in \u001B[0;36minitialize\u001B[1;34m(self)\u001B[0m\n\u001B[0;32m    213\u001B[0m \u001B[1;33m\u001B[0m\u001B[0m\n\u001B[0;32m    214\u001B[0m         \u001B[1;31m# call the initialize method of the concrete algorithm implementation\u001B[0m\u001B[1;33m\u001B[0m\u001B[1;33m\u001B[0m\u001B[1;33m\u001B[0m\u001B[0m\n\u001B[1;32m--> 215\u001B[1;33m         \u001B[0mself\u001B[0m\u001B[1;33m.\u001B[0m\u001B[0m_initialize\u001B[0m\u001B[1;33m(\u001B[0m\u001B[1;33m)\u001B[0m\u001B[1;33m\u001B[0m\u001B[1;33m\u001B[0m\u001B[0m\n\u001B[0m\u001B[0;32m    216\u001B[0m \u001B[1;33m\u001B[0m\u001B[0m\n\u001B[0;32m    217\u001B[0m     \u001B[1;32mdef\u001B[0m \u001B[0msolve\u001B[0m\u001B[1;33m(\u001B[0m\u001B[0mself\u001B[0m\u001B[1;33m)\u001B[0m\u001B[1;33m:\u001B[0m\u001B[1;33m\u001B[0m\u001B[1;33m\u001B[0m\u001B[0m\n",
      "\u001B[1;32mC:\\git\\hermes-optimization\\cenv\\lib\\site-packages\\pymoo\\algorithms\\genetic_algorithm.py\u001B[0m in \u001B[0;36m_initialize\u001B[1;34m(self)\u001B[0m\n\u001B[0;32m     79\u001B[0m \u001B[1;33m\u001B[0m\u001B[0m\n\u001B[0;32m     80\u001B[0m         \u001B[1;31m# then evaluate using the objective function\u001B[0m\u001B[1;33m\u001B[0m\u001B[1;33m\u001B[0m\u001B[1;33m\u001B[0m\u001B[0m\n\u001B[1;32m---> 81\u001B[1;33m         \u001B[0mself\u001B[0m\u001B[1;33m.\u001B[0m\u001B[0mevaluator\u001B[0m\u001B[1;33m.\u001B[0m\u001B[0meval\u001B[0m\u001B[1;33m(\u001B[0m\u001B[0mself\u001B[0m\u001B[1;33m.\u001B[0m\u001B[0mproblem\u001B[0m\u001B[1;33m,\u001B[0m \u001B[0mpop\u001B[0m\u001B[1;33m,\u001B[0m \u001B[0malgorithm\u001B[0m\u001B[1;33m=\u001B[0m\u001B[0mself\u001B[0m\u001B[1;33m)\u001B[0m\u001B[1;33m\u001B[0m\u001B[1;33m\u001B[0m\u001B[0m\n\u001B[0m\u001B[0;32m     82\u001B[0m \u001B[1;33m\u001B[0m\u001B[0m\n\u001B[0;32m     83\u001B[0m         \u001B[1;31m# that call is a dummy survival to set attributes that are necessary for the mating selection\u001B[0m\u001B[1;33m\u001B[0m\u001B[1;33m\u001B[0m\u001B[1;33m\u001B[0m\u001B[0m\n",
      "\u001B[1;32mC:\\git\\hermes-optimization\\cenv\\lib\\site-packages\\pymoo\\model\\evaluator.py\u001B[0m in \u001B[0;36meval\u001B[1;34m(self, problem, pop, **kwargs)\u001B[0m\n\u001B[0;32m     76\u001B[0m         \u001B[1;31m# actually evaluate all solutions using the function that can be overwritten\u001B[0m\u001B[1;33m\u001B[0m\u001B[1;33m\u001B[0m\u001B[1;33m\u001B[0m\u001B[0m\n\u001B[0;32m     77\u001B[0m         \u001B[1;32mif\u001B[0m \u001B[0mlen\u001B[0m\u001B[1;33m(\u001B[0m\u001B[0mI\u001B[0m\u001B[1;33m)\u001B[0m \u001B[1;33m>\u001B[0m \u001B[1;36m0\u001B[0m\u001B[1;33m:\u001B[0m\u001B[1;33m\u001B[0m\u001B[1;33m\u001B[0m\u001B[0m\n\u001B[1;32m---> 78\u001B[1;33m             \u001B[0mself\u001B[0m\u001B[1;33m.\u001B[0m\u001B[0m_eval\u001B[0m\u001B[1;33m(\u001B[0m\u001B[0mproblem\u001B[0m\u001B[1;33m,\u001B[0m \u001B[0mpop\u001B[0m\u001B[1;33m[\u001B[0m\u001B[0mI\u001B[0m\u001B[1;33m]\u001B[0m\u001B[1;33m,\u001B[0m \u001B[1;33m**\u001B[0m\u001B[0mkwargs\u001B[0m\u001B[1;33m)\u001B[0m\u001B[1;33m\u001B[0m\u001B[1;33m\u001B[0m\u001B[0m\n\u001B[0m\u001B[0;32m     79\u001B[0m \u001B[1;33m\u001B[0m\u001B[0m\n\u001B[0;32m     80\u001B[0m             \u001B[1;31m# set the feasibility attribute if cv exists\u001B[0m\u001B[1;33m\u001B[0m\u001B[1;33m\u001B[0m\u001B[1;33m\u001B[0m\u001B[0m\n",
      "\u001B[1;32mC:\\git\\hermes-optimization\\cenv\\lib\\site-packages\\pymoo\\model\\evaluator.py\u001B[0m in \u001B[0;36m_eval\u001B[1;34m(self, problem, pop, **kwargs)\u001B[0m\n\u001B[0;32m     95\u001B[0m                                \u001B[0mreturn_values_of\u001B[0m\u001B[1;33m=\u001B[0m\u001B[0mself\u001B[0m\u001B[1;33m.\u001B[0m\u001B[0mevaluate_values_of\u001B[0m\u001B[1;33m,\u001B[0m\u001B[1;33m\u001B[0m\u001B[1;33m\u001B[0m\u001B[0m\n\u001B[0;32m     96\u001B[0m                                \u001B[0mreturn_as_dictionary\u001B[0m\u001B[1;33m=\u001B[0m\u001B[1;32mTrue\u001B[0m\u001B[1;33m,\u001B[0m\u001B[1;33m\u001B[0m\u001B[1;33m\u001B[0m\u001B[0m\n\u001B[1;32m---> 97\u001B[1;33m                                **kwargs)\n\u001B[0m\u001B[0;32m     98\u001B[0m \u001B[1;33m\u001B[0m\u001B[0m\n\u001B[0;32m     99\u001B[0m         \u001B[1;32mfor\u001B[0m \u001B[0mkey\u001B[0m\u001B[1;33m,\u001B[0m \u001B[0mval\u001B[0m \u001B[1;32min\u001B[0m \u001B[0mout\u001B[0m\u001B[1;33m.\u001B[0m\u001B[0mitems\u001B[0m\u001B[1;33m(\u001B[0m\u001B[1;33m)\u001B[0m\u001B[1;33m:\u001B[0m\u001B[1;33m\u001B[0m\u001B[1;33m\u001B[0m\u001B[0m\n",
      "\u001B[1;32mC:\\git\\hermes-optimization\\cenv\\lib\\site-packages\\pymoo\\model\\problem.py\u001B[0m in \u001B[0;36mevaluate\u001B[1;34m(self, X, return_values_of, return_as_dictionary, *args, **kwargs)\u001B[0m\n\u001B[0;32m    282\u001B[0m         \u001B[1;31m# calculate the output array - either elementwise or not. also consider the gradient\u001B[0m\u001B[1;33m\u001B[0m\u001B[1;33m\u001B[0m\u001B[1;33m\u001B[0m\u001B[0m\n\u001B[0;32m    283\u001B[0m         \u001B[1;32mif\u001B[0m \u001B[0mself\u001B[0m\u001B[1;33m.\u001B[0m\u001B[0melementwise_evaluation\u001B[0m\u001B[1;33m:\u001B[0m\u001B[1;33m\u001B[0m\u001B[1;33m\u001B[0m\u001B[0m\n\u001B[1;32m--> 284\u001B[1;33m             \u001B[0mout\u001B[0m \u001B[1;33m=\u001B[0m \u001B[0mself\u001B[0m\u001B[1;33m.\u001B[0m\u001B[0m_evaluate_elementwise\u001B[0m\u001B[1;33m(\u001B[0m\u001B[0mX\u001B[0m\u001B[1;33m,\u001B[0m \u001B[0mcalc_gradient\u001B[0m\u001B[1;33m,\u001B[0m \u001B[0mout\u001B[0m\u001B[1;33m,\u001B[0m \u001B[1;33m*\u001B[0m\u001B[0margs\u001B[0m\u001B[1;33m,\u001B[0m \u001B[1;33m**\u001B[0m\u001B[0mkwargs\u001B[0m\u001B[1;33m)\u001B[0m\u001B[1;33m\u001B[0m\u001B[1;33m\u001B[0m\u001B[0m\n\u001B[0m\u001B[0;32m    285\u001B[0m         \u001B[1;32melse\u001B[0m\u001B[1;33m:\u001B[0m\u001B[1;33m\u001B[0m\u001B[1;33m\u001B[0m\u001B[0m\n\u001B[0;32m    286\u001B[0m             \u001B[0mout\u001B[0m \u001B[1;33m=\u001B[0m \u001B[0mself\u001B[0m\u001B[1;33m.\u001B[0m\u001B[0m_evaluate_batch\u001B[0m\u001B[1;33m(\u001B[0m\u001B[0mX\u001B[0m\u001B[1;33m,\u001B[0m \u001B[0mcalc_gradient\u001B[0m\u001B[1;33m,\u001B[0m \u001B[0mout\u001B[0m\u001B[1;33m,\u001B[0m \u001B[1;33m*\u001B[0m\u001B[0margs\u001B[0m\u001B[1;33m,\u001B[0m \u001B[1;33m**\u001B[0m\u001B[0mkwargs\u001B[0m\u001B[1;33m)\u001B[0m\u001B[1;33m\u001B[0m\u001B[1;33m\u001B[0m\u001B[0m\n",
      "\u001B[1;32mC:\\git\\hermes-optimization\\cenv\\lib\\site-packages\\pymoo\\model\\problem.py\u001B[0m in \u001B[0;36m_evaluate_elementwise\u001B[1;34m(self, X, calc_gradient, out, *args, **kwargs)\u001B[0m\n\u001B[0;32m    410\u001B[0m         \u001B[1;31m# just serialize evaluation\u001B[0m\u001B[1;33m\u001B[0m\u001B[1;33m\u001B[0m\u001B[1;33m\u001B[0m\u001B[0m\n\u001B[0;32m    411\u001B[0m         \u001B[1;32mif\u001B[0m \u001B[0m_type\u001B[0m \u001B[1;32mis\u001B[0m \u001B[1;32mNone\u001B[0m\u001B[1;33m:\u001B[0m\u001B[1;33m\u001B[0m\u001B[1;33m\u001B[0m\u001B[0m\n\u001B[1;32m--> 412\u001B[1;33m             \u001B[1;33m[\u001B[0m\u001B[0mret\u001B[0m\u001B[1;33m.\u001B[0m\u001B[0mappend\u001B[0m\u001B[1;33m(\u001B[0m\u001B[0mfunc\u001B[0m\u001B[1;33m(\u001B[0m\u001B[0mx\u001B[0m\u001B[1;33m)\u001B[0m\u001B[1;33m)\u001B[0m \u001B[1;32mfor\u001B[0m \u001B[0mx\u001B[0m \u001B[1;32min\u001B[0m \u001B[0mX\u001B[0m\u001B[1;33m]\u001B[0m\u001B[1;33m\u001B[0m\u001B[1;33m\u001B[0m\u001B[0m\n\u001B[0m\u001B[0;32m    413\u001B[0m \u001B[1;33m\u001B[0m\u001B[0m\n\u001B[0;32m    414\u001B[0m         \u001B[1;32melif\u001B[0m \u001B[0m_type\u001B[0m \u001B[1;33m==\u001B[0m \u001B[1;34m\"starmap\"\u001B[0m\u001B[1;33m:\u001B[0m\u001B[1;33m\u001B[0m\u001B[1;33m\u001B[0m\u001B[0m\n",
      "\u001B[1;32mC:\\git\\hermes-optimization\\cenv\\lib\\site-packages\\pymoo\\model\\problem.py\u001B[0m in \u001B[0;36m<listcomp>\u001B[1;34m(.0)\u001B[0m\n\u001B[0;32m    410\u001B[0m         \u001B[1;31m# just serialize evaluation\u001B[0m\u001B[1;33m\u001B[0m\u001B[1;33m\u001B[0m\u001B[1;33m\u001B[0m\u001B[0m\n\u001B[0;32m    411\u001B[0m         \u001B[1;32mif\u001B[0m \u001B[0m_type\u001B[0m \u001B[1;32mis\u001B[0m \u001B[1;32mNone\u001B[0m\u001B[1;33m:\u001B[0m\u001B[1;33m\u001B[0m\u001B[1;33m\u001B[0m\u001B[0m\n\u001B[1;32m--> 412\u001B[1;33m             \u001B[1;33m[\u001B[0m\u001B[0mret\u001B[0m\u001B[1;33m.\u001B[0m\u001B[0mappend\u001B[0m\u001B[1;33m(\u001B[0m\u001B[0mfunc\u001B[0m\u001B[1;33m(\u001B[0m\u001B[0mx\u001B[0m\u001B[1;33m)\u001B[0m\u001B[1;33m)\u001B[0m \u001B[1;32mfor\u001B[0m \u001B[0mx\u001B[0m \u001B[1;32min\u001B[0m \u001B[0mX\u001B[0m\u001B[1;33m]\u001B[0m\u001B[1;33m\u001B[0m\u001B[1;33m\u001B[0m\u001B[0m\n\u001B[0m\u001B[0;32m    413\u001B[0m \u001B[1;33m\u001B[0m\u001B[0m\n\u001B[0;32m    414\u001B[0m         \u001B[1;32melif\u001B[0m \u001B[0m_type\u001B[0m \u001B[1;33m==\u001B[0m \u001B[1;34m\"starmap\"\u001B[0m\u001B[1;33m:\u001B[0m\u001B[1;33m\u001B[0m\u001B[1;33m\u001B[0m\u001B[0m\n",
      "\u001B[1;32mC:\\git\\hermes-optimization\\cenv\\lib\\site-packages\\pymoo\\model\\problem.py\u001B[0m in \u001B[0;36mfunc\u001B[1;34m(_x)\u001B[0m\n\u001B[0;32m    397\u001B[0m                 \u001B[0m_out\u001B[0m\u001B[1;33m[\u001B[0m\u001B[1;34m\"__autograd__\"\u001B[0m\u001B[1;33m]\u001B[0m \u001B[1;33m=\u001B[0m \u001B[0mgrad\u001B[0m\u001B[1;33m\u001B[0m\u001B[1;33m\u001B[0m\u001B[0m\n\u001B[0;32m    398\u001B[0m             \u001B[1;32melse\u001B[0m\u001B[1;33m:\u001B[0m\u001B[1;33m\u001B[0m\u001B[1;33m\u001B[0m\u001B[0m\n\u001B[1;32m--> 399\u001B[1;33m                 \u001B[0mself\u001B[0m\u001B[1;33m.\u001B[0m\u001B[0m_evaluate\u001B[0m\u001B[1;33m(\u001B[0m\u001B[0m_x\u001B[0m\u001B[1;33m,\u001B[0m \u001B[0m_out\u001B[0m\u001B[1;33m,\u001B[0m \u001B[1;33m*\u001B[0m\u001B[0margs\u001B[0m\u001B[1;33m,\u001B[0m \u001B[1;33m**\u001B[0m\u001B[0mkwargs\u001B[0m\u001B[1;33m)\u001B[0m\u001B[1;33m\u001B[0m\u001B[1;33m\u001B[0m\u001B[0m\n\u001B[0m\u001B[0;32m    400\u001B[0m             \u001B[1;32mreturn\u001B[0m \u001B[0m_out\u001B[0m\u001B[1;33m\u001B[0m\u001B[1;33m\u001B[0m\u001B[0m\n\u001B[0;32m    401\u001B[0m \u001B[1;33m\u001B[0m\u001B[0m\n",
      "\u001B[1;32mC:\\git\\hermes-optimization\\notebooks\\optimization_problems\\pointing_problem.py\u001B[0m in \u001B[0;36m_evaluate\u001B[1;34m(self, x, out, *args, **kwargs)\u001B[0m\n\u001B[0;32m     95\u001B[0m                                                                                       \u001B[0malpha\u001B[0m\u001B[1;33m,\u001B[0m \u001B[0mEsN0_req_dB_array\u001B[0m\u001B[1;33m,\u001B[0m\u001B[1;33m\u001B[0m\u001B[1;33m\u001B[0m\u001B[0m\n\u001B[0;32m     96\u001B[0m                                                                                       \u001B[0meta_bitsym_array\u001B[0m\u001B[1;33m,\u001B[0m\u001B[1;33m\u001B[0m\u001B[1;33m\u001B[0m\u001B[0m\n\u001B[1;32m---> 97\u001B[1;33m                                                                                       self.sys_param.margin_dB)\n\u001B[0m\u001B[0;32m     98\u001B[0m \u001B[1;33m\u001B[0m\u001B[0m\n\u001B[0;32m     99\u001B[0m             \u001B[0mf_energy\u001B[0m \u001B[1;33m=\u001B[0m \u001B[0menergy\u001B[0m\u001B[1;33m.\u001B[0m\u001B[0mcompute_passes_energy_maee\u001B[0m\u001B[1;33m(\u001B[0m\u001B[0mlinktime_s_array\u001B[0m\u001B[1;33m,\u001B[0m \u001B[0mPtx_dBm_array\u001B[0m\u001B[1;33m,\u001B[0m \u001B[0meta_maee_array\u001B[0m\u001B[1;33m)\u001B[0m\u001B[1;33m\u001B[0m\u001B[1;33m\u001B[0m\u001B[0m\n",
      "\u001B[1;32mC:\\git\\hermes-optimization\\cenv\\lib\\site-packages\\numba\\core\\dispatcher.py\u001B[0m in \u001B[0;36m_compile_for_args\u001B[1;34m(self, *args, **kws)\u001B[0m\n\u001B[0;32m    412\u001B[0m                 \u001B[0me\u001B[0m\u001B[1;33m.\u001B[0m\u001B[0mpatch_message\u001B[0m\u001B[1;33m(\u001B[0m\u001B[0mmsg\u001B[0m\u001B[1;33m)\u001B[0m\u001B[1;33m\u001B[0m\u001B[1;33m\u001B[0m\u001B[0m\n\u001B[0;32m    413\u001B[0m \u001B[1;33m\u001B[0m\u001B[0m\n\u001B[1;32m--> 414\u001B[1;33m             \u001B[0merror_rewrite\u001B[0m\u001B[1;33m(\u001B[0m\u001B[0me\u001B[0m\u001B[1;33m,\u001B[0m \u001B[1;34m'typing'\u001B[0m\u001B[1;33m)\u001B[0m\u001B[1;33m\u001B[0m\u001B[1;33m\u001B[0m\u001B[0m\n\u001B[0m\u001B[0;32m    415\u001B[0m         \u001B[1;32mexcept\u001B[0m \u001B[0merrors\u001B[0m\u001B[1;33m.\u001B[0m\u001B[0mUnsupportedError\u001B[0m \u001B[1;32mas\u001B[0m \u001B[0me\u001B[0m\u001B[1;33m:\u001B[0m\u001B[1;33m\u001B[0m\u001B[1;33m\u001B[0m\u001B[0m\n\u001B[0;32m    416\u001B[0m             \u001B[1;31m# Something unsupported is present in the user code, add help info\u001B[0m\u001B[1;33m\u001B[0m\u001B[1;33m\u001B[0m\u001B[1;33m\u001B[0m\u001B[0m\n",
      "\u001B[1;32mC:\\git\\hermes-optimization\\cenv\\lib\\site-packages\\numba\\core\\dispatcher.py\u001B[0m in \u001B[0;36merror_rewrite\u001B[1;34m(e, issue_type)\u001B[0m\n\u001B[0;32m    355\u001B[0m                 \u001B[1;32mraise\u001B[0m \u001B[0me\u001B[0m\u001B[1;33m\u001B[0m\u001B[1;33m\u001B[0m\u001B[0m\n\u001B[0;32m    356\u001B[0m             \u001B[1;32melse\u001B[0m\u001B[1;33m:\u001B[0m\u001B[1;33m\u001B[0m\u001B[1;33m\u001B[0m\u001B[0m\n\u001B[1;32m--> 357\u001B[1;33m                 \u001B[1;32mraise\u001B[0m \u001B[0me\u001B[0m\u001B[1;33m.\u001B[0m\u001B[0mwith_traceback\u001B[0m\u001B[1;33m(\u001B[0m\u001B[1;32mNone\u001B[0m\u001B[1;33m)\u001B[0m\u001B[1;33m\u001B[0m\u001B[1;33m\u001B[0m\u001B[0m\n\u001B[0m\u001B[0;32m    358\u001B[0m \u001B[1;33m\u001B[0m\u001B[0m\n\u001B[0;32m    359\u001B[0m         \u001B[0margtypes\u001B[0m \u001B[1;33m=\u001B[0m \u001B[1;33m[\u001B[0m\u001B[1;33m]\u001B[0m\u001B[1;33m\u001B[0m\u001B[1;33m\u001B[0m\u001B[0m\n",
      "\u001B[1;31mTypingError\u001B[0m: Failed in nopython mode pipeline (step: nopython frontend)\n\u001B[1m\u001B[1mnon-precise type array(pyobject, 1d, C)\u001B[0m\n\u001B[0m\u001B[1mDuring: typing of argument at C:\\git\\hermes-optimization\\models\\vcm.py (32)\u001B[0m\n\u001B[1m\nFile \"..\\models\\vcm.py\", line 32:\u001B[0m\n\u001B[1mdef compute_passes_throughput(tof_s_list, fspl_dB_list, Ptx_dBm_array, Gtx_dBi, GT_dBK, B_Hz,\n    <source elided>\n                              alpha, EsN0_req_dB_array, eta_bitsym_array, min_margin_dB):\n\u001B[1m    linktime_s_array = np.empty(len(tof_s_list))\n\u001B[0m    \u001B[1m^\u001B[0m\u001B[0m\n"
     ]
    }
   ],
   "source": [
    "from notebooks.optimization_problems.pointing_problem import PointingProblem\n",
    "from notebooks.optimization_problems.design_vector import design_vector_default_scm, SystemParameters\n",
    "\n",
    "sys_param = SystemParameters()\n",
    "sys_param.margin_dB = 3.0\n",
    "sys_param.B_Hz_array = np.array([0.1, 0.5, 1, 10, 50, 100, 200, 300]) * 1e6\n",
    "sys_param.Gtx_dBi_bounds = (3., 30.)\n",
    "sys_param.Ptx_dBm_bounds = (20., 60.)\n",
    "\n",
    "modcods_df = pd.read_pickle('dvbs2.pkl')\n",
    "\n",
    "sys_param.EsN0_req_dB_array = modcods_df['isend'].to_numpy()\n",
    "sys_param.eta_bitsym_array = modcods_df[['eta', 'eta_200MHz', 'eta_300MHz']].to_numpy()\n",
    "sys_param.eta_maee_array = modcods_df[['maee_12', 'maee_12_200MHz', 'maee_12_300MHz']].to_numpy()\n",
    "\n",
    "requirements = Requirements()\n",
    "requirements.min_throughput = 0.5e9\n",
    "#requirements.max_throughput = 5e9\n",
    "\n",
    "problem = PointingProblem(instances_df, sys_param, requirements=requirements)\n",
    "\n",
    "sampling, crossover, mutation = design_vector_default_scm(problem.x_length, problem.x_indices)\n",
    "\n",
    "converge_algo_settings = {'pop_size': 200, 'n_offsprings': 100}\n",
    "unconverge_algo_settings = {'pop_size': 100, 'n_offsprings': 20}\n",
    "\n",
    "converge_term_settings = {'f_tol': 0.001, 'n_max_gen': 2000, 'n_max_evals': 200000}\n",
    "unconverge_term_settings =  {'f_tol': 0.005, 'n_max_gen': 100, 'n_max_evals': 2000}\n",
    "\n",
    "converge = True\n",
    "if converge:\n",
    "    algo_settings = converge_algo_settings\n",
    "    term_settings = converge_term_settings\n",
    "    postfix = '_converged'\n",
    "else:\n",
    "    algo_settings = unconverge_algo_settings\n",
    "    term_settings = unconverge_term_settings\n",
    "    postfix = '_unconverged'\n",
    "\n",
    "from pymoo.util.termination.default import MultiObjectiveDefaultTermination\n",
    "\n",
    "termination = MultiObjectiveDefaultTermination(\n",
    "    #x_tol=1e-8,\n",
    "    #cv_tol=1e-6,\n",
    "    f_tol=term_settings['f_tol'], #f_tol=0.005,\n",
    "    nth_gen=100,\n",
    "    n_last=30,\n",
    "    n_max_gen=term_settings['n_max_gen'], #n_max_gen=1000,\n",
    "    n_max_evals=term_settings['n_max_evals'], #n_max_evals=100000\n",
    ")\n",
    "\n",
    "termination = MultiObjectiveSpaceToleranceTermination(tol=0.00001,\n",
    "                                                      n_last=30,\n",
    "                                                      nth_gen=5,\n",
    "                                                      n_max_gen=5000,\n",
    "                                                      n_max_evals=None)\n",
    "\n",
    "from pymoo.algorithms.nsga2 import NSGA2\n",
    "\n",
    "algorithm = NSGA2(\n",
    "    pop_size=algo_settings['pop_size'],\n",
    "    n_offsprings=algo_settings['n_offsprings'],\n",
    "    sampling=sampling,\n",
    "    crossover=crossover,\n",
    "    mutation=mutation,\n",
    "    eliminate_duplicates=True,\n",
    ")\n",
    "\n",
    "res = minimize(problem,\n",
    "               algorithm,\n",
    "               termination=termination,\n",
    "               seed=1,\n",
    "               #save_history=True,\n",
    "               verbose=True\n",
    "               )\n",
    "\n",
    "#res = minimize(problem, GA())\n",
    "# pool.close()\n",
    "# problem.pool.close()\n",
    "\n",
    "print('Processes:', res.exec_time)\n",
    "print(\"Best solution found: %s\" % res.X)"
   ],
   "metadata": {
    "collapsed": false,
    "pycharm": {
     "name": "#%%\n"
    }
   }
  },
  {
   "cell_type": "code",
   "execution_count": null,
   "outputs": [],
   "source": [
    "import pickle\n",
    "\n",
    "pickle.dump(res, open('pointing_res.pkl', 'wb'))"
   ],
   "metadata": {
    "collapsed": false,
    "pycharm": {
     "name": "#%%\n"
    }
   }
  },
  {
   "cell_type": "code",
   "execution_count": null,
   "outputs": [],
   "source": [
    "res = pickle.load(open('pointing_res.pkl', 'rb'))"
   ],
   "metadata": {
    "collapsed": false,
    "pycharm": {
     "name": "#%%\n"
    }
   }
  },
  {
   "cell_type": "code",
   "execution_count": null,
   "outputs": [],
   "source": [
    "x_pass = res.X[:, problem.x_indices['pass']].astype('bool')\n",
    "x_Ptx_dBm = res.X[:, problem.x_indices['power']].astype('float64')\n",
    "x_Ptx_dBm[~x_pass] = np.NaN\n",
    "x_Ptx_dBm = np.nanmax(x_Ptx_dBm, axis=1)\n",
    "#x_modcod = np.squeeze(res.X[:, problem.x_indices['modcod']].astype('int64'))\n",
    "\n",
    "f_energy = res.F[:,1] / 1e3 # Kilo Joule\n",
    "f_throughput = ((res.F[:,0] * -1) / 1e9)   # Gigabit"
   ],
   "metadata": {
    "collapsed": false,
    "pycharm": {
     "name": "#%% Extract variables from result\n"
    }
   }
  },
  {
   "cell_type": "code",
   "execution_count": null,
   "outputs": [],
   "source": [
    "import colorcet as cc\n",
    "\n",
    "from matplotlib.lines import Line2D\n",
    "import numpy as np\n",
    "import matplotlib.pyplot as plt\n",
    "#from PlotUtil import apply_report_formatting, apply_report_formatting_single\n",
    "import matplotlib.colors as mcol\n",
    "import matplotlib.cm as cm\n",
    "\n",
    "isend_req = 10.69\n",
    "\n",
    "fig = plt.figure(figsize=(3.2, 2.4))\n",
    "\n",
    "ax = fig.add_subplot(1,1,1)\n",
    "ax.grid()\n",
    "ax.set_axisbelow(True)\n",
    "\n",
    "cm1 = mcol.LinearSegmentedColormap.from_list(\"BlueRed\",[\"c\",\"r\"])\n",
    "#cm1 = mcol.LinearSegmentedColormap.from_list(\"BlueRed\",[\"#4a569d\",\"#dc2424\"])\n",
    "#cm1 = cc.cm.linear_kryw_5_100_c67_r\n",
    "#cm1 = cc.cm.CET_L18\n",
    "\n",
    "min_Ptx = np.nanmin(x_Ptx_dBm)\n",
    "max_Ptx = np.nanmax(x_Ptx_dBm)\n",
    "\n",
    "cnorm = mcol.Normalize(vmin=min_Ptx,vmax=max_Ptx)\n",
    "\n",
    "cpick = cm.ScalarMappable(norm=cnorm,cmap=cm1)\n",
    "cpick.set_array([])\n",
    "\n",
    "cp = cpick.to_rgba(x_Ptx_dBm.tolist())\n",
    "ax.scatter(f_energy, f_throughput, c=cp, marker='.', s=1)\n",
    "\n",
    "ax.set_xlabel(\"Energy used [kJ]\")\n",
    "ax.set_ylabel(\"Throughput [Gbit]\")\n",
    "cb = plt.colorbar(cpick,label=\"Maximum power [dBm]\")\n",
    "cb.ax.tick_params(labelsize=8)\n",
    "cb.ax.yaxis.label.set_size(8)\n",
    "\n",
    "PlotUtil.apply_report_formatting(4.72, 2.76)\n",
    "plt.tight_layout()\n",
    "\n",
    "#fig.savefig('D:/git/thesis_report_ae/figures/mc_pareto%s.pdf' % postfix)\n",
    "plt.show()\n",
    "plt.close()"
   ],
   "metadata": {
    "collapsed": false,
    "pycharm": {
     "name": "#%% Pareto fronts\n"
    }
   }
  },
  {
   "cell_type": "code",
   "execution_count": null,
   "outputs": [],
   "source": [
    "x_bandwidth = res.X[:, problem.x_indices['bandwidth']].astype('int')\n",
    "B_Hz = sys_param.B_Hz_array[np.squeeze(x_bandwidth)] / 1e6\n",
    "\n",
    "fig = plt.figure(figsize=(3.2, 2.4))\n",
    "\n",
    "ax = fig.add_subplot(1,1,1)\n",
    "ax.grid()\n",
    "ax.set_axisbelow(True)\n",
    "\n",
    "ax.scatter(B_Hz, f_throughput, marker='.', s=2)\n",
    "#ax.set_xscale('log')\n",
    "ax.set_xlabel(\"Bandwidth [MHz]\")\n",
    "ax.set_ylabel(\"Throughput [Gbit]\")\n",
    "#ax.set_xlim((, 11))\n",
    "ax.set_ylim((0, 1200))\n",
    "\n",
    "PlotUtil.apply_report_formatting(3.146, 2.76)\n",
    "plt.tight_layout()\n",
    "\n",
    "#fig.savefig('D:/git/thesis_report_ae/figures/vcm_modcod_vs_throughput.pdf')"
   ],
   "metadata": {
    "collapsed": false,
    "pycharm": {
     "name": "#%% Throughput vs bandwidth\n"
    }
   }
  },
  {
   "cell_type": "code",
   "execution_count": null,
   "outputs": [],
   "source": [
    "fig = plt.figure(figsize=(3.2, 2.4))\n",
    "\n",
    "ax = fig.add_subplot(1,1,1)\n",
    "ax.grid()\n",
    "ax.set_axisbelow(True)\n",
    "\n",
    "ax.scatter(np.sum(x_pass, axis=1), f_throughput, marker='.', s=1)\n",
    "ax.set_xlabel(\"Number of passes used\")\n",
    "ax.set_ylabel(\"Throughput [Gbit]\")\n",
    "ax.set_xlim((0, 20))\n",
    "ax.set_ylim((0, 1200))\n",
    "\n",
    "PlotUtil.apply_report_formatting(3.146, 2.76)\n",
    "plt.tight_layout()\n",
    "\n",
    "#fig.savefig('D:/git/thesis_report_ae/figures/vcm_modcod_vs_throughput.pdf')"
   ],
   "metadata": {
    "collapsed": false,
    "pycharm": {
     "name": "#%% Throughput vs number of passes\n"
    }
   }
  },
  {
   "cell_type": "code",
   "execution_count": null,
   "outputs": [],
   "source": [
    "fig = plt.figure(figsize=(3.2, 2.4))\n",
    "\n",
    "import matplotlib.pyplot as plt\n",
    "from pymoo.performance_indicator.hv import Hypervolume\n",
    "\n",
    "# create the performance indicator object with reference point (4,4)\n",
    "metric = Hypervolume(ref_point=np.array([0,1e18]))\n",
    "\n",
    "# collect the population in each generation\n",
    "pop_each_gen = [a.pop for a in res.history]\n",
    "\n",
    "# receive the population in each generation\n",
    "obj_and_feasible_each_gen = [pop[pop.get(\"feasible\")[:,0]].get(\"F\") for pop in pop_each_gen]\n",
    "\n",
    "# calculate for each generation the HV metric\n",
    "hv = [metric.calc(f) for f in obj_and_feasible_each_gen]\n",
    "\n",
    "# function evaluations at each snapshot\n",
    "n_evals = np.array([a.evaluator.n_eval for a in res.history])\n",
    "\n",
    "# visualze the convergence curve\n",
    "plt.plot(n_evals, hv, '-o', markersize=3)\n",
    "plt.title(\"Convergence\")\n",
    "plt.xlabel(\"Function Evaluations\")\n",
    "plt.ylabel(\"Hypervolume\")\n",
    "PlotUtil.apply_report_formatting()\n",
    "plt.tight_layout()\n",
    "plt.grid()\n",
    "#plt.savefig('D:/git/thesis_report_ae/figures/link_budget_hypervolume%s.svg' % postfix)\n",
    "fig.savefig('D:/git/thesis_report_ae/figures/visibility_hypervolume%s.pdf' % postfix)\n",
    "plt.show()\n",
    "plt.close()\n"
   ],
   "metadata": {
    "collapsed": false,
    "pycharm": {
     "name": "#%%\n"
    }
   }
  }
 ],
 "metadata": {
  "kernelspec": {
   "name": "pycharm-34b782de",
   "language": "python",
   "display_name": "PyCharm (hermes-simulator)"
  },
  "language_info": {
   "codemirror_mode": {
    "name": "ipython",
    "version": 3
   },
   "file_extension": ".py",
   "mimetype": "text/x-python",
   "name": "python",
   "nbconvert_exporter": "python",
   "pygments_lexer": "ipython3",
   "version": "3.7.6"
  }
 },
 "nbformat": 4,
 "nbformat_minor": 1
}