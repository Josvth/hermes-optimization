{
 "cells": [
  {
   "cell_type": "code",
   "execution_count": 219,
   "metadata": {
    "collapsed": true
   },
   "outputs": [
    {
     "name": "stdout",
     "output_type": "stream",
     "text": [
      "Using matplotlib backend: Qt5Agg\n"
     ]
    }
   ],
   "source": [
    "import pandas as pd\n",
    "import numpy as np\n",
    "from pymoo.optimize import minimize\n",
    "import pickle\n",
    "\n",
    "from pymoo.util.termination.f_tol import MultiObjectiveSpaceToleranceTermination\n",
    "from pymoo.visualization.scatter import Scatter\n",
    "from notebooks.optimization_problems.constraints import Requirements\n",
    "from pyreport import PlotUtil\n",
    "import matplotlib.pyplot as plt\n",
    "\n",
    "%matplotlib"
   ]
  },
  {
   "cell_type": "code",
   "execution_count": 220,
   "outputs": [
    {
     "name": "stdout",
     "output_type": "stream",
     "text": [
      "806.7113883495331\n"
     ]
    }
   ],
   "source": [
    "problem, setting, res = pickle.load(open('full_max_L_res_nsga3_600_5000.pkl', 'rb'))\n",
    "#problem, setting, res = pickle.load(open('max_latency_res_nsga3_700.pkl', 'rb'))\n",
    "\n",
    "print(res.exec_time)"
   ],
   "metadata": {
    "collapsed": false,
    "pycharm": {
     "name": "#%% Limit number of passes\n"
    }
   }
  },
  {
   "cell_type": "code",
   "execution_count": 221,
   "outputs": [],
   "source": [
    "x_pass = res.X[:, problem.x_indices['pass']].astype('bool')\n",
    "x_Ptx_dBm = res.X[:, problem.x_indices['power']].astype('float64')\n",
    "x_Ptx_dBm[~x_pass] = np.NaN\n",
    "x_Ptx_dBm = np.nanmax(x_Ptx_dBm, axis=1)\n",
    "#x_modcod = np.squeeze(res.X[:, problem.x_indices['modcod']].astype('int64'))\n",
    "\n",
    "scale_factors = np.array([1/-1e9, 1, 1/1e3, 1])\n",
    "f_pointing = res.F[:, 3] * scale_factors[3] # s\n",
    "f_energy = res.F[:,2] * scale_factors[2]  # Kilo Joule\n",
    "f_latency = res.F[:,1] * scale_factors[1]  # s\n",
    "f_throughput = res.F[:,0] * scale_factors[0]    # Gigabit"
   ],
   "metadata": {
    "collapsed": false,
    "pycharm": {
     "name": "#%% Extract variables from result\n"
    }
   }
  },
  {
   "cell_type": "code",
   "execution_count": 222,
   "outputs": [],
   "source": [
    "points = []\n",
    "F_norm = res.F / np.max(np.abs(res.F), axis=0)\n",
    "\n",
    "# Max throughput point\n",
    "ind = np.argmax(f_throughput)\n",
    "p = np.array([f_throughput[ind], f_latency[ind], f_energy[ind], f_pointing[ind]])\n",
    "points.append({'ind': ind, 'p': p, 'color': 'r', 'marker': '.', 'size': 20, 'label': 'Max T\\n(T=%d Gbit, L=%d s, E=%d kJ, P=%d s)' % (f_throughput[ind], f_latency[ind], f_energy[ind], f_pointing[ind])})\n",
    "\n",
    "# Max E, minimum P point\n",
    "ref = np.array([1, 0])\n",
    "ind = np.argmin(np.linalg.norm(F_norm[:,2:4] - ref, axis = 1))\n",
    "p = np.array([f_throughput[ind], f_latency[ind], f_energy[ind], f_pointing[ind]])\n",
    "points.append({'ind': ind, 'p': p, 'color': 'g', 'marker': '.', 'size': 20, 'label': 'Max E, Min P\\n(T=%d Gbit, L=%d s, E=%d kJ, P=%d s)' % (f_throughput[ind], f_latency[ind], f_energy[ind], f_pointing[ind])})\n",
    "\n",
    "# Closest to 1000 GBit, min Latency\n",
    "F_scaled = res.F * scale_factors\n",
    "ref = np.array([1000, 0])\n",
    "diff = F_scaled[:,[0,1]] - ref\n",
    "ind = np.argmin(np.linalg.norm(diff, axis=1))\n",
    "p = np.array([f_throughput[ind], f_latency[ind], f_energy[ind], f_pointing[ind]])\n",
    "points.append({'ind': ind, 'p': p, 'color': 'b', 'marker': '.', 'size': 20, 'label': 'T = 1000 GBit, Min E\\n(T=%d Gbit, L=%d s, E=%d kJ, P=%d s)' % (f_throughput[ind], f_latency[ind], f_energy[ind], f_pointing[ind])})\n",
    "\n",
    "# 3600 s, min Energy\n",
    "# ref = np.array([3600, 0])\n",
    "# ind = np.argmin(np.linalg.norm((res.F[:,[1,2]] - ref) / np.max(res.F[:,[0,2]] - ref, axis = 0), axis = 1))\n",
    "# p = np.array([f_throughput[ind], f_latency[ind], f_energy[ind], f_pointing[ind]])\n",
    "# points.append({'ind': ind, 'p': p, 'color': 'y', 'marker': '.', 'size': 10, 'label': 'L = 3600 s, Min E\\n(T=%d Gbit, L=%d s, E=%d kJ, P=%d s)' % (f_throughput[ind], f_latency[ind], f_energy[ind], f_pointing[ind])})\n",
    "\n",
    "# 3600 s, min Energy\n",
    "# ref = np.array([3600, 0])\n",
    "# ind = np.argmin(np.linalg.norm((res.F[:,[1,2]] - ref) / np.max(res.F[:,[0,2]] - ref, axis = 0), axis = 1))\n",
    "# p = np.array([f_throughput[ind], f_latency[ind], f_energy[ind], f_pointing[ind]])\n",
    "# points.append({'ind': ind, 'p': p, 'color': 'y', 'marker': '.', 'size': 10, 'label': 'L = 3600 s, Min E\\n(T=%d Gbit, L=%d s, E=%d kJ, P=%d s)' % (f_throughput[ind], f_latency[ind], f_energy[ind], f_pointing[ind])})\n",
    "\n",
    "# # Reference points\n",
    "# ref_points = setting['algorithm'].survival.ref_points / np.array([-1e9, 1e3, 1])\n",
    "# points.append({'ind': ind, 'p': ref_points[0,[1,2,0]], 'color': 'r', 'marker': 'x', 'size': 15, 'label': 'Target 1\\n(%d Gbit, %d kJ, %d s)' % (ref_points[0,0], ref_points[0,1], ref_points[0,2])})\n",
    "# points.append({'ind': ind, 'p': ref_points[1,[1,2,0]], 'color': 'g', 'marker': 'x', 'size': 15, 'label': 'Target 2\\n(%d Gbit, %d kJ, %d s)' % (ref_points[1,0], ref_points[1,1], ref_points[1,2])})"
   ],
   "metadata": {
    "collapsed": false,
    "pycharm": {
     "name": "#%% Marked points\n"
    }
   }
  },
  {
   "cell_type": "code",
   "execution_count": 223,
   "outputs": [],
   "source": [
    "T_lim = (0, 2000)\n",
    "L_lim = (0, 6000)\n",
    "E_lim = (0, 100)\n",
    "P_lim = (0, 2100)\n",
    "\n",
    "# offset 0 limit with 10%\n",
    "perc = 0.025\n",
    "T_lim = np.array(T_lim) - np.array([perc * (T_lim[1] - T_lim[0]), 0])\n",
    "L_lim = np.array(L_lim) - np.array([perc * (L_lim[1] - L_lim[0]), 0])\n",
    "E_lim = np.array(E_lim) - np.array([perc * (E_lim[1] - E_lim[0]), 0])\n",
    "P_lim = np.array(P_lim) - np.array([perc * (P_lim[1] - P_lim[0]), 0])"
   ],
   "metadata": {
    "collapsed": false,
    "pycharm": {
     "name": "#%% Limits\n"
    }
   }
  },
  {
   "cell_type": "code",
   "execution_count": 224,
   "outputs": [],
   "source": [
    "first_line = 1400\n",
    "second_line = 1750\n",
    "third_line = 2000\n",
    "\n",
    "diff_to_lines = np.abs(np.array([\n",
    "    f_latency-first_line,\n",
    "    f_latency-second_line,\n",
    "    f_latency-third_line\n",
    "]))\n",
    "\n",
    "closest_line = np.argmin(diff_to_lines, axis=0)"
   ],
   "metadata": {
    "collapsed": false,
    "pycharm": {
     "name": "#%% Lowest latency range\n"
    }
   }
  },
  {
   "cell_type": "code",
   "execution_count": 225,
   "outputs": [],
   "source": [
    "plt.close('all')\n",
    "\n",
    "fig = plt.figure(figsize=(3.2*3, 2.4*3))\n",
    "axs = fig.subplots(3,3, gridspec_kw={'height_ratios': [1, 1, 1]})\n",
    "axs = axs.flatten()\n",
    "\n",
    "ax = axs[0]\n",
    "ax.grid(True)\n",
    "ax.scatter(f_energy, f_throughput, marker='.', s=1, color='tab:grey', alpha=0.4)\n",
    "#ax.scatter(f_energy[closest_line == 0], f_throughput[closest_line == 0], marker='.', s=1, color='tab:red')\n",
    "#ax.scatter(f_energy[closest_line == 1], f_throughput[closest_line == 1], marker='.', s=1, color='tab:green')\n",
    "for point in points:\n",
    "    ax.scatter(point['p'][2], point['p'][0],\n",
    "               color=point['color'], s=point['size'], marker=point['marker'], label=point['label'])\n",
    "\n",
    "# for i in range(len(f_throughput)):\n",
    "#     ax.text(f_energy, f_throughput, 'A', fontsize=6)\n",
    "\n",
    "ax.set_xlabel(\"Energy used [kJ]\")\n",
    "ax.set_ylabel(\"Throughput [Gbit]\")\n",
    "#ax.set_xlim(E_lim)\n",
    "#ax.set_ylim(T_lim)\n",
    "ax.set_axisbelow(True)\n",
    "\n",
    "ax = axs[1]\n",
    "ax.grid(True)\n",
    "ax.scatter(f_pointing, f_throughput, marker='.', s=1)\n",
    "ax.scatter(f_pointing[closest_line == 0], f_throughput[closest_line == 0], marker='.', s=1, color='tab:red')\n",
    "ax.scatter(f_pointing[closest_line == 1], f_throughput[closest_line == 1], marker='.', s=1, color='tab:green')\n",
    "\n",
    "# for point in points:\n",
    "#     ax.scatter(point['p'][3], point['p'][0],\n",
    "#                color=point['color'], s=point['size'], marker=point['marker'], label=point['label'])\n",
    "\n",
    "ax.set_xlabel(\"Pointing [s]\")\n",
    "ax.set_ylabel(\"Throughput [Gbit]\")\n",
    "#ax.set_xlim(P_lim)\n",
    "#ax.set_ylim(T_lim)\n",
    "ax.set_axisbelow(True)\n",
    "\n",
    "ax = axs[2]\n",
    "ax.grid(True)\n",
    "ax.scatter(f_latency, f_throughput, marker='.', s=1)\n",
    "#ax.scatter(f_latency[closest_line == 0], f_throughput[closest_line == 0], marker='.', s=1, color='tab:red')\n",
    "#ax.scatter(f_latency[closest_line == 1], f_throughput[closest_line == 1], marker='.', s=1, color='tab:green')\n",
    "\n",
    "# for point in points:\n",
    "#     ax.scatter(point['p'][1], point['p'][0],\n",
    "#                color=point['color'], s=point['size'], marker=point['marker'], label=point['label'])\n",
    "\n",
    "ax.set_xlabel(\"Avg. Latency [s]\")\n",
    "ax.set_ylabel(\"Throughput [Gbit]\")\n",
    "#ax.set_xlim(L_lim)\n",
    "#ax.set_ylim(T_lim)\n",
    "ax.set_axisbelow(True)\n",
    "\n",
    "ax = axs[3]\n",
    "ax.grid(True)\n",
    "ax.scatter(f_energy, f_latency, marker='.', s=1)\n",
    "for point in points:\n",
    "    ax.scatter(point['p'][2], point['p'][1],\n",
    "               color=point['color'], s=point['size'], marker=point['marker'], label=point['label'])\n",
    "\n",
    "ax.set_xlabel(\"Energy used [kJ]\")\n",
    "ax.set_ylabel(\"Max. Latency [s]\")\n",
    "#ax.set_xlim(E_lim)\n",
    "#ax.set_ylim(L_lim)\n",
    "ax.set_axisbelow(True)\n",
    "\n",
    "ax = axs[4]\n",
    "ax.grid(True)\n",
    "ax.scatter(f_pointing, f_latency, marker='.', s=1)\n",
    "for point in points:\n",
    "    ax.scatter(point['p'][3], point['p'][1],\n",
    "               color=point['color'], s=point['size'], marker=point['marker'], label=point['label'])\n",
    "\n",
    "ax.set_xlabel(\"Pointing [s]\")\n",
    "ax.set_ylabel(\"Max. Latency [s]\")\n",
    "#ax.set_xlim(P_lim)\n",
    "#ax.set_ylim(L_lim)\n",
    "ax.set_axisbelow(True)\n",
    "\n",
    "ax = axs[5]\n",
    "ax.grid(True)\n",
    "ax.scatter(f_energy, f_pointing, marker='.', s=1)\n",
    "for point in points:\n",
    "    ax.scatter(point['p'][2], point['p'][3],\n",
    "               color=point['color'], s=point['size'], marker=point['marker'], label=point['label'])\n",
    "\n",
    "ax.set_xlabel(\"Energy used [kJ]\")\n",
    "ax.set_ylabel(\"Pointing [s]\")\n",
    "#ax.set_xlim(E_lim)\n",
    "#ax.set_ylim(P_lim)\n",
    "ax.set_axisbelow(True)\n",
    "\n",
    "axs[6].set_axis_off()\n",
    "axs[7].set_axis_off()\n",
    "ax = axs[8]\n",
    "for point in points:\n",
    "    ax.scatter(np.nan, np.nan,\n",
    "               color=point['color'], s=point['size'], marker=point['marker'], label=point['label'])\n",
    "\n",
    "ax.legend(fontsize=8)\n",
    "ax.set_axis_off()\n",
    "\n",
    "plt.tight_layout()\n",
    "\n",
    "# import matplotlib\n",
    "# x,y = np.array([[2/3 - 0.001, 2/3-0.001], [1/3-0.03, 1]])\n",
    "# hline = matplotlib.lines.Line2D(x, y, lw=0.75, color='k', alpha=0.5)\n",
    "# hline.set_clip_on(False)\n",
    "# x,y = np.array([[0, 1], [2/3-0.025, 2/3-0.025]])\n",
    "# vline = matplotlib.lines.Line2D(x, y, lw=0.75, color='k', alpha=0.5)\n",
    "# vline.set_clip_on(False)\n",
    "# ax_over = plt.axes([0,0,1,1], facecolor=(1,1,1,0))\n",
    "# ax_over.add_line(hline)\n",
    "# ax_over.add_line(vline)\n",
    "# ax_over.set_axis_off()\n",
    "\n",
    "# autoAxis = sub1.axis()\n",
    "# rec = Rectangle((autoAxis[0]-0.7,autoAxis[2]-0.2),(autoAxis[1]-autoAxis[0])+1,(autoAxis[3]-autoAxis[2])+0.4,fill=False,lw=2)\n",
    "# rec = sub1.add_patch(rec)\n",
    "# rec.set_clip_on(False)\n",
    "\n",
    "#fig.savefig('D:/git/thesis_report_ae/figures/full_pareto_six_%s.pdf' % setting['label'])"
   ],
   "metadata": {
    "collapsed": false,
    "pycharm": {
     "name": "#%% Pareto fronts multiple\n"
    }
   }
  }
 ],
 "metadata": {
  "kernelspec": {
   "name": "pycharm-34b782de",
   "language": "python",
   "display_name": "PyCharm (hermes-simulator)"
  },
  "language_info": {
   "codemirror_mode": {
    "name": "ipython",
    "version": 2
   },
   "file_extension": ".py",
   "mimetype": "text/x-python",
   "name": "python",
   "nbconvert_exporter": "python",
   "pygments_lexer": "ipython2",
   "version": "2.7.6"
  }
 },
 "nbformat": 4,
 "nbformat_minor": 0
}