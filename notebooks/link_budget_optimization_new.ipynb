{
 "cells": [
  {
   "cell_type": "code",
   "execution_count": 7,
   "outputs": [
    {
     "name": "stdout",
     "output_type": "stream",
     "text": [
      "The autoreload extension is already loaded. To reload it, use:\n",
      "  %reload_ext autoreload\n"
     ]
    }
   ],
   "source": [
    "import pickle\n",
    "import pandas as pd\n",
    "import matplotlib.pyplot as plt\n",
    "import numpy as np\n",
    "from pymoo.algorithms.so_genetic_algorithm import GA\n",
    "from pymoo.factory import get_algorithm, get_sampling, get_crossover, get_mutation\n",
    "from pymoo.model.problem import Problem\n",
    "from pymoo.optimize import minimize\n",
    "\n",
    "#%matplotlib qt\n",
    "import PlotUtil\n",
    "from hermes.postprocessing import get_r_ab_sff, generate_grouped_passed_df, generate_pass_range_list\n",
    "from notebooks.optimization_problems.link_budget_problem_real_power import LinkBudgetProblemRealPower\n",
    "%load_ext autoreload\n",
    "\n",
    "%autoreload 2"
   ],
   "metadata": {
    "collapsed": false,
    "pycharm": {
     "name": "#%%\n"
    }
   }
  },
  {
   "cell_type": "code",
   "execution_count": 8,
   "outputs": [],
   "source": [
    "columns = ['strand_name', 'tof',\n",
    "           'r_a_x', 'r_a_y', 'r_a_z',\n",
    "           'v_a_x', 'v_a_y', 'v_a_z',\n",
    "           'r_b_x', 'r_b_y', 'r_b_z',\n",
    "           'd',\n",
    "           'r_ab_sff_x', 'r_ab_sff_y', 'r_ab_sff_z']\n",
    "\n",
    "file_path = \"example_data.h5\"\n",
    "\n",
    "row_limit = -1\n",
    "\n",
    "store_500km = pd.HDFStore(file_path)\n",
    "\n",
    "instances_500km_df = store_500km.select('contact_instances', 'columns = %s' % str(columns), stop = row_limit)\n",
    "\n",
    "# Sort by pass id\n",
    "instances_500km_df = instances_500km_df.sort_index(0)"
   ],
   "metadata": {
    "collapsed": false,
    "pycharm": {
     "name": "#%% Import data files from visibility analysis at 500 km\n"
    }
   }
  },
  {
   "cell_type": "code",
   "execution_count": 9,
   "outputs": [],
   "source": [
    "N_passes = 20\n",
    "\n",
    "instances_df = instances_500km_df.loc[0:N_passes,:]"
   ],
   "metadata": {
    "collapsed": false,
    "pycharm": {
     "name": "#%% Limit number of passes\n"
    }
   }
  },
  {
   "cell_type": "code",
   "execution_count": 27,
   "outputs": [
    {
     "name": "stdout",
     "output_type": "stream",
     "text": [
      "=====================================================================================\n",
      "n_gen |  n_eval |   cv (min)   |   cv (avg)   |  n_nds  |     eps      |  indicator  \n",
      "=====================================================================================\n",
      "    1 |     100 |  0.00000E+00 |  1.73940E+02 |       7 |            - |            -\n",
      "    2 |     120 |  0.00000E+00 |  1.36250E+02 |       7 |  0.00000E+00 |            f\n",
      "    3 |     140 |  0.00000E+00 |  1.06700E+02 |       8 |  0.019721346 |            f\n",
      "    4 |     160 |  0.00000E+00 |  8.51700E+01 |      10 |  0.021297407 |            f\n",
      "    5 |     180 |  0.00000E+00 |  6.79400E+01 |      11 |  0.002570314 |            f\n",
      "    6 |     200 |  0.00000E+00 |  4.86200E+01 |      11 |  0.00000E+00 |            f\n",
      "    7 |     220 |  0.00000E+00 |  2.29500E+01 |      14 |  0.013756066 |            f\n",
      "    8 |     240 |  0.00000E+00 |  1.63200E+01 |      17 |  0.014590043 |            f\n",
      "    9 |     260 |  0.00000E+00 |  9.180000000 |      16 |  0.001935234 |            f\n",
      "   10 |     280 |  0.00000E+00 |  0.00000E+00 |      18 |  0.060163551 |        ideal\n",
      "   11 |     300 |  0.00000E+00 |  0.00000E+00 |      18 |  0.00000E+00 |            f\n",
      "   12 |     320 |  0.00000E+00 |  0.00000E+00 |      19 |  0.000896241 |            f\n",
      "   13 |     340 |  0.00000E+00 |  0.00000E+00 |      22 |  0.001354600 |            f\n",
      "   14 |     360 |  0.00000E+00 |  0.00000E+00 |      22 |  0.00000E+00 |            f\n",
      "   15 |     380 |  0.00000E+00 |  0.00000E+00 |      22 |  0.000643121 |            f\n",
      "   16 |     400 |  0.00000E+00 |  0.00000E+00 |      23 |  0.003482404 |            f\n",
      "   17 |     420 |  0.00000E+00 |  0.00000E+00 |      25 |  0.001082510 |            f\n",
      "   18 |     440 |  0.00000E+00 |  0.00000E+00 |      22 |  0.004590774 |            f\n",
      "   19 |     460 |  0.00000E+00 |  0.00000E+00 |      23 |  0.006341148 |            f\n",
      "   20 |     480 |  0.00000E+00 |  0.00000E+00 |      24 |  0.001776040 |            f\n",
      "   21 |     500 |  0.00000E+00 |  0.00000E+00 |      27 |  0.004492187 |            f\n",
      "   22 |     520 |  0.00000E+00 |  0.00000E+00 |      27 |  0.004626153 |            f\n",
      "   23 |     540 |  0.00000E+00 |  0.00000E+00 |      32 |  0.001173444 |            f\n",
      "   24 |     560 |  0.00000E+00 |  0.00000E+00 |      28 |  0.013824885 |        ideal\n",
      "   25 |     580 |  0.00000E+00 |  0.00000E+00 |      29 |  0.001396919 |            f\n",
      "   26 |     600 |  0.00000E+00 |  0.00000E+00 |      32 |  0.001701248 |            f\n",
      "   27 |     620 |  0.00000E+00 |  0.00000E+00 |      31 |  0.002728440 |            f\n",
      "   28 |     640 |  0.00000E+00 |  0.00000E+00 |      31 |  0.001371230 |            f\n",
      "   29 |     660 |  0.00000E+00 |  0.00000E+00 |      32 |  0.00000E+00 |            f\n",
      "   30 |     680 |  0.00000E+00 |  0.00000E+00 |      34 |  0.028539452 |        ideal\n",
      "   31 |     700 |  0.00000E+00 |  0.00000E+00 |      32 |  0.031960997 |        ideal\n",
      "   32 |     720 |  0.00000E+00 |  0.00000E+00 |      33 |  0.005923533 |        ideal\n",
      "   33 |     740 |  0.00000E+00 |  0.00000E+00 |      34 |  0.001498802 |            f\n",
      "   34 |     760 |  0.00000E+00 |  0.00000E+00 |      36 |  0.001483606 |            f\n",
      "   35 |     780 |  0.00000E+00 |  0.00000E+00 |      39 |  0.001725666 |            f\n",
      "   36 |     800 |  0.00000E+00 |  0.00000E+00 |      40 |  0.000541453 |            f\n",
      "   37 |     820 |  0.00000E+00 |  0.00000E+00 |      41 |  0.001015498 |            f\n",
      "   38 |     840 |  0.00000E+00 |  0.00000E+00 |      40 |  0.000309219 |            f\n",
      "   39 |     860 |  0.00000E+00 |  0.00000E+00 |      45 |  0.001013622 |            f\n",
      "   40 |     880 |  0.00000E+00 |  0.00000E+00 |      46 |  0.001122657 |            f\n",
      "   41 |     900 |  0.00000E+00 |  0.00000E+00 |      48 |  0.000691192 |            f\n",
      "   42 |     920 |  0.00000E+00 |  0.00000E+00 |      43 |  0.001201981 |            f\n",
      "   43 |     940 |  0.00000E+00 |  0.00000E+00 |      44 |  0.035324675 |        ideal\n",
      "   44 |     960 |  0.00000E+00 |  0.00000E+00 |      43 |  0.001099828 |            f\n",
      "   45 |     980 |  0.00000E+00 |  0.00000E+00 |      46 |  0.000809236 |            f\n",
      "   46 |    1000 |  0.00000E+00 |  0.00000E+00 |      47 |  0.000631464 |            f\n",
      "   47 |    1020 |  0.00000E+00 |  0.00000E+00 |      50 |  0.001612969 |            f\n",
      "   48 |    1040 |  0.00000E+00 |  0.00000E+00 |      49 |  0.002464975 |            f\n",
      "   49 |    1060 |  0.00000E+00 |  0.00000E+00 |      51 |  0.001645884 |            f\n",
      "   50 |    1080 |  0.00000E+00 |  0.00000E+00 |      54 |  0.000958258 |            f\n",
      "   51 |    1100 |  0.00000E+00 |  0.00000E+00 |      54 |  0.000775388 |            f\n",
      "   52 |    1120 |  0.00000E+00 |  0.00000E+00 |      58 |  0.001687771 |            f\n",
      "   53 |    1140 |  0.00000E+00 |  0.00000E+00 |      56 |  0.000733163 |            f\n",
      "   54 |    1160 |  0.00000E+00 |  0.00000E+00 |      55 |  0.001630624 |            f\n",
      "   55 |    1180 |  0.00000E+00 |  0.00000E+00 |      55 |  0.000361253 |            f\n",
      "   56 |    1200 |  0.00000E+00 |  0.00000E+00 |      55 |  0.000978871 |            f\n",
      "   57 |    1220 |  0.00000E+00 |  0.00000E+00 |      57 |  0.006195147 |        ideal\n",
      "   58 |    1240 |  0.00000E+00 |  0.00000E+00 |      56 |  0.000439846 |            f\n",
      "   59 |    1260 |  0.00000E+00 |  0.00000E+00 |      56 |  0.000336753 |            f\n",
      "   60 |    1280 |  0.00000E+00 |  0.00000E+00 |      58 |  0.000170384 |            f\n",
      "   61 |    1300 |  0.00000E+00 |  0.00000E+00 |      54 |  0.746800258 |        nadir\n",
      "   62 |    1320 |  0.00000E+00 |  0.00000E+00 |      56 |  0.001155875 |            f\n",
      "   63 |    1340 |  0.00000E+00 |  0.00000E+00 |      59 |  0.001150477 |            f\n",
      "   64 |    1360 |  0.00000E+00 |  0.00000E+00 |      62 |  0.024623116 |        ideal\n",
      "   65 |    1380 |  0.00000E+00 |  0.00000E+00 |      56 |  0.000463322 |            f\n",
      "   66 |    1400 |  0.00000E+00 |  0.00000E+00 |      56 |  0.000221131 |            f\n",
      "   67 |    1420 |  0.00000E+00 |  0.00000E+00 |      57 |  0.000032304 |            f\n",
      "   68 |    1440 |  0.00000E+00 |  0.00000E+00 |      61 |  0.000810397 |            f\n",
      "   69 |    1460 |  0.00000E+00 |  0.00000E+00 |      63 |  0.000864173 |            f\n",
      "   70 |    1480 |  0.00000E+00 |  0.00000E+00 |      63 |  0.000105293 |            f\n",
      "   71 |    1500 |  0.00000E+00 |  0.00000E+00 |      63 |  0.00000E+00 |            f\n",
      "   72 |    1520 |  0.00000E+00 |  0.00000E+00 |      61 |  0.000744774 |            f\n",
      "   73 |    1540 |  0.00000E+00 |  0.00000E+00 |      63 |  0.000354024 |            f\n",
      "   74 |    1560 |  0.00000E+00 |  0.00000E+00 |      64 |  0.000357271 |            f\n",
      "   75 |    1580 |  0.00000E+00 |  0.00000E+00 |      63 |  0.000416225 |            f\n",
      "   76 |    1600 |  0.00000E+00 |  0.00000E+00 |      65 |  0.000018415 |            f\n",
      "   77 |    1620 |  0.00000E+00 |  0.00000E+00 |      66 |  0.000734819 |            f\n",
      "   78 |    1640 |  0.00000E+00 |  0.00000E+00 |      67 |  0.000063936 |            f\n",
      "   79 |    1660 |  0.00000E+00 |  0.00000E+00 |      64 |  0.000091766 |            f\n",
      "   80 |    1680 |  0.00000E+00 |  0.00000E+00 |      66 |  0.000212779 |            f\n",
      "   81 |    1700 |  0.00000E+00 |  0.00000E+00 |      68 |  0.000269518 |            f\n",
      "   82 |    1720 |  0.00000E+00 |  0.00000E+00 |      66 |  0.816059456 |        nadir\n",
      "   83 |    1740 |  0.00000E+00 |  0.00000E+00 |      65 |  0.000714662 |            f\n",
      "   84 |    1760 |  0.00000E+00 |  0.00000E+00 |      65 |  0.000133415 |            f\n",
      "   85 |    1780 |  0.00000E+00 |  0.00000E+00 |      60 |  0.000624491 |            f\n",
      "   86 |    1800 |  0.00000E+00 |  0.00000E+00 |      62 |  0.000925124 |            f\n",
      "   87 |    1820 |  0.00000E+00 |  0.00000E+00 |      62 |  0.00000E+00 |            f\n",
      "   88 |    1840 |  0.00000E+00 |  0.00000E+00 |      64 |  0.000332379 |            f\n",
      "   89 |    1860 |  0.00000E+00 |  0.00000E+00 |      64 |  0.000167194 |            f\n",
      "   90 |    1880 |  0.00000E+00 |  0.00000E+00 |      65 |  0.000678290 |            f\n",
      "   91 |    1900 |  0.00000E+00 |  0.00000E+00 |      69 |  0.000407721 |            f\n",
      "   92 |    1920 |  0.00000E+00 |  0.00000E+00 |      70 |  0.000605527 |            f\n",
      "   93 |    1940 |  0.00000E+00 |  0.00000E+00 |      72 |  0.000120324 |            f\n",
      "   94 |    1960 |  0.00000E+00 |  0.00000E+00 |      70 |  0.000165907 |            f\n",
      "   95 |    1980 |  0.00000E+00 |  0.00000E+00 |      72 |  0.000418411 |            f\n",
      "   96 |    2000 |  0.00000E+00 |  0.00000E+00 |      76 |  0.000446849 |            f\n",
      "Processes: 3.2668662071228027\n",
      "Best solution found: [[False False False ... 0 0 0]\n",
      " [True True False ... 0 0 0]\n",
      " [True True False ... 0 0 0]\n",
      " ...\n",
      " [True True False ... 0 0 0]\n",
      " [False True False ... 0 0 0]\n",
      " [True True False ... 0 0 0]]\n"
     ]
    }
   ],
   "source": [
    "from notebooks.optimization_problems.link_budget_problem import LinkBudgetProblem\n",
    "from notebooks.optimization_problems.link_budget_problem_real_power import LinkBudgetProblemRealPower\n",
    "from notebooks.optimization_problems.design_vector import design_vector_default_scm, SystemParameters\n",
    "\n",
    "import multiprocessing\n",
    "from notebooks.optimization_problems.contact_problem import ContactProblem\n",
    "\n",
    "# the number of processes to be used\n",
    "n_proccess = 8\n",
    "pool = multiprocessing.Pool(n_proccess)\n",
    "\n",
    "sys_param = SystemParameters()\n",
    "sys_param.Ptx_dBm_list = np.arange(10, 40, 0.5).tolist()\n",
    "\n",
    "#problem = LinkBudgetProblem(instances_df, sys_param, parallelization = ('starmap', pool.starmap))\n",
    "problem = LinkBudgetProblem(instances_df, sys_param)\n",
    "problem = LinkBudgetProblemRealPower(instances_df, sys_param)\n",
    "#problem = LinkBudgetProblemRealPower(instances_df, sys_param, parallelization = ('starmap', pool.starmap))\n",
    "\n",
    "sampling, crossover, mutation = design_vector_default_scm(problem.x_length, problem.x_indices, real_power=True)\n",
    "\n",
    "converge_algo_settings = {'pop_size': 100, 'n_offsprings': 100}\n",
    "unconverge_algo_settings = {'pop_size': 100, 'n_offsprings': 20}\n",
    "\n",
    "converge_term_settings = {'f_tol': 0.0005, 'n_max_gen': 1000, 'n_max_evals': 80000}\n",
    "unconverge_term_settings =  {'f_tol': 0.005, 'n_max_gen': 100, 'n_max_evals': 2000}\n",
    "\n",
    "converge = False\n",
    "if converge:\n",
    "    algo_settings = converge_algo_settings\n",
    "    term_settings = converge_term_settings\n",
    "    postfix = '_converged'\n",
    "else:\n",
    "    algo_settings = unconverge_algo_settings\n",
    "    term_settings = unconverge_term_settings\n",
    "    postfix = '_unconverged'\n",
    "\n",
    "from pymoo.util.termination.default import MultiObjectiveDefaultTermination\n",
    "\n",
    "termination = MultiObjectiveDefaultTermination(\n",
    "    #x_tol=1e-8,\n",
    "    #cv_tol=1e-6,\n",
    "    f_tol=term_settings['f_tol'], #f_tol=0.005,\n",
    "    nth_gen=5,\n",
    "    n_last=30,\n",
    "    n_max_gen=term_settings['n_max_gen'], #n_max_gen=1000,\n",
    "    n_max_evals=term_settings['n_max_evals'], #n_max_evals=100000\n",
    ")\n",
    "\n",
    "from pymoo.algorithms.nsga2 import NSGA2\n",
    "\n",
    "algorithm = NSGA2(\n",
    "    pop_size=algo_settings['pop_size'],\n",
    "    n_offsprings=algo_settings['n_offsprings'],\n",
    "    sampling=sampling,\n",
    "    crossover=crossover,\n",
    "    mutation=mutation,\n",
    "    eliminate_duplicates=True,\n",
    ")\n",
    "\n",
    "res = minimize(problem,\n",
    "               algorithm,\n",
    "               termination=termination,\n",
    "               seed=1,\n",
    "               save_history=True,\n",
    "               verbose=True\n",
    "               )\n",
    "\n",
    "#res = minimize(problem, GA())\n",
    "pool.close()\n",
    "\n",
    "print('Processes:', res.exec_time)\n",
    "print(\"Best solution found: %s\" % res.X)"
   ],
   "metadata": {
    "collapsed": false,
    "pycharm": {
     "name": "#%%\n"
    }
   }
  },
  {
   "cell_type": "code",
   "execution_count": 28,
   "outputs": [
    {
     "data": {
      "text/plain": "<Figure size 339.84x198.72 with 2 Axes>",
      "image/png": "[encoded data removed]"
     },
     "metadata": {
      "needs_background": "light"
     },
     "output_type": "display_data"
    }
   ],
   "source": [
    "real_power = True\n",
    "\n",
    "from matplotlib.lines import Line2D\n",
    "import numpy as np\n",
    "import matplotlib.pyplot as plt\n",
    "from PlotUtil import apply_report_formatting, apply_report_formatting_single\n",
    "import matplotlib.colors as mcol\n",
    "import matplotlib.cm as cm\n",
    "\n",
    "isend_req = 10.69\n",
    "\n",
    "fig = plt.figure(figsize=(3.2, 2.4))\n",
    "\n",
    "ax = fig.add_subplot(1,1,1)\n",
    "ax.grid()\n",
    "ax.set_axisbelow(True)\n",
    "\n",
    "x_power = res.X[:, problem.x_indices['power']]\n",
    "x_power = x_power[:,0]\n",
    "\n",
    "f_energy = res.F[:,1]\n",
    "f_throughput = ((res.F[:,0] * -1) / 1e9)   # Gigabit\n",
    "\n",
    "cm1 = mcol.LinearSegmentedColormap.from_list(\"BlueRed\",[\"c\",\"r\"])\n",
    "\n",
    "if real_power:\n",
    "    Ptx_dBm_selected = x_power\n",
    "else:\n",
    "    Ptx_dBm_selected = list(map(sys_param.Ptx_dBm_list.__getitem__, x_power.tolist()))\n",
    "\n",
    "min_Ptx = min(Ptx_dBm_selected)\n",
    "max_Ptx = max(Ptx_dBm_selected)\n",
    "\n",
    "cnorm = mcol.Normalize(vmin=min_Ptx,vmax=max_Ptx)\n",
    "\n",
    "cpick = cm.ScalarMappable(norm=cnorm,cmap=cm1)\n",
    "cpick.set_array([])\n",
    "\n",
    "cc = cpick.to_rgba(Ptx_dBm_selected.tolist() if real_power else real_power.to_list())\n",
    "ax.scatter(f_energy, f_throughput, c=cc, marker='.', s=1)\n",
    "\n",
    "ax.set_xlabel(\"Energy used [J]\")\n",
    "ax.set_ylabel(\"Throughput [Gbit]\")\n",
    "cb = plt.colorbar(cpick,label=\"Power [dBm]\")\n",
    "cb.ax.tick_params(labelsize=8)\n",
    "cb.ax.yaxis.label.set_size(8)\n",
    "apply_report_formatting(4.72, 2.76)\n",
    "plt.tight_layout()\n",
    "plt.show()\n",
    "\n",
    "\n",
    "plt.savefig('D:/git/thesis_report_ae/figures/link_budget_pareto%s.pdf' % postfix)\n",
    "plt.savefig('D:/git/thesis_report_ae/figures/link_budget_pareto%s.svg' % postfix)\n",
    "plt.close()\n"
   ],
   "metadata": {
    "collapsed": false,
    "pycharm": {
     "name": "#%% Pareto fronts\n"
    }
   }
  },
  {
   "cell_type": "code",
   "execution_count": 29,
   "outputs": [
    {
     "data": {
      "text/plain": "<Figure size 230.4x172.8 with 1 Axes>",
      "image/png": "[encoded data removed]"
     },
     "metadata": {
      "needs_background": "light"
     },
     "output_type": "display_data"
    }
   ],
   "source": [
    "fig = plt.figure(figsize=(3.2, 2.4))\n",
    "\n",
    "import matplotlib.pyplot as plt\n",
    "from pymoo.performance_indicator.hv import Hypervolume\n",
    "\n",
    "# create the performance indicator object with reference point (4,4)\n",
    "metric = Hypervolume(ref_point=np.array([0,1e9]))\n",
    "\n",
    "# collect the population in each generation\n",
    "pop_each_gen = [a.pop for a in res.history]\n",
    "\n",
    "# receive the population in each generation\n",
    "obj_and_feasible_each_gen = [pop[pop.get(\"feasible\")[:,0]].get(\"F\") for pop in pop_each_gen]\n",
    "\n",
    "# calculate for each generation the HV metric\n",
    "hv = [metric.calc(f) for f in obj_and_feasible_each_gen]\n",
    "\n",
    "# function evaluations at each snapshot\n",
    "n_evals = np.array([a.evaluator.n_eval for a in res.history])\n",
    "\n",
    "# visualze the convergence curve\n",
    "plt.plot(n_evals, hv, '-o', markersize=3)\n",
    "plt.title(\"Convergence\")\n",
    "plt.xlabel(\"Function Evaluations\")\n",
    "plt.ylabel(\"Hypervolume\")\n",
    "plt.show()\n",
    "apply_report_formatting_single()\n",
    "plt.tight_layout()\n",
    "\n",
    "plt.savefig('D:/git/thesis_report_ae/figures/hypervolume%s.svg' % postfix)\n",
    "plt.savefig('D:/git/thesis_report_ae/figures/hypervolume%s.pgf' % postfix)\n",
    "plt.close()"
   ],
   "metadata": {
    "collapsed": false,
    "pycharm": {
     "name": "#%%\n"
    }
   }
  }
 ],
 "metadata": {
  "kernelspec": {
   "name": "pycharm-34b782de",
   "language": "python",
   "display_name": "PyCharm (hermes-simulator)"
  },
  "language_info": {
   "codemirror_mode": {
    "name": "ipython",
    "version": 2
   },
   "file_extension": ".py",
   "mimetype": "text/x-python",
   "name": "python",
   "nbconvert_exporter": "python",
   "pygments_lexer": "ipython2",
   "version": "2.7.6"
  }
 },
 "nbformat": 4,
 "nbformat_minor": 0
}