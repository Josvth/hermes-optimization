{
 "cells": [
  {
   "cell_type": "code",
   "execution_count": 1,
   "outputs": [],
   "source": [
    "import pandas as pd\n",
    "import numpy as np\n",
    "from pymoo.optimize import minimize\n",
    "\n",
    "#%matplotlib qt\n",
    "%load_ext autoreload\n",
    "\n",
    "%autoreload 2"
   ],
   "metadata": {
    "collapsed": false,
    "pycharm": {
     "name": "#%%\n"
    }
   }
  },
  {
   "cell_type": "code",
   "execution_count": 2,
   "outputs": [],
   "source": [
    "columns = ['strand_name', 'tof',\n",
    "           'r_a_x', 'r_a_y', 'r_a_z',\n",
    "           'v_a_x', 'v_a_y', 'v_a_z',\n",
    "           'r_b_x', 'r_b_y', 'r_b_z',\n",
    "           'd',\n",
    "           'r_ab_sff_x', 'r_ab_sff_y', 'r_ab_sff_z']\n",
    "\n",
    "file_path = \"example_data.h5\"\n",
    "\n",
    "row_limit = -1\n",
    "\n",
    "store_500km = pd.HDFStore(file_path)\n",
    "\n",
    "instances_500km_df = store_500km.select('contact_instances', 'columns = %s' % str(columns), stop = row_limit)\n",
    "\n",
    "# Sort by pass id\n",
    "instances_500km_df = instances_500km_df.sort_index(0)"
   ],
   "metadata": {
    "collapsed": false,
    "pycharm": {
     "name": "#%% Import data files from visibility analysis at 500 km\n"
    }
   }
  },
  {
   "cell_type": "code",
   "execution_count": 3,
   "outputs": [],
   "source": [
    "N_passes = 20\n",
    "\n",
    "instances_df = instances_500km_df.loc[0:N_passes,:]"
   ],
   "metadata": {
    "collapsed": false,
    "pycharm": {
     "name": "#%% Limit number of passes\n"
    }
   }
  },
  {
   "cell_type": "code",
   "execution_count": 11,
   "outputs": [
    {
     "name": "stdout",
     "output_type": "stream",
     "text": [
      "=====================================================================================\n",
      "n_gen |  n_eval |   cv (min)   |   cv (avg)   |  n_nds  |     eps      |  indicator  \n",
      "=====================================================================================\n",
      "    1 |     100 |  0.00000E+00 |  1.74390E+02 |       6 |            - |            -\n",
      "    2 |     120 |  0.00000E+00 |  1.33600E+02 |       6 |  0.036352289 |            f\n",
      "    3 |     140 |  0.00000E+00 |  1.03050E+02 |       7 |  0.044314625 |            f\n",
      "    4 |     160 |  0.00000E+00 |  7.63400E+01 |       7 |  0.00000E+00 |            f\n",
      "    5 |     180 |  0.00000E+00 |  5.17800E+01 |       7 |  0.00000E+00 |            f\n",
      "    6 |     200 |  0.00000E+00 |  2.74700E+01 |       9 |  0.028318041 |            f\n",
      "    7 |     220 |  0.00000E+00 |  1.86600E+01 |      12 |  0.042414528 |        ideal\n",
      "    8 |     240 |  0.00000E+00 |  8.990000000 |      13 |  0.001910662 |            f\n",
      "    9 |     260 |  0.00000E+00 |  0.360000000 |      15 |  0.086900958 |        ideal\n",
      "   10 |     280 |  0.00000E+00 |  0.240000000 |      15 |  0.015723270 |        ideal\n",
      "   11 |     300 |  0.00000E+00 |  0.100000000 |      13 |  0.018979797 |            f\n",
      "   12 |     320 |  0.00000E+00 |  0.00000E+00 |      15 |  0.003704320 |            f\n",
      "   13 |     340 |  0.00000E+00 |  0.00000E+00 |      17 |  0.004311020 |            f\n",
      "   14 |     360 |  0.00000E+00 |  0.00000E+00 |      17 |  0.006254200 |            f\n",
      "   15 |     380 |  0.00000E+00 |  0.00000E+00 |      22 |  0.038694075 |        ideal\n",
      "   16 |     400 |  0.00000E+00 |  0.00000E+00 |      24 |  0.028202115 |        ideal\n",
      "   17 |     420 |  0.00000E+00 |  0.00000E+00 |      26 |  0.001096667 |            f\n",
      "   18 |     440 |  0.00000E+00 |  0.00000E+00 |      28 |  0.003937100 |            f\n",
      "   19 |     460 |  0.00000E+00 |  0.00000E+00 |      30 |  0.001668765 |            f\n",
      "   20 |     480 |  0.00000E+00 |  0.00000E+00 |      29 |  0.001041736 |            f\n",
      "   21 |     500 |  0.00000E+00 |  0.00000E+00 |      26 |  0.004958903 |            f\n",
      "   22 |     520 |  0.00000E+00 |  0.00000E+00 |      27 |  0.000236571 |            f\n",
      "   23 |     540 |  0.00000E+00 |  0.00000E+00 |      28 |  0.000664484 |            f\n",
      "   24 |     560 |  0.00000E+00 |  0.00000E+00 |      30 |  0.001476603 |            f\n",
      "   25 |     580 |  0.00000E+00 |  0.00000E+00 |      29 |  0.000668865 |            f\n",
      "   26 |     600 |  0.00000E+00 |  0.00000E+00 |      32 |  0.002619627 |            f\n",
      "   27 |     620 |  0.00000E+00 |  0.00000E+00 |      32 |  0.004722550 |        nadir\n",
      "   28 |     640 |  0.00000E+00 |  0.00000E+00 |      32 |  0.000347859 |            f\n",
      "   29 |     660 |  0.00000E+00 |  0.00000E+00 |      34 |  0.000903704 |            f\n",
      "   30 |     680 |  0.00000E+00 |  0.00000E+00 |      35 |  0.015116279 |        ideal\n",
      "   31 |     700 |  0.00000E+00 |  0.00000E+00 |      38 |  0.003321615 |            f\n",
      "   32 |     720 |  0.00000E+00 |  0.00000E+00 |      40 |  0.002260766 |            f\n",
      "   33 |     740 |  0.00000E+00 |  0.00000E+00 |      42 |  0.000632299 |            f\n",
      "   34 |     760 |  0.00000E+00 |  0.00000E+00 |      45 |  0.001388074 |            f\n",
      "   35 |     780 |  0.00000E+00 |  0.00000E+00 |      43 |  0.001127202 |            f\n",
      "   36 |     800 |  0.00000E+00 |  0.00000E+00 |      40 |  0.003887462 |            f\n",
      "   37 |     820 |  0.00000E+00 |  0.00000E+00 |      39 |  0.004859488 |            f\n",
      "   38 |     840 |  0.00000E+00 |  0.00000E+00 |      45 |  0.013195640 |        ideal\n",
      "   39 |     860 |  0.00000E+00 |  0.00000E+00 |      46 |  0.000764676 |            f\n",
      "   40 |     880 |  0.00000E+00 |  0.00000E+00 |      48 |  0.000340158 |            f\n",
      "   41 |     900 |  0.00000E+00 |  0.00000E+00 |      50 |  0.001188620 |            f\n",
      "   42 |     920 |  0.00000E+00 |  0.00000E+00 |      52 |  0.006837607 |        ideal\n",
      "   43 |     940 |  0.00000E+00 |  0.00000E+00 |      53 |  0.000330955 |            f\n",
      "   44 |     960 |  0.00000E+00 |  0.00000E+00 |      55 |  0.002834458 |        ideal\n",
      "   45 |     980 |  0.00000E+00 |  0.00000E+00 |      52 |  0.001885287 |            f\n",
      "   46 |    1000 |  0.00000E+00 |  0.00000E+00 |      48 |  0.010520487 |        ideal\n",
      "   47 |    1020 |  0.00000E+00 |  0.00000E+00 |      47 |  0.000972474 |            f\n",
      "   48 |    1040 |  0.00000E+00 |  0.00000E+00 |      47 |  0.002396333 |            f\n",
      "   49 |    1060 |  0.00000E+00 |  0.00000E+00 |      50 |  0.000700975 |            f\n",
      "   50 |    1080 |  0.00000E+00 |  0.00000E+00 |      51 |  0.000631980 |            f\n",
      "   51 |    1100 |  0.00000E+00 |  0.00000E+00 |      50 |  0.002338604 |            f\n",
      "   52 |    1120 |  0.00000E+00 |  0.00000E+00 |      52 |  0.001285715 |            f\n",
      "   53 |    1140 |  0.00000E+00 |  0.00000E+00 |      48 |  0.002705832 |            f\n",
      "   54 |    1160 |  0.00000E+00 |  0.00000E+00 |      48 |  0.001015138 |            f\n",
      "   55 |    1180 |  0.00000E+00 |  0.00000E+00 |      50 |  0.001364753 |            f\n",
      "   56 |    1200 |  0.00000E+00 |  0.00000E+00 |      52 |  0.002130908 |            f\n",
      "   57 |    1220 |  0.00000E+00 |  0.00000E+00 |      54 |  0.000480242 |            f\n",
      "   58 |    1240 |  0.00000E+00 |  0.00000E+00 |      52 |  0.001393148 |            f\n",
      "   59 |    1260 |  0.00000E+00 |  0.00000E+00 |      53 |  0.001198148 |            f\n",
      "   60 |    1280 |  0.00000E+00 |  0.00000E+00 |      53 |  0.001284274 |            f\n",
      "   61 |    1300 |  0.00000E+00 |  0.00000E+00 |      54 |  0.001793126 |            f\n",
      "   62 |    1320 |  0.00000E+00 |  0.00000E+00 |      57 |  0.001090966 |            f\n",
      "   63 |    1340 |  0.00000E+00 |  0.00000E+00 |      58 |  0.000409017 |            f\n",
      "   64 |    1360 |  0.00000E+00 |  0.00000E+00 |      58 |  0.00000E+00 |            f\n",
      "   65 |    1380 |  0.00000E+00 |  0.00000E+00 |      59 |  0.000042083 |            f\n",
      "   66 |    1400 |  0.00000E+00 |  0.00000E+00 |      62 |  0.028509952 |        ideal\n",
      "   67 |    1420 |  0.00000E+00 |  0.00000E+00 |      63 |  0.000456942 |            f\n",
      "   68 |    1440 |  0.00000E+00 |  0.00000E+00 |      62 |  0.001030699 |            f\n",
      "   69 |    1460 |  0.00000E+00 |  0.00000E+00 |      65 |  0.000433203 |            f\n",
      "   70 |    1480 |  0.00000E+00 |  0.00000E+00 |      67 |  0.001691380 |            f\n",
      "   71 |    1500 |  0.00000E+00 |  0.00000E+00 |      70 |  0.000375397 |            f\n",
      "   72 |    1520 |  0.00000E+00 |  0.00000E+00 |      69 |  0.004374330 |        ideal\n",
      "   73 |    1540 |  0.00000E+00 |  0.00000E+00 |      70 |  0.000026094 |            f\n",
      "   74 |    1560 |  0.00000E+00 |  0.00000E+00 |      70 |  0.000120775 |            f\n",
      "   75 |    1580 |  0.00000E+00 |  0.00000E+00 |      72 |  0.000542044 |            f\n",
      "   76 |    1600 |  0.00000E+00 |  0.00000E+00 |      74 |  0.000358515 |            f\n",
      "   77 |    1620 |  0.00000E+00 |  0.00000E+00 |      77 |  0.015360169 |        ideal\n",
      "   78 |    1640 |  0.00000E+00 |  0.00000E+00 |      78 |  0.000378291 |            f\n",
      "   79 |    1660 |  0.00000E+00 |  0.00000E+00 |      78 |  0.000088185 |            f\n",
      "   80 |    1680 |  0.00000E+00 |  0.00000E+00 |      78 |  0.000100649 |            f\n",
      "   81 |    1700 |  0.00000E+00 |  0.00000E+00 |      80 |  0.000220381 |            f\n",
      "   82 |    1720 |  0.00000E+00 |  0.00000E+00 |      81 |  0.00000E+00 |            f\n",
      "   83 |    1740 |  0.00000E+00 |  0.00000E+00 |      85 |  0.000701183 |            f\n",
      "   84 |    1760 |  0.00000E+00 |  0.00000E+00 |      88 |  0.000205411 |            f\n",
      "   85 |    1780 |  0.00000E+00 |  0.00000E+00 |      85 |  0.033934574 |        nadir\n",
      "   86 |    1800 |  0.00000E+00 |  0.00000E+00 |      86 |  0.000040714 |            f\n",
      "   87 |    1820 |  0.00000E+00 |  0.00000E+00 |      88 |  0.000098391 |            f\n",
      "   88 |    1840 |  0.00000E+00 |  0.00000E+00 |      89 |  0.000349700 |            f\n",
      "   89 |    1860 |  0.00000E+00 |  0.00000E+00 |      90 |  0.000302734 |            f\n",
      "   90 |    1880 |  0.00000E+00 |  0.00000E+00 |      92 |  0.000154696 |            f\n",
      "   91 |    1900 |  0.00000E+00 |  0.00000E+00 |      91 |  0.092773339 |        nadir\n",
      "   92 |    1920 |  0.00000E+00 |  0.00000E+00 |      93 |  0.000227569 |            f\n",
      "   93 |    1940 |  0.00000E+00 |  0.00000E+00 |      91 |  0.000500174 |            f\n",
      "   94 |    1960 |  0.00000E+00 |  0.00000E+00 |      92 |  0.025283798 |        ideal\n",
      "   95 |    1980 |  0.00000E+00 |  0.00000E+00 |      93 |  0.000269740 |            f\n",
      "   96 |    2000 |  0.00000E+00 |  0.00000E+00 |      93 |  0.00000E+00 |            f\n",
      "Processes: 2.9822874069213867\n",
      "Best solution found: [[False False False ... 0 0 0]\n",
      " [False False False ... 0 0 0]\n",
      " [False False False ... 0 0 0]\n",
      " ...\n",
      " [True True False ... 0 0 0]\n",
      " [True True False ... 0 0 0]\n",
      " [True True False ... 0 0 0]]\n"
     ]
    },
    {
     "name": "stderr",
     "output_type": "stream",
     "text": [
      "C:\\git\\hermes-optimization\\cenv\\lib\\site-packages\\pymoo\\operators\\mutation\\polynomial_mutation.py:34: RuntimeWarning: invalid value encountered in true_divide\n",
      "  delta1 = (X - xl) / (xu - xl)\n",
      "C:\\git\\hermes-optimization\\cenv\\lib\\site-packages\\pymoo\\operators\\mutation\\polynomial_mutation.py:35: RuntimeWarning: invalid value encountered in true_divide\n",
      "  delta2 = (xu - X) / (xu - xl)\n"
     ]
    }
   ],
   "source": [
    "from notebooks.optimization_problems.link_budget_problem import LinkBudgetProblem\n",
    "from notebooks.optimization_problems.design_vector import design_vector_default_scm, SystemParameters\n",
    "\n",
    "import multiprocessing\n",
    "\n",
    "# the number of processes to be used\n",
    "n_proccess = 8\n",
    "pool = multiprocessing.Pool(n_proccess)\n",
    "\n",
    "sys_param = SystemParameters()\n",
    "problem = LinkBudgetProblem(instances_df, sys_param)\n",
    "#problem = LinkBudgetProblem(instances_df, sys_param, parallelization = ('starmap', pool.starmap))\n",
    "\n",
    "sampling, crossover, mutation = design_vector_default_scm(problem.x_length, problem.x_indices)\n",
    "\n",
    "converge_algo_settings = {'pop_size': 100, 'n_offsprings': 100}\n",
    "unconverge_algo_settings = {'pop_size': 100, 'n_offsprings': 20}\n",
    "\n",
    "converge_term_settings = {'f_tol': 0.005, 'n_max_gen': 1000, 'n_max_evals': 80000}\n",
    "unconverge_term_settings =  {'f_tol': 0.005, 'n_max_gen': 100, 'n_max_evals': 2000}\n",
    "\n",
    "converge = False\n",
    "if converge:\n",
    "    algo_settings = converge_algo_settings\n",
    "    term_settings = converge_term_settings\n",
    "    postfix = '_converged'\n",
    "else:\n",
    "    algo_settings = unconverge_algo_settings\n",
    "    term_settings = unconverge_term_settings\n",
    "    postfix = '_unconverged'\n",
    "\n",
    "from pymoo.util.termination.default import MultiObjectiveDefaultTermination\n",
    "\n",
    "termination = MultiObjectiveDefaultTermination(\n",
    "    #x_tol=1e-8,\n",
    "    #cv_tol=1e-6,\n",
    "    f_tol=term_settings['f_tol'], #f_tol=0.005,\n",
    "    nth_gen=5,\n",
    "    n_last=30,\n",
    "    n_max_gen=term_settings['n_max_gen'], #n_max_gen=1000,\n",
    "    n_max_evals=term_settings['n_max_evals'], #n_max_evals=100000\n",
    ")\n",
    "\n",
    "from pymoo.algorithms.nsga2 import NSGA2\n",
    "\n",
    "algorithm = NSGA2(\n",
    "    pop_size=algo_settings['pop_size'],\n",
    "    n_offsprings=algo_settings['n_offsprings'],\n",
    "    sampling=sampling,\n",
    "    crossover=crossover,\n",
    "    mutation=mutation,\n",
    "    eliminate_duplicates=True,\n",
    ")\n",
    "\n",
    "res = minimize(problem,\n",
    "               algorithm,\n",
    "               termination=termination,\n",
    "               seed=1,\n",
    "               save_history=True,\n",
    "               verbose=True\n",
    "               )\n",
    "\n",
    "#res = minimize(problem, GA())\n",
    "pool.close()\n",
    "\n",
    "print('Processes:', res.exec_time)\n",
    "print(\"Best solution found: %s\" % res.X)"
   ],
   "metadata": {
    "collapsed": false,
    "pycharm": {
     "name": "#%%\n"
    }
   }
  },
  {
   "cell_type": "code",
   "execution_count": 12,
   "outputs": [
    {
     "data": {
      "text/plain": "<Figure size 339.84x198.72 with 2 Axes>",
      "image/png": "[encoded data removed]"
     },
     "metadata": {
      "needs_background": "light"
     },
     "output_type": "display_data"
    }
   ],
   "source": [
    "real_power = True\n",
    "\n",
    "from matplotlib.lines import Line2D\n",
    "import numpy as np\n",
    "import matplotlib.pyplot as plt\n",
    "from PlotUtil import apply_report_formatting, apply_report_formatting_single\n",
    "import matplotlib.colors as mcol\n",
    "import matplotlib.cm as cm\n",
    "\n",
    "isend_req = 10.69\n",
    "\n",
    "fig = plt.figure(figsize=(3.2, 2.4))\n",
    "\n",
    "ax = fig.add_subplot(1,1,1)\n",
    "ax.grid()\n",
    "ax.set_axisbelow(True)\n",
    "\n",
    "x_power = res.X[:, problem.x_indices['power']]\n",
    "x_power = x_power[:,0]\n",
    "\n",
    "f_energy = res.F[:,1]\n",
    "f_throughput = ((res.F[:,0] * -1) / 1e9)   # Gigabit\n",
    "\n",
    "cm1 = mcol.LinearSegmentedColormap.from_list(\"BlueRed\",[\"c\",\"r\"])\n",
    "\n",
    "min_Ptx = min(x_power)\n",
    "max_Ptx = max(x_power)\n",
    "\n",
    "cnorm = mcol.Normalize(vmin=min_Ptx,vmax=max_Ptx)\n",
    "\n",
    "cpick = cm.ScalarMappable(norm=cnorm,cmap=cm1)\n",
    "cpick.set_array([])\n",
    "\n",
    "cc = cpick.to_rgba(x_power.tolist())\n",
    "ax.scatter(f_energy, f_throughput, c=cc, marker='.', s=1)\n",
    "\n",
    "ax.set_xlabel(\"Energy used [J]\")\n",
    "ax.set_ylabel(\"Throughput [Gbit]\")\n",
    "cb = plt.colorbar(cpick,label=\"Power [dBm]\")\n",
    "cb.ax.tick_params(labelsize=8)\n",
    "cb.ax.yaxis.label.set_size(8)\n",
    "apply_report_formatting(4.72, 2.76)\n",
    "plt.tight_layout()\n",
    "plt.show()\n",
    "\n",
    "\n",
    "plt.savefig('D:/git/thesis_report_ae/figures/link_budget_pareto%s.pdf' % postfix)\n",
    "plt.savefig('D:/git/thesis_report_ae/figures/link_budget_pareto%s.svg' % postfix)\n",
    "plt.close()\n"
   ],
   "metadata": {
    "collapsed": false,
    "pycharm": {
     "name": "#%% Pareto fronts\n"
    }
   }
  },
  {
   "cell_type": "code",
   "execution_count": 13,
   "outputs": [
    {
     "data": {
      "text/plain": "<Figure size 230.4x172.8 with 1 Axes>",
      "image/png": "[encoded data removed]"
     },
     "metadata": {
      "needs_background": "light"
     },
     "output_type": "display_data"
    }
   ],
   "source": [
    "fig = plt.figure(figsize=(3.2, 2.4))\n",
    "\n",
    "import matplotlib.pyplot as plt\n",
    "from pymoo.performance_indicator.hv import Hypervolume\n",
    "\n",
    "# create the performance indicator object with reference point (4,4)\n",
    "metric = Hypervolume(ref_point=np.array([0,1e9]))\n",
    "\n",
    "# collect the population in each generation\n",
    "pop_each_gen = [a.pop for a in res.history]\n",
    "\n",
    "# receive the population in each generation\n",
    "obj_and_feasible_each_gen = [pop[pop.get(\"feasible\")[:,0]].get(\"F\") for pop in pop_each_gen]\n",
    "\n",
    "# calculate for each generation the HV metric\n",
    "hv = [metric.calc(f) for f in obj_and_feasible_each_gen]\n",
    "\n",
    "# function evaluations at each snapshot\n",
    "n_evals = np.array([a.evaluator.n_eval for a in res.history])\n",
    "\n",
    "# visualze the convergence curve\n",
    "plt.plot(n_evals, hv, '-o', markersize=3)\n",
    "plt.title(\"Convergence\")\n",
    "plt.xlabel(\"Function Evaluations\")\n",
    "plt.ylabel(\"Hypervolume\")\n",
    "plt.show()\n",
    "apply_report_formatting_single()\n",
    "plt.tight_layout()\n",
    "\n",
    "plt.savefig('D:/git/thesis_report_ae/figures/hypervolume%s.svg' % postfix)\n",
    "plt.savefig('D:/git/thesis_report_ae/figures/hypervolume%s.pgf' % postfix)\n",
    "plt.close()"
   ],
   "metadata": {
    "collapsed": false,
    "pycharm": {
     "name": "#%%\n"
    }
   }
  }
 ],
 "metadata": {
  "kernelspec": {
   "name": "pycharm-34b782de",
   "language": "python",
   "display_name": "PyCharm (hermes-simulator)"
  },
  "language_info": {
   "codemirror_mode": {
    "name": "ipython",
    "version": 2
   },
   "file_extension": ".py",
   "mimetype": "text/x-python",
   "name": "python",
   "nbconvert_exporter": "python",
   "pygments_lexer": "ipython2",
   "version": "2.7.6"
  }
 },
 "nbformat": 4,
 "nbformat_minor": 0
}