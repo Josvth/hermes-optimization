{
 "cells": [
  {
   "cell_type": "code",
   "execution_count": null,
   "metadata": {},
   "outputs": [],
   "source": [
    "import matplotlib.pyplot as plt\n",
    "import matplotlib\n",
    "from notebooks.problems import LinkBudgetProblem\n",
    "\n",
    "matplotlib.use(\"pgf\")\n",
    "matplotlib.rcParams.update({\n",
    "    \"pgf.texsystem\": \"xelatex\",\n",
    "    'font.family': 'sans-serif',\n",
    "    'text.usetex': False,\n",
    "    'pgf.rcfonts': False\n",
    "})"
   ]
  },
  {
   "cell_type": "code",
   "execution_count": null,
   "outputs": [],
   "source": [
    "import pandas as pd\n",
    "from pymoo.algorithms.nsga2 import NSGA2\n",
    "from PlotUtil import apply_report_formatting, apply_report_formatting_single\n",
    "\n",
    "telesat_passes_df = pd.read_pickle('../Telesat_0_7day.pkl')\n",
    "\n",
    "N_passes = 20\n",
    "telesat_passes_df = telesat_passes_df[0:N_passes]"
   ],
   "metadata": {
    "collapsed": false,
    "pycharm": {
     "name": "#%%\n"
    }
   }
  },
  {
   "cell_type": "code",
   "execution_count": 243,
   "metadata": {
    "pycharm": {
     "name": "#%%\n"
    }
   },
   "outputs": [
    {
     "name": "stdout",
     "text": [
      "====================================================================================================\n",
      "n_gen |  n_eval |   cv (min)   |   cv (avg)   |  n_nds  | delta_ideal  | delta_nadir  |   delta_f   \n",
      "====================================================================================================\n",
      "    1 |     100 |  0.00000E+00 |  1.980000000 |       5 |            - |            - |            -\n",
      "    2 |     200 |  0.00000E+00 |  0.610000000 |       9 |  0.001017156 |  0.00000E+00 |  0.085202112\n",
      "    3 |     300 |  0.00000E+00 |  0.00000E+00 |      16 |  0.140073082 |  0.569400678 |  0.078788642\n",
      "    4 |     400 |  0.00000E+00 |  0.00000E+00 |      22 |  0.000108865 |  0.00000E+00 |  0.011455437\n",
      "    5 |     500 |  0.00000E+00 |  0.00000E+00 |      21 |  0.062250143 |  0.871763549 |  0.011862809\n",
      "    6 |     600 |  0.00000E+00 |  0.00000E+00 |      22 |  0.000281811 |  0.00000E+00 |  0.011417074\n",
      "    7 |     700 |  0.00000E+00 |  0.00000E+00 |      25 |  0.028301887 |  0.228218787 |  0.018027177\n",
      "    8 |     800 |  0.00000E+00 |  0.00000E+00 |      26 |  0.00000E+00 |  0.00000E+00 |  0.007501815\n",
      "    9 |     900 |  0.00000E+00 |  0.00000E+00 |      28 |  0.016912166 |  0.103075590 |  0.006337054\n",
      "   10 |    1000 |  0.00000E+00 |  0.00000E+00 |      30 |  0.003804348 |  0.646609389 |  0.024333349\n",
      "   11 |    1100 |  0.00000E+00 |  0.00000E+00 |      32 |  0.00000E+00 |  0.00000E+00 |  0.006036394\n",
      "   12 |    1200 |  0.00000E+00 |  0.00000E+00 |      35 |  0.025423729 |  0.944742552 |  0.012934673\n",
      "   13 |    1300 |  0.00000E+00 |  0.00000E+00 |      41 |  0.000529381 |  0.000529497 |  0.002351668\n",
      "   14 |    1400 |  0.00000E+00 |  0.00000E+00 |      42 |  0.025283798 |  0.511539472 |  0.013367600\n",
      "   15 |    1500 |  0.00000E+00 |  0.00000E+00 |      42 |  0.00000E+00 |  0.00000E+00 |  0.004287704\n",
      "   16 |    1600 |  0.00000E+00 |  0.00000E+00 |      43 |  0.015744033 |  0.239136587 |  0.008372161\n",
      "   17 |    1700 |  0.00000E+00 |  0.00000E+00 |      45 |  0.00000E+00 |  0.00000E+00 |  0.002784362\n",
      "   18 |    1800 |  0.00000E+00 |  0.00000E+00 |      48 |  0.00000E+00 |  0.00000E+00 |  0.003182289\n",
      "   19 |    1900 |  0.00000E+00 |  0.00000E+00 |      52 |  0.00000E+00 |  0.00000E+00 |  0.001152055\n",
      "   20 |    2000 |  0.00000E+00 |  0.00000E+00 |      50 |  0.00000E+00 |  0.00000E+00 |  0.003038091\n",
      "   21 |    2100 |  0.00000E+00 |  0.00000E+00 |      50 |  0.00000E+00 |  0.00000E+00 |  0.000978894\n",
      "   22 |    2200 |  0.00000E+00 |  0.00000E+00 |      45 |  0.00000E+00 |  0.00000E+00 |  0.002015978\n",
      "   23 |    2300 |  0.00000E+00 |  0.00000E+00 |      47 |  0.00000E+00 |  0.00000E+00 |  0.001944440\n",
      "   24 |    2400 |  0.00000E+00 |  0.00000E+00 |      45 |  0.00000E+00 |  1.512390617 |  0.002524701\n",
      "   25 |    2500 |  0.00000E+00 |  0.00000E+00 |      48 |  0.00000E+00 |  0.00000E+00 |  0.001482762\n",
      "   26 |    2600 |  0.00000E+00 |  0.00000E+00 |      50 |  0.00000E+00 |  0.00000E+00 |  0.001688822\n",
      "   27 |    2700 |  0.00000E+00 |  0.00000E+00 |      53 |  0.00000E+00 |  0.00000E+00 |  0.001502777\n",
      "   28 |    2800 |  0.00000E+00 |  0.00000E+00 |      53 |  0.00000E+00 |  0.00000E+00 |  0.00000E+00\n",
      "   29 |    2900 |  0.00000E+00 |  0.00000E+00 |      48 |  0.00000E+00 |  0.00000E+00 |  0.001664310\n",
      "   30 |    3000 |  0.00000E+00 |  0.00000E+00 |      46 |  0.018933732 |  0.305524424 |  0.007197430\n",
      "   31 |    3100 |  0.00000E+00 |  0.00000E+00 |      47 |  0.00000E+00 |  0.00000E+00 |  0.000838097\n",
      "   32 |    3200 |  0.00000E+00 |  0.00000E+00 |      47 |  0.00000E+00 |  0.00000E+00 |  0.001803397\n",
      "   33 |    3300 |  0.00000E+00 |  0.00000E+00 |      51 |  0.00000E+00 |  0.412663755 |  0.002330995\n",
      "   34 |    3400 |  0.00000E+00 |  0.00000E+00 |      51 |  0.000131310 |  0.00000E+00 |  0.000198389\n",
      "   35 |    3500 |  0.00000E+00 |  0.00000E+00 |      54 |  0.00000E+00 |  0.00000E+00 |  0.000521149\n",
      "   36 |    3600 |  0.00000E+00 |  0.00000E+00 |      53 |  0.00000E+00 |  0.00000E+00 |  0.000531300\n",
      "   37 |    3700 |  0.00000E+00 |  0.00000E+00 |      56 |  0.00000E+00 |  0.00000E+00 |  0.000785801\n",
      "   38 |    3800 |  0.00000E+00 |  0.00000E+00 |      57 |  0.00000E+00 |  0.00000E+00 |  0.000070261\n",
      "   39 |    3900 |  0.00000E+00 |  0.00000E+00 |      59 |  0.000018986 |  0.00000E+00 |  0.000378414\n",
      "   40 |    4000 |  0.00000E+00 |  0.00000E+00 |      59 |  0.00000E+00 |  0.00000E+00 |  0.000813697\n",
      "   41 |    4100 |  0.00000E+00 |  0.00000E+00 |      60 |  0.00000E+00 |  0.00000E+00 |  0.000851267\n",
      "   42 |    4200 |  0.00000E+00 |  0.00000E+00 |      61 |  0.00000E+00 |  0.00000E+00 |  0.000142321\n",
      "   43 |    4300 |  0.00000E+00 |  0.00000E+00 |      59 |  0.00000E+00 |  0.00000E+00 |  0.000244513\n",
      "   44 |    4400 |  0.00000E+00 |  0.00000E+00 |      61 |  0.00000E+00 |  0.00000E+00 |  0.000831911\n",
      "   45 |    4500 |  0.00000E+00 |  0.00000E+00 |      64 |  0.00000E+00 |  0.00000E+00 |  0.001062023\n",
      "   46 |    4600 |  0.00000E+00 |  0.00000E+00 |      61 |  0.00000E+00 |  0.00000E+00 |  0.000297310\n",
      "   47 |    4700 |  0.00000E+00 |  0.00000E+00 |      63 |  0.00000E+00 |  0.00000E+00 |  0.001021876\n",
      "   48 |    4800 |  0.00000E+00 |  0.00000E+00 |      65 |  0.00000E+00 |  0.00000E+00 |  0.000435492\n",
      "   49 |    4900 |  0.00000E+00 |  0.00000E+00 |      67 |  0.00000E+00 |  0.00000E+00 |  0.000375448\n",
      "   50 |    5000 |  0.00000E+00 |  0.00000E+00 |      68 |  0.00000E+00 |  0.00000E+00 |  0.000010363\n",
      "   51 |    5100 |  0.00000E+00 |  0.00000E+00 |      69 |  0.00000E+00 |  0.00000E+00 |  0.000322043\n",
      "   52 |    5200 |  0.00000E+00 |  0.00000E+00 |      70 |  0.00000E+00 |  0.00000E+00 |  0.000305588\n",
      "   53 |    5300 |  0.00000E+00 |  0.00000E+00 |      70 |  0.00000E+00 |  0.00000E+00 |  0.000195157\n",
      "   54 |    5400 |  0.00000E+00 |  0.00000E+00 |      72 |  0.000088400 |  0.00000E+00 |  0.000744483\n",
      "   55 |    5500 |  0.00000E+00 |  0.00000E+00 |      72 |  0.00000E+00 |  0.00000E+00 |  0.000139404\n",
      "   56 |    5600 |  0.00000E+00 |  0.00000E+00 |      74 |  0.00000E+00 |  0.00000E+00 |  0.000532125\n",
      "   57 |    5700 |  0.00000E+00 |  0.00000E+00 |      74 |  0.00000E+00 |  0.00000E+00 |  0.000346887\n",
      "   58 |    5800 |  0.00000E+00 |  0.00000E+00 |      71 |  0.00000E+00 |  0.00000E+00 |  0.000648920\n",
      "   59 |    5900 |  0.00000E+00 |  0.00000E+00 |      72 |  0.00000E+00 |  0.00000E+00 |  0.000104125\n",
      "   60 |    6000 |  0.00000E+00 |  0.00000E+00 |      72 |  0.00000E+00 |  0.00000E+00 |  0.000148321\n",
      "   61 |    6100 |  0.00000E+00 |  0.00000E+00 |      73 |  0.00000E+00 |  0.00000E+00 |  0.000283859\n",
      "   62 |    6200 |  0.00000E+00 |  0.00000E+00 |      76 |  0.00000E+00 |  0.00000E+00 |  0.000660180\n",
      "   63 |    6300 |  0.00000E+00 |  0.00000E+00 |      76 |  0.00000E+00 |  0.00000E+00 |  0.000143890\n",
      "   64 |    6400 |  0.00000E+00 |  0.00000E+00 |      76 |  0.00000E+00 |  0.00000E+00 |  0.00000E+00\n",
      "   65 |    6500 |  0.00000E+00 |  0.00000E+00 |      77 |  0.00000E+00 |  0.00000E+00 |  0.000129825\n",
      "Done\n"
     ],
     "output_type": "stream"
    }
   ],
   "source": [
    "import numpy as np\n",
    "\n",
    "from pymoo.optimize import minimize\n",
    "\n",
    "from pymoo.factory import get_sampling, get_crossover, get_mutation\n",
    "from pymoo.operators.mixed_variable_operator import MixedVariableSampling, MixedVariableMutation, MixedVariableCrossover\n",
    "\n",
    "mask = [\"bin\"] * N_passes + [\"int\"]\n",
    "\n",
    "sampling = MixedVariableSampling(mask, {\n",
    "    \"bin\" : get_sampling(\"bin_random\"), \n",
    "    \"int\" : get_sampling(\"int_random\")\n",
    "})\n",
    "\n",
    "crossover = MixedVariableCrossover(mask, {\n",
    "    \"bin\": get_crossover(\"bin_hux\"),\n",
    "    \"int\": get_crossover(\"int_sbx\", prob=1.0, eta=3.0)\n",
    "})\n",
    "\n",
    "mutation = MixedVariableMutation(mask, {\n",
    "    \"bin\": get_mutation(\"bin_bitflip\"),\n",
    "    \"int\": get_mutation(\"int_pm\", eta=3.0)\n",
    "})\n",
    "\n",
    "Ptx_dBm = np.arange(10, 40, 5)\n",
    "isend_req = 10.69\n",
    "\n",
    "problem = LinkBudgetProblem(telesat_passes_df, N_passes, \n",
    "                            fc = 30e9, \n",
    "                            Ptx_dBm=Ptx_dBm, \n",
    "                            Gtx_dB=20, \n",
    "                            GT=13.2, \n",
    "                            B=20e6, \n",
    "                            isend_req=isend_req, \n",
    "                            Rs=16e6, \n",
    "                            eta=2.6460120)\n",
    "\n",
    "converge_algo_settings = {'pop_size': 100, 'n_offsprings': 100}\n",
    "unconverge_algo_settings = {'pop_size': 100, 'n_offsprings': 20}\n",
    "\n",
    "converge_term_settings = {'f_tol': 0.005, 'n_max_gen': 1000, 'n_max_evals': 100000}\n",
    "unconverge_term_settings =  {'f_tol': 0.005, 'n_max_gen': 100, 'n_max_evals': 2000}\n",
    "\n",
    "converge = False\n",
    "if converge:\n",
    "    algo_settings = converge_algo_settings\n",
    "    term_settings = converge_term_settings\n",
    "    postfix = '_converged'\n",
    "else:\n",
    "    algo_settings = unconverge_algo_settings\n",
    "    term_settings = unconverge_term_settings\n",
    "    postfix = '_unconverged'\n",
    "\n",
    "algorithm = NSGA2(\n",
    "    pop_size=algo_settings['pop_size'],\n",
    "    n_offsprings=algo_settings['n_offsprings'],\n",
    "    sampling=sampling,\n",
    "    crossover=crossover,\n",
    "    mutation=mutation,\n",
    "    eliminate_duplicates=True,\n",
    ")\n",
    "\n",
    "\n",
    "from pymoo.util.termination.default import MultiObjectiveDefaultTermination\n",
    "\n",
    "termination = MultiObjectiveDefaultTermination(\n",
    "    #x_tol=1e-8,\n",
    "    #cv_tol=1e-6,\n",
    "    f_tol=term_settings['f_tol'], #f_tol=0.005,\n",
    "    nth_gen=5,\n",
    "    n_last=30,\n",
    "    n_max_gen=term_settings['n_max_gen'], #n_max_gen=1000,\n",
    "    n_max_evals=term_settings['n_max_evals'], #n_max_evals=100000\n",
    ")\n",
    "\n",
    "res = minimize(problem,\n",
    "               algorithm,\n",
    "               termination=termination,\n",
    "               seed=1,\n",
    "               save_history=True,\n",
    "               verbose=True\n",
    "               )\n",
    "\n",
    "print(\"Done\")"
   ]
  },
  {
   "cell_type": "code",
   "execution_count": 244,
   "outputs": [
    {
     "name": "stdout",
     "text": [
      "Pickled!\n"
     ],
     "output_type": "stream"
    }
   ],
   "source": [
    "import pickle\n",
    "res_dump = res\n",
    "# res_dump.problem = None\n",
    "# res_dump.algorithm = None\n",
    "# res_dump.history = None\n",
    "\n",
    "f = open(\"result%s\" % postfix, \"wb\")\n",
    "pickle.dump(res_dump, f)\n",
    "f.close()\n",
    "print('Pickled!')"
   ],
   "metadata": {
    "collapsed": false,
    "pycharm": {
     "name": "#%%\n"
    }
   }
  },
  {
   "cell_type": "code",
   "execution_count": 245,
   "outputs": [
    {
     "traceback": [
      "\u001B[1;31m---------------------------------------------------------------------------\u001B[0m",
      "\u001B[1;31mIndexError\u001B[0m                                Traceback (most recent call last)",
      "\u001B[1;32m<ipython-input-245-cb604ac78178>\u001B[0m in \u001B[0;36m<module>\u001B[1;34m\u001B[0m\n\u001B[0;32m     19\u001B[0m \u001B[0mcmap\u001B[0m \u001B[1;33m=\u001B[0m \u001B[0mnp\u001B[0m\u001B[1;33m.\u001B[0m\u001B[0marray\u001B[0m\u001B[1;33m(\u001B[0m\u001B[0mcmap\u001B[0m\u001B[1;33m.\u001B[0m\u001B[0mcolors\u001B[0m\u001B[1;33m)\u001B[0m\u001B[1;33m\u001B[0m\u001B[1;33m\u001B[0m\u001B[0m\n\u001B[0;32m     20\u001B[0m \u001B[1;33m\u001B[0m\u001B[0m\n\u001B[1;32m---> 21\u001B[1;33m \u001B[0mc\u001B[0m \u001B[1;33m=\u001B[0m \u001B[0mcmap\u001B[0m\u001B[1;33m[\u001B[0m\u001B[0mres\u001B[0m\u001B[1;33m.\u001B[0m\u001B[0mX\u001B[0m\u001B[1;33m[\u001B[0m\u001B[1;33m:\u001B[0m\u001B[1;33m,\u001B[0m\u001B[1;33m-\u001B[0m\u001B[1;36m1\u001B[0m\u001B[1;33m]\u001B[0m\u001B[1;33m.\u001B[0m\u001B[0mtolist\u001B[0m\u001B[1;33m(\u001B[0m\u001B[1;33m)\u001B[0m\u001B[1;33m,\u001B[0m\u001B[1;33m:\u001B[0m\u001B[1;33m]\u001B[0m\u001B[1;33m\u001B[0m\u001B[1;33m\u001B[0m\u001B[0m\n\u001B[0m\u001B[0;32m     22\u001B[0m \u001B[0max\u001B[0m\u001B[1;33m.\u001B[0m\u001B[0mscatter\u001B[0m\u001B[1;33m(\u001B[0m\u001B[0mx\u001B[0m\u001B[1;33m,\u001B[0m \u001B[0my\u001B[0m\u001B[1;33m,\u001B[0m \u001B[0mc\u001B[0m\u001B[1;33m=\u001B[0m\u001B[0mc\u001B[0m\u001B[1;33m,\u001B[0m \u001B[0mmarker\u001B[0m\u001B[1;33m=\u001B[0m\u001B[1;34m'.'\u001B[0m\u001B[1;33m,\u001B[0m \u001B[0ms\u001B[0m\u001B[1;33m=\u001B[0m\u001B[1;36m1\u001B[0m\u001B[1;33m)\u001B[0m\u001B[1;33m\u001B[0m\u001B[1;33m\u001B[0m\u001B[0m\n\u001B[0;32m     23\u001B[0m \u001B[1;33m\u001B[0m\u001B[0m\n",
      "\u001B[1;31mIndexError\u001B[0m: index 40 is out of bounds for axis 0 with size 10"
     ],
     "ename": "IndexError",
     "evalue": "index 40 is out of bounds for axis 0 with size 10",
     "output_type": "error"
    },
    {
     "data": {
      "text/plain": "<Figure size 230.4x172.8 with 1 Axes>",
      "image/png": "[encoded data removed]"
     },
     "metadata": {
      "needs_background": "light"
     },
     "output_type": "display_data"
    }
   ],
   "source": [
    "# Pareto fronts\n",
    "from matplotlib.lines import Line2D \n",
    "import numpy as np\n",
    "import matplotlib.pyplot as plt\n",
    "from PlotUtil import apply_report_formatting, apply_report_formatting_single\n",
    "\n",
    "Ptx_dBm = np.arange(10, 40, 5)\n",
    "isend_req = 10.69\n",
    "\n",
    "fig = plt.figure(figsize=(3.2, 2.4))\n",
    "\n",
    "ax = fig.add_subplot(1,1,1)\n",
    "ax.grid()\n",
    "ax.set_axisbelow(True)\n",
    "x = res.F[:,1]\n",
    "y = ((res.F[:,0] * -1) / 1e9)   # Gigabit\n",
    "\n",
    "cmap = plt.get_cmap('tab10')\n",
    "cmap = np.array(cmap.colors)\n",
    "\n",
    "c = cmap[res.X[:,-1].tolist(),:]\n",
    "ax.scatter(x, y, c=c, marker='.', s=1)\n",
    "\n",
    "leg_lines = [Line2D([0], [0], color=cmap[i, :], lw=1) for i in np.unique(res.X[:,-1])]\n",
    "leg_label = [\"%.0f dBm\" % Ptx_dBm[i] for i in np.unique(res.X[:,-1])]\n",
    "\n",
    "ax.legend(leg_lines, leg_label, loc=4)\n",
    "\n",
    "ax.set_xlabel(\"Energy used [J]\")\n",
    "ax.set_ylabel(\"Throughput [Gb]\")\n",
    "apply_report_formatting()\n",
    "plt.tight_layout()\n",
    "plt.show()\n",
    "\n",
    "plt.savefig('D:/git/thesis_report_ae/figures/link_budget_pareto%s.pgf' % postfix)\n",
    "plt.savefig('D:/git/thesis_report_ae/figures/link_budget_pareto%s.svg' % postfix)\n",
    "plt.close()\n"
   ],
   "metadata": {
    "collapsed": false,
    "pycharm": {
     "name": "#%% \n"
    }
   }
  },
  {
   "cell_type": "code",
   "execution_count": null,
   "outputs": [],
   "source": [
    "fig = plt.figure(figsize=(3.2, 2.4))\n",
    "\n",
    "import matplotlib.pyplot as plt\n",
    "from pymoo.performance_indicator.hv import Hypervolume\n",
    "\n",
    "# create the performance indicator object with reference point (4,4)\n",
    "metric = Hypervolume(ref_point=np.array([0,1e9]))\n",
    "\n",
    "# collect the population in each generation\n",
    "pop_each_gen = [a.pop for a in res.history]\n",
    "\n",
    "# receive the population in each generation\n",
    "obj_and_feasible_each_gen = [pop[pop.get(\"feasible\")[:,0]].get(\"F\") for pop in pop_each_gen]\n",
    "\n",
    "# calculate for each generation the HV metric\n",
    "hv = [metric.calc(f) for f in obj_and_feasible_each_gen]\n",
    "\n",
    "# function evaluations at each snapshot\n",
    "n_evals = np.array([a.evaluator.n_eval for a in res.history])\n",
    "\n",
    "# visualze the convergence curve\n",
    "plt.plot(n_evals, hv, '-o', markersize=3)\n",
    "plt.title(\"Convergence\")\n",
    "plt.xlabel(\"Function Evaluations\")\n",
    "plt.ylabel(\"Hypervolume\")\n",
    "plt.show()\n",
    "apply_report_formatting()\n",
    "plt.tight_layout()\n",
    "\n",
    "plt.savefig('D:/git/thesis_report_ae/figures/hypervolume%s.svg' % postfix)\n",
    "plt.savefig('D:/git/thesis_report_ae/figures/hypervolume%s.pgf' % postfix)\n",
    "plt.close()"
   ],
   "metadata": {
    "collapsed": false,
    "pycharm": {
     "name": "#%%\n"
    }
   }
  },
  {
   "cell_type": "code",
   "execution_count": null,
   "outputs": [],
   "source": [
    "# Pareto fronts\n",
    "from matplotlib.lines import Line2D\n",
    "import numpy as np\n",
    "import matplotlib.pyplot as plt\n",
    "from PlotUtil import apply_report_formatting, apply_report_formatting_single\n",
    "import matplotlib.colors as mcol\n",
    "import matplotlib.cm as cm\n",
    "\n",
    "isend_req = 10.69\n",
    "\n",
    "fig = plt.figure(figsize=(3.2, 2.4))\n",
    "\n",
    "ax = fig.add_subplot(1,1,1)\n",
    "ax.grid()\n",
    "ax.set_axisbelow(True)\n",
    "x = res.F[:,1]\n",
    "y = ((res.F[:,0] * -1) / 1e9)   # Gigabit\n",
    "\n",
    "cm1 = mcol.LinearSegmentedColormap.from_list(\"BlueRed\",[\"c\",\"r\"])\n",
    "min_Ptx = min(Ptx_dBm[res.X[:,-1].tolist()])\n",
    "max_Ptx = max(Ptx_dBm[res.X[1:,-1].tolist()])\n",
    "cnorm = mcol.Normalize(vmin=min_Ptx,vmax=max_Ptx)\n",
    "cpick = cm.ScalarMappable(norm=cnorm,cmap=cm1)\n",
    "cpick.set_array([])\n",
    "\n",
    "cc = cpick.to_rgba(Ptx_dBm[res.X[:,-1].tolist()])\n",
    "ax.scatter(x, y, c=cc, marker='.', s=1)\n",
    "\n",
    "ax.set_xlabel(\"Energy used [J]\")\n",
    "ax.set_ylabel(\"Throughput [Gbit]\")\n",
    "cb = plt.colorbar(cpick,label=\"Power [dBm]\")\n",
    "cb.ax.tick_params(labelsize=8)\n",
    "cb.ax.yaxis.label.set_size(8)\n",
    "apply_report_formatting(4.72, 2.76)\n",
    "plt.tight_layout()\n",
    "plt.show()\n",
    "\n",
    "\n",
    "plt.savefig('D:/git/thesis_report_ae/figures/link_budget_pareto%s.pdf' % postfix)\n",
    "plt.savefig('D:/git/thesis_report_ae/figures/link_budget_pareto%s.svg' % postfix)\n",
    "plt.close()\n"
   ],
   "metadata": {
    "collapsed": false,
    "pycharm": {
     "name": "#%%\n"
    }
   }
  },
  {
   "cell_type": "code",
   "execution_count": null,
   "outputs": [],
   "source": [
    "fig = plt.figure(figsize=(3.2, 2.4))\n",
    "\n",
    "import matplotlib.pyplot as plt\n",
    "from pymoo.performance_indicator.hv import Hypervolume\n",
    "\n",
    "# create the performance indicator object with reference point (4,4)\n",
    "metric = Hypervolume(ref_point=np.array([0,1e9]))\n",
    "\n",
    "# collect the population in each generation\n",
    "pop_each_gen = [a.pop for a in res.history]\n",
    "\n",
    "# receive the population in each generation\n",
    "obj_and_feasible_each_gen = [pop[pop.get(\"feasible\")[:,0]].get(\"F\") for pop in pop_each_gen]\n",
    "\n",
    "# calculate for each generation the HV metric\n",
    "hv = [metric.calc(f) for f in obj_and_feasible_each_gen]\n",
    "\n",
    "# function evaluations at each snapshot\n",
    "n_evals = np.array([a.evaluator.n_eval for a in res.history])\n",
    "\n",
    "# visualze the convergence curve\n",
    "plt.plot(n_evals, hv, '-o', markersize=3)\n",
    "plt.title(\"Convergence\")\n",
    "plt.xlabel(\"Function Evaluations\")\n",
    "plt.ylabel(\"Hypervolume\")\n",
    "plt.show()\n",
    "apply_report_formatting_single()\n",
    "plt.tight_layout()\n",
    "\n",
    "plt.savefig('D:/git/thesis_report_ae/figures/hypervolume%s.svg' % postfix)\n",
    "plt.savefig('D:/git/thesis_report_ae/figures/hypervolume%s.pgf' % postfix)\n",
    "plt.close()"
   ],
   "metadata": {
    "collapsed": false,
    "pycharm": {
     "name": "#%%\n"
    }
   }
  }
 ],
 "metadata": {
  "kernelspec": {
   "display_name": "Python 3",
   "language": "python",
   "name": "python3"
  },
  "language_info": {
   "codemirror_mode": {
    "name": "ipython",
    "version": 3
   },
   "file_extension": ".py",
   "mimetype": "text/x-python",
   "name": "python",
   "nbconvert_exporter": "python",
   "pygments_lexer": "ipython3",
   "version": "3.7.6"
  }
 },
 "nbformat": 4,
 "nbformat_minor": 1
}