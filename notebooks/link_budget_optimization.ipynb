{
 "cells": [
  {
   "cell_type": "code",
   "execution_count": 68,
   "outputs": [
    {
     "name": "stdout",
     "output_type": "stream",
     "text": [
      "The autoreload extension is already loaded. To reload it, use:\n",
      "  %reload_ext autoreload\n"
     ]
    }
   ],
   "source": [
    "import pandas as pd\n",
    "import numpy as np\n",
    "from pymoo.optimize import minimize\n",
    "\n",
    "#%matplotlib qt\n",
    "import PlotUtil\n",
    "%load_ext autoreload\n",
    "\n",
    "%autoreload 2"
   ],
   "metadata": {
    "collapsed": false,
    "pycharm": {
     "name": "#%%\n"
    }
   }
  },
  {
   "cell_type": "code",
   "execution_count": 69,
   "outputs": [],
   "source": [
    "columns = ['strand_name', 'tof',\n",
    "           'r_a_x', 'r_a_y', 'r_a_z',\n",
    "           'v_a_x', 'v_a_y', 'v_a_z',\n",
    "           'r_b_x', 'r_b_y', 'r_b_z',\n",
    "           'd',\n",
    "           'r_ab_sff_x', 'r_ab_sff_y', 'r_ab_sff_z']\n",
    "\n",
    "file_path = \"example_data.h5\"\n",
    "\n",
    "row_limit = -1\n",
    "\n",
    "store_500km = pd.HDFStore(file_path)\n",
    "\n",
    "instances_500km_df = store_500km.select('contact_instances', 'columns = %s' % str(columns), stop = row_limit)\n",
    "\n",
    "# Sort by pass id\n",
    "instances_500km_df = instances_500km_df.sort_index(0)"
   ],
   "metadata": {
    "collapsed": false,
    "pycharm": {
     "name": "#%% Import data files from visibility analysis at 500 km\n"
    }
   }
  },
  {
   "cell_type": "code",
   "execution_count": 70,
   "outputs": [],
   "source": [
    "N_passes = 20\n",
    "\n",
    "instances_df = instances_500km_df.loc[0:N_passes,:]"
   ],
   "metadata": {
    "collapsed": false,
    "pycharm": {
     "name": "#%% Limit number of passes\n"
    }
   }
  },
  {
   "cell_type": "code",
   "execution_count": 88,
   "outputs": [
    {
     "name": "stderr",
     "output_type": "stream",
     "text": [
      "C:\\git\\hermes-optimization\\cenv\\lib\\site-packages\\pymoo\\operators\\mutation\\polynomial_mutation.py:34: RuntimeWarning: invalid value encountered in true_divide\n",
      "  delta1 = (X - xl) / (xu - xl)\n",
      "C:\\git\\hermes-optimization\\cenv\\lib\\site-packages\\pymoo\\operators\\mutation\\polynomial_mutation.py:35: RuntimeWarning: invalid value encountered in true_divide\n",
      "  delta2 = (xu - X) / (xu - xl)\n"
     ]
    },
    {
     "name": "stdout",
     "output_type": "stream",
     "text": [
      "Processes: 3.0729174613952637\n",
      "Best solution found: [[False True False ... 0 0 0]\n",
      " [True True False ... 0 0 0]\n",
      " [False True False ... 0 0 0]\n",
      " ...\n",
      " [True True False ... 0 0 0]\n",
      " [False True False ... 0 0 0]\n",
      " [True True False ... 0 0 0]]\n"
     ]
    }
   ],
   "source": [
    "from notebooks.optimization_problems.link_budget_problem import LinkBudgetProblem\n",
    "from notebooks.optimization_problems.design_vector import design_vector_default_scm, SystemParameters\n",
    "\n",
    "import multiprocessing\n",
    "\n",
    "# the number of processes to be used\n",
    "n_proccess = 8\n",
    "pool = multiprocessing.Pool(n_proccess)\n",
    "\n",
    "sys_param = SystemParameters()\n",
    "problem = LinkBudgetProblem(instances_df, sys_param)\n",
    "#problem = LinkBudgetProblem(instances_df, sys_param, parallelization = ('starmap', pool.starmap))\n",
    "\n",
    "sampling, crossover, mutation = design_vector_default_scm(problem.x_length, problem.x_indices)\n",
    "\n",
    "converge_algo_settings = {'pop_size': 100, 'n_offsprings': 100}\n",
    "unconverge_algo_settings = {'pop_size': 100, 'n_offsprings': 20}\n",
    "\n",
    "converge_term_settings = {'f_tol': 0.005, 'n_max_gen': 1000, 'n_max_evals': 10000}\n",
    "unconverge_term_settings =  {'f_tol': 0.005, 'n_max_gen': 100, 'n_max_evals': 2000}\n",
    "\n",
    "converge = False\n",
    "if converge:\n",
    "    algo_settings = converge_algo_settings\n",
    "    term_settings = converge_term_settings\n",
    "    postfix = '_converged'\n",
    "else:\n",
    "    algo_settings = unconverge_algo_settings\n",
    "    term_settings = unconverge_term_settings\n",
    "    postfix = '_unconverged'\n",
    "\n",
    "from pymoo.util.termination.default import MultiObjectiveDefaultTermination\n",
    "\n",
    "termination = MultiObjectiveDefaultTermination(\n",
    "    #x_tol=1e-8,\n",
    "    #cv_tol=1e-6,\n",
    "    f_tol=term_settings['f_tol'], #f_tol=0.005,\n",
    "    nth_gen=5,\n",
    "    n_last=30,\n",
    "    n_max_gen=term_settings['n_max_gen'], #n_max_gen=1000,\n",
    "    n_max_evals=term_settings['n_max_evals'], #n_max_evals=100000\n",
    ")\n",
    "\n",
    "from pymoo.algorithms.nsga2 import NSGA2\n",
    "\n",
    "algorithm = NSGA2(\n",
    "    pop_size=algo_settings['pop_size'],\n",
    "    n_offsprings=algo_settings['n_offsprings'],\n",
    "    sampling=sampling,\n",
    "    crossover=crossover,\n",
    "    mutation=mutation,\n",
    "    eliminate_duplicates=True,\n",
    ")\n",
    "\n",
    "res = minimize(problem,\n",
    "               algorithm,\n",
    "               termination=termination,\n",
    "               seed=1,\n",
    "               save_history=True,\n",
    "               #verbose=True\n",
    "               )\n",
    "\n",
    "#res = minimize(problem, GA())\n",
    "pool.close()\n",
    "\n",
    "print('Processes:', res.exec_time)\n",
    "print(\"Best solution found: %s\" % res.X)"
   ],
   "metadata": {
    "collapsed": false,
    "pycharm": {
     "name": "#%%\n"
    }
   }
  },
  {
   "cell_type": "code",
   "execution_count": 89,
   "outputs": [
    {
     "data": {
      "text/plain": "<Figure size 339.84x198.72 with 2 Axes>",
      "image/png": "[encoded data removed]"
     },
     "metadata": {
      "needs_background": "light"
     },
     "output_type": "display_data"
    }
   ],
   "source": [
    "real_power = True\n",
    "\n",
    "from matplotlib.lines import Line2D\n",
    "import numpy as np\n",
    "import matplotlib.pyplot as plt\n",
    "from PlotUtil import apply_report_formatting, apply_report_formatting_single\n",
    "import matplotlib.colors as mcol\n",
    "import matplotlib.cm as cm\n",
    "\n",
    "isend_req = 10.69\n",
    "\n",
    "fig = plt.figure(figsize=(3.2, 2.4))\n",
    "\n",
    "ax = fig.add_subplot(1,1,1)\n",
    "ax.grid()\n",
    "ax.set_axisbelow(True)\n",
    "\n",
    "x_power = res.X[:, problem.x_indices['power']]\n",
    "x_power = x_power[:,0]\n",
    "\n",
    "f_energy = res.F[:,1]\n",
    "f_throughput = ((res.F[:,0] * -1) / 1e9)   # Gigabit\n",
    "\n",
    "cm1 = mcol.LinearSegmentedColormap.from_list(\"BlueRed\",[\"c\",\"r\"])\n",
    "\n",
    "min_Ptx = min(x_power)\n",
    "max_Ptx = max(x_power)\n",
    "\n",
    "cnorm = mcol.Normalize(vmin=min_Ptx,vmax=max_Ptx)\n",
    "\n",
    "cpick = cm.ScalarMappable(norm=cnorm,cmap=cm1)\n",
    "cpick.set_array([])\n",
    "\n",
    "cc = cpick.to_rgba(x_power.tolist())\n",
    "ax.scatter(f_energy, f_throughput, c=cc, marker='.', s=1)\n",
    "\n",
    "ax.set_xlabel(\"Energy used [J]\")\n",
    "ax.set_ylabel(\"Throughput [Gbit]\")\n",
    "cb = plt.colorbar(cpick,label=\"Power [dBm]\")\n",
    "cb.ax.tick_params(labelsize=8)\n",
    "cb.ax.yaxis.label.set_size(8)\n",
    "apply_report_formatting(4.72, 2.76)\n",
    "plt.tight_layout()\n",
    "\n",
    "fig.savefig('D:/git/thesis_report_ae/figures/link_budget_pareto%s.pdf' % postfix)\n",
    "#plt.savefig('D:/git/thesis_report_ae/figures/link_budget_pareto%s.svg' % postfix)\n",
    "plt.show()\n",
    "plt.close()"
   ],
   "metadata": {
    "collapsed": false,
    "pycharm": {
     "name": "#%% Pareto fronts\n"
    }
   }
  },
  {
   "cell_type": "code",
   "execution_count": 73,
   "outputs": [
    {
     "data": {
      "text/plain": "<Figure size 230.4x172.8 with 1 Axes>",
      "image/png": "[encoded data removed]"
     },
     "metadata": {
      "needs_background": "light"
     },
     "output_type": "display_data"
    }
   ],
   "source": [
    "fig = plt.figure(figsize=(3.2, 2.4))\n",
    "\n",
    "import matplotlib.pyplot as plt\n",
    "from pymoo.performance_indicator.hv import Hypervolume\n",
    "\n",
    "# create the performance indicator object with reference point (4,4)\n",
    "metric = Hypervolume(ref_point=np.array([0,1e9]))\n",
    "\n",
    "# collect the population in each generation\n",
    "pop_each_gen = [a.pop for a in res.history]\n",
    "\n",
    "# receive the population in each generation\n",
    "obj_and_feasible_each_gen = [pop[pop.get(\"feasible\")[:,0]].get(\"F\") for pop in pop_each_gen]\n",
    "\n",
    "# calculate for each generation the HV metric\n",
    "hv = [metric.calc(f) for f in obj_and_feasible_each_gen]\n",
    "\n",
    "# function evaluations at each snapshot\n",
    "n_evals = np.array([a.evaluator.n_eval for a in res.history])\n",
    "\n",
    "# visualze the convergence curve\n",
    "plt.plot(n_evals, hv, '-o', markersize=3)\n",
    "plt.title(\"Convergence\")\n",
    "plt.xlabel(\"Function Evaluations\")\n",
    "plt.ylabel(\"Hypervolume\")\n",
    "PlotUtil.apply_report_formatting()\n",
    "plt.tight_layout()\n",
    "plt.grid()\n",
    "#plt.savefig('D:/git/thesis_report_ae/figures/link_budget_hypervolume%s.svg' % postfix)\n",
    "fig.savefig('D:/git/thesis_report_ae/figures/link_budget_hypervolume%s.pdf' % postfix)\n",
    "plt.show()\n",
    "plt.close()\n"
   ],
   "metadata": {
    "collapsed": false,
    "pycharm": {
     "name": "#%%\n"
    }
   }
  }
 ],
 "metadata": {
  "kernelspec": {
   "name": "pycharm-34b782de",
   "language": "python",
   "display_name": "PyCharm (hermes-simulator)"
  },
  "language_info": {
   "codemirror_mode": {
    "name": "ipython",
    "version": 3
   },
   "file_extension": ".py",
   "mimetype": "text/x-python",
   "name": "python",
   "nbconvert_exporter": "python",
   "pygments_lexer": "ipython3",
   "version": "3.7.6"
  }
 },
 "nbformat": 4,
 "nbformat_minor": 1
}