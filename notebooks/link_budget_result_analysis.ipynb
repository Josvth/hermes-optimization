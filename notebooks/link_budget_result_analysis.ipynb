{
 "cells": [
  {
   "cell_type": "code",
   "execution_count": 1,
   "metadata": {
    "collapsed": true,
    "pycharm": {
     "is_executing": false
    }
   },
   "outputs": [],
   "source": [
    "import pickle\n",
    "import pandas as pd\n",
    "\n",
    "f = open(\"result_converged\", \"rb\")\n",
    "res = pickle.load(f)\n",
    "f.close()\n",
    "\n",
    "telesat_passes_df = pd.read_pickle('../Telesat_0_7day.pkl')\n",
    "\n",
    "N_passes = 20\n",
    "telesat_passes_df = telesat_passes_df[0:N_passes]"
   ]
  },
  {
   "cell_type": "code",
   "execution_count": 2,
   "outputs": [
    {
     "traceback": [
      "\u001b[1;31m---------------------------------------------------------------------------\u001b[0m",
      "\u001b[1;31mIndexError\u001b[0m                                Traceback (most recent call last)",
      "\u001b[1;32m<ipython-input-2-4a0d5340d206>\u001b[0m in \u001b[0;36m<module>\u001b[1;34m\u001b[0m\n\u001b[0;32m     26\u001b[0m \u001b[0mcmap\u001b[0m \u001b[1;33m=\u001b[0m \u001b[0mnp\u001b[0m\u001b[1;33m.\u001b[0m\u001b[0marray\u001b[0m\u001b[1;33m(\u001b[0m\u001b[0mcmap\u001b[0m\u001b[1;33m.\u001b[0m\u001b[0mcolors\u001b[0m\u001b[1;33m)\u001b[0m\u001b[1;33m\u001b[0m\u001b[1;33m\u001b[0m\u001b[0m\n\u001b[0;32m     27\u001b[0m \u001b[1;33m\u001b[0m\u001b[0m\n\u001b[1;32m---> 28\u001b[1;33m \u001b[0mc\u001b[0m \u001b[1;33m=\u001b[0m \u001b[0mcmap\u001b[0m\u001b[1;33m[\u001b[0m\u001b[0mres\u001b[0m\u001b[1;33m.\u001b[0m\u001b[0mX\u001b[0m\u001b[1;33m[\u001b[0m\u001b[1;33m:\u001b[0m\u001b[1;33m,\u001b[0m\u001b[1;33m-\u001b[0m\u001b[1;36m1\u001b[0m\u001b[1;33m]\u001b[0m\u001b[1;33m.\u001b[0m\u001b[0mtolist\u001b[0m\u001b[1;33m(\u001b[0m\u001b[1;33m)\u001b[0m\u001b[1;33m,\u001b[0m\u001b[1;33m:\u001b[0m\u001b[1;33m]\u001b[0m\u001b[1;33m\u001b[0m\u001b[1;33m\u001b[0m\u001b[0m\n\u001b[0m\u001b[0;32m     29\u001b[0m \u001b[0max\u001b[0m\u001b[1;33m.\u001b[0m\u001b[0mscatter\u001b[0m\u001b[1;33m(\u001b[0m\u001b[0mx\u001b[0m\u001b[1;33m,\u001b[0m \u001b[0my\u001b[0m\u001b[1;33m,\u001b[0m \u001b[0mc\u001b[0m\u001b[1;33m=\u001b[0m\u001b[0mc\u001b[0m\u001b[1;33m,\u001b[0m \u001b[0mmarker\u001b[0m\u001b[1;33m=\u001b[0m\u001b[1;34m'.'\u001b[0m\u001b[1;33m,\u001b[0m \u001b[0ms\u001b[0m\u001b[1;33m=\u001b[0m\u001b[1;36m1\u001b[0m\u001b[1;33m)\u001b[0m\u001b[1;33m\u001b[0m\u001b[1;33m\u001b[0m\u001b[0m\n\u001b[0;32m     30\u001b[0m \u001b[1;33m\u001b[0m\u001b[0m\n",
      "\u001b[1;31mIndexError\u001b[0m: index 40 is out of bounds for axis 0 with size 10"
     ],
     "ename": "IndexError",
     "evalue": "index 40 is out of bounds for axis 0 with size 10",
     "output_type": "error"
    }
   ],
   "source": [
    "from matplotlib.lines import Line2D \n",
    "import numpy as np\n",
    "import matplotlib.pyplot as plt\n",
    "from PlotUtil import apply_report_formatting, apply_report_formatting_single\n",
    "import matplotlib\n",
    "matplotlib.use(\"pgf\")\n",
    "matplotlib.rcParams.update({\n",
    "    \"pgf.texsystem\": \"xelatex\",\n",
    "    'font.family': 'sans-serif',\n",
    "    'text.usetex': False,\n",
    "    'pgf.rcfonts': False\n",
    "})\n",
    "\n",
    "Ptx_dBm = np.arange(10, 40, 5)\n",
    "isend_req = 10.69\n",
    "\n",
    "fig = plt.figure(figsize=(3.2, 2.4))\n",
    "\n",
    "ax = fig.add_subplot(1,1,1)\n",
    "ax.grid()\n",
    "ax.set_axisbelow(True)\n",
    "x = res.F[:,1]\n",
    "y = ((res.F[:,0] * -1) / 1e9)   # Gigabit\n",
    "\n",
    "cmap = plt.get_cmap('tab10')\n",
    "cmap = np.array(cmap.colors)\n",
    "\n",
    "c = cmap[res.X[:,-1].tolist(),:]\n",
    "ax.scatter(x, y, c=c, marker='.', s=1)\n",
    "\n",
    "ids = range(res.F.shape[0])\n",
    "ids = [2, 3, 4, 5]\n",
    "for i in ids:\n",
    "    x = res.F[i, 1]\n",
    "    y = (res.F[i, 0] * -1) / 1e9 \n",
    "    ax.scatter(x, y, c='k', marker='.', s=0.01)\n",
    "    ax.text(x - 200 ,y+ 0.1, \"%d\" % i, fontsize=6)\n",
    "    \n",
    "leg_lines = [Line2D([0], [0], color=cmap[i, :], lw=1) for i in np.unique(res.X[:,-1])]\n",
    "leg_label = [\"%.0f dBm\" % Ptx_dBm[i] for i in np.unique(res.X[:,-1])]\n",
    "\n",
    "ax.legend(leg_lines, leg_label, loc=4)\n",
    "\n",
    "ax.set_xlabel(\"Energy used [J]\")\n",
    "ax.set_ylabel(\"Throughput [Gb]\")\n",
    "apply_report_formatting()\n",
    "plt.tight_layout()\n",
    "plt.show()\n",
    "\n",
    "plt.savefig('D:/git/thesis_report_ae/figures/link_budget_pareto_numbered.pgf')\n",
    "plt.savefig('D:/git/thesis_report_ae/figures/link_budget_pareto_numbered.svg')\n",
    "plt.close()"
   ],
   "metadata": {
    "collapsed": false,
    "pycharm": {
     "name": "#%%\n",
     "is_executing": false
    }
   }
  },
  {
   "cell_type": "code",
   "execution_count": null,
   "outputs": [],
   "source": [
    "# Plot comparison\n",
    "fig = plt.figure(figsize=(3.2, 2.4))\n",
    "ax = fig.add_subplot(1,1,1)\n",
    "\n",
    "passes_df = telesat_passes_df.head(N_passes)\n",
    "\n",
    "lines = [None] * N_passes\n",
    "for n, pass_df in passes_df.iterrows():\n",
    "    line, = ax.plot(pass_df.ttof, pass_df.rrange / 1000., '--', linewidth=0.5, c=[0.6]*3, zorder=1)\n",
    "    lines[n] = line\n",
    "\n",
    "ax.set_xlabel('time of flight [s]')\n",
    "ax.set_ylabel('range [km]')\n",
    "ax.grid()\n",
    "ax.set_xlim((0, telesat_passes_df.iloc[-1].StopTof))\n",
    "\n",
    "a = 2\n",
    "b = 3\n",
    "both = res.X[a,:-1] * res.X[b,:-1] == 1\n",
    "only_a = (res.X[a,:-1] - res.X[b,:-1]) > 0\n",
    "only_b = (res.X[b,:-1] - res.X[a,:-1]) > 0 \n",
    "\n",
    "contact_time_a, overlap_a, power_consumption_a, total_link_time_a, isend_dB_list_a = res.problem.evaluate_passes(res.X[a,:])\n",
    "contact_time_b, overlap_b, power_consumption_b, total_link_time_b, isend_dB_list_b = res.problem.evaluate_passes(res.X[b,:])\n",
    "\n",
    "for j in np.where(both)[0]:\n",
    "    lines[j].set_color('k')\n",
    "    lines[j].set_linestyle('-')\n",
    "    lines[j].set_zorder(2)\n",
    "    \n",
    "for j in np.where(only_a)[0]:\n",
    "    lines[j].set_color('r')\n",
    "    lines[j].set_linestyle('-')\n",
    "    lines[j].set_zorder(2)\n",
    "\n",
    "for j in np.where(only_b)[0]:\n",
    "    lines[j].set_color('b')\n",
    "    lines[j].set_linestyle('-')\n",
    "    lines[j].set_zorder(2)\n",
    "\n",
    "apply_report_formatting()\n",
    "plt.tight_layout()\n",
    "plt.savefig('D:/git/thesis_report_ae/figures/link_budget_compare.svg')\n",
    "plt.savefig('D:/git/thesis_report_ae/figures/link_budget_compare.pgf')\n",
    "plt.close()"
   ],
   "metadata": {
    "collapsed": false,
    "pycharm": {
     "name": "#%%\n",
     "is_executing": false
    }
   }
  },
  {
   "cell_type": "code",
   "execution_count": null,
   "outputs": [],
   "source": [
    "print(\"Contact: a=%.1f s, b=%.1f s\" % (contact_time_a, contact_time_b))\n",
    "print(\"Power: a=%d J, b=%d J\" % (power_consumption_a, power_consumption_b))\n",
    "print(\"Link: a=%.1f s, b=%.1f s\" % (total_link_time_a, total_link_time_b))\n",
    "\n",
    "fig = plt.figure(figsize=(3.2, 2.4))\n",
    "ax = fig.add_subplot(1,1,1)\n",
    "\n",
    "lines = [None] * N_passes\n",
    "for n, pass_df in passes_df.loc[res.X[a,:-1]].iterrows():\n",
    "    line, = plt.plot(pass_df.ttof, isend_dB_list_a[n], 'r-', linewidth=0.5)\n",
    "    lines[n] = line\n",
    "\n",
    "ax.set_ylabel(\"$E_b / N_0 [J]$\")\n",
    "ax.set_xlabel(\"Time of flight [s]\")\n",
    "\n",
    "plt.hlines(isend_req, 0, 10000, linestyles='--', linewidth=0.5)\n",
    "apply_report_formatting()\n",
    "plt.tight_layout()\n",
    "plt.savefig('D:/git/thesis_report_ae/figures/link_budget_a.svg')\n",
    "plt.savefig('D:/git/thesis_report_ae/figures/link_budget_a.pgf')\n",
    "plt.close()\n",
    "\n",
    "fig = plt.figure(figsize=(3.2, 2.4))\n",
    "\n",
    "lines = [None] * N_passes\n",
    "for n, pass_df in passes_df.loc[res.X[b,:-1]].iterrows():\n",
    "    line, = plt.plot(pass_df.ttof, isend_dB_list_b[n], 'b-', linewidth=0.5)\n",
    "    lines[n] = line\n",
    "\n",
    "ax.set_ylabel(\"$E_b / N_0 [J]$\")\n",
    "ax.set_xlabel(\"Time of flight [s]\")\n",
    "\n",
    "plt.hlines(isend_req, 0, 10000, linestyles='--', linewidth=0.5)\n",
    "apply_report_formatting()\n",
    "plt.tight_layout()\n",
    "plt.savefig('D:/git/thesis_report_ae/figures/link_budget_b.svg')\n",
    "plt.savefig('D:/git/thesis_report_ae/figures/link_budget_b.pgf')\n",
    "plt.close()"
   ],
   "metadata": {
    "collapsed": false,
    "pycharm": {
     "name": "#%%\n",
     "is_executing": false
    }
   }
  }
 ],
 "metadata": {
  "kernelspec": {
   "display_name": "Python 3",
   "language": "python",
   "name": "python3"
  },
  "language_info": {
   "codemirror_mode": {
    "name": "ipython",
    "version": 2
   },
   "file_extension": ".py",
   "mimetype": "text/x-python",
   "name": "python",
   "nbconvert_exporter": "python",
   "pygments_lexer": "ipython2",
   "version": "2.7.6"
  },
  "pycharm": {
   "stem_cell": {
    "cell_type": "raw",
    "source": [],
    "metadata": {
     "collapsed": false
    }
   }
  }
 },
 "nbformat": 4,
 "nbformat_minor": 0
}