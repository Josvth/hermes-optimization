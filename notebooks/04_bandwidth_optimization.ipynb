{
 "cells": [
  {
   "cell_type": "code",
   "execution_count": 195,
   "outputs": [
    {
     "name": "stdout",
     "output_type": "stream",
     "text": [
      "The autoreload extension is already loaded. To reload it, use:\n",
      "  %reload_ext autoreload\n"
     ]
    }
   ],
   "source": [
    "import pandas as pd\n",
    "import numpy as np\n",
    "from pymoo.optimize import minimize\n",
    "\n",
    "#%matplotlib qt\n",
    "from pymoo.util.termination.f_tol import MultiObjectiveSpaceToleranceTermination\n",
    "import vcm\n",
    "from pyreport import PlotUtil\n",
    "from notebooks.optimization_problems.constraints import Requirements\n",
    "%load_ext autoreload\n",
    "\n",
    "%autoreload 2"
   ],
   "metadata": {
    "collapsed": false,
    "pycharm": {
     "name": "#%%\n"
    }
   }
  },
  {
   "cell_type": "code",
   "execution_count": 196,
   "outputs": [
    {
     "name": "stdout",
     "output_type": "stream",
     "text": [
      "Compiled Extensions:  True\n"
     ]
    }
   ],
   "source": [
    "from pymoo.util.function_loader import is_compiled\n",
    "\n",
    "print('Compiled Extensions: ', is_compiled())"
   ],
   "metadata": {
    "collapsed": false,
    "pycharm": {
     "name": "#%%\n"
    }
   }
  },
  {
   "cell_type": "code",
   "execution_count": 197,
   "outputs": [],
   "source": [
    "columns = ['strand_name', 'tof',\n",
    "           'r_a_x', 'r_a_y', 'r_a_z',\n",
    "           'v_a_x', 'v_a_y', 'v_a_z',\n",
    "           'r_b_x', 'r_b_y', 'r_b_z',\n",
    "           'd',\n",
    "           'r_ab_sff_x', 'r_ab_sff_y', 'r_ab_sff_z']\n",
    "\n",
    "file_path = \"example_data.h5\"\n",
    "\n",
    "row_limit = -1\n",
    "\n",
    "store_500km = pd.HDFStore(file_path)\n",
    "\n",
    "instances_500km_df = store_500km.select('contact_instances', 'columns = %s' % str(columns), stop = row_limit)\n",
    "\n",
    "# Sort by pass id\n",
    "instances_500km_df = instances_500km_df.sort_index(0)"
   ],
   "metadata": {
    "collapsed": false,
    "pycharm": {
     "name": "#%% Import data files from visibility analysis at 500 km\n"
    }
   }
  },
  {
   "cell_type": "code",
   "execution_count": 198,
   "outputs": [],
   "source": [
    "N_passes = 20\n",
    "\n",
    "instances_df = instances_500km_df.loc[0:N_passes,:]"
   ],
   "metadata": {
    "collapsed": false,
    "pycharm": {
     "name": "#%% Limit number of passes\n"
    }
   }
  },
  {
   "cell_type": "code",
   "execution_count": 199,
   "outputs": [],
   "source": [
    "from problems.bandwidth_problem import BandwidthProblem\n",
    "from notebooks.optimization_problems.design_vector import design_vector_default_scm, SystemParameters\n",
    "\n",
    "sys_param = SystemParameters()\n",
    "sys_param.margin_dB = 3.0\n",
    "sys_param.B_Hz_array = np.array([0.1, 0.5, 1, 10, 50, 100, 200, 300]) * 1e6\n",
    "sys_param.Gtx_dBi_bounds = (20., 20.)\n",
    "sys_param.Ptx_dBm_bounds = (20., 43.)\n",
    "\n",
    "modcods_df = pd.read_pickle('dvbs2.pkl')\n",
    "\n",
    "sys_param.EsN0_req_dB_array = modcods_df[['isend', 'isend_200MHz', 'isend_300MHz']].to_numpy()\n",
    "sys_param.eta_bitsym_array = modcods_df[['eta', 'eta_200MHz', 'eta_300MHz']].to_numpy()\n",
    "sys_param.eta_maee_array = modcods_df[['maee_12', 'maee_12_200MHz', 'maee_12_300MHz']].to_numpy()\n",
    "\n",
    "requirements = Requirements()\n",
    "\n",
    "T_range_dict_list = [{'name': 'high', 'T_min': 50e9, 'T_max': -1},\n",
    "                {'name': 'low', 'T_min': 0, 'T_max': 5e9}]\n",
    "\n",
    "T_range = T_range_dict_list[0]\n",
    "\n",
    "requirements.min_throughput = T_range['T_min']\n",
    "requirements.max_throughput = T_range['T_max']\n",
    "\n",
    "problem = BandwidthProblem(instances_df, sys_param, requirements=requirements)\n",
    "\n",
    "sampling, crossover, mutation = design_vector_default_scm(problem.x_length, problem.x_indices)\n",
    "\n",
    "algo_settings = {'pop_size': 100, 'n_offsprings': 25}\n",
    "\n",
    "from pymoo.algorithms.nsga2 import NSGA2\n",
    "\n",
    "algorithm = NSGA2(\n",
    "    pop_size=algo_settings['pop_size'],\n",
    "    n_offsprings=algo_settings['n_offsprings'],\n",
    "    sampling=sampling,\n",
    "    crossover=crossover,\n",
    "    mutation=mutation,\n",
    "    eliminate_duplicates=True,\n",
    ")"
   ],
   "metadata": {
    "collapsed": false,
    "pycharm": {
     "name": "#%%\n"
    }
   }
  },
  {
   "cell_type": "code",
   "execution_count": 200,
   "outputs": [],
   "source": [
    "n_gen = 0"
   ],
   "metadata": {
    "collapsed": false,
    "pycharm": {
     "name": "#%%\n"
    }
   }
  },
  {
   "cell_type": "code",
   "execution_count": 201,
   "outputs": [],
   "source": [
    "if False:\n",
    "    n_gen = n_gen + 5000\n",
    "\n",
    "    algorithm.has_terminated = False\n",
    "\n",
    "    res = minimize(problem,\n",
    "                   algorithm,\n",
    "                   ('n_gen', n_gen),\n",
    "                   seed=1,\n",
    "                   copy_algorithm=False,\n",
    "                   #save_history=True,\n",
    "                   verbose=True\n",
    "                   )\n",
    "\n",
    "    print('Processes:', res.exec_time)\n",
    "    print(\"Best solution found: %s\" % res.X)\n",
    "\n",
    "    import pickle\n",
    "\n",
    "    pickle.dump(res, open('bandwidth_res_%s.pkl' % (T_range['name']), 'wb'))"
   ],
   "metadata": {
    "collapsed": false,
    "pycharm": {
     "name": "#%%\n"
    }
   }
  },
  {
   "cell_type": "code",
   "execution_count": 202,
   "outputs": [],
   "source": [
    "res = pickle.load(open('bandwidth_res_%s.pkl' % (T_range['name']), 'rb'))"
   ],
   "metadata": {
    "collapsed": false,
    "pycharm": {
     "name": "#%%\n"
    }
   }
  },
  {
   "cell_type": "code",
   "execution_count": 203,
   "outputs": [],
   "source": [
    "x_pass = res.X[:, problem.x_indices['pass']].astype('bool')\n",
    "x_Ptx_dBm = res.X[:, problem.x_indices['power']].astype('float64')\n",
    "x_Ptx_dBm[~x_pass] = np.NaN\n",
    "x_Ptx_dBm = np.nanmax(x_Ptx_dBm, axis=1)\n",
    "#x_modcod = np.squeeze(res.X[:, problem.x_indices['modcod']].astype('int64'))\n",
    "\n",
    "f_energy = res.F[:,1] / 1e3 # Kilo Joule\n",
    "f_throughput = ((res.F[:,0] * -1) / 1e9)   # Gigabit\n",
    "\n",
    "postfix = '_' + T_range['name']"
   ],
   "metadata": {
    "collapsed": false,
    "pycharm": {
     "name": "#%% Extract variables from result\n"
    }
   }
  },
  {
   "cell_type": "code",
   "execution_count": 204,
   "outputs": [],
   "source": [
    "import colorcet as cc\n",
    "\n",
    "from matplotlib.lines import Line2D\n",
    "import numpy as np\n",
    "import matplotlib.pyplot as plt\n",
    "#from PlotUtil import apply_report_formatting, apply_report_formatting_single\n",
    "import matplotlib.colors as mcol\n",
    "import matplotlib.cm as cm\n",
    "\n",
    "isend_req = 10.69\n",
    "\n",
    "fig = plt.figure(figsize=(3.2, 2.4))\n",
    "\n",
    "ax = fig.add_subplot(1,1,1)\n",
    "ax.grid()\n",
    "ax.set_axisbelow(True)\n",
    "\n",
    "cm1 = mcol.LinearSegmentedColormap.from_list(\"BlueRed\",[\"c\",\"r\"])\n",
    "#cm1 = mcol.LinearSegmentedColormap.from_list(\"BlueRed\",[\"#4a569d\",\"#dc2424\"])\n",
    "#cm1 = cc.cm.linear_kryw_5_100_c67_r\n",
    "#cm1 = cc.cm.CET_L18\n",
    "\n",
    "min_Ptx = np.nanmin(x_Ptx_dBm)\n",
    "max_Ptx = np.nanmax(x_Ptx_dBm)\n",
    "\n",
    "cnorm = mcol.Normalize(vmin=min_Ptx,vmax=max_Ptx)\n",
    "\n",
    "cpick = cm.ScalarMappable(norm=cnorm,cmap=cm1)\n",
    "cpick.set_array([])\n",
    "\n",
    "cp = cpick.to_rgba(x_Ptx_dBm.tolist())\n",
    "ax.scatter(f_energy, f_throughput, c=cp, marker='.', s=1)\n",
    "\n",
    "ax.set_xlabel(\"Energy used [kJ]\")\n",
    "ax.set_ylabel(\"Throughput [Gbit]\")\n",
    "cb = plt.colorbar(cpick,label=\"Maximum power [dBm]\")\n",
    "cb.ax.tick_params(labelsize=8)\n",
    "cb.ax.yaxis.label.set_size(8)\n",
    "\n",
    "PlotUtil.apply_report_formatting(4.72, 2.76)\n",
    "plt.tight_layout()\n",
    "\n",
    "fig.savefig('D:/git/thesis_report_ae/figures/mc_pareto%s.pdf' % postfix)\n",
    "plt.show()\n",
    "plt.close()"
   ],
   "metadata": {
    "collapsed": false,
    "pycharm": {
     "name": "#%% Pareto fronts\n"
    }
   }
  },
  {
   "cell_type": "code",
   "execution_count": 205,
   "outputs": [],
   "source": [
    "x_bandwidth = res.X[:, problem.x_indices['bandwidth']].astype('int')\n",
    "B_Hz = sys_param.B_Hz_array[np.squeeze(x_bandwidth)] / 1e6\n",
    "\n",
    "fig = plt.figure(figsize=(3.2, 2.4))\n",
    "\n",
    "ax = fig.add_subplot(1,1,1)\n",
    "ax.grid()\n",
    "ax.set_axisbelow(True)\n",
    "\n",
    "ax.scatter(B_Hz, f_throughput, marker='.', s=2)\n",
    "#ax.set_xscale('log')\n",
    "ax.set_xlabel(\"Bandwidth [MHz]\")\n",
    "ax.set_ylabel(\"Throughput [Gbit]\")\n",
    "#ax.set_xlim((, 11))\n",
    "#ax.set_ylim((0, 1200))\n",
    "\n",
    "PlotUtil.apply_report_formatting(3.146, 2.76)\n",
    "plt.tight_layout()\n",
    "\n",
    "#fig.savefig('D:/git/thesis_report_ae/figures/vcm_modcod_vs_throughput.pdf')"
   ],
   "metadata": {
    "collapsed": false,
    "pycharm": {
     "name": "#%% Throughput vs bandwidth\n"
    }
   }
  },
  {
   "cell_type": "code",
   "execution_count": 206,
   "outputs": [],
   "source": [
    "fig = plt.figure(figsize=(3.2, 2.4))\n",
    "\n",
    "ax = fig.add_subplot(1,1,1)\n",
    "ax.grid()\n",
    "ax.set_axisbelow(True)\n",
    "\n",
    "ax.scatter(np.sum(x_pass, axis=1), f_throughput, marker='.', s=1)\n",
    "ax.set_xlabel(\"Number of passes used\")\n",
    "ax.set_ylabel(\"Throughput [Gbit]\")\n",
    "ax.set_xlim((0, 20))\n",
    "#ax.set_ylim((0, 1200))\n",
    "\n",
    "PlotUtil.apply_report_formatting(3.146, 2.76)\n",
    "plt.tight_layout()\n",
    "\n",
    "#fig.savefig('D:/git/thesis_report_ae/figures/vcm_modcod_vs_throughput.pdf')"
   ],
   "metadata": {
    "collapsed": false,
    "pycharm": {
     "name": "#%% Throughput vs number of passes\n"
    }
   }
  },
  {
   "cell_type": "code",
   "execution_count": 207,
   "outputs": [],
   "source": [
    "from notebooks.optimization_problems.design_vector import explode_design_vector\n",
    "from models import multi_carrier\n",
    "from numba.typed import List\n",
    "\n",
    "# recompute modcods for the solutions\n",
    "x_modcod = -1*np.ones((res.X.shape[0], len(problem.x_indices['power'])))\n",
    "\n",
    "for i in range(res.X.shape[0]):\n",
    "\n",
    "    x = np.squeeze(res.X[i,:])\n",
    "\n",
    "    # Explode design vector\n",
    "    design_vector = explode_design_vector(x, problem.N_passes, problem.x_indices)\n",
    "\n",
    "    x_pass = design_vector['pass'].astype('bool')\n",
    "    Ptx_dBm_array = design_vector['power'][x_pass].astype('float64')\n",
    "    Gtx_dBi = design_vector['antenna'][0]\n",
    "    B_Hz = problem.sys_param.B_Hz_array[int(design_vector['bandwidth'][0])]\n",
    "    alpha = problem.sys_param.alpha_array[0]\n",
    "    carriers = multi_carrier.get_sub_carriers(B_Hz)\n",
    "    EsN0_req_dB_array = np.squeeze(problem.sys_param.EsN0_req_dB_array[:, carriers - 1])\n",
    "    eta_bitsym_array = np.squeeze(problem.sys_param.eta_bitsym_array[:, carriers - 1])\n",
    "    eta_maee_array = np.squeeze(problem.sys_param.eta_maee_array[:, carriers - 1])\n",
    "\n",
    "    pass_inds = np.nonzero(x_pass)[0]\n",
    "\n",
    "    _, _, _, _, x_modcod[i,pass_inds] = vcm.compute_passes_throughput(\n",
    "            pass_inds, List(problem.tof_s_list), List(problem.fspl_dB_list),\n",
    "            Ptx_dBm_array, Gtx_dBi, problem.sys_param.GT_dBK, B_Hz, alpha,\n",
    "            EsN0_req_dB_array, eta_bitsym_array, problem.sys_param.margin_dB)\n",
    "\n",
    "#%matplotlib\n",
    "plt.ion()\n",
    "fig = plt.figure(figsize=(3.2, 2.4))\n",
    "\n",
    "ax = fig.add_subplot(1,1,1)\n",
    "ax.grid()\n",
    "ax.set_axisbelow(True)\n",
    "\n",
    "# for i in range(res.X.shape[0]):\n",
    "#     x = x_modcod[i, :]\n",
    "#     x = x[x > -1]\n",
    "#     #ax.scatter(x, f_throughput[i].repeat(len(x)), color='b', marker='.', s=2)\n",
    "#     ax.plot((np.min(x), np.max(x)), (f_throughput[i], f_throughput[i]), color='tab:blue')\n",
    "\n",
    "x_modcod[x_modcod == -1] = np.NaN\n",
    "avg_modcod = np.floor(np.nanmean(x_modcod, axis=1))\n",
    "ind_sort = np.argsort(f_throughput)\n",
    "ax.plot(avg_modcod[ind_sort], f_throughput[ind_sort], color='tab:blue')\n",
    "\n",
    "#ax.set_xscale('log')\n",
    "ax.set_xlabel(\"Modcod\")\n",
    "ax.set_ylabel(\"Throughput [Gbit]\")\n",
    "ax.set_xlim((0, 28))\n",
    "#ax.set_ylim((0, 1200))\n",
    "\n",
    "PlotUtil.apply_report_formatting(3.146, 2.76)\n",
    "plt.tight_layout()"
   ],
   "metadata": {
    "collapsed": false,
    "pycharm": {
     "name": "#%% Throughput vs modcod\n"
    }
   }
  }
 ],
 "metadata": {
  "kernelspec": {
   "name": "pycharm-34b782de",
   "language": "python",
   "display_name": "PyCharm (hermes-simulator)"
  },
  "language_info": {
   "codemirror_mode": {
    "name": "ipython",
    "version": 3
   },
   "file_extension": ".py",
   "mimetype": "text/x-python",
   "name": "python",
   "nbconvert_exporter": "python",
   "pygments_lexer": "ipython3",
   "version": "3.7.6"
  }
 },
 "nbformat": 4,
 "nbformat_minor": 1
}