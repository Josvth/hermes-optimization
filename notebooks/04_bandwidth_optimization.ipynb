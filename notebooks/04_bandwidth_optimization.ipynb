{
 "cells": [
  {
   "cell_type": "code",
   "execution_count": 5,
   "outputs": [
    {
     "name": "stdout",
     "output_type": "stream",
     "text": [
      "The autoreload extension is already loaded. To reload it, use:\n",
      "  %reload_ext autoreload\n"
     ]
    }
   ],
   "source": [
    "import pandas as pd\n",
    "import numpy as np\n",
    "from pymoo.optimize import minimize\n",
    "\n",
    "#%matplotlib qt\n",
    "from pymoo.util.termination.f_tol import MultiObjectiveSpaceToleranceTermination\n",
    "from pyreport import PlotUtil\n",
    "from notebooks.optimization_problems.constraints import Requirements\n",
    "%load_ext autoreload\n",
    "\n",
    "%autoreload 2"
   ],
   "metadata": {
    "collapsed": false,
    "pycharm": {
     "name": "#%%\n"
    }
   }
  },
  {
   "cell_type": "code",
   "execution_count": 6,
   "outputs": [],
   "source": [
    "columns = ['strand_name', 'tof',\n",
    "           'r_a_x', 'r_a_y', 'r_a_z',\n",
    "           'v_a_x', 'v_a_y', 'v_a_z',\n",
    "           'r_b_x', 'r_b_y', 'r_b_z',\n",
    "           'd',\n",
    "           'r_ab_sff_x', 'r_ab_sff_y', 'r_ab_sff_z']\n",
    "\n",
    "file_path = \"example_data.h5\"\n",
    "\n",
    "row_limit = -1\n",
    "\n",
    "store_500km = pd.HDFStore(file_path)\n",
    "\n",
    "instances_500km_df = store_500km.select('contact_instances', 'columns = %s' % str(columns), stop = row_limit)\n",
    "\n",
    "# Sort by pass id\n",
    "instances_500km_df = instances_500km_df.sort_index(0)"
   ],
   "metadata": {
    "collapsed": false,
    "pycharm": {
     "name": "#%% Import data files from visibility analysis at 500 km\n"
    }
   }
  },
  {
   "cell_type": "code",
   "execution_count": 7,
   "outputs": [],
   "source": [
    "N_passes = 20\n",
    "\n",
    "instances_df = instances_500km_df.loc[0:N_passes,:]"
   ],
   "metadata": {
    "collapsed": false,
    "pycharm": {
     "name": "#%% Limit number of passes\n"
    }
   }
  },
  {
   "cell_type": "code",
   "execution_count": null,
   "outputs": [
    {
     "name": "stdout",
     "output_type": "stream",
     "text": [
      "=====================================================================================\n",
      "n_gen |  n_eval |   cv (min)   |   cv (avg)   |  n_nds  |     eps      |  indicator  \n",
      "=====================================================================================\n",
      "    1 |     200 |  0.00000E+00 |  1.41434E+07 |       6 |            - |            -\n",
      "    2 |     250 |  0.00000E+00 |  1.60235E+02 |       6 |  0.00000E+00 |            f\n",
      "    3 |     300 |  0.00000E+00 |  1.20705E+02 |       8 |  0.003547048 |        ideal\n",
      "    4 |     350 |  0.00000E+00 |  9.58000E+01 |       9 |  0.040134495 |        ideal\n",
      "    5 |     400 |  0.00000E+00 |  6.77650E+01 |      11 |  0.005759652 |            f\n",
      "    6 |     450 |  0.00000E+00 |  4.14550E+01 |      15 |  0.044954913 |        ideal\n",
      "    7 |     500 |  0.00000E+00 |  1.88700E+01 |      16 |  0.012936758 |            f\n",
      "    8 |     550 |  0.00000E+00 |  1.07100E+01 |      16 |  0.004691477 |            f\n",
      "    9 |     600 |  0.00000E+00 |  1.275000000 |      21 |  0.009370903 |            f\n",
      "   10 |     650 |  0.00000E+00 |  0.00000E+00 |      25 |  0.029236848 |        ideal\n",
      "   11 |     700 |  0.00000E+00 |  0.00000E+00 |      30 |  0.007812655 |            f\n",
      "   12 |     750 |  0.00000E+00 |  0.00000E+00 |      29 |  0.003109422 |            f\n",
      "   13 |     800 |  0.00000E+00 |  0.00000E+00 |      33 |  0.006486793 |            f\n",
      "   14 |     850 |  0.00000E+00 |  0.00000E+00 |      36 |  0.003055025 |            f\n",
      "   15 |     900 |  0.00000E+00 |  0.00000E+00 |      36 |  0.004743205 |            f\n",
      "   16 |     950 |  0.00000E+00 |  0.00000E+00 |      39 |  0.267704884 |        ideal\n",
      "   17 |    1000 |  0.00000E+00 |  0.00000E+00 |      42 |  0.005689660 |            f\n",
      "   18 |    1050 |  0.00000E+00 |  0.00000E+00 |      45 |  0.003132183 |            f\n",
      "   19 |    1100 |  0.00000E+00 |  0.00000E+00 |      47 |  0.003924646 |            f\n",
      "   20 |    1150 |  0.00000E+00 |  0.00000E+00 |      46 |  0.000800636 |            f\n",
      "   21 |    1200 |  0.00000E+00 |  0.00000E+00 |      47 |  0.000919339 |            f\n",
      "   22 |    1250 |  0.00000E+00 |  0.00000E+00 |      50 |  0.000824095 |            f\n",
      "   23 |    1300 |  0.00000E+00 |  0.00000E+00 |      50 |  0.002872457 |            f\n",
      "   24 |    1350 |  0.00000E+00 |  0.00000E+00 |      53 |  0.002938314 |            f\n",
      "   25 |    1400 |  0.00000E+00 |  0.00000E+00 |      54 |  0.003579462 |            f\n",
      "   26 |    1450 |  0.00000E+00 |  0.00000E+00 |      55 |  0.000539798 |            f\n",
      "   27 |    1500 |  0.00000E+00 |  0.00000E+00 |      58 |  0.001193673 |            f\n",
      "   28 |    1550 |  0.00000E+00 |  0.00000E+00 |      58 |  0.001652056 |            f\n",
      "   29 |    1600 |  0.00000E+00 |  0.00000E+00 |      59 |  0.001017031 |            f\n",
      "   30 |    1650 |  0.00000E+00 |  0.00000E+00 |      63 |  0.001190867 |            f\n",
      "   31 |    1700 |  0.00000E+00 |  0.00000E+00 |      64 |  0.000695969 |            f\n",
      "   32 |    1750 |  0.00000E+00 |  0.00000E+00 |      66 |  0.038704432 |        ideal\n",
      "   33 |    1800 |  0.00000E+00 |  0.00000E+00 |      64 |  0.001145951 |            f\n",
      "   34 |    1850 |  0.00000E+00 |  0.00000E+00 |      70 |  0.001286647 |            f\n",
      "   35 |    1900 |  0.00000E+00 |  0.00000E+00 |      70 |  0.028550091 |        ideal\n",
      "   36 |    1950 |  0.00000E+00 |  0.00000E+00 |      73 |  0.001537219 |            f\n",
      "   37 |    2000 |  0.00000E+00 |  0.00000E+00 |      74 |  0.000886610 |            f\n",
      "   38 |    2050 |  0.00000E+00 |  0.00000E+00 |      77 |  0.001281904 |            f\n",
      "   39 |    2100 |  0.00000E+00 |  0.00000E+00 |      79 |  0.001487413 |            f\n",
      "   40 |    2150 |  0.00000E+00 |  0.00000E+00 |      83 |  0.000487048 |            f\n",
      "   41 |    2200 |  0.00000E+00 |  0.00000E+00 |      80 |  0.001069322 |            f\n",
      "   42 |    2250 |  0.00000E+00 |  0.00000E+00 |      81 |  0.000156014 |            f\n",
      "   43 |    2300 |  0.00000E+00 |  0.00000E+00 |      82 |  0.000422828 |            f\n",
      "   44 |    2350 |  0.00000E+00 |  0.00000E+00 |      85 |  0.000327456 |            f\n",
      "   45 |    2400 |  0.00000E+00 |  0.00000E+00 |      86 |  0.001189622 |            f\n",
      "   46 |    2450 |  0.00000E+00 |  0.00000E+00 |      89 |  0.000673435 |            f\n",
      "   47 |    2500 |  0.00000E+00 |  0.00000E+00 |      93 |  0.092404972 |        ideal\n",
      "   48 |    2550 |  0.00000E+00 |  0.00000E+00 |      91 |  0.000368081 |            f\n",
      "   49 |    2600 |  0.00000E+00 |  0.00000E+00 |      94 |  0.000551062 |            f\n",
      "   50 |    2650 |  0.00000E+00 |  0.00000E+00 |      95 |  0.000850518 |            f\n",
      "   51 |    2700 |  0.00000E+00 |  0.00000E+00 |      92 |  0.000654368 |            f\n",
      "   52 |    2750 |  0.00000E+00 |  0.00000E+00 |      92 |  0.000744372 |            f\n",
      "   53 |    2800 |  0.00000E+00 |  0.00000E+00 |      93 |  0.000071888 |            f\n",
      "   54 |    2850 |  0.00000E+00 |  0.00000E+00 |      97 |  0.000531332 |            f\n",
      "   55 |    2900 |  0.00000E+00 |  0.00000E+00 |      93 |  0.001140792 |            f\n",
      "   56 |    2950 |  0.00000E+00 |  0.00000E+00 |      93 |  0.000220401 |            f\n",
      "   57 |    3000 |  0.00000E+00 |  0.00000E+00 |      93 |  0.000604924 |            f\n",
      "   58 |    3050 |  0.00000E+00 |  0.00000E+00 |      97 |  0.000831295 |            f\n",
      "   59 |    3100 |  0.00000E+00 |  0.00000E+00 |      97 |  0.000182737 |            f\n",
      "   60 |    3150 |  0.00000E+00 |  0.00000E+00 |      97 |  0.000300557 |            f\n",
      "   61 |    3200 |  0.00000E+00 |  0.00000E+00 |     100 |  0.000169066 |            f\n",
      "   62 |    3250 |  0.00000E+00 |  0.00000E+00 |     103 |  0.000287497 |            f\n",
      "   63 |    3300 |  0.00000E+00 |  0.00000E+00 |     104 |  0.000357150 |            f\n",
      "   64 |    3350 |  0.00000E+00 |  0.00000E+00 |     107 |  0.000662685 |            f\n",
      "   65 |    3400 |  0.00000E+00 |  0.00000E+00 |     106 |  0.000200036 |            f\n",
      "   66 |    3450 |  0.00000E+00 |  0.00000E+00 |     110 |  0.000333852 |            f\n",
      "   67 |    3500 |  0.00000E+00 |  0.00000E+00 |     109 |  0.000766371 |            f\n",
      "   68 |    3550 |  0.00000E+00 |  0.00000E+00 |     110 |  0.000207497 |            f\n",
      "   69 |    3600 |  0.00000E+00 |  0.00000E+00 |     108 |  0.000556634 |            f\n",
      "   70 |    3650 |  0.00000E+00 |  0.00000E+00 |     110 |  0.007302300 |        ideal\n",
      "   71 |    3700 |  0.00000E+00 |  0.00000E+00 |     109 |  0.000925407 |            f\n",
      "   72 |    3750 |  0.00000E+00 |  0.00000E+00 |     111 |  0.000047415 |            f\n",
      "   73 |    3800 |  0.00000E+00 |  0.00000E+00 |     110 |  0.000721925 |            f\n",
      "   74 |    3850 |  0.00000E+00 |  0.00000E+00 |     107 |  0.000381687 |            f\n",
      "   75 |    3900 |  0.00000E+00 |  0.00000E+00 |     105 |  0.000245311 |            f\n",
      "   76 |    3950 |  0.00000E+00 |  0.00000E+00 |     108 |  0.000628241 |            f\n",
      "   77 |    4000 |  0.00000E+00 |  0.00000E+00 |     105 |  0.000170946 |            f\n",
      "   78 |    4050 |  0.00000E+00 |  0.00000E+00 |     106 |  0.000342752 |            f\n",
      "   79 |    4100 |  0.00000E+00 |  0.00000E+00 |     109 |  0.011097328 |        ideal\n",
      "   80 |    4150 |  0.00000E+00 |  0.00000E+00 |     105 |  0.000555674 |            f\n",
      "   81 |    4200 |  0.00000E+00 |  0.00000E+00 |     108 |  0.000215951 |            f\n",
      "   82 |    4250 |  0.00000E+00 |  0.00000E+00 |     106 |  0.000299637 |            f\n",
      "   83 |    4300 |  0.00000E+00 |  0.00000E+00 |     107 |  0.000241876 |            f\n",
      "   84 |    4350 |  0.00000E+00 |  0.00000E+00 |     106 |  0.000292602 |            f\n",
      "   85 |    4400 |  0.00000E+00 |  0.00000E+00 |     107 |  0.000192112 |            f\n",
      "   86 |    4450 |  0.00000E+00 |  0.00000E+00 |     108 |  0.000236078 |            f\n"
     ]
    },
    {
     "name": "stderr",
     "output_type": "stream",
     "text": [
      "C:\\git\\hermes-optimization\\cenv\\lib\\site-packages\\pymoo\\operators\\mutation\\polynomial_mutation.py:34: RuntimeWarning: invalid value encountered in true_divide\n",
      "  delta1 = (X - xl) / (xu - xl)\n",
      "C:\\git\\hermes-optimization\\cenv\\lib\\site-packages\\pymoo\\operators\\mutation\\polynomial_mutation.py:35: RuntimeWarning: invalid value encountered in true_divide\n",
      "  delta2 = (xu - X) / (xu - xl)\n"
     ]
    }
   ],
   "source": [
    "from notebooks.optimization_problems.bandwidth_problem import BandwidthProblem\n",
    "from notebooks.optimization_problems.design_vector import design_vector_default_scm, SystemParameters\n",
    "\n",
    "sys_param = SystemParameters()\n",
    "sys_param.margin_dB = 3.0\n",
    "sys_param.B_Hz_array = np.array([0.1, 0.5, 1, 10, 50, 100, 200, 300]) * 1e6\n",
    "sys_param.Gtx_dBi_bounds = (20., 20.)\n",
    "sys_param.Ptx_dBm_bounds = (20., 43.)\n",
    "\n",
    "modcods_df = pd.read_pickle('dvbs2.pkl')\n",
    "\n",
    "sys_param.EsN0_req_dB_array = modcods_df['isend'].to_numpy()\n",
    "sys_param.eta_bitsym_array = modcods_df[['eta', 'eta_200MHz', 'eta_300MHz']].to_numpy()\n",
    "sys_param.eta_maee_array = modcods_df[['maee_12', 'maee_12_200MHz', 'maee_12_300MHz']].to_numpy()\n",
    "\n",
    "requirements = Requirements()\n",
    "requirements.min_throughput = 0.5e9\n",
    "#requirements.max_throughput = 5e9\n",
    "\n",
    "problem = BandwidthProblem(instances_df, sys_param, requirements=requirements)\n",
    "\n",
    "sampling, crossover, mutation = design_vector_default_scm(problem.x_length, problem.x_indices)\n",
    "\n",
    "converge_algo_settings = {'pop_size': 200, 'n_offsprings': 50}\n",
    "unconverge_algo_settings = {'pop_size': 100, 'n_offsprings': 20}\n",
    "\n",
    "converge_term_settings = {'f_tol': 0.001, 'n_max_gen': 2000, 'n_max_evals': 200000}\n",
    "unconverge_term_settings =  {'f_tol': 0.005, 'n_max_gen': 100, 'n_max_evals': 2000}\n",
    "\n",
    "converge = True\n",
    "if converge:\n",
    "    algo_settings = converge_algo_settings\n",
    "    term_settings = converge_term_settings\n",
    "    postfix = '_converged'\n",
    "else:\n",
    "    algo_settings = unconverge_algo_settings\n",
    "    term_settings = unconverge_term_settings\n",
    "    postfix = '_unconverged'\n",
    "\n",
    "termination = MultiObjectiveSpaceToleranceTermination(tol=0.00001,\n",
    "                                                      n_last=30,\n",
    "                                                      nth_gen=5,\n",
    "                                                      n_max_gen=5000,\n",
    "                                                      n_max_evals=None)\n",
    "\n",
    "from pymoo.algorithms.nsga2 import NSGA2\n",
    "\n",
    "algorithm = NSGA2(\n",
    "    pop_size=algo_settings['pop_size'],\n",
    "    n_offsprings=algo_settings['n_offsprings'],\n",
    "    sampling=sampling,\n",
    "    crossover=crossover,\n",
    "    mutation=mutation,\n",
    "    eliminate_duplicates=True,\n",
    ")\n",
    "\n",
    "res = minimize(problem,\n",
    "               algorithm,\n",
    "               termination=termination,\n",
    "               seed=1,\n",
    "               #save_history=True,\n",
    "               verbose=True\n",
    "               )\n",
    "\n",
    "#res = minimize(problem, GA())\n",
    "# pool.close()\n",
    "# problem.pool.close()\n",
    "\n",
    "print('Processes:', res.exec_time)\n",
    "print(\"Best solution found: %s\" % res.X)"
   ],
   "metadata": {
    "collapsed": false,
    "pycharm": {
     "name": "#%%\n",
     "is_executing": true
    }
   }
  },
  {
   "cell_type": "code",
   "execution_count": null,
   "outputs": [],
   "source": [
    "import pickle\n",
    "\n",
    "pickle.dump(res, open('bandwidth_res.pkl', 'wb'))"
   ],
   "metadata": {
    "collapsed": false,
    "pycharm": {
     "name": "#%%\n",
     "is_executing": true
    }
   }
  },
  {
   "cell_type": "code",
   "execution_count": null,
   "outputs": [],
   "source": [
    "res = pickle.load(open('bandwidth_res.pkl', 'rb'))"
   ],
   "metadata": {
    "collapsed": false,
    "pycharm": {
     "name": "#%%\n",
     "is_executing": true
    }
   }
  },
  {
   "cell_type": "code",
   "execution_count": null,
   "outputs": [],
   "source": [
    "x_pass = res.X[:, problem.x_indices['pass']].astype('bool')\n",
    "x_Ptx_dBm = res.X[:, problem.x_indices['power']].astype('float64')\n",
    "x_Ptx_dBm[~x_pass] = np.NaN\n",
    "x_Ptx_dBm = np.nanmax(x_Ptx_dBm, axis=1)\n",
    "#x_modcod = np.squeeze(res.X[:, problem.x_indices['modcod']].astype('int64'))\n",
    "\n",
    "f_energy = res.F[:,1] / 1e3 # Kilo Joule\n",
    "f_throughput = ((res.F[:,0] * -1) / 1e9)   # Gigabit"
   ],
   "metadata": {
    "collapsed": false,
    "pycharm": {
     "name": "#%% Extract variables from result\n",
     "is_executing": true
    }
   }
  },
  {
   "cell_type": "code",
   "execution_count": null,
   "outputs": [],
   "source": [
    "import colorcet as cc\n",
    "\n",
    "from matplotlib.lines import Line2D\n",
    "import numpy as np\n",
    "import matplotlib.pyplot as plt\n",
    "#from PlotUtil import apply_report_formatting, apply_report_formatting_single\n",
    "import matplotlib.colors as mcol\n",
    "import matplotlib.cm as cm\n",
    "\n",
    "isend_req = 10.69\n",
    "\n",
    "fig = plt.figure(figsize=(3.2, 2.4))\n",
    "\n",
    "ax = fig.add_subplot(1,1,1)\n",
    "ax.grid()\n",
    "ax.set_axisbelow(True)\n",
    "\n",
    "cm1 = mcol.LinearSegmentedColormap.from_list(\"BlueRed\",[\"c\",\"r\"])\n",
    "#cm1 = mcol.LinearSegmentedColormap.from_list(\"BlueRed\",[\"#4a569d\",\"#dc2424\"])\n",
    "#cm1 = cc.cm.linear_kryw_5_100_c67_r\n",
    "#cm1 = cc.cm.CET_L18\n",
    "\n",
    "min_Ptx = np.nanmin(x_Ptx_dBm)\n",
    "max_Ptx = np.nanmax(x_Ptx_dBm)\n",
    "\n",
    "cnorm = mcol.Normalize(vmin=min_Ptx,vmax=max_Ptx)\n",
    "\n",
    "cpick = cm.ScalarMappable(norm=cnorm,cmap=cm1)\n",
    "cpick.set_array([])\n",
    "\n",
    "cp = cpick.to_rgba(x_Ptx_dBm.tolist())\n",
    "ax.scatter(f_energy, f_throughput, c=cp, marker='.', s=1)\n",
    "\n",
    "ax.set_xlabel(\"Energy used [kJ]\")\n",
    "ax.set_ylabel(\"Throughput [Gbit]\")\n",
    "cb = plt.colorbar(cpick,label=\"Maximum power [dBm]\")\n",
    "cb.ax.tick_params(labelsize=8)\n",
    "cb.ax.yaxis.label.set_size(8)\n",
    "\n",
    "PlotUtil.apply_report_formatting(4.72, 2.76)\n",
    "plt.tight_layout()\n",
    "\n",
    "fig.savefig('D:/git/thesis_report_ae/figures/mc_pareto%s.pdf' % postfix)\n",
    "plt.show()\n",
    "plt.close()"
   ],
   "metadata": {
    "collapsed": false,
    "pycharm": {
     "name": "#%% Pareto fronts\n",
     "is_executing": true
    }
   }
  },
  {
   "cell_type": "code",
   "execution_count": null,
   "outputs": [],
   "source": [
    "x_bandwidth = res.X[:, problem.x_indices['bandwidth']].astype('int')\n",
    "B_Hz = sys_param.B_Hz_array[np.squeeze(x_bandwidth)] / 1e6\n",
    "\n",
    "fig = plt.figure(figsize=(3.2, 2.4))\n",
    "\n",
    "ax = fig.add_subplot(1,1,1)\n",
    "ax.grid()\n",
    "ax.set_axisbelow(True)\n",
    "\n",
    "ax.scatter(B_Hz, f_throughput, marker='.', s=2)\n",
    "#ax.set_xscale('log')\n",
    "ax.set_xlabel(\"Bandwidth [MHz]\")\n",
    "ax.set_ylabel(\"Throughput [Gbit]\")\n",
    "#ax.set_xlim((, 11))\n",
    "ax.set_ylim((0, 1200))\n",
    "\n",
    "PlotUtil.apply_report_formatting(3.146, 2.76)\n",
    "plt.tight_layout()\n",
    "\n",
    "#fig.savefig('D:/git/thesis_report_ae/figures/vcm_modcod_vs_throughput.pdf')"
   ],
   "metadata": {
    "collapsed": false,
    "pycharm": {
     "name": "#%% Throughput vs bandwidth\n",
     "is_executing": true
    }
   }
  },
  {
   "cell_type": "code",
   "execution_count": null,
   "outputs": [],
   "source": [
    "fig = plt.figure(figsize=(3.2, 2.4))\n",
    "\n",
    "ax = fig.add_subplot(1,1,1)\n",
    "ax.grid()\n",
    "ax.set_axisbelow(True)\n",
    "\n",
    "ax.scatter(np.sum(x_pass, axis=1), f_throughput, marker='.', s=1)\n",
    "ax.set_xlabel(\"Number of passes used\")\n",
    "ax.set_ylabel(\"Throughput [Gbit]\")\n",
    "ax.set_xlim((0, 20))\n",
    "ax.set_ylim((0, 1200))\n",
    "\n",
    "PlotUtil.apply_report_formatting(3.146, 2.76)\n",
    "plt.tight_layout()\n",
    "\n",
    "#fig.savefig('D:/git/thesis_report_ae/figures/vcm_modcod_vs_throughput.pdf')"
   ],
   "metadata": {
    "collapsed": false,
    "pycharm": {
     "name": "#%% Throughput vs number of passes\n",
     "is_executing": true
    }
   }
  },
  {
   "cell_type": "code",
   "execution_count": null,
   "outputs": [],
   "source": [
    "fig = plt.figure(figsize=(3.2, 2.4))\n",
    "\n",
    "import matplotlib.pyplot as plt\n",
    "from pymoo.performance_indicator.hv import Hypervolume\n",
    "\n",
    "# create the performance indicator object with reference point (4,4)\n",
    "metric = Hypervolume(ref_point=np.array([0,1e18]))\n",
    "\n",
    "# collect the population in each generation\n",
    "pop_each_gen = [a.pop for a in res.history]\n",
    "\n",
    "# receive the population in each generation\n",
    "obj_and_feasible_each_gen = [pop[pop.get(\"feasible\")[:,0]].get(\"F\") for pop in pop_each_gen]\n",
    "\n",
    "# calculate for each generation the HV metric\n",
    "hv = [metric.calc(f) for f in obj_and_feasible_each_gen]\n",
    "\n",
    "# function evaluations at each snapshot\n",
    "n_evals = np.array([a.evaluator.n_eval for a in res.history])\n",
    "\n",
    "# visualze the convergence curve\n",
    "plt.plot(n_evals, hv, '-o', markersize=3)\n",
    "plt.title(\"Convergence\")\n",
    "plt.xlabel(\"Function Evaluations\")\n",
    "plt.ylabel(\"Hypervolume\")\n",
    "PlotUtil.apply_report_formatting()\n",
    "plt.tight_layout()\n",
    "plt.grid()\n",
    "#plt.savefig('D:/git/thesis_report_ae/figures/link_budget_hypervolume%s.svg' % postfix)\n",
    "fig.savefig('D:/git/thesis_report_ae/figures/visibility_hypervolume%s.pdf' % postfix)\n",
    "plt.show()\n",
    "plt.close()\n"
   ],
   "metadata": {
    "collapsed": false,
    "pycharm": {
     "name": "#%%\n",
     "is_executing": true
    }
   }
  }
 ],
 "metadata": {
  "kernelspec": {
   "name": "pycharm-34b782de",
   "language": "python",
   "display_name": "PyCharm (hermes-simulator)"
  },
  "language_info": {
   "codemirror_mode": {
    "name": "ipython",
    "version": 3
   },
   "file_extension": ".py",
   "mimetype": "text/x-python",
   "name": "python",
   "nbconvert_exporter": "python",
   "pygments_lexer": "ipython3",
   "version": "3.7.6"
  }
 },
 "nbformat": 4,
 "nbformat_minor": 1
}