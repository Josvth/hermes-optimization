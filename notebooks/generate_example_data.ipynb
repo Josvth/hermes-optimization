{
 "cells": [
  {
   "cell_type": "code",
   "execution_count": 2,
   "outputs": [
    {
     "name": "stdout",
     "output_type": "stream",
     "text": [
      "gzip was not found on your system! You should solve this issue for astroquery.eso to be at its best!\n",
      "On POSIX system: make sure gzip is installed and in your path!On Windows: same for 7-zip (http://www.7-zip.org)!\n"
     ]
    }
   ],
   "source": [
    "import os\n",
    "from mayavi import mlab\n",
    "from tvtk.tvtk_access import tvtk\n",
    "import hermes\n",
    "from hermes.analysis import LOSAnalysis\n",
    "from hermes.objects import Satellite, SatGroup, Earth, Constellation\n",
    "from hermes.scenario import Scenario\n",
    "from hermes.simulation import Simulation\n",
    "from hermes.util import hex2rgb\n",
    "\n",
    "from astropy import units as u, time\n",
    "import numpy as np\n",
    "\n",
    "# PDF exporter defaults\n",
    "ex = tvtk.GL2PSExporter()\n",
    "ex.file_format = 'pdf'\n",
    "ex.sort = 'bsp'\n",
    "ex.compress = 1\n",
    "#ex.edit_traits(kind='livemodal')\n",
    "\n",
    "%matplotlib inline\n",
    "%load_ext autoreload\n",
    "\n",
    "%autoreload 2"
   ],
   "metadata": {
    "collapsed": false,
    "pycharm": {
     "name": "#%%\n"
    }
   }
  },
  {
   "cell_type": "markdown",
   "source": [
    "### Example constellation"
   ],
   "metadata": {
    "collapsed": false
   }
  },
  {
   "cell_type": "code",
   "execution_count": 3,
   "outputs": [
    {
     "name": "stderr",
     "output_type": "stream",
     "text": [
      "C:\\git\\hermes-optimization\\cenv\\lib\\site-packages\\astropy\\units\\decorators.py:222: UserWarning: Wrapping true anomaly to -π <= nu < π\n",
      "  return_ = wrapped_function(*func_args, **func_kwargs)\n"
     ]
    }
   ],
   "source": [
    "def _Example():\n",
    "\n",
    "    n_pol_planes = 6\n",
    "    pol_set = SatGroup.as_set(Earth.poli_body,\n",
    "                            a=Earth.poli_body.R_mean + 1000 * u.km, ecc=0 * u.one, inc=99.5 * u.deg,\n",
    "                            rraan=np.array([0, 63.2, 94.8, 126.4, 158.0, 31.6]) * u.deg,\n",
    "                            aargp=np.repeat(0 * u.deg, n_pol_planes),\n",
    "                            nnnu=[np.arange(345, 0, -30) * u.deg] * n_pol_planes)\n",
    "    pol_set.color = hex2rgb(\"#0074D9\")\n",
    "    pol_set.fov = 45 * u.deg\n",
    "\n",
    "    n_inc_planes = 5\n",
    "    inc_set = SatGroup.as_set(Earth.poli_body,\n",
    "                            a=Earth.poli_body.R_mean + 1248 * u.km, ecc=0 * u.one, inc=37.4 * u.deg,\n",
    "                            rraan=np.array([0, 36.0, 72.0, 108.0, 144.0]) * u.deg,\n",
    "                            aargp=np.repeat(0 * u.deg, n_inc_planes),\n",
    "                            nnnu=[np.arange(320, -10, -40) * u.deg] * n_inc_planes)\n",
    "    inc_set.color = hex2rgb(\"#FF4136\")\n",
    "    inc_set.fov = 45 * u.deg\n",
    "\n",
    "    constellation = Constellation(name='Example')\n",
    "    constellation.append(pol_set)\n",
    "    constellation.append(inc_set)\n",
    "\n",
    "    return constellation\n",
    "\n",
    "Example = _Example()"
   ],
   "metadata": {
    "collapsed": false,
    "pycharm": {
     "name": "#%%\n"
    }
   }
  },
  {
   "cell_type": "code",
   "execution_count": 4,
   "outputs": [
    {
     "name": "stdout",
     "output_type": "stream",
     "text": [
      "Initializing attractor\n",
      "Initializing 118 satellites...\n",
      "Initializing analysis 1 of 1...\n"
     ]
    },
    {
     "name": "stderr",
     "output_type": "stream",
     "text": [
      "Simulation progress: 100%|██████████| 86400/86400 [00:55<00:00, 1569.80it/s]\n"
     ]
    }
   ],
   "source": [
    "start = time.Time('2019-09-01 10:00:00.000', scale='tt')        # Start time of simulation\n",
    "stop = time.Time('2019-09-02 10:00:00.000', scale='tt')         # Stop time of simulation\n",
    "step = 1 * u.s\n",
    "\n",
    "scenario = Scenario(start, stop, step, hermes.objects.Earth, name='Example')\n",
    "\n",
    "# Make a new Satellite object and give it a cyan color\n",
    "sat_400_51 = Satellite.circular(hermes.objects.Earth.poli_body, 400 * u.km, inc=51.6 * u.deg, raan=0 * u.deg, arglat=0 * u.deg)\n",
    "sat_400_51.color = hex2rgb('#00ffff')\n",
    "sat_400_51.name = 'sat_400km_51deg'\n",
    "#sat_400_51.J2_perturbation = True\n",
    "\n",
    "sat_500_97 = Satellite.circular(hermes.objects.Earth.poli_body, 500 * u.km, inc=90.0 * u.deg, raan=0 * u.deg, arglat=0 * u.deg)\n",
    "sat_500_97.color = hex2rgb('#00ffff')\n",
    "sat_500_97.name = 'sat_500km_97deg'\n",
    "#sat_500_97.J2_perturbation = True\n",
    "\n",
    "# And we add it to the scenario\n",
    "#scenario.add_satellite(sat_400_51)\n",
    "scenario.add_satellite(sat_500_97)\n",
    "\n",
    "# Add the constellation\n",
    "constellation = Example\n",
    "scenario.add_satellite(constellation)\n",
    "\n",
    "# Add line-of-sight analysis\n",
    "#scenario.add_analysis(LOSAnalysis(scenario, sat_400_51, constellation))\n",
    "scenario.add_analysis(LOSAnalysis(scenario, sat_500_97, constellation))\n",
    "\n",
    "# Initialise the scenario\n",
    "scenario.initialise()\n",
    "\n",
    "simulation = Simulation(scenario, show_3d=False)\n",
    "simulation.run()"
   ],
   "metadata": {
    "collapsed": false,
    "pycharm": {
     "name": "#%% Contact simulation\n"
    }
   }
  },
  {
   "cell_type": "code",
   "execution_count": 2,
   "outputs": [],
   "source": [
    "columns = ['strand_name', 'tof',\n",
    "           'r_a_x', 'r_a_y', 'r_a_z',\n",
    "           'v_a_x', 'v_a_y', 'v_a_z',\n",
    "           'r_b_x', 'r_b_y', 'r_b_z']\n",
    "\n",
    "file_path = \"2021-02-22_09-53-18_Example_LOSAnalysis_sat_500km_97deg_to_Example.h5\"\n",
    "\n",
    "row_limit = -1\n",
    "\n",
    "import pandas as pd\n",
    "\n",
    "store_500km = pd.HDFStore(file_path)\n",
    "instances_500km_df = store_500km.select('contact_instances', 'columns = %s' % str(columns), stop = row_limit)\n",
    "\n",
    "# Sort by pass id\n",
    "instances_500km_df = instances_500km_df.sort_index(0)\n",
    "\n",
    "from hermes.postprocessing import *\n",
    "\n",
    "# Add range column d\n",
    "instances_500km_df = add_range(instances_500km_df)\n",
    "\n",
    "# Add sff\n",
    "instances_500km_df = add_sff(instances_500km_df)\n",
    "\n",
    "instances_500km_df.to_hdf('example_data.h5', 'contact_instances', format='table')"
   ],
   "metadata": {
    "collapsed": false,
    "pycharm": {
     "name": "#%% Create post-processed data file\n"
    }
   }
  }
 ],
 "metadata": {
  "kernelspec": {
   "name": "pycharm-34b782de",
   "language": "python",
   "display_name": "PyCharm (hermes-simulator)"
  },
  "language_info": {
   "codemirror_mode": {
    "name": "ipython",
    "version": 2
   },
   "file_extension": ".py",
   "mimetype": "text/x-python",
   "name": "python",
   "nbconvert_exporter": "python",
   "pygments_lexer": "ipython2",
   "version": "2.7.6"
  }
 },
 "nbformat": 4,
 "nbformat_minor": 0
}