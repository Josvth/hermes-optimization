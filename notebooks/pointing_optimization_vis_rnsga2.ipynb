{
 "cells": [
  {
   "cell_type": "code",
   "execution_count": 10,
   "metadata": {
    "pycharm": {
     "name": "#%%\n"
    }
   },
   "outputs": [
    {
     "name": "stdout",
     "output_type": "stream",
     "text": [
      "The autoreload extension is already loaded. To reload it, use:\n",
      "  %reload_ext autoreload\n"
     ]
    }
   ],
   "source": [
    "import pandas as pd\n",
    "import numpy as np\n",
    "from pymoo.optimize import minimize\n",
    "import pickle\n",
    "\n",
    "from pymoo.util.termination.f_tol import MultiObjectiveSpaceToleranceTermination\n",
    "from pymoo.visualization.scatter import Scatter\n",
    "from notebooks.optimization_problems.constraints import Requirements\n",
    "from pyreport import PlotUtil\n",
    "import matplotlib.pyplot as plt\n",
    "\n",
    "%load_ext autoreload\n",
    "\n",
    "%autoreload 2\n",
    "\n",
    "plt.close()"
   ]
  },
  {
   "cell_type": "code",
   "execution_count": 11,
   "metadata": {
    "pycharm": {
     "name": "#%% Limit number of passes\n"
    }
   },
   "outputs": [
    {
     "ename": "FileNotFoundError",
     "evalue": "[Errno 2] No such file or directory: 'pointing_res_rnsga2.pkl'",
     "output_type": "error",
     "traceback": [
      "\u001B[1;31m---------------------------------------------------------------------------\u001B[0m",
      "\u001B[1;31mFileNotFoundError\u001B[0m                         Traceback (most recent call last)",
      "\u001B[1;32m<ipython-input-11-9d78d21b58ed>\u001B[0m in \u001B[0;36m<module>\u001B[1;34m\u001B[0m\n\u001B[0;32m      3\u001B[0m \u001B[1;31m#res = pickle.load(open('pointing_res_nsga2.pkl' % (setting['label']), 'rb'))\u001B[0m\u001B[1;33m\u001B[0m\u001B[1;33m\u001B[0m\u001B[1;33m\u001B[0m\u001B[0m\n\u001B[0;32m      4\u001B[0m \u001B[1;31m#res = pickle.load(open('pointing_res_nsga3.pkl' % (setting['label']), 'rb'))\u001B[0m\u001B[1;33m\u001B[0m\u001B[1;33m\u001B[0m\u001B[1;33m\u001B[0m\u001B[0m\n\u001B[1;32m----> 5\u001B[1;33m \u001B[0mproblem\u001B[0m\u001B[1;33m,\u001B[0m \u001B[0msetting\u001B[0m\u001B[1;33m,\u001B[0m \u001B[0mres\u001B[0m \u001B[1;33m=\u001B[0m \u001B[0mpickle\u001B[0m\u001B[1;33m.\u001B[0m\u001B[0mload\u001B[0m\u001B[1;33m(\u001B[0m\u001B[0mopen\u001B[0m\u001B[1;33m(\u001B[0m\u001B[1;34m'pointing_res_rnsga2.pkl'\u001B[0m\u001B[1;33m,\u001B[0m \u001B[1;34m'rb'\u001B[0m\u001B[1;33m)\u001B[0m\u001B[1;33m)\u001B[0m\u001B[1;33m\u001B[0m\u001B[1;33m\u001B[0m\u001B[0m\n\u001B[0m\u001B[0;32m      6\u001B[0m \u001B[1;33m\u001B[0m\u001B[0m\n",
      "\u001B[1;31mFileNotFoundError\u001B[0m: [Errno 2] No such file or directory: 'pointing_res_rnsga2.pkl'"
     ]
    }
   ],
   "source": [
    "N_passes = 20\n",
    "\n",
    "#res = pickle.load(open('pointing_res_nsga2.pkl' % (setting['label']), 'rb'))\n",
    "#res = pickle.load(open('pointing_res_nsga3.pkl' % (setting['label']), 'rb'))\n",
    "problem, setting, res = pickle.load(open('pointing_res_rnsga2.pkl', 'rb'))"
   ]
  },
  {
   "cell_type": "code",
   "execution_count": null,
   "metadata": {
    "pycharm": {
     "name": "#%% Extract variables from result\n"
    }
   },
   "outputs": [],
   "source": [
    "x_pass = res.X[:, problem.x_indices['pass']].astype('bool')\n",
    "x_Ptx_dBm = res.X[:, problem.x_indices['power']].astype('float64')\n",
    "x_Ptx_dBm[~x_pass] = np.NaN\n",
    "x_Ptx_dBm = np.nanmax(x_Ptx_dBm, axis=1)\n",
    "#x_modcod = np.squeeze(res.X[:, problem.x_indices['modcod']].astype('int64'))\n",
    "\n",
    "f_pointing = res.F[:, 2]\n",
    "f_energy = res.F[:,1] / 1e3 # Kilo Joule\n",
    "f_throughput = ((res.F[:,0] * -1) / 1e9)   # Gigabit"
   ]
  },
  {
   "cell_type": "code",
   "execution_count": null,
   "outputs": [],
   "source": [
    "points = []\n",
    "F_norm = res.F[:,1:3] / np.max(res.F[:,1:3], axis=0)\n",
    "\n",
    "# Max throughput point\n",
    "ind = np.argmax(f_throughput)\n",
    "p = np.array([f_energy[ind], f_pointing[ind], f_throughput[ind]])\n",
    "points.append({'ind': ind, 'p': p, 'color': 'r', 'marker': '.', 'size': 10, 'label': 'Max T\\n(%d Gbit, %d kJ, %d s)' % (f_throughput[ind], f_energy[ind], f_pointing[ind])})\n",
    "\n",
    "# Max E, minimum P point\n",
    "ref = np.array([1, 0])\n",
    "ind = np.argmin(np.linalg.norm(F_norm - ref, axis = 1))\n",
    "p = np.array([f_energy[ind], f_pointing[ind], f_throughput[ind]])\n",
    "points.append({'ind': ind, 'p': p, 'color': 'g', 'marker': '.', 'size': 10, 'label': 'Max E Min P\\n(%d Gbit, %d kJ, %d s)' % (f_throughput[ind], f_energy[ind], f_pointing[ind])})\n",
    "\n",
    "# # Max E, minimum P point\n",
    "# ref = np.array([0.5, 0.5])\n",
    "# ind = np.argmin(np.linalg.norm(F_norm - ref, axis = 1))\n",
    "# p = np.array([f_energy[ind], f_pointing[ind], f_throughput[ind]])\n",
    "# points.append({'ind': ind, 'p': p, 'color': 'b', 'label': 'Mid \\n(%d Gbit, %d kJ, %d s)' % (f_throughput[ind], f_energy[ind], f_pointing[ind])})\n",
    "\n",
    "# Reference points\n",
    "ref_points = setting['algorithm'].survival.ref_points / np.array([-1e9, 1e3, 1])\n",
    "points.append({'ind': ind, 'p': ref_points[0,:], 'color': 'g', 'marker': 'x', 'size': 10, 'label': 'Target 1\\n(%d Gbit, %d kJ, %d s)' % (ref_points[0,0], ref_points[0,1], ref_points[0,2])})\n",
    "points.append({'ind': ind, 'p': ref_points[1,:], 'color': 'g', 'marker': 'x', 'size': 10, 'label': 'Target 2\\n(%d Gbit, %d kJ, %d s)' % (ref_points[1,0], ref_points[1,1], ref_points[1,2])})"
   ],
   "metadata": {
    "collapsed": false,
    "pycharm": {
     "name": "#%% Marked points\n"
    }
   }
  },
  {
   "cell_type": "code",
   "execution_count": null,
   "outputs": [],
   "source": [
    "T_lim = (0, 1850)\n",
    "E_lim = (0, 120)\n",
    "P_lim = (0, 2000)"
   ],
   "metadata": {
    "collapsed": false,
    "pycharm": {
     "name": "#%% Limits\n"
    }
   }
  },
  {
   "cell_type": "code",
   "execution_count": null,
   "metadata": {
    "pycharm": {
     "name": "#%% Pareto fronts 3D\n"
    }
   },
   "outputs": [],
   "source": [
    "%matplotlib\n",
    "plt.close()\n",
    "\n",
    "fig = plt.figure(figsize=(3.2, 2.4))\n",
    "ax = fig.add_subplot(111, projection='3d', proj_type = 'ortho')\n",
    "\n",
    "ax.scatter(f_energy, f_pointing, f_throughput, color='#1f77b4', marker='.', s=1)\n",
    "for point in points:\n",
    "    ax.scatter(point['p'][0], point['p'][1], point['p'][2],\n",
    "               color=point['color'], s=point['size'], marker=point['marker'], label=point['label'])\n",
    "\n",
    "ax.set_xlabel(\"Energy used [kJ]\")\n",
    "ax.set_ylabel(\"Pointing [s]\")\n",
    "ax.set_zlabel(\"Throughput [Gbit]\")\n",
    "\n",
    "ax.set_xlim(E_lim)\n",
    "ax.set_ylim(P_lim)\n",
    "ax.set_zlim(T_lim)\n",
    "\n",
    "#ax.invert_xaxis()\n",
    "#ax.invert_yaxis()\n",
    "\n",
    "PlotUtil.apply_report_formatting_3D()\n",
    "plt.tight_layout(pad=1.5, rect=(-0.1, -0.05, 1.15, 1.15))\n",
    "ax.view_init(15, -140)\n",
    "\n",
    "plt.ion()\n",
    "#plt.show()\n",
    "\n",
    "fig.savefig('D:/git/thesis_report_ae/figures/pointing_pareto_3d_%s.pdf' % setting['label'])\n",
    "\n",
    "# Plot a legend\n",
    "fig, ax = plt.subplots(figsize=(3.2, 2.4))\n",
    "\n",
    "for point in points:\n",
    "    ax.scatter(np.nan, np.nan, color=point['color'], s=10, label=point['label'])\n",
    "\n",
    "ax.set_axis_off()\n",
    "PlotUtil.apply_report_formatting()\n",
    "ax.legend(fontsize=8)\n",
    "fig.savefig('D:/git/thesis_report_ae/figures/pointing_pareto_3d_%s_leg.pdf' % setting['label'])"
   ]
  },
  {
   "cell_type": "code",
   "execution_count": null,
   "metadata": {
    "pycharm": {
     "name": "#%% Pareto fronts multiple\n"
    }
   },
   "outputs": [],
   "source": [
    "fig = plt.figure(figsize=(3.2*3, 2.4))\n",
    "axs = fig.subplots(1,3)\n",
    "\n",
    "ax = axs[0]\n",
    "ax.grid(True)\n",
    "ax.scatter(f_energy, f_throughput, marker='.', s=1)\n",
    "for point in points:\n",
    "    ax.scatter(point['p'][0], point['p'][2],\n",
    "               color=point['color'], s=point['size'], marker=point['marker'], label=point['label'])\n",
    "\n",
    "\n",
    "# for d in np.arange(len(f_throughput)):\n",
    "#     ax.text(f_energy[d], f_throughput[d], '%d' % d)\n",
    "\n",
    "ax.set_xlabel(\"Energy used [kJ]\")\n",
    "ax.set_ylabel(\"Throughput [Gbit]\")\n",
    "ax.set_xlim(E_lim)\n",
    "ax.set_ylim(T_lim)\n",
    "\n",
    "ax = axs[1]\n",
    "ax.grid(True)\n",
    "ax.scatter(f_pointing, f_throughput, marker='.', s=1)\n",
    "for point in points:\n",
    "    ax.scatter(point['p'][1], point['p'][2],\n",
    "               color=point['color'], s=point['size'], marker=point['marker'], label=point['label'])\n",
    "\n",
    "ax.set_xlabel(\"Pointing [s]\")\n",
    "ax.set_ylabel(\"Throughput [Gbit]\")\n",
    "ax.set_xlim(P_lim)\n",
    "ax.set_ylim(T_lim)\n",
    "\n",
    "ax = axs[2]\n",
    "ax.grid(True)\n",
    "ax.scatter(f_energy, f_pointing, marker='.', s=1)\n",
    "for point in points:\n",
    "    ax.scatter(point['p'][0], point['p'][1],\n",
    "               color=point['color'], s=point['size'], marker=point['marker'], label=point['label'])\n",
    "\n",
    "# ax.scatter(p_maxTminP[0], p_maxTminP[1], color='b', s=10)\n",
    "# ax.scatter(p_minEminP[0], p_minEminP[1], color='y', s=10)\n",
    "ax.set_xlabel(\"Energy used [kJ]\")\n",
    "ax.set_ylabel(\"Pointing [s]\")\n",
    "ax.set_xlim(E_lim)\n",
    "ax.set_ylim(P_lim)\n",
    "\n",
    "plt.tight_layout()\n",
    "\n",
    "fig.savefig('D:/git/thesis_report_ae/figures/pointing_pareto_tri_%s.pdf' % setting['label'])"
   ]
  },
  {
   "cell_type": "code",
   "execution_count": null,
   "outputs": [],
   "source": [
    "fig = plt.figure(figsize=(3.2, 2.4))\n",
    "ax = fig.add_subplot(111, projection='3d', proj_type = 'ortho')\n",
    "\n",
    "ref_points_plt = np.abs(ref_points / np.max(ref_points))\n",
    "\n",
    "ax.scatter(0, 1, 1, color='g', marker='x', s=20)\n",
    "ax.scatter(1, 0, 1, color='r', marker='x', s=20)\n",
    "\n",
    "ax.set_xlabel(\"Energy used [kJ]\")\n",
    "ax.set_zlabel(\"Throughput [Gbit]\")\n",
    "ax.set_ylabel(\"Pointing [s]\")\n",
    "\n",
    "ax.set_xlim((0,1))\n",
    "ax.set_ylim((0,1))\n",
    "ax.set_zlim((0,1))\n",
    "\n",
    "PlotUtil.apply_report_formatting_3D()\n",
    "plt.tight_layout(pad=1.5, rect=(-0.1, -0.05, 1.15, 1.15))\n",
    "ax.view_init(20, -135)\n",
    "\n",
    "plt.ion()\n",
    "#plt.show()\n",
    "\n",
    "fig.savefig('D:/git/thesis_report_ae/figures/pointing_reference_points.pdf')"
   ],
   "metadata": {
    "collapsed": false,
    "pycharm": {
     "name": "#%% Plot ref point example\n"
    }
   }
  },
  {
   "cell_type": "code",
   "execution_count": null,
   "outputs": [],
   "source": [
    "print('ax.azim {}'.format(ax.azim))\n",
    "print('ax.elev {}'.format(ax.elev))"
   ],
   "metadata": {
    "collapsed": false,
    "pycharm": {
     "name": "#%%\n"
    }
   }
  }
 ],
 "metadata": {
  "kernelspec": {
   "display_name": "PyCharm (hermes-simulator)",
   "language": "python",
   "name": "pycharm-34b782de"
  },
  "language_info": {
   "codemirror_mode": {
    "name": "ipython",
    "version": 3
   },
   "file_extension": ".py",
   "mimetype": "text/x-python",
   "name": "python",
   "nbconvert_exporter": "python",
   "pygments_lexer": "ipython3",
   "version": "3.7.10"
  }
 },
 "nbformat": 4,
 "nbformat_minor": 1
}