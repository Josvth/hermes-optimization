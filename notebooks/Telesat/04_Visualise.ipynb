{
 "cells": [
  {
   "cell_type": "code",
   "execution_count": 1,
   "outputs": [
    {
     "name": "stdout",
     "output_type": "stream",
     "text": [
      "Using matplotlib backend: Qt5Agg\n"
     ]
    }
   ],
   "source": [
    "import pandas as pd\n",
    "import numpy as np\n",
    "from pymoo.optimize import minimize\n",
    "import pickle\n",
    "\n",
    "from pymoo.util.termination.f_tol import MultiObjectiveSpaceToleranceTermination\n",
    "from pymoo.visualization.scatter import Scatter\n",
    "import contact\n",
    "from notebooks.optimization_problems.constraints import Requirements\n",
    "from pyreport import PlotUtil\n",
    "import matplotlib.pyplot as plt\n",
    "\n",
    "%matplotlib\n",
    "\n",
    "plt.close('all')"
   ],
   "metadata": {
    "collapsed": false,
    "pycharm": {
     "name": "#%%\n"
    }
   }
  },
  {
   "cell_type": "code",
   "execution_count": 2,
   "outputs": [],
   "source": [
    "columns = ['strand_name', 'tof',\n",
    "           'r_a_x', 'r_a_y', 'r_a_z',\n",
    "           'v_a_x', 'v_a_y', 'v_a_z',\n",
    "           'r_b_x', 'r_b_y', 'r_b_z',\n",
    "           'd',\n",
    "           'r_ab_sff_x', 'r_ab_sff_y', 'r_ab_sff_z']\n",
    "\n",
    "file_path = \"telesat_post_processed.h5\"\n",
    "\n",
    "row_limit = -1\n",
    "\n",
    "store_500km = pd.HDFStore(file_path)\n",
    "\n",
    "instances_500km_df = store_500km.select('contact_instances', 'columns = %s' % str(columns), stop = row_limit)\n",
    "\n",
    "# Sort by pass id\n",
    "instances_500km_df = instances_500km_df.sort_index(0)"
   ],
   "metadata": {
    "collapsed": false,
    "pycharm": {
     "name": "#%% Import data files from visibility analysis at 500 km\n"
    }
   }
  },
  {
   "cell_type": "code",
   "execution_count": 3,
   "outputs": [
    {
     "name": "stdout",
     "output_type": "stream",
     "text": [
      "n_gen: 5100\n"
     ]
    }
   ],
   "source": [
    "# problem, setting, res = pickle.load(open('Telesat_nsga3_200_5000.pkl', 'rb'))\n",
    "# problem, setting, res = pickle.load(open('Telesat_rnsga2_100_25.pkl', 'rb'))\n",
    "# problem, setting, res = pickle.load(open('Telesat_unsga3_200_50.pkl', 'rb'))\n",
    "# problem, setting, res = pickle.load(open('Telesat_unsga3_500_125.pkl', 'rb'))\n",
    "problem, setting, res = pickle.load(open('Telesat_unsga3_100_25.pkl', 'rb'))\n",
    "problem, setting, res = pickle.load(open('Telesat_unsga3_400_100.pkl', 'rb'))\n",
    "problem, setting, res = pickle.load(open('Telesat_downselect_unsga3_600_150.pkl', 'rb'))\n",
    "\n",
    "print(\"n_gen: %d\" % res.algorithm.n_gen)\n",
    "pass"
   ],
   "metadata": {
    "collapsed": false,
    "pycharm": {
     "name": "#%% Limit number of passes\n"
    }
   }
  },
  {
   "cell_type": "code",
   "execution_count": 4,
   "outputs": [
    {
     "ename": "KeyboardInterrupt",
     "evalue": "",
     "output_type": "error",
     "traceback": [
      "\u001B[1;31m---------------------------------------------------------------------------\u001B[0m",
      "\u001B[1;31mKeyboardInterrupt\u001B[0m                         Traceback (most recent call last)",
      "\u001B[1;32m_ctypes/callbacks.c\u001B[0m in \u001B[0;36m'calling callback function'\u001B[1;34m()\u001B[0m\n",
      "\u001B[1;32mC:\\git\\hermes-optimization\\cenv\\lib\\site-packages\\llvmlite\\binding\\executionengine.py\u001B[0m in \u001B[0;36m_raw_object_cache_notify\u001B[1;34m(self, data)\u001B[0m\n\u001B[0;32m    169\u001B[0m         \u001B[0mffi\u001B[0m\u001B[1;33m.\u001B[0m\u001B[0mlib\u001B[0m\u001B[1;33m.\u001B[0m\u001B[0mLLVMPY_SetObjectCache\u001B[0m\u001B[1;33m(\u001B[0m\u001B[0mself\u001B[0m\u001B[1;33m,\u001B[0m \u001B[0mself\u001B[0m\u001B[1;33m.\u001B[0m\u001B[0m_object_cache\u001B[0m\u001B[1;33m)\u001B[0m\u001B[1;33m\u001B[0m\u001B[1;33m\u001B[0m\u001B[0m\n\u001B[0;32m    170\u001B[0m \u001B[1;33m\u001B[0m\u001B[0m\n\u001B[1;32m--> 171\u001B[1;33m     \u001B[1;32mdef\u001B[0m \u001B[0m_raw_object_cache_notify\u001B[0m\u001B[1;33m(\u001B[0m\u001B[0mself\u001B[0m\u001B[1;33m,\u001B[0m \u001B[0mdata\u001B[0m\u001B[1;33m)\u001B[0m\u001B[1;33m:\u001B[0m\u001B[1;33m\u001B[0m\u001B[1;33m\u001B[0m\u001B[0m\n\u001B[0m\u001B[0;32m    172\u001B[0m         \"\"\"\n\u001B[0;32m    173\u001B[0m         \u001B[0mLow\u001B[0m\u001B[1;33m-\u001B[0m\u001B[0mlevel\u001B[0m \u001B[0mnotify\u001B[0m \u001B[0mhook\u001B[0m\u001B[1;33m.\u001B[0m\u001B[1;33m\u001B[0m\u001B[1;33m\u001B[0m\u001B[0m\n",
      "\u001B[1;31mKeyboardInterrupt\u001B[0m: "
     ]
    },
    {
     "ename": "KeyboardInterrupt",
     "evalue": "",
     "output_type": "error",
     "traceback": [
      "\u001B[1;31m---------------------------------------------------------------------------\u001B[0m",
      "\u001B[1;31mKeyboardInterrupt\u001B[0m                         Traceback (most recent call last)",
      "\u001B[1;32m<ipython-input-4-770da36db434>\u001B[0m in \u001B[0;36m<module>\u001B[1;34m\u001B[0m\n\u001B[0;32m     17\u001B[0m \u001B[1;33m\u001B[0m\u001B[0m\n\u001B[0;32m     18\u001B[0m \u001B[1;32mfor\u001B[0m \u001B[0mi\u001B[0m \u001B[1;32min\u001B[0m \u001B[0mrange\u001B[0m\u001B[1;33m(\u001B[0m\u001B[0mlen\u001B[0m\u001B[1;33m(\u001B[0m\u001B[0mf_throughput\u001B[0m\u001B[1;33m)\u001B[0m\u001B[1;33m)\u001B[0m\u001B[1;33m:\u001B[0m\u001B[1;33m\u001B[0m\u001B[1;33m\u001B[0m\u001B[0m\n\u001B[1;32m---> 19\u001B[1;33m     \u001B[0mff\u001B[0m\u001B[1;33m,\u001B[0m \u001B[0mgg\u001B[0m \u001B[1;33m=\u001B[0m \u001B[0mproblem\u001B[0m\u001B[1;33m.\u001B[0m\u001B[0mevaluate_unmasked\u001B[0m\u001B[1;33m(\u001B[0m\u001B[0mres\u001B[0m\u001B[1;33m.\u001B[0m\u001B[0mX\u001B[0m\u001B[1;33m[\u001B[0m\u001B[0mi\u001B[0m\u001B[1;33m,\u001B[0m\u001B[1;33m:\u001B[0m\u001B[1;33m]\u001B[0m\u001B[1;33m)\u001B[0m\u001B[1;33m\u001B[0m\u001B[1;33m\u001B[0m\u001B[0m\n\u001B[0m\u001B[0;32m     20\u001B[0m     \u001B[0mff\u001B[0m \u001B[1;33m=\u001B[0m \u001B[0mff\u001B[0m \u001B[1;33m*\u001B[0m \u001B[0mscale_factors\u001B[0m\u001B[1;33m\u001B[0m\u001B[1;33m\u001B[0m\u001B[0m\n\u001B[0;32m     21\u001B[0m     \u001B[0mf_pointing\u001B[0m\u001B[1;33m[\u001B[0m\u001B[0mi\u001B[0m\u001B[1;33m]\u001B[0m \u001B[1;33m=\u001B[0m \u001B[0mff\u001B[0m\u001B[1;33m[\u001B[0m\u001B[1;36m3\u001B[0m\u001B[1;33m]\u001B[0m \u001B[1;31m# s\u001B[0m\u001B[1;33m\u001B[0m\u001B[1;33m\u001B[0m\u001B[0m\n",
      "\u001B[1;32mC:\\git\\hermes-optimization\\problems\\combined_problem.py\u001B[0m in \u001B[0;36mevaluate_unmasked\u001B[1;34m(self, x)\u001B[0m\n\u001B[0;32m    122\u001B[0m             \u001B[0mEsN0_req_dB_array\u001B[0m\u001B[1;33m,\u001B[0m \u001B[0meta_bitsym_array\u001B[0m\u001B[1;33m,\u001B[0m \u001B[0meta_maee_array\u001B[0m\u001B[1;33m,\u001B[0m \u001B[0mself\u001B[0m\u001B[1;33m.\u001B[0m\u001B[0msys_param\u001B[0m\u001B[1;33m.\u001B[0m\u001B[0mmargin_dB\u001B[0m\u001B[1;33m,\u001B[0m\u001B[1;33m\u001B[0m\u001B[1;33m\u001B[0m\u001B[0m\n\u001B[0;32m    123\u001B[0m             \u001B[0mself\u001B[0m\u001B[1;33m.\u001B[0m\u001B[0mreqs\u001B[0m\u001B[1;33m.\u001B[0m\u001B[0mmin_throughput\u001B[0m\u001B[1;33m,\u001B[0m \u001B[0mself\u001B[0m\u001B[1;33m.\u001B[0m\u001B[0mreqs\u001B[0m\u001B[1;33m.\u001B[0m\u001B[0mmax_throughput\u001B[0m\u001B[1;33m,\u001B[0m \u001B[0mself\u001B[0m\u001B[1;33m.\u001B[0m\u001B[0mreqs\u001B[0m\u001B[1;33m.\u001B[0m\u001B[0mmax_latency\u001B[0m\u001B[1;33m,\u001B[0m \u001B[0mself\u001B[0m\u001B[1;33m.\u001B[0m\u001B[0mreqs\u001B[0m\u001B[1;33m.\u001B[0m\u001B[0mmax_energy\u001B[0m\u001B[1;33m,\u001B[0m\u001B[1;33m\u001B[0m\u001B[1;33m\u001B[0m\u001B[0m\n\u001B[1;32m--> 124\u001B[1;33m             self.reqs.max_pointing, self.reqs.max_rate_rads)\n\u001B[0m\u001B[0;32m    125\u001B[0m \u001B[1;33m\u001B[0m\u001B[0m\n\u001B[0;32m    126\u001B[0m         \u001B[1;32mreturn\u001B[0m \u001B[0mff\u001B[0m\u001B[1;33m,\u001B[0m \u001B[0mgg\u001B[0m\u001B[1;33m\u001B[0m\u001B[1;33m\u001B[0m\u001B[0m\n",
      "\u001B[1;31mKeyboardInterrupt\u001B[0m: "
     ]
    }
   ],
   "source": [
    "x_pass = res.X[:, problem.x_indices['pass']].astype('bool')\n",
    "for i in range(x_pass.shape[0]):\n",
    "    x_pass[i, :] = contact.down_select_passes(x_pass[i, :], problem.O_matrix)\n",
    "\n",
    "x_Ptx_dBm = res.X[:, problem.x_indices['power']].astype('float64')\n",
    "x_Ptx_dBm[~x_pass] = np.NaN\n",
    "x_Ptx_dBm = np.nanmax(x_Ptx_dBm, axis=1)\n",
    "#x_modcod = np.squeeze(res.X[:, problem.x_indices['modcod']].astype('int64'))\n",
    "\n",
    "# Recompute all four objectives\n",
    "f_pointing = np.empty_like(res.F[:,0])\n",
    "f_energy = np.empty_like(res.F[:,0])\n",
    "f_latency = np.empty_like(res.F[:,0])\n",
    "f_throughput = np.empty_like(res.F[:,0])\n",
    "\n",
    "scale_factors = np.array([1/-1e9, 1, 1/1e3, 1])\n",
    "\n",
    "for i in range(len(f_throughput)):\n",
    "    ff, gg = problem.evaluate_unmasked(res.X[i,:])\n",
    "    ff = ff * scale_factors\n",
    "    f_pointing[i] = ff[3] # s\n",
    "    f_energy[i] = ff[2] # Kilo Joule\n",
    "    f_latency[i] = ff[1]   # s\n",
    "    f_throughput[i] = ff[0]   # Gigabit\n",
    "\n",
    "pass"
   ],
   "metadata": {
    "collapsed": false,
    "pycharm": {
     "name": "#%% Extract variables from result\n"
    }
   }
  },
  {
   "cell_type": "code",
   "execution_count": null,
   "outputs": [],
   "source": [
    "points = []\n",
    "F_norm = res.F / np.max(res.F, axis=0)\n",
    "\n",
    "# Max throughput point\n",
    "ind = np.argmax(f_throughput)\n",
    "p = np.array([f_throughput[ind], f_latency[ind], f_energy[ind], f_pointing[ind]])\n",
    "points.append({'ind': ind, 'p': p, 'color': 'r', 'marker': '.', 'size': 10, 'label': 'Max T\\n(T=%d Gbit, L=%d s, E=%d kJ, P=%d s)' % (f_throughput[ind], f_latency[ind], f_energy[ind], f_pointing[ind])})\n",
    "\n",
    "# # Max E, minimum P point\n",
    "# ref = np.array([1, 0])\n",
    "# ind = np.argmin(np.linalg.norm(F_norm[:,2:4] - ref, axis = 1))\n",
    "# p = np.array([f_throughput[ind], f_latency[ind], f_energy[ind], f_pointing[ind]])\n",
    "# points.append({'ind': ind, 'p': p, 'color': 'g', 'marker': '.', 'size': 10, 'label': 'Max E, Min P\\n(T=%d Gbit, L=%d s, E=%d kJ, P=%d s)' % (f_throughput[ind], f_latency[ind], f_energy[ind], f_pointing[ind])})\n",
    "#\n",
    "# # 1000 GBit, min Energy\n",
    "# ref = np.array([-1000e9, 0])\n",
    "# ind = np.argmin(np.linalg.norm((res.F[:,[0,2]] - ref) / np.max(res.F[:,[0,2]] - ref, axis = 0), axis = 1))\n",
    "# p = np.array([f_throughput[ind], f_latency[ind], f_energy[ind], f_pointing[ind]])\n",
    "# points.append({'ind': ind, 'p': p, 'color': 'b', 'marker': '.', 'size': 10, 'label': 'T = 1000 GBit, Min E\\n(T=%d Gbit, L=%d s, E=%d kJ, P=%d s)' % (f_throughput[ind], f_latency[ind], f_energy[ind], f_pointing[ind])})\n",
    "\n",
    "# 3600 s, min Energy\n",
    "# ref = np.array([3600, 0])\n",
    "# ind = np.argmin(np.linalg.norm((res.F[:,[1,2]] - ref) / np.max(res.F[:,[0,2]] - ref, axis = 0), axis = 1))\n",
    "# p = np.array([f_throughput[ind], f_latency[ind], f_energy[ind], f_pointing[ind]])\n",
    "# points.append({'ind': ind, 'p': p, 'color': 'y', 'marker': '.', 'size': 10, 'label': 'L = 3600 s, Min E\\n(T=%d Gbit, L=%d s, E=%d kJ, P=%d s)' % (f_throughput[ind], f_latency[ind], f_energy[ind], f_pointing[ind])})\n",
    "\n",
    "# 3600 s, min Energy\n",
    "# ref = np.array([3600, 0])\n",
    "# ind = np.argmin(np.linalg.norm((res.F[:,[1,2]] - ref) / np.max(res.F[:,[0,2]] - ref, axis = 0), axis = 1))\n",
    "# p = np.array([f_throughput[ind], f_latency[ind], f_energy[ind], f_pointing[ind]])\n",
    "# points.append({'ind': ind, 'p': p, 'color': 'y', 'marker': '.', 'size': 10, 'label': 'L = 3600 s, Min E\\n(T=%d Gbit, L=%d s, E=%d kJ, P=%d s)' % (f_throughput[ind], f_latency[ind], f_energy[ind], f_pointing[ind])})\n",
    "\n",
    "# # Reference points\n",
    "# ref_points = setting['algorithm'].survival.ref_points / np.array([-1e9, 1e3, 1])\n",
    "# points.append({'ind': ind, 'p': ref_points[0,[1,2,0]], 'color': 'r', 'marker': 'x', 'size': 15, 'label': 'Target 1\\n(%d Gbit, %d kJ, %d s)' % (ref_points[0,0], ref_points[0,1], ref_points[0,2])})\n",
    "# points.append({'ind': ind, 'p': ref_points[1,[1,2,0]], 'color': 'g', 'marker': 'x', 'size': 15, 'label': 'Target 2\\n(%d Gbit, %d kJ, %d s)' % (ref_points[1,0], ref_points[1,1], ref_points[1,2])})"
   ],
   "metadata": {
    "collapsed": false,
    "pycharm": {
     "name": "#%% Marked points\n"
    }
   }
  },
  {
   "cell_type": "code",
   "execution_count": null,
   "outputs": [],
   "source": [
    "T_lim = (0, 4000)\n",
    "L_lim = (0, 2000)\n",
    "E_lim = (0, 150)\n",
    "P_lim = (0, 10000)\n",
    "\n",
    "limits_on = False\n",
    "\n",
    "# offset 0 limit with 10%\n",
    "perc = 0.025\n",
    "T_lim = np.array(T_lim) - np.array([perc * (T_lim[1] - T_lim[0]), 0])\n",
    "L_lim = np.array(L_lim) - np.array([perc * (L_lim[1] - L_lim[0]), 0])\n",
    "E_lim = np.array(E_lim) - np.array([perc * (E_lim[1] - E_lim[0]), 0])\n",
    "P_lim = np.array(P_lim) - np.array([perc * (P_lim[1] - P_lim[0]), 0])"
   ],
   "metadata": {
    "collapsed": false,
    "pycharm": {
     "name": "#%% Limits\n"
    }
   }
  },
  {
   "cell_type": "code",
   "execution_count": null,
   "outputs": [],
   "source": [
    "fig = plt.figure(figsize=(3.2*3, 2.4*3))\n",
    "axs = fig.subplots(3,3, gridspec_kw={'height_ratios': [1, 1, 1]})\n",
    "axs = axs.flatten()\n",
    "\n",
    "ax = axs[0]\n",
    "ax.grid(True)\n",
    "ax.scatter(f_energy, f_throughput, marker='.', s=1)\n",
    "for point in points:\n",
    "    ax.scatter(point['p'][2], point['p'][0],\n",
    "               color=point['color'], s=point['size'], marker=point['marker'], label=point['label'])\n",
    "\n",
    "ax.set_xlabel(\"Energy used [kJ]\")\n",
    "ax.set_ylabel(\"Throughput [Gbit]\")\n",
    "if limits_on:\n",
    "    ax.set_xlim(E_lim)\n",
    "    ax.set_ylim(T_lim)\n",
    "ax.set_axisbelow(True)\n",
    "\n",
    "ax = axs[1]\n",
    "ax.grid(True)\n",
    "ax.scatter(f_pointing, f_throughput, marker='.', s=1)\n",
    "for point in points:\n",
    "    ax.scatter(point['p'][3], point['p'][0],\n",
    "               color=point['color'], s=point['size'], marker=point['marker'], label=point['label'])\n",
    "\n",
    "ax.set_xlabel(\"Pointing [s]\")\n",
    "ax.set_ylabel(\"Throughput [Gbit]\")\n",
    "if limits_on:\n",
    "    ax.set_xlim(P_lim)\n",
    "    ax.set_ylim(T_lim)\n",
    "ax.set_axisbelow(True)\n",
    "\n",
    "ax = axs[2]\n",
    "ax.grid(True)\n",
    "ax.scatter(f_latency, f_throughput, marker='.', s=1)\n",
    "for point in points:\n",
    "    ax.scatter(point['p'][1], point['p'][0],\n",
    "               color=point['color'], s=point['size'], marker=point['marker'], label=point['label'])\n",
    "\n",
    "# ax.scatter(p_maxTminP[0], p_maxTminP[1], color='b', s=10)\n",
    "# ax.scatter(p_minEminP[0], p_minEminP[1], color='y', s=10)\n",
    "ax.set_xlabel(\"Avg. Latency [s]\")\n",
    "ax.set_ylabel(\"Throughput [Gbit]\")\n",
    "if limits_on:\n",
    "    ax.set_xlim(L_lim)\n",
    "    ax.set_ylim(T_lim)\n",
    "ax.set_axisbelow(True)\n",
    "\n",
    "ax = axs[3]\n",
    "ax.grid(True)\n",
    "ax.scatter(f_energy, f_latency, marker='.', s=1)\n",
    "for point in points:\n",
    "    ax.scatter(point['p'][2], point['p'][1],\n",
    "               color=point['color'], s=point['size'], marker=point['marker'], label=point['label'])\n",
    "\n",
    "ax.set_xlabel(\"Energy used [kJ]\")\n",
    "ax.set_ylabel(\"Avg. Latency [s]\")\n",
    "if limits_on:\n",
    "    ax.set_xlim(E_lim)\n",
    "    ax.set_ylim(L_lim)\n",
    "ax.set_axisbelow(True)\n",
    "\n",
    "ax = axs[4]\n",
    "ax.grid(True)\n",
    "ax.scatter(f_pointing, f_latency, marker='.', s=1)\n",
    "for point in points:\n",
    "    ax.scatter(point['p'][3], point['p'][1],\n",
    "               color=point['color'], s=point['size'], marker=point['marker'], label=point['label'])\n",
    "\n",
    "ax.set_xlabel(\"Pointing [s]\")\n",
    "ax.set_ylabel(\"Avg. Latency [s]\")\n",
    "if limits_on:\n",
    "    ax.set_xlim(P_lim)\n",
    "    ax.set_ylim(L_lim)\n",
    "ax.set_axisbelow(True)\n",
    "\n",
    "ax = axs[5]\n",
    "ax.grid(True)\n",
    "ax.scatter(f_energy, f_pointing, marker='.', s=1)\n",
    "for point in points:\n",
    "    ax.scatter(point['p'][2], point['p'][3],\n",
    "               color=point['color'], s=point['size'], marker=point['marker'], label=point['label'])\n",
    "\n",
    "# ax.scatter(p_maxTminP[0], p_maxTminP[1], color='b', s=10)\n",
    "# ax.scatter(p_minEminP[0], p_minEminP[1], color='y', s=10)\n",
    "ax.set_xlabel(\"Energy used [kJ]\")\n",
    "ax.set_ylabel(\"Pointing [s]\")\n",
    "if limits_on:\n",
    "    ax.set_xlim(E_lim)\n",
    "    ax.set_ylim(P_lim)\n",
    "ax.set_axisbelow(True)\n",
    "\n",
    "axs[6].set_axis_off()\n",
    "axs[7].set_axis_off()\n",
    "ax = axs[8]\n",
    "for point in points:\n",
    "    ax.scatter(np.nan, np.nan,\n",
    "               color=point['color'], s=point['size'], marker=point['marker'], label=point['label'])\n",
    "\n",
    "ax.legend(fontsize=8)\n",
    "ax.set_axis_off()\n",
    "\n",
    "plt.tight_layout()\n",
    "\n",
    "# autoAxis = sub1.axis()\n",
    "# rec = Rectangle((autoAxis[0]-0.7,autoAxis[2]-0.2),(autoAxis[1]-autoAxis[0])+1,(autoAxis[3]-autoAxis[2])+0.4,fill=False,lw=2)\n",
    "# rec = sub1.add_patch(rec)\n",
    "# rec.set_clip_on(False)\n",
    "\n",
    "#fig.savefig('D:/git/thesis_report_ae/figures/full_pareto_six_%s.pdf' % setting['label'])"
   ],
   "metadata": {
    "collapsed": false,
    "pycharm": {
     "name": "#%% Pareto fronts multiple\n"
    }
   }
  },
  {
   "cell_type": "code",
   "execution_count": null,
   "outputs": [],
   "source": [
    "ind = points[0]['ind']\n",
    "pass_ind = np.nonzero(x_pass[ind,:])[0]\n",
    "\n",
    "ff, gg = problem.evaluate_unmasked(res.X[ind,:])\n",
    "pass"
   ],
   "metadata": {
    "collapsed": false,
    "pycharm": {
     "name": "#%% Plot selected passes\n"
    }
   }
  },
  {
   "cell_type": "code",
   "execution_count": null,
   "outputs": [],
   "source": [
    "T_orbit = 5680\n",
    "T_sim = T_orbit * 3\n",
    "\n",
    "fig = plt.figure(figsize=(3.2, 2.4))\n",
    "\n",
    "# Plot all passes\n",
    "for i, pass_df in instances_500km_df.groupby(level=0):\n",
    "    p = pass_df.index[0][0] - 1 # Pass index\n",
    "    tof = pass_df.tof.values\n",
    "    d = pass_df.d.values/1000\n",
    "    line, = plt.plot(tof, d, linewidth=0.1, color='tab:grey')\n",
    "    #plt.text(tof[0], d[0], '%d' % p)\n",
    "\n",
    "# Plot used passes\n",
    "for i, pass_df in instances_500km_df.groupby(level=0):\n",
    "    p = pass_df.index[0][0] - 1 # Pass index\n",
    "    tof = pass_df.tof\n",
    "    d = pass_df.d/1000\n",
    "    if p in pass_ind:\n",
    "        line, = plt.plot(tof, d, linewidth=0.5, color='tab:red')\n",
    "\n",
    "\n",
    "plt.xlabel('Time of flight [s]')\n",
    "plt.ylabel('Range [km]')\n",
    "plt.xlim((0, T_sim))\n",
    "\n",
    "plt.grid()\n",
    "PlotUtil.apply_report_formatting()\n",
    "fig.set_size_inches(3.2*2, 2.4, forward=True)\n",
    "\n",
    "plt.tight_layout()\n",
    "plt.savefig('D:/git/thesis_report_ae/figures/relay_optimization/telesat_range_selection.pdf')\n",
    "plt.savefig('D:/git/thesis_report_ae/figures/relay_optimization/telesat_range_selection_%s_%d.svg' % (setting['label'], res.algorithm.n_gen))\n"
   ],
   "metadata": {
    "collapsed": false,
    "pycharm": {
     "name": "#%% Plot range\n"
    }
   }
  }
 ],
 "metadata": {
  "kernelspec": {
   "name": "pycharm-34b782de",
   "language": "python",
   "display_name": "PyCharm (hermes-simulator)"
  },
  "language_info": {
   "codemirror_mode": {
    "name": "ipython",
    "version": 2
   },
   "file_extension": ".py",
   "mimetype": "text/x-python",
   "name": "python",
   "nbconvert_exporter": "python",
   "pygments_lexer": "ipython2",
   "version": "2.7.6"
  }
 },
 "nbformat": 4,
 "nbformat_minor": 0
}