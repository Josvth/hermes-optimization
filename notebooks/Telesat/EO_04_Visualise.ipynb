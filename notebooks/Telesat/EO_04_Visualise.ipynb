{
 "cells": [
  {
   "cell_type": "code",
   "execution_count": 157,
   "outputs": [
    {
     "name": "stdout",
     "output_type": "stream",
     "text": [
      "Using matplotlib backend: Qt5Agg\n"
     ]
    }
   ],
   "source": [
    "import pandas as pd\n",
    "import numpy as np\n",
    "from pymoo.optimize import minimize\n",
    "import pickle\n",
    "\n",
    "from pymoo.util.termination.f_tol import MultiObjectiveSpaceToleranceTermination\n",
    "from pymoo.visualization.scatter import Scatter\n",
    "import contact\n",
    "from notebooks.optimization_problems.constraints import Requirements\n",
    "from pyreport import PlotUtil\n",
    "import matplotlib.pyplot as plt\n",
    "\n",
    "%matplotlib\n",
    "\n",
    "plt.close('all')"
   ],
   "metadata": {
    "collapsed": false,
    "pycharm": {
     "name": "#%%\n"
    }
   }
  },
  {
   "cell_type": "code",
   "execution_count": 158,
   "outputs": [],
   "source": [
    "columns = ['strand_name', 'tof',\n",
    "           'r_a_x', 'r_a_y', 'r_a_z',\n",
    "           'v_a_x', 'v_a_y', 'v_a_z',\n",
    "           'r_b_x', 'r_b_y', 'r_b_z',\n",
    "           'd',\n",
    "           'r_ab_sff_x', 'r_ab_sff_y', 'r_ab_sff_z']\n",
    "\n",
    "file_path = \"raw/eo_telesat_post_processed.h5\"\n",
    "\n",
    "row_limit = -1\n",
    "\n",
    "store_500km = pd.HDFStore(file_path)\n",
    "\n",
    "instances_500km_df = store_500km.select('contact_instances', 'columns = %s' % str(columns), stop = row_limit)\n",
    "\n",
    "# Sort by pass id\n",
    "instances_500km_df = instances_500km_df.sort_index(0)"
   ],
   "metadata": {
    "collapsed": false,
    "pycharm": {
     "name": "#%% Import data files from visibility analysis at 500 km\n"
    }
   }
  },
  {
   "cell_type": "code",
   "execution_count": 159,
   "outputs": [],
   "source": [
    "def get_selection(problem, res):\n",
    "    x_pass = res.X[:, problem.x_indices['pass']].astype('bool')\n",
    "    for i in range(x_pass.shape[0]):\n",
    "        x_pass[i, :] = contact.down_select_passes(x_pass[i, :], problem.O_matrix)\n",
    "\n",
    "    # Transmit powers\n",
    "    x_Ptx_dBm = res.X[:, problem.x_indices['power']].astype('float64')\n",
    "    x_Ptx_dBm[~x_pass] = np.NaN\n",
    "    #x_Ptx_dBm = np.nanmax(x_Ptx_dBm, axis=1)\n",
    "\n",
    "    # Antenna gain\n",
    "    x_Gtx_dBi = np.squeeze(res.X[:, problem.x_indices['antenna']].astype('float64'))\n",
    "\n",
    "    return x_pass, x_Ptx_dBm, x_Gtx_dBi\n",
    "\n",
    "def recompute_obj(problem, res, scale_factors = np.array([1/-1e9, 1, 1/1e3, 1])):\n",
    "    # Recompute all four objectives\n",
    "    f_pointing = np.empty_like(res.F[:,0])\n",
    "    f_energy = np.empty_like(res.F[:,0])\n",
    "    f_latency = np.empty_like(res.F[:,0])\n",
    "    f_throughput = np.empty_like(res.F[:,0])\n",
    "\n",
    "    for i in range(len(f_throughput)):\n",
    "        ff, gg = problem.evaluate_unmasked(res.X[i,:])\n",
    "        ff = ff * scale_factors\n",
    "        f_pointing[i] = ff[3] # s\n",
    "        f_energy[i] = ff[2] # Kilo Joule\n",
    "        f_latency[i] = ff[1]   # s\n",
    "        f_throughput[i] = ff[0]   # Gigabit\n",
    "\n",
    "    return f_throughput, f_latency, f_energy, f_pointing"
   ],
   "metadata": {
    "collapsed": false,
    "pycharm": {
     "name": "#%%\n"
    }
   }
  },
  {
   "cell_type": "code",
   "execution_count": 160,
   "outputs": [
    {
     "name": "stderr",
     "output_type": "stream",
     "text": [
      "No handles with labels found to put in legend.\n"
     ]
    },
    {
     "data": {
      "text/plain": "<matplotlib.collections.PathCollection at 0x1744f6b8248>"
     },
     "execution_count": 160,
     "metadata": {},
     "output_type": "execute_result"
    }
   ],
   "source": [
    "plt.close('all')\n",
    "def plot_performance(axs, problem, setting, res, case, target, scale_factors = np.array([1/-1e9, 1, 1/1e3, 1]) ):\n",
    "\n",
    "    x_pass, x_Ptx_dBm, x_Gtx_dBi = get_selection(problem, res)\n",
    "    f_throughput, f_latency, f_energy, f_pointing = recompute_obj(problem, res, scale_factors)\n",
    "\n",
    "    # Plotting\n",
    "    #axs = axs.flatten()\n",
    "\n",
    "    ax = axs[0]\n",
    "    ax.grid(True)\n",
    "    ax.scatter(f_energy, f_throughput, marker='.', s=1)\n",
    "    ax.set_xlabel(\"Energy used [kJ / orbit]\")\n",
    "    ax.set_ylabel(\"Throughput [GB / orbit]\")\n",
    "    ax.set_axisbelow(True)\n",
    "\n",
    "    ax = axs[1]\n",
    "    ax.grid(True)\n",
    "    ax.scatter(f_pointing, f_throughput, marker='.', s=1)\n",
    "    ax.set_xlabel(\"Pointing duty cycle [%]\")\n",
    "    ax.set_ylabel(\"Throughput [GB / orbit]\")\n",
    "    ax.set_axisbelow(True)\n",
    "\n",
    "    ax = axs[2]\n",
    "    ax.grid(True)\n",
    "    ax.scatter(f_energy, f_pointing, marker='.', s=1)\n",
    "    ax.set_xlabel(\"Energy used [kJ / orbit]\")\n",
    "    ax.set_ylabel(\"Pointing duty cycle [%]\")\n",
    "    ax.set_axisbelow(True)\n",
    "\n",
    "    # ax = axs[3]\n",
    "    # ax.grid(True)\n",
    "    # ax.scatter(f_energy, f_latency, marker='.', s=1)\n",
    "    # ax.set_xlabel(\"Energy used [kJ / orbit]\")\n",
    "    # ax.set_ylabel(\"Avg. Latency [s]\")\n",
    "    # ax.set_axisbelow(True)\n",
    "    #\n",
    "    # ax = axs[4]\n",
    "    # ax.grid(True)\n",
    "    # ax.scatter(f_pointing, f_latency, marker='.', s=1)\n",
    "    # ax.set_xlabel(\"Pointing duty cycle [%]\")\n",
    "    # ax.set_ylabel(\"Avg. Latency [s]\")\n",
    "    # ax.set_axisbelow(True)\n",
    "    #\n",
    "    # ax = axs[5]\n",
    "    # ax.grid(True)\n",
    "    # ax.scatter(f_latency, f_throughput, marker='.', s=1)\n",
    "    # ax.set_xlabel(\"Avg. Latency [s]\")\n",
    "    # ax.set_ylabel(\"Throughput [GB / orbit]\")\n",
    "    # ax.set_axisbelow(True)\n",
    "    #\n",
    "    # axs[6].set_axis_off()\n",
    "    # axs[7].set_axis_off()\n",
    "\n",
    "    axs[3].set_axis_off()\n",
    "    axs[4].set_axis_off()\n",
    "    ax = axs[5]\n",
    "    ax.legend(fontsize=8)\n",
    "    ax.set_axis_off()\n",
    "\n",
    "    plt.tight_layout()\n",
    "\n",
    "# Plot the optimizations\n",
    "fig = plt.figure(figsize=(3.2*3, 2.4*2))\n",
    "axs = fig.subplots(2,3, gridspec_kw={'height_ratios': [1, 1]})\n",
    "axs = axs.flatten()\n",
    "\n",
    "case, target = pickle.load(open('raw/eo_settings.pkl', 'rb'))\n",
    "\n",
    "N_orbits = case['T_sim_s'] / case['T_orbit_s']\n",
    "scale_factors = np.array([1/-1e9, 1, 1/1e3, 1]) * \\\n",
    "                np.array([1/N_orbits, 1, 1/N_orbits, 1/case['T_sim_s']]) * \\\n",
    "                np.array([1/8, 1, 1, 100])\n",
    "\n",
    "problem, setting, res = pickle.load(open('raw/eo_Telesat_unsga3_100_25.pkl', 'rb'))\n",
    "plot_performance(axs, problem, setting, res, case, target, scale_factors)\n",
    "axs[5].scatter(np.NaN, np.NaN, marker='.', s=1, label='NSGA-3')\n",
    "\n",
    "# problem, setting, res = pickle.load(open('raw/eo_Telesat_rnsga2_e0_01_100_25.pkl', 'rb'))\n",
    "# plot_performance(axs, problem, setting, res, case, target, scale_factors)\n",
    "# axs[5].scatter(np.NaN, np.NaN, marker='.', s=1, label='R-NSGA-2, $\\epsilon$ = 0.01')\n",
    "#\n",
    "# problem, setting, res = pickle.load(open('raw/eo_Telesat_rnsga2_e0_001_200_50.pkl', 'rb'))\n",
    "# plot_performance(axs, problem, setting, res, case, target, scale_factors)\n",
    "# axs[5].scatter(np.NaN, np.NaN, marker='.', s=1, label='R-NSGA-2, $\\epsilon$ = 0.001')\n",
    "#\n",
    "# problem, setting, res = pickle.load(open('raw/eo_Telesat_rnsga2_e0_0001_200_50.pkl', 'rb'))\n",
    "# plot_performance(axs, problem, setting, res, case, target, scale_factors)\n",
    "# axs[5].scatter(np.NaN, np.NaN, marker='.', s=1, label='R-NSGA-2, $\\epsilon$ = 1e-4')\n",
    "\n",
    "problem, setting, res = pickle.load(open('raw/eo_Telesat_rnsga2_e1e-9_200_50.pkl', 'rb'))\n",
    "plot_performance(axs, problem, setting, res, case, target, scale_factors)\n",
    "axs[5].scatter(np.NaN, np.NaN, marker='.', s=1, label='R-NSGA-2, $\\epsilon$ = 1e-9')"
   ],
   "metadata": {
    "collapsed": false,
    "pycharm": {
     "name": "#%%\n"
    }
   }
  },
  {
   "cell_type": "code",
   "execution_count": 161,
   "outputs": [],
   "source": [
    "# Set limits\n",
    "#axs[0].set_xlim(np.array([axs[0].get_xlim()[0], case['E_Jorbit_max'] * N_orbit * scale_factors[2]  ]) )\n",
    "#axs[0].set_ylim(np.array([case['T_bitorbit_min'], case['T_bitorbit_max']]) * -1 * N_orbit * scale_factors[0])\n",
    "axs[1].set_xlim([0, 100])\n",
    "# axs[1].set_ylim([])\n",
    "# axs[2].set_xlim([])\n",
    "axs[2].set_ylim([0, 100])\n",
    "\n",
    "points = []\n",
    "\n",
    "# Targets\n",
    "p = np.array([case['T_bitorbit_target'], case['L_sorbit_target'], case['E_Jorbit_target'], case['P_sorbit_target']/3])\n",
    "p = p * np.array([-1, 1, 1, 1]) * np.array([N_orbits, 1, N_orbits, N_orbits])\n",
    "p_fmt = p * scale_factors\n",
    "points.append({'ind': -1, 'p': p, 'args': [], 'kwargs': {'s': 10, 'color': 'r', 'marker': 'x', 'label': 'Target\\n(T=%d GB/orbit, L=%d s, E=%d kJ, P=%0.2f %%)' % tuple(p_fmt)}})\n",
    "\n",
    "problem, setting, res = pickle.load(open('raw/eo_Telesat_rnsga2_e0_001_100_25.pkl', 'rb'))\n",
    "p = np.zeros(4)\n",
    "p[[0,2,3]] = res.algorithm.survival.ref_points\n",
    "p_fmt = p * scale_factors\n",
    "points.append({'ind': -1, 'p': p, 'args': [], 'kwargs': {'s': 10, 'color': 'g', 'marker': 'x', 'label': 'Target\\n(T=%d GB/orbit, L=%d s, E=%d kJ, P=%0.2f %%)' % tuple(p_fmt)}})\n",
    "\n",
    "problem, setting, res = pickle.load(open('raw/eo_Telesat_unsga3_100_25.pkl', 'rb'))\n",
    "\n",
    "# # Graphically closest to target\n",
    "# ref = np.array([case['T_bitorbit_target'] * -1, case['E_Jorbit_target']]) * N_orbits\n",
    "# diff_graph = np.abs(res.F[:, [0, 2]] - ref) * scale_factors[[0,2]] / np.array([np.diff(axs[0].get_ylim())[0], np.diff(axs[0].get_xlim())[0]])\n",
    "# ind = np.argmin(np.linalg.norm(diff_graph, axis=1))\n",
    "# p = np.array(recompute_obj(problem, res, scale_factors=1))\n",
    "# p = p[:, ind]\n",
    "# p_fmt = p * scale_factors\n",
    "# points.append({'ind': ind, 'p': p, 'args': [], 'kwargs': {'s': 10, 'color': 'tab:red', 'marker': '+', 'label': 'Target\\n(T=%d GB/orbit, L=%d s, E=%d kJ, P=%0.2f %%)' % tuple(p_fmt)}})\n",
    "\n",
    "# Closest to target\n",
    "ref = np.array([case['T_bitorbit_target'] * -1, case['E_Jorbit_target']]) * N_orbits\n",
    "diff= np.abs(res.F[:, [0, 2]] - ref)\n",
    "ind_close = np.argmin(np.linalg.norm(diff, axis=1))\n",
    "p = np.array(recompute_obj(problem, res, scale_factors=1))\n",
    "p = p[:, ind_close]\n",
    "p_fmt = p * scale_factors\n",
    "points.append({'ind': ind_close, 'p': p, 'args': [], 'kwargs': {'s': 10, 'color': 'tab:red', 'marker': '+', 'label': 'Target\\n(T=%d GB/orbit, L=%d s, E=%d kJ, P=%0.2f %%)' % tuple(p_fmt)}})\n",
    "\n",
    "# # Closest to throughput\n",
    "# ref = case['T_bitorbit_target'] * -1 * N_orbits\n",
    "# ind = np.argmin(np.abs(res.F[:, 0] - ref))\n",
    "# p = np.array(recompute_obj(problem, res, scale_factors=1))\n",
    "# p = p[:, ind]\n",
    "# p_fmt = p * scale_factors\n",
    "# points.append({'ind': ind, 'p': p, 'args': [], 'kwargs': {'s': 10, 'color': 'tab:red', 'marker': '+', 'label': 'Target\\n(T=%d GB/orbit, L=%d s, E=%d kJ, P=%0.2f %%)' % tuple(p_fmt)}})\n",
    "#\n",
    "# # Closest to energy\n",
    "# ref = case['E_Jorbit_target'] * N_orbits\n",
    "# ind = np.argmin(np.abs(res.F[:, 2] - ref))\n",
    "# p = np.array(recompute_obj(problem, res, scale_factors=1))\n",
    "# p = p[:, ind]\n",
    "# p_fmt = p * scale_factors\n",
    "# points.append({'ind': ind, 'p': p, 'args': [], 'kwargs': {'s': 10, 'color': 'tab:red', 'marker': '+', 'label': 'Target\\n(T=%d GB/orbit, L=%d s, E=%d kJ, P=%0.2f %%)' % tuple(p_fmt)}})\n",
    "\n",
    "for point in points:\n",
    "    p = point['p'] * scale_factors\n",
    "    axs[0].scatter(p[2], p[0], *point['args'], **point['kwargs'])\n",
    "    axs[1].scatter(p[3], p[0], *point['args'], **point['kwargs'])\n",
    "    axs[2].scatter(p[2], p[3], *point['args'], **point['kwargs'])\n",
    "    axs[5].scatter(np.NaN, np.NaN, *point['args'], **point['kwargs'])\n",
    "\n",
    "axs[5].legend(fontsize=8)\n",
    "\n",
    "plt.savefig('D:/git/thesis_report_ae/figures/relay_optimization/eo_telesat_result.pdf')\n",
    "#plt.savefig('D:/git/thesis_report_ae/figures/relay_optimization/eo_telesat_range_selection_%s_%d.svg' % (setting['label'], res.algorithm.n_gen))"
   ],
   "metadata": {
    "collapsed": false,
    "pycharm": {
     "name": "#%%\n"
    }
   }
  },
  {
   "cell_type": "code",
   "execution_count": 162,
   "outputs": [
    {
     "data": {
      "text/plain": "<matplotlib.collections.PathCollection at 0x174512c6588>"
     },
     "execution_count": 162,
     "metadata": {},
     "output_type": "execute_result"
    }
   ],
   "source": [
    "problem, setting, res = pickle.load(open('raw/eo_Telesat_unsga3_100_25.pkl', 'rb'))\n",
    "\n",
    "x_pass, x_Ptx_dBm, x_Gtx_dBi = get_selection(problem, res)\n",
    "f_throughput, f_latency, f_energy, f_pointing = recompute_obj(problem, res, scale_factors)\n",
    "\n",
    "fig = plt.figure(figsize=(3.2*3, 2.4*3))\n",
    "ax = fig.subplots()\n",
    "\n",
    "ax.scatter(x_Gtx_dBi, f_throughput)\n"
   ],
   "metadata": {
    "collapsed": false,
    "pycharm": {
     "name": "#%% Plot antenna gains\n"
    }
   }
  },
  {
   "cell_type": "code",
   "execution_count": 163,
   "outputs": [],
   "source": [
    "pass_ind = np.nonzero(x_pass[ind_close,:])[0]\n",
    "\n",
    "T_orbit = case['T_orbit_s']\n",
    "T_sim = case['T_sim_s']\n",
    "\n",
    "fig = plt.figure(figsize=(3.2, 2.4))\n",
    "\n",
    "# Plot all passes\n",
    "for i, pass_df in instances_500km_df.groupby(level=0):\n",
    "    p = pass_df.index[0][0] - 1 # Pass index\n",
    "    tof = pass_df.tof.values\n",
    "    d = pass_df.d.values/1000\n",
    "    line, = plt.plot(tof, d, linewidth=0.1, color='tab:grey')\n",
    "    #plt.text(tof[0], d[0], '%d' % p)\n",
    "\n",
    "# Plot used passes\n",
    "for i, pass_df in instances_500km_df.groupby(level=0):\n",
    "    p = pass_df.index[0][0] - 1 # Pass index\n",
    "    tof = pass_df.tof\n",
    "    d = pass_df.d/1000\n",
    "    if p in pass_ind:\n",
    "        line, = plt.plot(tof, d, linewidth=0.5, color='tab:red')\n",
    "\n",
    "\n",
    "plt.xlabel('Time of flight [s]')\n",
    "plt.ylabel('Range [km]')\n",
    "plt.xlim((0, T_sim))\n",
    "\n",
    "plt.grid()\n",
    "PlotUtil.apply_report_formatting()\n",
    "fig.set_size_inches(3.2*2, 2.4, forward=True)\n",
    "\n",
    "plt.tight_layout()\n",
    "plt.savefig('D:/git/thesis_report_ae/figures/relay_optimization/eo_telesat_range_selection.pdf')\n",
    "plt.savefig('D:/git/thesis_report_ae/figures/relay_optimization/eo_telesat_range_selection_%s_%d.svg' % (setting['label'], res.algorithm.n_gen))"
   ],
   "metadata": {
    "collapsed": false,
    "pycharm": {
     "name": "#%% Plot range\n"
    }
   }
  },
  {
   "cell_type": "code",
   "execution_count": 164,
   "outputs": [],
   "source": [
    "store_500km.close()"
   ],
   "metadata": {
    "collapsed": false,
    "pycharm": {
     "name": "#%%\n"
    }
   }
  }
 ],
 "metadata": {
  "kernelspec": {
   "name": "pycharm-34b782de",
   "language": "python",
   "display_name": "PyCharm (hermes-simulator)"
  },
  "language_info": {
   "codemirror_mode": {
    "name": "ipython",
    "version": 2
   },
   "file_extension": ".py",
   "mimetype": "text/x-python",
   "name": "python",
   "nbconvert_exporter": "python",
   "pygments_lexer": "ipython2",
   "version": "2.7.6"
  }
 },
 "nbformat": 4,
 "nbformat_minor": 0
}