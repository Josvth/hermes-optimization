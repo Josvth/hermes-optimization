{
 "cells": [
  {
   "cell_type": "code",
   "execution_count": 1,
   "metadata": {
    "collapsed": true
   },
   "outputs": [
    {
     "name": "stdout",
     "output_type": "stream",
     "text": [
      "Using matplotlib backend: Qt5Agg\n"
     ]
    }
   ],
   "source": [
    "import pandas as pd\n",
    "import numpy as np\n",
    "from pymoo.optimize import minimize\n",
    "import pickle\n",
    "\n",
    "from pymoo.util.termination.f_tol import MultiObjectiveSpaceToleranceTermination\n",
    "from pymoo.visualization.scatter import Scatter\n",
    "from notebooks.optimization_problems.constraints import Requirements\n",
    "from pyreport import PlotUtil\n",
    "import matplotlib.pyplot as plt\n",
    "\n",
    "%matplotlib"
   ]
  },
  {
   "cell_type": "code",
   "execution_count": 2,
   "outputs": [
    {
     "ename": "KeyError",
     "evalue": "'No object named contact_instances in the file'",
     "output_type": "error",
     "traceback": [
      "\u001B[1;31m---------------------------------------------------------------------------\u001B[0m",
      "\u001B[1;31mKeyError\u001B[0m                                  Traceback (most recent call last)",
      "\u001B[1;32m<ipython-input-2-6f6ec3d9a711>\u001B[0m in \u001B[0;36m<module>\u001B[1;34m\u001B[0m\n\u001B[0;32m     12\u001B[0m \u001B[0mstore\u001B[0m \u001B[1;33m=\u001B[0m \u001B[0mpd\u001B[0m\u001B[1;33m.\u001B[0m\u001B[0mHDFStore\u001B[0m\u001B[1;33m(\u001B[0m\u001B[0mfile_path\u001B[0m\u001B[1;33m)\u001B[0m\u001B[1;33m\u001B[0m\u001B[1;33m\u001B[0m\u001B[0m\n\u001B[0;32m     13\u001B[0m \u001B[1;33m\u001B[0m\u001B[0m\n\u001B[1;32m---> 14\u001B[1;33m \u001B[0minstances\u001B[0m \u001B[1;33m=\u001B[0m \u001B[0mstore\u001B[0m\u001B[1;33m.\u001B[0m\u001B[0mselect\u001B[0m\u001B[1;33m(\u001B[0m\u001B[1;34m'contact_instances'\u001B[0m\u001B[1;33m,\u001B[0m \u001B[1;34m'columns = %s'\u001B[0m \u001B[1;33m%\u001B[0m \u001B[0mstr\u001B[0m\u001B[1;33m(\u001B[0m\u001B[0mcolumns\u001B[0m\u001B[1;33m)\u001B[0m\u001B[1;33m,\u001B[0m \u001B[0mstop\u001B[0m \u001B[1;33m=\u001B[0m \u001B[0mrow_limit\u001B[0m\u001B[1;33m)\u001B[0m\u001B[1;33m\u001B[0m\u001B[1;33m\u001B[0m\u001B[0m\n\u001B[0m\u001B[0;32m     15\u001B[0m \u001B[1;33m\u001B[0m\u001B[0m\n\u001B[0;32m     16\u001B[0m \u001B[1;31m# Sort by pass id\u001B[0m\u001B[1;33m\u001B[0m\u001B[1;33m\u001B[0m\u001B[1;33m\u001B[0m\u001B[0m\n",
      "\u001B[1;32mC:\\git\\hermes-optimization\\cenv\\lib\\site-packages\\pandas\\io\\pytables.py\u001B[0m in \u001B[0;36mselect\u001B[1;34m(self, key, where, start, stop, columns, iterator, chunksize, auto_close)\u001B[0m\n\u001B[0;32m    818\u001B[0m         \u001B[0mgroup\u001B[0m \u001B[1;33m=\u001B[0m \u001B[0mself\u001B[0m\u001B[1;33m.\u001B[0m\u001B[0mget_node\u001B[0m\u001B[1;33m(\u001B[0m\u001B[0mkey\u001B[0m\u001B[1;33m)\u001B[0m\u001B[1;33m\u001B[0m\u001B[1;33m\u001B[0m\u001B[0m\n\u001B[0;32m    819\u001B[0m         \u001B[1;32mif\u001B[0m \u001B[0mgroup\u001B[0m \u001B[1;32mis\u001B[0m \u001B[1;32mNone\u001B[0m\u001B[1;33m:\u001B[0m\u001B[1;33m\u001B[0m\u001B[1;33m\u001B[0m\u001B[0m\n\u001B[1;32m--> 820\u001B[1;33m             \u001B[1;32mraise\u001B[0m \u001B[0mKeyError\u001B[0m\u001B[1;33m(\u001B[0m\u001B[1;34mf\"No object named {key} in the file\"\u001B[0m\u001B[1;33m)\u001B[0m\u001B[1;33m\u001B[0m\u001B[1;33m\u001B[0m\u001B[0m\n\u001B[0m\u001B[0;32m    821\u001B[0m \u001B[1;33m\u001B[0m\u001B[0m\n\u001B[0;32m    822\u001B[0m         \u001B[1;31m# create the storer and axes\u001B[0m\u001B[1;33m\u001B[0m\u001B[1;33m\u001B[0m\u001B[1;33m\u001B[0m\u001B[0m\n",
      "\u001B[1;31mKeyError\u001B[0m: 'No object named contact_instances in the file'"
     ]
    }
   ],
   "source": [
    "columns = ['strand_name', 'tof',\n",
    "           'r_a_x', 'r_a_y', 'r_a_z',\n",
    "           'v_a_x', 'v_a_y', 'v_a_z',\n",
    "           'r_b_x', 'r_b_y', 'r_b_z',\n",
    "           'd',\n",
    "           'r_ab_sff_x', 'r_ab_sff_y', 'r_ab_sff_z']\n",
    "\n",
    "file_path = \"raw/iot_telesat_post_processed.h5\"\n",
    "\n",
    "row_limit = -1\n",
    "\n",
    "store = pd.HDFStore(file_path)\n",
    "\n",
    "instances = store.select('contact_instances', 'columns = %s' % str(columns), stop = row_limit)\n",
    "\n",
    "# Sort by pass id\n",
    "instances = instances.sort_index(0)"
   ],
   "metadata": {
    "collapsed": false,
    "pycharm": {
     "name": "#%% Import data files from visibility analysis at 500 km\n"
    }
   }
  },
  {
   "cell_type": "code",
   "execution_count": null,
   "outputs": [],
   "source": [
    "plt.close('all')\n",
    "\n",
    "case, target = pickle.load(open('raw/iot_settings.pkl', 'rb'))\n",
    "\n",
    "T_orbit = case['T_orbit_s']\n",
    "T_sim = case['T_sim_s']\n",
    "\n",
    "fig = plt.figure(figsize=(3.2, 2.4))\n",
    "\n",
    "for i, pass_df in instances.groupby(level=0):\n",
    "    tof = pass_df.tof\n",
    "    d = pass_df.d/1000\n",
    "    line, = plt.plot(tof, d, linewidth=0.5, color='tab:blue')\n",
    "\n",
    "print(i)\n",
    "\n",
    "plt.xlabel('Time of flight [s]')\n",
    "plt.ylabel('Range [km]')\n",
    "plt.xlim((0, T_sim))\n",
    "\n",
    "plt.grid()\n",
    "PlotUtil.apply_report_formatting()\n",
    "fig.set_size_inches(3.2*2, 2.4, forward=True)\n",
    "\n",
    "plt.tight_layout()\n",
    "plt.savefig('D:/git/thesis_report_ae/figures/relay_optimization/iot_telesat_range.pdf')\n",
    "plt.savefig('D:/git/thesis_report_ae/figures/relay_optimization/iot_telesat_range.svg')"
   ],
   "metadata": {
    "collapsed": false,
    "pycharm": {
     "name": "#%% Plot range\n"
    }
   }
  },
  {
   "cell_type": "code",
   "execution_count": null,
   "outputs": [],
   "source": [
    "store.close()"
   ],
   "metadata": {
    "collapsed": false,
    "pycharm": {
     "name": "#%%\n"
    }
   }
  }
 ],
 "metadata": {
  "kernelspec": {
   "name": "pycharm-34b782de",
   "language": "python",
   "display_name": "PyCharm (hermes-simulator)"
  },
  "language_info": {
   "codemirror_mode": {
    "name": "ipython",
    "version": 2
   },
   "file_extension": ".py",
   "mimetype": "text/x-python",
   "name": "python",
   "nbconvert_exporter": "python",
   "pygments_lexer": "ipython2",
   "version": "2.7.6"
  }
 },
 "nbformat": 4,
 "nbformat_minor": 0
}