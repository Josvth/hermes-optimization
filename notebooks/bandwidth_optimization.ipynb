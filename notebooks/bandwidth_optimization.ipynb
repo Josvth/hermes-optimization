{
 "cells": [
  {
   "cell_type": "code",
   "execution_count": 1,
   "outputs": [],
   "source": [
    "import pandas as pd\n",
    "import numpy as np\n",
    "from pymoo.optimize import minimize\n",
    "\n",
    "#%matplotlib qt\n",
    "from pymoo.util.termination.f_tol import MultiObjectiveSpaceToleranceTermination\n",
    "import PlotUtil\n",
    "from notebooks.optimization_problems.constraints import Requirements\n",
    "%load_ext autoreload\n",
    "\n",
    "%autoreload 2"
   ],
   "metadata": {
    "collapsed": false,
    "pycharm": {
     "name": "#%%\n"
    }
   }
  },
  {
   "cell_type": "code",
   "execution_count": 2,
   "outputs": [],
   "source": [
    "columns = ['strand_name', 'tof',\n",
    "           'r_a_x', 'r_a_y', 'r_a_z',\n",
    "           'v_a_x', 'v_a_y', 'v_a_z',\n",
    "           'r_b_x', 'r_b_y', 'r_b_z',\n",
    "           'd',\n",
    "           'r_ab_sff_x', 'r_ab_sff_y', 'r_ab_sff_z']\n",
    "\n",
    "file_path = \"example_data.h5\"\n",
    "\n",
    "row_limit = -1\n",
    "\n",
    "store_500km = pd.HDFStore(file_path)\n",
    "\n",
    "instances_500km_df = store_500km.select('contact_instances', 'columns = %s' % str(columns), stop = row_limit)\n",
    "\n",
    "# Sort by pass id\n",
    "instances_500km_df = instances_500km_df.sort_index(0)"
   ],
   "metadata": {
    "collapsed": false,
    "pycharm": {
     "name": "#%% Import data files from visibility analysis at 500 km\n"
    }
   }
  },
  {
   "cell_type": "code",
   "execution_count": 3,
   "outputs": [],
   "source": [
    "N_passes = 20\n",
    "\n",
    "instances_df = instances_500km_df.loc[0:N_passes,:]"
   ],
   "metadata": {
    "collapsed": false,
    "pycharm": {
     "name": "#%% Limit number of passes\n"
    }
   }
  },
  {
   "cell_type": "code",
   "execution_count": 8,
   "outputs": [
    {
     "ename": "KeyboardInterrupt",
     "evalue": "",
     "output_type": "error",
     "traceback": [
      "\u001B[1;31m---------------------------------------------------------------------------\u001B[0m",
      "\u001B[1;31mKeyboardInterrupt\u001B[0m                         Traceback (most recent call last)",
      "\u001B[1;32m<ipython-input-8-4ab09713e337>\u001B[0m in \u001B[0;36m<module>\u001B[1;34m\u001B[0m\n\u001B[0;32m     12\u001B[0m \u001B[0msys_param\u001B[0m\u001B[1;33m.\u001B[0m\u001B[0mEsN0_req_dB_list\u001B[0m \u001B[1;33m=\u001B[0m \u001B[0mmodcods_df\u001B[0m\u001B[1;33m[\u001B[0m\u001B[1;34m'isend'\u001B[0m\u001B[1;33m]\u001B[0m\u001B[1;33m.\u001B[0m\u001B[0mto_numpy\u001B[0m\u001B[1;33m(\u001B[0m\u001B[1;33m)\u001B[0m\u001B[1;33m\u001B[0m\u001B[1;33m\u001B[0m\u001B[0m\n\u001B[0;32m     13\u001B[0m \u001B[0msys_param\u001B[0m\u001B[1;33m.\u001B[0m\u001B[0meta_bitsym_list\u001B[0m \u001B[1;33m=\u001B[0m \u001B[0mmodcods_df\u001B[0m\u001B[1;33m[\u001B[0m\u001B[1;33m[\u001B[0m\u001B[1;34m'eta'\u001B[0m\u001B[1;33m,\u001B[0m \u001B[1;34m'eta_200MHz'\u001B[0m\u001B[1;33m,\u001B[0m \u001B[1;34m'eta_300MHz'\u001B[0m\u001B[1;33m]\u001B[0m\u001B[1;33m]\u001B[0m\u001B[1;33m.\u001B[0m\u001B[0mto_numpy\u001B[0m\u001B[1;33m(\u001B[0m\u001B[1;33m)\u001B[0m\u001B[1;33m\u001B[0m\u001B[1;33m\u001B[0m\u001B[0m\n\u001B[1;32m---> 14\u001B[1;33m \u001B[0msys_param\u001B[0m\u001B[1;33m.\u001B[0m\u001B[0meta_maee_list\u001B[0m \u001B[1;33m=\u001B[0m \u001B[0mmodcods_df\u001B[0m\u001B[1;33m[\u001B[0m\u001B[1;33m[\u001B[0m\u001B[1;34m'maee_12'\u001B[0m\u001B[1;33m,\u001B[0m \u001B[1;34m'maee_12_200MHz'\u001B[0m\u001B[1;33m,\u001B[0m \u001B[1;34m'maee_12_300MHz'\u001B[0m\u001B[1;33m]\u001B[0m\u001B[1;33m]\u001B[0m\u001B[1;33m.\u001B[0m\u001B[0mto_numpy\u001B[0m\u001B[1;33m(\u001B[0m\u001B[1;33m)\u001B[0m\u001B[1;33m\u001B[0m\u001B[1;33m\u001B[0m\u001B[0m\n\u001B[0m\u001B[0;32m     15\u001B[0m \u001B[1;33m\u001B[0m\u001B[0m\n\u001B[0;32m     16\u001B[0m \u001B[0mrequirements\u001B[0m \u001B[1;33m=\u001B[0m \u001B[0mRequirements\u001B[0m\u001B[1;33m(\u001B[0m\u001B[1;33m)\u001B[0m\u001B[1;33m\u001B[0m\u001B[1;33m\u001B[0m\u001B[0m\n",
      "\u001B[1;32m<ipython-input-8-4ab09713e337>\u001B[0m in \u001B[0;36m<module>\u001B[1;34m\u001B[0m\n\u001B[0;32m     12\u001B[0m \u001B[0msys_param\u001B[0m\u001B[1;33m.\u001B[0m\u001B[0mEsN0_req_dB_list\u001B[0m \u001B[1;33m=\u001B[0m \u001B[0mmodcods_df\u001B[0m\u001B[1;33m[\u001B[0m\u001B[1;34m'isend'\u001B[0m\u001B[1;33m]\u001B[0m\u001B[1;33m.\u001B[0m\u001B[0mto_numpy\u001B[0m\u001B[1;33m(\u001B[0m\u001B[1;33m)\u001B[0m\u001B[1;33m\u001B[0m\u001B[1;33m\u001B[0m\u001B[0m\n\u001B[0;32m     13\u001B[0m \u001B[0msys_param\u001B[0m\u001B[1;33m.\u001B[0m\u001B[0meta_bitsym_list\u001B[0m \u001B[1;33m=\u001B[0m \u001B[0mmodcods_df\u001B[0m\u001B[1;33m[\u001B[0m\u001B[1;33m[\u001B[0m\u001B[1;34m'eta'\u001B[0m\u001B[1;33m,\u001B[0m \u001B[1;34m'eta_200MHz'\u001B[0m\u001B[1;33m,\u001B[0m \u001B[1;34m'eta_300MHz'\u001B[0m\u001B[1;33m]\u001B[0m\u001B[1;33m]\u001B[0m\u001B[1;33m.\u001B[0m\u001B[0mto_numpy\u001B[0m\u001B[1;33m(\u001B[0m\u001B[1;33m)\u001B[0m\u001B[1;33m\u001B[0m\u001B[1;33m\u001B[0m\u001B[0m\n\u001B[1;32m---> 14\u001B[1;33m \u001B[0msys_param\u001B[0m\u001B[1;33m.\u001B[0m\u001B[0meta_maee_list\u001B[0m \u001B[1;33m=\u001B[0m \u001B[0mmodcods_df\u001B[0m\u001B[1;33m[\u001B[0m\u001B[1;33m[\u001B[0m\u001B[1;34m'maee_12'\u001B[0m\u001B[1;33m,\u001B[0m \u001B[1;34m'maee_12_200MHz'\u001B[0m\u001B[1;33m,\u001B[0m \u001B[1;34m'maee_12_300MHz'\u001B[0m\u001B[1;33m]\u001B[0m\u001B[1;33m]\u001B[0m\u001B[1;33m.\u001B[0m\u001B[0mto_numpy\u001B[0m\u001B[1;33m(\u001B[0m\u001B[1;33m)\u001B[0m\u001B[1;33m\u001B[0m\u001B[1;33m\u001B[0m\u001B[0m\n\u001B[0m\u001B[0;32m     15\u001B[0m \u001B[1;33m\u001B[0m\u001B[0m\n\u001B[0;32m     16\u001B[0m \u001B[0mrequirements\u001B[0m \u001B[1;33m=\u001B[0m \u001B[0mRequirements\u001B[0m\u001B[1;33m(\u001B[0m\u001B[1;33m)\u001B[0m\u001B[1;33m\u001B[0m\u001B[1;33m\u001B[0m\u001B[0m\n",
      "\u001B[1;32m_pydevd_bundle\\pydevd_cython_win32_37_64.pyx\u001B[0m in \u001B[0;36m_pydevd_bundle.pydevd_cython_win32_37_64.SafeCallWrapper.__call__\u001B[1;34m()\u001B[0m\n",
      "\u001B[1;32m_pydevd_bundle\\pydevd_cython_win32_37_64.pyx\u001B[0m in \u001B[0;36m_pydevd_bundle.pydevd_cython_win32_37_64.PyDBFrame.trace_dispatch\u001B[1;34m()\u001B[0m\n",
      "\u001B[1;32m_pydevd_bundle\\pydevd_cython_win32_37_64.pyx\u001B[0m in \u001B[0;36m_pydevd_bundle.pydevd_cython_win32_37_64.PyDBFrame.trace_dispatch\u001B[1;34m()\u001B[0m\n",
      "\u001B[1;32m_pydevd_bundle\\pydevd_cython_win32_37_64.pyx\u001B[0m in \u001B[0;36m_pydevd_bundle.pydevd_cython_win32_37_64.PyDBFrame.trace_dispatch\u001B[1;34m()\u001B[0m\n",
      "\u001B[1;32mC:\\Program Files\\JetBrains\\PyCharm 2020.2.3\\plugins\\python\\helpers-pro\\jupyter_debug\\pydev_jupyter_plugin.py\u001B[0m in \u001B[0;36mstop\u001B[1;34m(plugin, pydb, frame, event, args, stop_info, arg, step_cmd)\u001B[0m\n\u001B[0;32m    163\u001B[0m         \u001B[0mframe\u001B[0m \u001B[1;33m=\u001B[0m \u001B[0msuspend_jupyter\u001B[0m\u001B[1;33m(\u001B[0m\u001B[0mmain_debugger\u001B[0m\u001B[1;33m,\u001B[0m \u001B[0mthread\u001B[0m\u001B[1;33m,\u001B[0m \u001B[0mframe\u001B[0m\u001B[1;33m,\u001B[0m \u001B[0mstep_cmd\u001B[0m\u001B[1;33m)\u001B[0m\u001B[1;33m\u001B[0m\u001B[1;33m\u001B[0m\u001B[0m\n\u001B[0;32m    164\u001B[0m         \u001B[1;32mif\u001B[0m \u001B[0mframe\u001B[0m\u001B[1;33m:\u001B[0m\u001B[1;33m\u001B[0m\u001B[1;33m\u001B[0m\u001B[0m\n\u001B[1;32m--> 165\u001B[1;33m             \u001B[0mmain_debugger\u001B[0m\u001B[1;33m.\u001B[0m\u001B[0mdo_wait_suspend\u001B[0m\u001B[1;33m(\u001B[0m\u001B[0mthread\u001B[0m\u001B[1;33m,\u001B[0m \u001B[0mframe\u001B[0m\u001B[1;33m,\u001B[0m \u001B[0mevent\u001B[0m\u001B[1;33m,\u001B[0m \u001B[0marg\u001B[0m\u001B[1;33m)\u001B[0m\u001B[1;33m\u001B[0m\u001B[1;33m\u001B[0m\u001B[0m\n\u001B[0m\u001B[0;32m    166\u001B[0m             \u001B[1;32mreturn\u001B[0m \u001B[1;32mTrue\u001B[0m\u001B[1;33m\u001B[0m\u001B[1;33m\u001B[0m\u001B[0m\n\u001B[0;32m    167\u001B[0m     \u001B[1;32mreturn\u001B[0m \u001B[1;32mFalse\u001B[0m\u001B[1;33m\u001B[0m\u001B[1;33m\u001B[0m\u001B[0m\n",
      "\u001B[1;32mC:\\Program Files\\JetBrains\\PyCharm 2020.2.3\\plugins\\python\\helpers\\pydev\\pydevd.py\u001B[0m in \u001B[0;36mdo_wait_suspend\u001B[1;34m(self, thread, frame, event, arg, send_suspend_message, is_unhandled_exception)\u001B[0m\n\u001B[0;32m   1139\u001B[0m \u001B[1;33m\u001B[0m\u001B[0m\n\u001B[0;32m   1140\u001B[0m         \u001B[1;32mwith\u001B[0m \u001B[0mself\u001B[0m\u001B[1;33m.\u001B[0m\u001B[0m_threads_suspended_single_notification\u001B[0m\u001B[1;33m.\u001B[0m\u001B[0mnotify_thread_suspended\u001B[0m\u001B[1;33m(\u001B[0m\u001B[0mthread_id\u001B[0m\u001B[1;33m,\u001B[0m \u001B[0mstop_reason\u001B[0m\u001B[1;33m)\u001B[0m\u001B[1;33m:\u001B[0m\u001B[1;33m\u001B[0m\u001B[1;33m\u001B[0m\u001B[0m\n\u001B[1;32m-> 1141\u001B[1;33m             \u001B[0mself\u001B[0m\u001B[1;33m.\u001B[0m\u001B[0m_do_wait_suspend\u001B[0m\u001B[1;33m(\u001B[0m\u001B[0mthread\u001B[0m\u001B[1;33m,\u001B[0m \u001B[0mframe\u001B[0m\u001B[1;33m,\u001B[0m \u001B[0mevent\u001B[0m\u001B[1;33m,\u001B[0m \u001B[0marg\u001B[0m\u001B[1;33m,\u001B[0m \u001B[0msuspend_type\u001B[0m\u001B[1;33m,\u001B[0m \u001B[0mfrom_this_thread\u001B[0m\u001B[1;33m)\u001B[0m\u001B[1;33m\u001B[0m\u001B[1;33m\u001B[0m\u001B[0m\n\u001B[0m\u001B[0;32m   1142\u001B[0m \u001B[1;33m\u001B[0m\u001B[0m\n\u001B[0;32m   1143\u001B[0m     \u001B[1;32mdef\u001B[0m \u001B[0m_do_wait_suspend\u001B[0m\u001B[1;33m(\u001B[0m\u001B[0mself\u001B[0m\u001B[1;33m,\u001B[0m \u001B[0mthread\u001B[0m\u001B[1;33m,\u001B[0m \u001B[0mframe\u001B[0m\u001B[1;33m,\u001B[0m \u001B[0mevent\u001B[0m\u001B[1;33m,\u001B[0m \u001B[0marg\u001B[0m\u001B[1;33m,\u001B[0m \u001B[0msuspend_type\u001B[0m\u001B[1;33m,\u001B[0m \u001B[0mfrom_this_thread\u001B[0m\u001B[1;33m)\u001B[0m\u001B[1;33m:\u001B[0m\u001B[1;33m\u001B[0m\u001B[1;33m\u001B[0m\u001B[0m\n",
      "\u001B[1;32mC:\\Program Files\\JetBrains\\PyCharm 2020.2.3\\plugins\\python\\helpers\\pydev\\pydevd.py\u001B[0m in \u001B[0;36m_do_wait_suspend\u001B[1;34m(self, thread, frame, event, arg, suspend_type, from_this_thread)\u001B[0m\n\u001B[0;32m   1154\u001B[0m \u001B[1;33m\u001B[0m\u001B[0m\n\u001B[0;32m   1155\u001B[0m                 \u001B[0mself\u001B[0m\u001B[1;33m.\u001B[0m\u001B[0mprocess_internal_commands\u001B[0m\u001B[1;33m(\u001B[0m\u001B[1;33m)\u001B[0m\u001B[1;33m\u001B[0m\u001B[1;33m\u001B[0m\u001B[0m\n\u001B[1;32m-> 1156\u001B[1;33m                 \u001B[0mtime\u001B[0m\u001B[1;33m.\u001B[0m\u001B[0msleep\u001B[0m\u001B[1;33m(\u001B[0m\u001B[1;36m0.01\u001B[0m\u001B[1;33m)\u001B[0m\u001B[1;33m\u001B[0m\u001B[1;33m\u001B[0m\u001B[0m\n\u001B[0m\u001B[0;32m   1157\u001B[0m \u001B[1;33m\u001B[0m\u001B[0m\n\u001B[0;32m   1158\u001B[0m         \u001B[0mself\u001B[0m\u001B[1;33m.\u001B[0m\u001B[0mcancel_async_evaluation\u001B[0m\u001B[1;33m(\u001B[0m\u001B[0mget_current_thread_id\u001B[0m\u001B[1;33m(\u001B[0m\u001B[0mthread\u001B[0m\u001B[1;33m)\u001B[0m\u001B[1;33m,\u001B[0m \u001B[0mstr\u001B[0m\u001B[1;33m(\u001B[0m\u001B[0mid\u001B[0m\u001B[1;33m(\u001B[0m\u001B[0mframe\u001B[0m\u001B[1;33m)\u001B[0m\u001B[1;33m)\u001B[0m\u001B[1;33m)\u001B[0m\u001B[1;33m\u001B[0m\u001B[1;33m\u001B[0m\u001B[0m\n",
      "\u001B[1;31mKeyboardInterrupt\u001B[0m: "
     ]
    }
   ],
   "source": [
    "from notebooks.optimization_problems.vcm_problem import VCMProblem\n",
    "from notebooks.optimization_problems.design_vector import design_vector_default_scm, SystemParameters\n",
    "\n",
    "sys_param = SystemParameters()\n",
    "sys_param.margin_dB = 3.0\n",
    "sys_param.Gtx_dBi_bounds = (20., 20.)\n",
    "sys_param.Ptx_dBm_bounds = (20., 60.)\n",
    "\n",
    "modcods_df = pd.read_pickle('dvbs2.pkl')\n",
    "\n",
    "sys_param.EsN0_req_dB_list = modcods_df['isend'].to_numpy()\n",
    "sys_param.eta_bitsym_list = modcods_df[['eta', 'eta_200MHz', 'eta_300MHz']].to_numpy().T\n",
    "sys_param.eta_maee_list = modcods_df[['maee_12', 'maee_12_200MHz', 'maee_12_300MHz']].to_numpy().T\n",
    "\n",
    "requirements = Requirements()\n",
    "requirements.min_throughput = 50e9\n",
    "#requirements.max_throughput = 5e9\n",
    "\n",
    "min_power = False\n",
    "problem = VCMProblem(instances_df, sys_param, requirements=requirements, min_power=min_power)\n",
    "#problem = VCMProblem(instances_df, sys_param, parallelization = ('starmap', pool.starmap))\n",
    "#problem = VCMProblemPar(instances_df, sys_param)\n",
    "\n",
    "sampling, crossover, mutation = design_vector_default_scm(problem.x_length, problem.x_indices)\n",
    "\n",
    "converge_algo_settings = {'pop_size': 200, 'n_offsprings': 100}\n",
    "unconverge_algo_settings = {'pop_size': 100, 'n_offsprings': 20}\n",
    "\n",
    "converge_term_settings = {'f_tol': 0.001, 'n_max_gen': 2000, 'n_max_evals': 200000}\n",
    "unconverge_term_settings =  {'f_tol': 0.005, 'n_max_gen': 100, 'n_max_evals': 2000}\n",
    "\n",
    "converge = True\n",
    "if converge:\n",
    "    algo_settings = converge_algo_settings\n",
    "    term_settings = converge_term_settings\n",
    "    postfix = '_converged'\n",
    "else:\n",
    "    algo_settings = unconverge_algo_settings\n",
    "    term_settings = unconverge_term_settings\n",
    "    postfix = '_unconverged'\n",
    "\n",
    "from pymoo.util.termination.default import MultiObjectiveDefaultTermination\n",
    "\n",
    "termination = MultiObjectiveDefaultTermination(\n",
    "    #x_tol=1e-8,\n",
    "    #cv_tol=1e-6,\n",
    "    f_tol=term_settings['f_tol'], #f_tol=0.005,\n",
    "    nth_gen=100,\n",
    "    n_last=30,\n",
    "    n_max_gen=term_settings['n_max_gen'], #n_max_gen=1000,\n",
    "    n_max_evals=term_settings['n_max_evals'], #n_max_evals=100000\n",
    ")\n",
    "\n",
    "termination = MultiObjectiveSpaceToleranceTermination(tol=0.00005,\n",
    "                                                      n_last=30,\n",
    "                                                      nth_gen=5,\n",
    "                                                      n_max_gen=None,\n",
    "                                                      n_max_evals=None)\n",
    "\n",
    "from pymoo.algorithms.nsga2 import NSGA2\n",
    "\n",
    "algorithm = NSGA2(\n",
    "    pop_size=algo_settings['pop_size'],\n",
    "    n_offsprings=algo_settings['n_offsprings'],\n",
    "    sampling=sampling,\n",
    "    crossover=crossover,\n",
    "    mutation=mutation,\n",
    "    eliminate_duplicates=True,\n",
    ")\n",
    "\n",
    "res = minimize(problem,\n",
    "               algorithm,\n",
    "               termination=termination,\n",
    "               seed=1,\n",
    "               save_history=True,\n",
    "               verbose=True\n",
    "               )\n",
    "\n",
    "#res = minimize(problem, GA())\n",
    "# pool.close()\n",
    "# problem.pool.close()\n",
    "\n",
    "print('Processes:', res.exec_time)\n",
    "print(\"Best solution found: %s\" % res.X)"
   ],
   "metadata": {
    "collapsed": false,
    "pycharm": {
     "name": "#%%\n"
    }
   }
  },
  {
   "cell_type": "code",
   "execution_count": 6,
   "outputs": [],
   "source": [
    "x_pass = res.X[:, problem.x_indices['pass']].astype('bool')\n",
    "x_Ptx_dBm = res.X[:, problem.x_indices['power'][0]].astype('float64')\n",
    "x_modcod = np.squeeze(res.X[:, problem.x_indices['modcod']].astype('int64'))\n",
    "\n",
    "f_energy = res.F[:,1] / 1e3 # Kilo Joule\n",
    "f_throughput = ((res.F[:,0] * -1) / 1e9)   # Gigabit"
   ],
   "metadata": {
    "collapsed": false,
    "pycharm": {
     "name": "#%% Extract variables from result\n"
    }
   }
  },
  {
   "cell_type": "code",
   "execution_count": 7,
   "outputs": [
    {
     "data": {
      "text/plain": "<Figure size 339.84x198.72 with 2 Axes>",
      "image/png": "[encoded data removed]"
     },
     "metadata": {
      "needs_background": "light"
     },
     "output_type": "display_data"
    }
   ],
   "source": [
    "import colorcet as cc\n",
    "\n",
    "from matplotlib.lines import Line2D\n",
    "import numpy as np\n",
    "import matplotlib.pyplot as plt\n",
    "#from PlotUtil import apply_report_formatting, apply_report_formatting_single\n",
    "import matplotlib.colors as mcol\n",
    "import matplotlib.cm as cm\n",
    "\n",
    "isend_req = 10.69\n",
    "\n",
    "fig = plt.figure(figsize=(3.2, 2.4))\n",
    "\n",
    "ax = fig.add_subplot(1,1,1)\n",
    "ax.grid()\n",
    "ax.set_axisbelow(True)\n",
    "\n",
    "cm1 = mcol.LinearSegmentedColormap.from_list(\"BlueRed\",[\"c\",\"r\"])\n",
    "#cm1 = mcol.LinearSegmentedColormap.from_list(\"BlueRed\",[\"#4a569d\",\"#dc2424\"])\n",
    "#cm1 = cc.cm.linear_kryw_5_100_c67_r\n",
    "#cm1 = cc.cm.CET_L18\n",
    "\n",
    "min_Ptx = np.nanmin(x_Ptx_dBm)\n",
    "max_Ptx = np.nanmax(x_Ptx_dBm)\n",
    "\n",
    "cnorm = mcol.Normalize(vmin=min_Ptx,vmax=max_Ptx)\n",
    "\n",
    "cpick = cm.ScalarMappable(norm=cnorm,cmap=cm1)\n",
    "cpick.set_array([])\n",
    "\n",
    "cp = cpick.to_rgba(x_Ptx_dBm.tolist())\n",
    "ax.scatter(f_energy, f_throughput, c=cp, marker='.', s=1)\n",
    "\n",
    "ax.set_xlabel(\"Energy used [kJ]\")\n",
    "ax.set_ylabel(\"Throughput [Gbit]\")\n",
    "cb = plt.colorbar(cpick,label=\"Power [dBm]\")\n",
    "cb.ax.tick_params(labelsize=8)\n",
    "cb.ax.yaxis.label.set_size(8)\n",
    "#ax.set_ylim((0, 80))\n",
    "#ax.set_xscale(\"log\")\n",
    "\n",
    "# ax.text(np.max(f_energy), np.max(f_throughput),\n",
    "#         \"(%.2f, %.2f)\" % (np.max(f_energy), np.max(f_throughput)),\n",
    "#         horizontalalignment='right')\n",
    "# for modcod in range(np.max(m)):\n",
    "#     m_throughput = f_throughput[m == modcod] # throughputs with this modcod\n",
    "#     if len(m_throughput) > 0:\n",
    "#         max_throughput = np.max(m_throughput) # maximum throughput with this modcod\n",
    "#         ax.axhline(y=max_throughput, color='r', linestyle='-')\n",
    "#         ax.text(np.max(f_energy), max_throughput, '%d' % modcod)\n",
    "\n",
    "PlotUtil.apply_report_formatting(4.72, 2.76)\n",
    "plt.tight_layout()\n",
    "\n",
    "#fig.savefig('D:/git/thesis_report_ae/figures/vcm_pareto%s.pdf' % postfix)\n",
    "#plt.savefig('D:/git/thesis_report_ae/figures/link_budget_pareto%s.svg' % postfix)\n",
    "plt.show()\n",
    "plt.close()"
   ],
   "metadata": {
    "collapsed": false,
    "pycharm": {
     "name": "#%% Pareto fronts\n"
    }
   }
  },
  {
   "cell_type": "code",
   "execution_count": null,
   "outputs": [],
   "source": [
    "fig = plt.figure(figsize=(3.2, 2.4))\n",
    "\n",
    "ax = fig.add_subplot(1,1,1)\n",
    "ax.grid()\n",
    "ax.set_axisbelow(True)\n",
    "\n",
    "ax.scatter(x_modcod, f_throughput, marker='.', s=1)\n",
    "ax.set_xlabel(\"Modcod\")\n",
    "ax.set_ylabel(\"Throughput [Gbit]\")\n",
    "# ax.set_xlim((5.5, 11))\n",
    "# ax.set_ylim((0, 80))\n",
    "\n",
    "PlotUtil.apply_report_formatting(3.146, 2.76)\n",
    "plt.tight_layout()\n",
    "\n",
    "fig.savefig('D:/git/thesis_report_ae/figures/vcm_modcod_vs_throughput.pdf')"
   ],
   "metadata": {
    "collapsed": false,
    "pycharm": {
     "name": "#%% Throughput vs modcod\n"
    }
   }
  },
  {
   "cell_type": "code",
   "execution_count": null,
   "outputs": [],
   "source": [
    "fig = plt.figure(figsize=(3.2, 2.4))\n",
    "\n",
    "import matplotlib.pyplot as plt\n",
    "from pymoo.performance_indicator.hv import Hypervolume\n",
    "\n",
    "# create the performance indicator object with reference point (4,4)\n",
    "metric = Hypervolume(ref_point=np.array([0,1e18]))\n",
    "\n",
    "# collect the population in each generation\n",
    "pop_each_gen = [a.pop for a in res.history]\n",
    "\n",
    "# receive the population in each generation\n",
    "obj_and_feasible_each_gen = [pop[pop.get(\"feasible\")[:,0]].get(\"F\") for pop in pop_each_gen]\n",
    "\n",
    "# calculate for each generation the HV metric\n",
    "hv = [metric.calc(f) for f in obj_and_feasible_each_gen]\n",
    "\n",
    "# function evaluations at each snapshot\n",
    "n_evals = np.array([a.evaluator.n_eval for a in res.history])\n",
    "\n",
    "# visualze the convergence curve\n",
    "plt.plot(n_evals, hv, '-o', markersize=3)\n",
    "plt.title(\"Convergence\")\n",
    "plt.xlabel(\"Function Evaluations\")\n",
    "plt.ylabel(\"Hypervolume\")\n",
    "PlotUtil.apply_report_formatting()\n",
    "plt.tight_layout()\n",
    "plt.grid()\n",
    "#plt.savefig('D:/git/thesis_report_ae/figures/link_budget_hypervolume%s.svg' % postfix)\n",
    "fig.savefig('D:/git/thesis_report_ae/figures/visibility_hypervolume%s.pdf' % postfix)\n",
    "plt.show()\n",
    "plt.close()\n"
   ],
   "metadata": {
    "collapsed": false,
    "pycharm": {
     "name": "#%%\n"
    }
   }
  }
 ],
 "metadata": {
  "kernelspec": {
   "name": "pycharm-34b782de",
   "language": "python",
   "display_name": "PyCharm (hermes-simulator)"
  },
  "language_info": {
   "codemirror_mode": {
    "name": "ipython",
    "version": 3
   },
   "file_extension": ".py",
   "mimetype": "text/x-python",
   "name": "python",
   "nbconvert_exporter": "python",
   "pygments_lexer": "ipython3",
   "version": "3.7.6"
  }
 },
 "nbformat": 4,
 "nbformat_minor": 1
}