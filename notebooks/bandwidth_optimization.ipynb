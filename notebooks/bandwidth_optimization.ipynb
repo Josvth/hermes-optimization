{
 "cells": [
  {
   "cell_type": "code",
   "execution_count": 9,
   "outputs": [
    {
     "name": "stdout",
     "output_type": "stream",
     "text": [
      "The autoreload extension is already loaded. To reload it, use:\n",
      "  %reload_ext autoreload\n"
     ]
    }
   ],
   "source": [
    "import pandas as pd\n",
    "import numpy as np\n",
    "from pymoo.optimize import minimize\n",
    "\n",
    "#%matplotlib qt\n",
    "from pymoo.util.termination.f_tol import MultiObjectiveSpaceToleranceTermination\n",
    "import PlotUtil\n",
    "from notebooks.optimization_problems.constraints import Requirements\n",
    "%load_ext autoreload\n",
    "\n",
    "%autoreload 2"
   ],
   "metadata": {
    "collapsed": false,
    "pycharm": {
     "name": "#%%\n"
    }
   }
  },
  {
   "cell_type": "code",
   "execution_count": 10,
   "outputs": [],
   "source": [
    "columns = ['strand_name', 'tof',\n",
    "           'r_a_x', 'r_a_y', 'r_a_z',\n",
    "           'v_a_x', 'v_a_y', 'v_a_z',\n",
    "           'r_b_x', 'r_b_y', 'r_b_z',\n",
    "           'd',\n",
    "           'r_ab_sff_x', 'r_ab_sff_y', 'r_ab_sff_z']\n",
    "\n",
    "file_path = \"example_data.h5\"\n",
    "\n",
    "row_limit = -1\n",
    "\n",
    "store_500km = pd.HDFStore(file_path)\n",
    "\n",
    "instances_500km_df = store_500km.select('contact_instances', 'columns = %s' % str(columns), stop = row_limit)\n",
    "\n",
    "# Sort by pass id\n",
    "instances_500km_df = instances_500km_df.sort_index(0)"
   ],
   "metadata": {
    "collapsed": false,
    "pycharm": {
     "name": "#%% Import data files from visibility analysis at 500 km\n"
    }
   }
  },
  {
   "cell_type": "code",
   "execution_count": 11,
   "outputs": [],
   "source": [
    "N_passes = 20\n",
    "\n",
    "instances_df = instances_500km_df.loc[0:N_passes,:]"
   ],
   "metadata": {
    "collapsed": false,
    "pycharm": {
     "name": "#%% Limit number of passes\n"
    }
   }
  },
  {
   "cell_type": "code",
   "execution_count": null,
   "outputs": [
    {
     "name": "stdout",
     "output_type": "stream",
     "text": [
      "=====================================================================================\n",
      "n_gen |  n_eval |   cv (min)   |   cv (avg)   |  n_nds  |     eps      |  indicator  \n",
      "=====================================================================================\n",
      "    1 |     200 |  0.00000E+00 |  1.41434E+07 |       4 |            - |            -\n",
      "    2 |     300 |  0.00000E+00 |  1.23245E+02 |       5 |  0.187618570 |        ideal\n",
      "    3 |     400 |  0.00000E+00 |  7.70600E+01 |       8 |  0.039278717 |            f\n",
      "    4 |     500 |  0.00000E+00 |  2.81100E+01 |      11 |  0.011324632 |        ideal\n",
      "    5 |     600 |  0.00000E+00 |  6.375000000 |      14 |  0.020028514 |            f\n",
      "    6 |     700 |  0.00000E+00 |  0.00000E+00 |      11 |  0.019719226 |            f\n",
      "    7 |     800 |  0.00000E+00 |  0.00000E+00 |      15 |  0.014474260 |        nadir\n",
      "    8 |     900 |  0.00000E+00 |  0.00000E+00 |      20 |  0.021412228 |            f\n",
      "    9 |    1000 |  0.00000E+00 |  0.00000E+00 |      19 |  0.016809136 |            f\n",
      "   10 |    1100 |  0.00000E+00 |  0.00000E+00 |      19 |  0.013452195 |            f\n",
      "   11 |    1200 |  0.00000E+00 |  0.00000E+00 |      22 |  0.005643469 |            f\n",
      "   12 |    1300 |  0.00000E+00 |  0.00000E+00 |      25 |  0.004024982 |            f\n",
      "   13 |    1400 |  0.00000E+00 |  0.00000E+00 |      31 |  0.002781068 |            f\n",
      "   14 |    1500 |  0.00000E+00 |  0.00000E+00 |      36 |  0.068367010 |        ideal\n",
      "   15 |    1600 |  0.00000E+00 |  0.00000E+00 |      36 |  0.082657161 |        ideal\n",
      "   16 |    1700 |  0.00000E+00 |  0.00000E+00 |      36 |  0.021499554 |        ideal\n",
      "   17 |    1800 |  0.00000E+00 |  0.00000E+00 |      36 |  0.002637269 |            f\n",
      "   18 |    1900 |  0.00000E+00 |  0.00000E+00 |      35 |  0.005534937 |            f\n",
      "   19 |    2000 |  0.00000E+00 |  0.00000E+00 |      38 |  0.002808391 |            f\n",
      "   20 |    2100 |  0.00000E+00 |  0.00000E+00 |      42 |  0.002772078 |            f\n",
      "   21 |    2200 |  0.00000E+00 |  0.00000E+00 |      44 |  0.001080037 |            f\n",
      "   22 |    2300 |  0.00000E+00 |  0.00000E+00 |      45 |  0.002262501 |            f\n",
      "   23 |    2400 |  0.00000E+00 |  0.00000E+00 |      42 |  0.002563384 |        nadir\n",
      "   24 |    2500 |  0.00000E+00 |  0.00000E+00 |      42 |  0.020288963 |        ideal\n",
      "   25 |    2600 |  0.00000E+00 |  0.00000E+00 |      41 |  0.004745609 |            f\n",
      "   26 |    2700 |  0.00000E+00 |  0.00000E+00 |      42 |  0.033917835 |        ideal\n",
      "   27 |    2800 |  0.00000E+00 |  0.00000E+00 |      45 |  0.001044918 |            f\n",
      "   28 |    2900 |  0.00000E+00 |  0.00000E+00 |      50 |  0.003412094 |            f\n",
      "   29 |    3000 |  0.00000E+00 |  0.00000E+00 |      54 |  0.023116885 |        ideal\n",
      "   30 |    3100 |  0.00000E+00 |  0.00000E+00 |      61 |  0.000764754 |            f\n",
      "   31 |    3200 |  0.00000E+00 |  0.00000E+00 |      61 |  0.000411038 |            f\n",
      "   32 |    3300 |  0.00000E+00 |  0.00000E+00 |      65 |  0.001191417 |            f\n",
      "   33 |    3400 |  0.00000E+00 |  0.00000E+00 |      63 |  0.001667907 |            f\n",
      "   34 |    3500 |  0.00000E+00 |  0.00000E+00 |      68 |  0.000760631 |            f\n",
      "   35 |    3600 |  0.00000E+00 |  0.00000E+00 |      67 |  0.000187849 |            f\n",
      "   36 |    3700 |  0.00000E+00 |  0.00000E+00 |      65 |  0.000565786 |            f\n",
      "   37 |    3800 |  0.00000E+00 |  0.00000E+00 |      69 |  0.002594179 |            f\n",
      "   38 |    3900 |  0.00000E+00 |  0.00000E+00 |      69 |  0.000503289 |            f\n",
      "   39 |    4000 |  0.00000E+00 |  0.00000E+00 |      72 |  0.000861082 |            f\n",
      "   40 |    4100 |  0.00000E+00 |  0.00000E+00 |      71 |  0.000773825 |            f\n",
      "   41 |    4200 |  0.00000E+00 |  0.00000E+00 |      73 |  0.000338176 |            f\n",
      "   42 |    4300 |  0.00000E+00 |  0.00000E+00 |      71 |  0.001477236 |            f\n",
      "   43 |    4400 |  0.00000E+00 |  0.00000E+00 |      71 |  0.001583489 |            f\n",
      "   44 |    4500 |  0.00000E+00 |  0.00000E+00 |      76 |  0.000681467 |            f\n",
      "   45 |    4600 |  0.00000E+00 |  0.00000E+00 |      71 |  0.022003141 |        ideal\n",
      "   46 |    4700 |  0.00000E+00 |  0.00000E+00 |      76 |  0.016050034 |        ideal\n",
      "   47 |    4800 |  0.00000E+00 |  0.00000E+00 |      75 |  0.000219347 |            f\n",
      "   48 |    4900 |  0.00000E+00 |  0.00000E+00 |      73 |  0.000716740 |            f\n",
      "   49 |    5000 |  0.00000E+00 |  0.00000E+00 |      77 |  0.012292136 |        ideal\n",
      "   50 |    5100 |  0.00000E+00 |  0.00000E+00 |      81 |  0.002507558 |            f\n",
      "   51 |    5200 |  0.00000E+00 |  0.00000E+00 |      87 |  0.028783614 |        ideal\n",
      "   52 |    5300 |  0.00000E+00 |  0.00000E+00 |      83 |  0.018801808 |        ideal\n",
      "   53 |    5400 |  0.00000E+00 |  0.00000E+00 |      86 |  0.001125881 |            f\n",
      "   54 |    5500 |  0.00000E+00 |  0.00000E+00 |      86 |  0.000434185 |            f\n",
      "   55 |    5600 |  0.00000E+00 |  0.00000E+00 |      79 |  0.000989031 |            f\n",
      "   56 |    5700 |  0.00000E+00 |  0.00000E+00 |      79 |  0.000479948 |            f\n",
      "   57 |    5800 |  0.00000E+00 |  0.00000E+00 |      81 |  0.000937013 |            f\n",
      "   58 |    5900 |  0.00000E+00 |  0.00000E+00 |      84 |  0.000286640 |            f\n",
      "   59 |    6000 |  0.00000E+00 |  0.00000E+00 |      87 |  0.000330209 |            f\n",
      "   60 |    6100 |  0.00000E+00 |  0.00000E+00 |      90 |  0.023649686 |        ideal\n",
      "   61 |    6200 |  0.00000E+00 |  0.00000E+00 |      92 |  0.000385392 |            f\n",
      "   62 |    6300 |  0.00000E+00 |  0.00000E+00 |      96 |  0.000579781 |            f\n",
      "   63 |    6400 |  0.00000E+00 |  0.00000E+00 |      98 |  0.000807848 |            f\n",
      "   64 |    6500 |  0.00000E+00 |  0.00000E+00 |      99 |  0.000789074 |            f\n",
      "   65 |    6600 |  0.00000E+00 |  0.00000E+00 |      97 |  0.001930610 |            f\n",
      "   66 |    6700 |  0.00000E+00 |  0.00000E+00 |      95 |  0.000929032 |            f\n",
      "   67 |    6800 |  0.00000E+00 |  0.00000E+00 |      98 |  0.000668055 |            f\n",
      "   68 |    6900 |  0.00000E+00 |  0.00000E+00 |     101 |  0.000328996 |            f\n",
      "   69 |    7000 |  0.00000E+00 |  0.00000E+00 |     102 |  0.001044341 |            f\n",
      "   70 |    7100 |  0.00000E+00 |  0.00000E+00 |     105 |  0.000152409 |            f\n",
      "   71 |    7200 |  0.00000E+00 |  0.00000E+00 |     107 |  0.000253955 |            f\n",
      "   72 |    7300 |  0.00000E+00 |  0.00000E+00 |     107 |  0.000581266 |            f\n",
      "   73 |    7400 |  0.00000E+00 |  0.00000E+00 |     108 |  0.000338524 |            f\n",
      "   74 |    7500 |  0.00000E+00 |  0.00000E+00 |     109 |  0.001138552 |            f\n",
      "   75 |    7600 |  0.00000E+00 |  0.00000E+00 |     108 |  0.000780591 |            f\n",
      "   76 |    7700 |  0.00000E+00 |  0.00000E+00 |     107 |  0.000422591 |            f\n",
      "   77 |    7800 |  0.00000E+00 |  0.00000E+00 |     111 |  0.000143014 |            f\n",
      "   78 |    7900 |  0.00000E+00 |  0.00000E+00 |     114 |  0.000363183 |            f\n",
      "   79 |    8000 |  0.00000E+00 |  0.00000E+00 |     115 |  0.000382937 |            f\n",
      "   80 |    8100 |  0.00000E+00 |  0.00000E+00 |     115 |  0.001117212 |            f\n",
      "   81 |    8200 |  0.00000E+00 |  0.00000E+00 |     112 |  0.000306659 |            f\n"
     ]
    },
    {
     "name": "stderr",
     "output_type": "stream",
     "text": [
      "C:\\git\\hermes-optimization\\cenv\\lib\\site-packages\\pymoo\\operators\\mutation\\polynomial_mutation.py:34: RuntimeWarning: invalid value encountered in true_divide\n",
      "  delta1 = (X - xl) / (xu - xl)\n",
      "C:\\git\\hermes-optimization\\cenv\\lib\\site-packages\\pymoo\\operators\\mutation\\polynomial_mutation.py:35: RuntimeWarning: invalid value encountered in true_divide\n",
      "  delta2 = (xu - X) / (xu - xl)\n"
     ]
    }
   ],
   "source": [
    "from notebooks.optimization_problems.bandwidth_problem import BandwidthProblem\n",
    "from notebooks.optimization_problems.design_vector import design_vector_default_scm, SystemParameters\n",
    "\n",
    "sys_param = SystemParameters()\n",
    "sys_param.margin_dB = 3.0\n",
    "sys_param.B_Hz_array = np.array([0.1, 0.5, 1, 10, 50, 100, 200, 300]) * 1e6\n",
    "sys_param.Gtx_dBi_bounds = (20., 20.)\n",
    "sys_param.Ptx_dBm_bounds = (20., 60.)\n",
    "\n",
    "modcods_df = pd.read_pickle('dvbs2.pkl')\n",
    "\n",
    "sys_param.EsN0_req_dB_array = modcods_df['isend'].to_numpy()\n",
    "sys_param.eta_bitsym_array = modcods_df[['eta', 'eta_200MHz', 'eta_300MHz']].to_numpy()\n",
    "sys_param.eta_maee_array = modcods_df[['maee_12', 'maee_12_200MHz', 'maee_12_300MHz']].to_numpy()\n",
    "\n",
    "requirements = Requirements()\n",
    "requirements.min_throughput = 0.5e9\n",
    "#requirements.max_throughput = 5e9\n",
    "\n",
    "problem = BandwidthProblem(instances_df, sys_param, requirements=requirements)\n",
    "\n",
    "sampling, crossover, mutation = design_vector_default_scm(problem.x_length, problem.x_indices)\n",
    "\n",
    "converge_algo_settings = {'pop_size': 200, 'n_offsprings': 100}\n",
    "unconverge_algo_settings = {'pop_size': 100, 'n_offsprings': 20}\n",
    "\n",
    "converge_term_settings = {'f_tol': 0.001, 'n_max_gen': 2000, 'n_max_evals': 200000}\n",
    "unconverge_term_settings =  {'f_tol': 0.005, 'n_max_gen': 100, 'n_max_evals': 2000}\n",
    "\n",
    "converge = True\n",
    "if converge:\n",
    "    algo_settings = converge_algo_settings\n",
    "    term_settings = converge_term_settings\n",
    "    postfix = '_converged'\n",
    "else:\n",
    "    algo_settings = unconverge_algo_settings\n",
    "    term_settings = unconverge_term_settings\n",
    "    postfix = '_unconverged'\n",
    "\n",
    "from pymoo.util.termination.default import MultiObjectiveDefaultTermination\n",
    "\n",
    "termination = MultiObjectiveDefaultTermination(\n",
    "    #x_tol=1e-8,\n",
    "    #cv_tol=1e-6,\n",
    "    f_tol=term_settings['f_tol'], #f_tol=0.005,\n",
    "    nth_gen=100,\n",
    "    n_last=30,\n",
    "    n_max_gen=term_settings['n_max_gen'], #n_max_gen=1000,\n",
    "    n_max_evals=term_settings['n_max_evals'], #n_max_evals=100000\n",
    ")\n",
    "\n",
    "termination = MultiObjectiveSpaceToleranceTermination(tol=0.00001,\n",
    "                                                      n_last=30,\n",
    "                                                      nth_gen=5,\n",
    "                                                      n_max_gen=10000,\n",
    "                                                      n_max_evals=None)\n",
    "\n",
    "from pymoo.algorithms.nsga2 import NSGA2\n",
    "\n",
    "algorithm = NSGA2(\n",
    "    pop_size=algo_settings['pop_size'],\n",
    "    n_offsprings=algo_settings['n_offsprings'],\n",
    "    sampling=sampling,\n",
    "    crossover=crossover,\n",
    "    mutation=mutation,\n",
    "    eliminate_duplicates=True,\n",
    ")\n",
    "\n",
    "res = minimize(problem,\n",
    "               algorithm,\n",
    "               termination=termination,\n",
    "               seed=1,\n",
    "               save_history=True,\n",
    "               verbose=True\n",
    "               )\n",
    "\n",
    "#res = minimize(problem, GA())\n",
    "# pool.close()\n",
    "# problem.pool.close()\n",
    "\n",
    "print('Processes:', res.exec_time)\n",
    "print(\"Best solution found: %s\" % res.X)"
   ],
   "metadata": {
    "collapsed": false,
    "pycharm": {
     "name": "#%%\n",
     "is_executing": true
    }
   }
  },
  {
   "cell_type": "code",
   "execution_count": 35,
   "outputs": [],
   "source": [
    "x_pass = res.X[:, problem.x_indices['pass']].astype('bool')\n",
    "x_Ptx_dBm = res.X[:, problem.x_indices['power'][0]].astype('float64')\n",
    "#x_modcod = np.squeeze(res.X[:, problem.x_indices['modcod']].astype('int64'))\n",
    "\n",
    "f_energy = res.F[:,1] / 1e3 # Kilo Joule\n",
    "f_throughput = ((res.F[:,0] * -1) / 1e9)   # Gigabit"
   ],
   "metadata": {
    "collapsed": false,
    "pycharm": {
     "name": "#%% Extract variables from result\n"
    }
   }
  },
  {
   "cell_type": "code",
   "execution_count": 36,
   "outputs": [
    {
     "data": {
      "text/plain": "<Figure size 339.84x198.72 with 2 Axes>",
      "image/png": "[encoded data removed]"
     },
     "metadata": {
      "needs_background": "light"
     },
     "output_type": "display_data"
    }
   ],
   "source": [
    "import colorcet as cc\n",
    "\n",
    "from matplotlib.lines import Line2D\n",
    "import numpy as np\n",
    "import matplotlib.pyplot as plt\n",
    "#from PlotUtil import apply_report_formatting, apply_report_formatting_single\n",
    "import matplotlib.colors as mcol\n",
    "import matplotlib.cm as cm\n",
    "\n",
    "isend_req = 10.69\n",
    "\n",
    "fig = plt.figure(figsize=(3.2, 2.4))\n",
    "\n",
    "ax = fig.add_subplot(1,1,1)\n",
    "ax.grid()\n",
    "ax.set_axisbelow(True)\n",
    "\n",
    "cm1 = mcol.LinearSegmentedColormap.from_list(\"BlueRed\",[\"c\",\"r\"])\n",
    "#cm1 = mcol.LinearSegmentedColormap.from_list(\"BlueRed\",[\"#4a569d\",\"#dc2424\"])\n",
    "#cm1 = cc.cm.linear_kryw_5_100_c67_r\n",
    "#cm1 = cc.cm.CET_L18\n",
    "\n",
    "min_Ptx = np.nanmin(x_Ptx_dBm)\n",
    "max_Ptx = np.nanmax(x_Ptx_dBm)\n",
    "\n",
    "cnorm = mcol.Normalize(vmin=min_Ptx,vmax=max_Ptx)\n",
    "\n",
    "cpick = cm.ScalarMappable(norm=cnorm,cmap=cm1)\n",
    "cpick.set_array([])\n",
    "\n",
    "cp = cpick.to_rgba(x_Ptx_dBm.tolist())\n",
    "ax.scatter(f_energy, f_throughput, c=cp, marker='.', s=1)\n",
    "\n",
    "ax.set_xlabel(\"Energy used [kJ]\")\n",
    "ax.set_ylabel(\"Throughput [Gbit]\")\n",
    "cb = plt.colorbar(cpick,label=\"Power [dBm]\")\n",
    "cb.ax.tick_params(labelsize=8)\n",
    "cb.ax.yaxis.label.set_size(8)\n",
    "#ax.set_ylim((0, 80))\n",
    "#ax.set_xscale(\"log\")\n",
    "\n",
    "# ax.text(np.max(f_energy), np.max(f_throughput),\n",
    "#         \"(%.2f, %.2f)\" % (np.max(f_energy), np.max(f_throughput)),\n",
    "#         horizontalalignment='right')\n",
    "# for modcod in range(np.max(m)):\n",
    "#     m_throughput = f_throughput[m == modcod] # throughputs with this modcod\n",
    "#     if len(m_throughput) > 0:\n",
    "#         max_throughput = np.max(m_throughput) # maximum throughput with this modcod\n",
    "#         ax.axhline(y=max_throughput, color='r', linestyle='-')\n",
    "#         ax.text(np.max(f_energy), max_throughput, '%d' % modcod)\n",
    "\n",
    "PlotUtil.apply_report_formatting(4.72, 2.76)\n",
    "plt.tight_layout()\n",
    "\n",
    "#fig.savefig('D:/git/thesis_report_ae/figures/vcm_pareto%s.pdf' % postfix)\n",
    "#plt.savefig('D:/git/thesis_report_ae/figures/link_budget_pareto%s.svg' % postfix)\n",
    "plt.show()\n",
    "plt.close()"
   ],
   "metadata": {
    "collapsed": false,
    "pycharm": {
     "name": "#%% Pareto fronts\n"
    }
   }
  },
  {
   "cell_type": "code",
   "execution_count": null,
   "outputs": [],
   "source": [
    "fig = plt.figure(figsize=(3.2, 2.4))\n",
    "\n",
    "ax = fig.add_subplot(1,1,1)\n",
    "ax.grid()\n",
    "ax.set_axisbelow(True)\n",
    "\n",
    "ax.scatter(x_modcod, f_throughput, marker='.', s=1)\n",
    "ax.set_xlabel(\"Modcod\")\n",
    "ax.set_ylabel(\"Throughput [Gbit]\")\n",
    "# ax.set_xlim((5.5, 11))\n",
    "# ax.set_ylim((0, 80))\n",
    "\n",
    "PlotUtil.apply_report_formatting(3.146, 2.76)\n",
    "plt.tight_layout()\n",
    "\n",
    "fig.savefig('D:/git/thesis_report_ae/figures/vcm_modcod_vs_throughput.pdf')"
   ],
   "metadata": {
    "collapsed": false,
    "pycharm": {
     "name": "#%% Throughput vs modcod\n"
    }
   }
  },
  {
   "cell_type": "code",
   "execution_count": null,
   "outputs": [],
   "source": [
    "fig = plt.figure(figsize=(3.2, 2.4))\n",
    "\n",
    "import matplotlib.pyplot as plt\n",
    "from pymoo.performance_indicator.hv import Hypervolume\n",
    "\n",
    "# create the performance indicator object with reference point (4,4)\n",
    "metric = Hypervolume(ref_point=np.array([0,1e18]))\n",
    "\n",
    "# collect the population in each generation\n",
    "pop_each_gen = [a.pop for a in res.history]\n",
    "\n",
    "# receive the population in each generation\n",
    "obj_and_feasible_each_gen = [pop[pop.get(\"feasible\")[:,0]].get(\"F\") for pop in pop_each_gen]\n",
    "\n",
    "# calculate for each generation the HV metric\n",
    "hv = [metric.calc(f) for f in obj_and_feasible_each_gen]\n",
    "\n",
    "# function evaluations at each snapshot\n",
    "n_evals = np.array([a.evaluator.n_eval for a in res.history])\n",
    "\n",
    "# visualze the convergence curve\n",
    "plt.plot(n_evals, hv, '-o', markersize=3)\n",
    "plt.title(\"Convergence\")\n",
    "plt.xlabel(\"Function Evaluations\")\n",
    "plt.ylabel(\"Hypervolume\")\n",
    "PlotUtil.apply_report_formatting()\n",
    "plt.tight_layout()\n",
    "plt.grid()\n",
    "#plt.savefig('D:/git/thesis_report_ae/figures/link_budget_hypervolume%s.svg' % postfix)\n",
    "fig.savefig('D:/git/thesis_report_ae/figures/visibility_hypervolume%s.pdf' % postfix)\n",
    "plt.show()\n",
    "plt.close()\n"
   ],
   "metadata": {
    "collapsed": false,
    "pycharm": {
     "name": "#%%\n"
    }
   }
  }
 ],
 "metadata": {
  "kernelspec": {
   "name": "pycharm-34b782de",
   "language": "python",
   "display_name": "PyCharm (hermes-simulator)"
  },
  "language_info": {
   "codemirror_mode": {
    "name": "ipython",
    "version": 3
   },
   "file_extension": ".py",
   "mimetype": "text/x-python",
   "name": "python",
   "nbconvert_exporter": "python",
   "pygments_lexer": "ipython3",
   "version": "3.7.6"
  }
 },
 "nbformat": 4,
 "nbformat_minor": 1
}