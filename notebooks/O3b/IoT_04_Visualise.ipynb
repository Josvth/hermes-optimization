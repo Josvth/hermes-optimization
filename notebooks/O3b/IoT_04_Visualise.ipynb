{
 "cells": [
  {
   "cell_type": "code",
   "execution_count": 616,
   "outputs": [
    {
     "name": "stdout",
     "output_type": "stream",
     "text": [
      "Using matplotlib backend: Qt5Agg\n",
      "The autoreload extension is already loaded. To reload it, use:\n",
      "  %reload_ext autoreload\n"
     ]
    }
   ],
   "source": [
    "import pandas as pd\n",
    "import numpy as np\n",
    "from pymoo.optimize import minimize\n",
    "import pickle\n",
    "\n",
    "from pymoo.util.termination.f_tol import MultiObjectiveSpaceToleranceTermination\n",
    "from pymoo.visualization.scatter import Scatter\n",
    "import contact\n",
    "import util\n",
    "from notebooks.optimization_problems.constraints import Requirements\n",
    "from pyreport import PlotUtil\n",
    "import matplotlib.pyplot as plt\n",
    "\n",
    "import notebooks.util\n",
    "\n",
    "%matplotlib\n",
    "\n",
    "plt.close('all')\n",
    "\n",
    "%load_ext autoreload\n",
    "%autoreload 2"
   ],
   "metadata": {
    "collapsed": false,
    "pycharm": {
     "name": "#%%\n"
    }
   }
  },
  {
   "cell_type": "code",
   "execution_count": 617,
   "outputs": [
    {
     "name": "stdout",
     "output_type": "stream",
     "text": [
      "Targets per orbit\n",
      "T_target: 20.00 Gb (min: 20.00 Gb, max: -0.00 Gb)\n",
      "L_target: 60.00 s\n",
      "E_target: 16.82 kJ (max: -0.00 kJ)\n",
      "P_target: 0.00 s\n"
     ]
    }
   ],
   "source": [
    "prefix = 'iot_' + 'o3b_'\n",
    "\n",
    "case, target = pickle.load(open('raw/%ssettings.pkl' % prefix, 'rb'))\n",
    "\n",
    "import util\n",
    "util.print_targets(case)"
   ],
   "metadata": {
    "collapsed": false,
    "pycharm": {
     "name": "#%%\n"
    }
   }
  },
  {
   "cell_type": "code",
   "execution_count": 618,
   "outputs": [],
   "source": [
    "columns = ['strand_name', 'tof',\n",
    "           'r_a_x', 'r_a_y', 'r_a_z',\n",
    "           'v_a_x', 'v_a_y', 'v_a_z',\n",
    "           'r_b_x', 'r_b_y', 'r_b_z',\n",
    "           'd',\n",
    "           'r_ab_sff_x', 'r_ab_sff_y', 'r_ab_sff_z']\n",
    "\n",
    "file_path = \"raw/%spost_processed.h5\" % prefix\n",
    "\n",
    "row_limit = -1\n",
    "\n",
    "hdf_store = pd.HDFStore(file_path)\n",
    "\n",
    "instances_df = hdf_store.select('contact_instances', 'columns = %s' % str(columns), stop = row_limit)\n",
    "\n",
    "# Sort by pass id\n",
    "instances_df = instances_df.sort_index(0)"
   ],
   "metadata": {
    "collapsed": false,
    "pycharm": {
     "name": "#%% Import data files from visibility analysis at 500 km\n"
    }
   }
  },
  {
   "cell_type": "code",
   "execution_count": 619,
   "outputs": [
    {
     "name": "stdout",
     "output_type": "stream",
     "text": [
      "4500\n"
     ]
    },
    {
     "name": "stderr",
     "output_type": "stream",
     "text": [
      "No handles with labels found to put in legend.\n"
     ]
    },
    {
     "data": {
      "text/plain": "<matplotlib.collections.PathCollection at 0x1f6c33d6ac8>"
     },
     "execution_count": 619,
     "metadata": {},
     "output_type": "execute_result"
    }
   ],
   "source": [
    "plt.close('Performance')\n",
    "\n",
    "# Plot the optimizations\n",
    "fig = plt.figure(num='Performance', figsize=(3.2*3, 2.4*2))\n",
    "axs = fig.subplots(2,3, gridspec_kw={'height_ratios': [1, 1]})\n",
    "axs = axs.flatten()\n",
    "\n",
    "N_orbits = case['T_sim_s'] / case['T_orbit_s']\n",
    "scale_factors = np.array([1/-1e9, 1, 1/1e3, 1]) * \\\n",
    "                np.array([1/N_orbits, 1, 1/N_orbits, 1/case['T_sim_s']]) * \\\n",
    "                np.array([1/8, 1, 1, 100])\n",
    "\n",
    "problem, setting, res = pickle.load(open('raw/iot_o3b_unsga3_xover_300_300_75.pkl', 'rb'))\n",
    "print(res.algorithm.n_gen)\n",
    "util.plot_performance_iot(axs, problem, setting, res, case, target, scale_factors,\n",
    "                          color='tab:grey', alpha=1, throughput=False, plot_i=False)\n",
    "axs[5].scatter(np.NaN, np.NaN, marker='.', color='tab:grey', s=1, label='U-NSGA-3 4500 generations')"
   ],
   "metadata": {
    "collapsed": false,
    "pycharm": {
     "name": "#%%\n"
    }
   }
  },
  {
   "cell_type": "code",
   "execution_count": 620,
   "outputs": [],
   "source": [
    "selection = 'raw/iot_o3b_unsga3_xover_300_300_75.pkl'\n",
    "\n",
    "points = []\n",
    "\n",
    "# Targets\n",
    "p = np.array([case['T_bitorbit_target'], case['L_sorbit_target'], case['E_Jorbit_target'], case['P_sorbit_target']/3])\n",
    "p = p * np.array([-1, 1, 1, 1]) * np.array([N_orbits, 1, N_orbits, N_orbits])\n",
    "p_fmt = p * scale_factors\n",
    "points.append({'ind': -1, 'p': p, 'args': [], 'kwargs': {'s': 20, 'color': 'r', 'marker': 'x', 'label': 'Target\\n(T=%0.1f GB/orbit, L=%d s, E=%d kJ, P=%0.2f %%)' % tuple(p_fmt)}})\n",
    "\n",
    "# # Closest to target\n",
    "# problem, setting, res = pickle.load(open(selection, 'rb'))\n",
    "# ref = np.array([60, case['E_Jorbit_target'] * N_orbits])\n",
    "# diff= np.abs(res.F[:, [0, 1]] - ref) / ref\n",
    "# ind_close = np.argmin(np.linalg.norm(diff, axis=1))\n",
    "# p = np.array(util.recompute_obj(problem, res, scale_factors=1))\n",
    "# p = p[:, ind_close]\n",
    "# p_fmt = p * scale_factors\n",
    "# points.append({'ind': ind_close, 'p': p, 'args': [], 'kwargs': {'s': 25, 'color': 'b', 'marker': '+', 'label': 'Closest\\n(T=%0.1f GB/orbit, L=%d s, E=%d kJ, P=%0.2f %%)' % tuple(p_fmt)}})\n",
    "\n",
    "# Select point\n",
    "problem, setting, res = pickle.load(open(selection, 'rb'))\n",
    "ind_select = 33\n",
    "p = np.array(util.recompute_obj(problem, res, scale_factors=1))\n",
    "p = p[:, ind_select]\n",
    "p_fmt = p * scale_factors\n",
    "points.append({'ind': ind_select, 'p': p, 'args': [], 'kwargs': {'s': 25, 'color': 'g', 'marker': '*', 'label': '35 dBi antenna\\n(T=%0.1f GB/orbit, L=%d s, E=%d kJ, P=%0.2f %%)' % tuple(p_fmt)}})\n",
    "\n",
    "# Select point\n",
    "problem, setting, res = pickle.load(open(selection, 'rb'))\n",
    "ind_select = 49\n",
    "p = np.array(util.recompute_obj(problem, res, scale_factors=1))\n",
    "p = p[:, ind_select]\n",
    "p_fmt = p * scale_factors\n",
    "points.append({'ind': ind_select, 'p': p, 'args': [], 'kwargs': {'s': 25, 'color': 'b', 'marker': '+', 'label': '50 dBi antenna\\n(T=%0.1f GB/orbit, L=%d s, E=%d kJ, P=%0.2f %%)' % tuple(p_fmt)}})\n",
    "\n",
    "fig = plt.figure(num=\"Performance\")\n",
    "util.plot_points_iot(axs, points, scale_factors=scale_factors)\n",
    "plt.savefig('D:/git/thesis_report_ae/figures/relay_optimization/%sresult.pdf' % prefix)"
   ],
   "metadata": {
    "collapsed": false,
    "pycharm": {
     "name": "#%%\n"
    }
   }
  },
  {
   "cell_type": "code",
   "execution_count": null,
   "outputs": [],
   "source": [
    "plt.close('Settings')\n",
    "\n",
    "fig = plt.figure(num='Settings', figsize=(3.2*3, 2.4*3))\n",
    "axs = fig.subplots(3,3, gridspec_kw={'height_ratios': [1, 1, 1]})\n",
    "axs = axs.flatten()\n",
    "\n",
    "problem, setting, res = pickle.load(open(selection, 'rb'))\n",
    "#problem, setting, res = pickle.load(open('raw/iot_telesat_rnsga2_1e-2_cont_300_75.pkl', 'rb'))\n",
    "util.plot_settings(axs, problem, setting, res, points=points, scale_factors=scale_factors)"
   ],
   "metadata": {
    "collapsed": false,
    "pycharm": {
     "name": "#%% Plot settings\n",
     "is_executing": true
    }
   }
  },
  {
   "cell_type": "code",
   "execution_count": null,
   "outputs": [],
   "source": [
    "util.plot_power_energy(case, instances_df, problem, res.X[ind_close,:])\n",
    "plt.savefig('D:/git/thesis_report_ae/figures/relay_optimization/%spower_energy.pdf' % prefix)\n",
    "pass\n",
    "\n",
    "bbox = plt.gca().get_position()"
   ],
   "metadata": {
    "collapsed": false,
    "pycharm": {
     "name": "#%% Plot power and energy\n",
     "is_executing": true
    }
   }
  },
  {
   "cell_type": "code",
   "execution_count": null,
   "outputs": [],
   "source": [
    "util.plot_used_passes(case, instances_df, problem, res.X[ind_close,:])\n",
    "plt.gca().set_position(bbox)\n",
    "\n",
    "plt.savefig('D:/git/thesis_report_ae/figures/relay_optimization/%srange_selection.pdf' % prefix)"
   ],
   "metadata": {
    "collapsed": false,
    "pycharm": {
     "name": "#%% Plot used passes\n",
     "is_executing": true
    }
   }
  },
  {
   "cell_type": "code",
   "execution_count": null,
   "outputs": [],
   "source": [
    "util.plot_pointing(case, problem, res.X[ind_close,:])\n",
    "plt.gca().set_position(bbox)\n",
    "\n",
    "plt.savefig('D:/git/thesis_report_ae/figures/relay_optimization/%spointing.pdf' % prefix)"
   ],
   "metadata": {
    "collapsed": false,
    "pycharm": {
     "name": "#%% Plot pointing\n",
     "is_executing": true
    }
   }
  },
  {
   "cell_type": "code",
   "execution_count": null,
   "outputs": [],
   "source": [
    "hdf_store.close()"
   ],
   "metadata": {
    "collapsed": false,
    "pycharm": {
     "name": "#%%\n",
     "is_executing": true
    }
   }
  }
 ],
 "metadata": {
  "kernelspec": {
   "name": "pycharm-34b782de",
   "language": "python",
   "display_name": "PyCharm (hermes-simulator)"
  },
  "language_info": {
   "codemirror_mode": {
    "name": "ipython",
    "version": 2
   },
   "file_extension": ".py",
   "mimetype": "text/x-python",
   "name": "python",
   "nbconvert_exporter": "python",
   "pygments_lexer": "ipython2",
   "version": "2.7.6"
  }
 },
 "nbformat": 4,
 "nbformat_minor": 0
}