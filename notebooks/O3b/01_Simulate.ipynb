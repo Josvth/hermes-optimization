{
 "cells": [
  {
   "cell_type": "code",
   "execution_count": 1,
   "metadata": {
    "collapsed": true
   },
   "outputs": [
    {
     "name": "stdout",
     "output_type": "stream",
     "text": [
      "gzip was not found on your system! You should solve this issue for astroquery.eso to be at its best!\n",
      "On POSIX system: make sure gzip is installed and in your path!On Windows: same for 7-zip (http://www.7-zip.org)!\n",
      "Using matplotlib backend: Qt5Agg\n"
     ]
    },
    {
     "name": "stderr",
     "output_type": "stream",
     "text": [
      "C:\\git\\hermes-optimization\\cenv\\lib\\site-packages\\astropy\\units\\decorators.py:222: UserWarning: Wrapping true anomaly to -π <= nu < π\n",
      "  return_ = wrapped_function(*func_args, **func_kwargs)\n"
     ]
    }
   ],
   "source": [
    "import hermes\n",
    "from hermes.analysis import LOSAnalysis\n",
    "from hermes.constellations.O3b import O3b_00154\n",
    "from hermes.objects import Satellite, SatGroup, Earth, Constellation\n",
    "from hermes.scenario import Scenario\n",
    "from hermes.simulation import Simulation\n",
    "from hermes.util import hex2rgb\n",
    "\n",
    "from astropy import units as u, time\n",
    "\n",
    "%matplotlib"
   ]
  },
  {
   "cell_type": "code",
   "execution_count": 2,
   "outputs": [
    {
     "name": "stdout",
     "output_type": "stream",
     "text": [
      "Initializing attractor\n",
      "Initializing 43 satellites...\n",
      "Initializing analysis 1 of 1...\n"
     ]
    },
    {
     "name": "stderr",
     "output_type": "stream",
     "text": [
      "Simulation progress: 100%|██████████| 17040/17040 [00:17<00:00, 986.66it/s] \n"
     ]
    }
   ],
   "source": [
    "T_orbit = 5680\n",
    "T_sim = T_orbit * 3\n",
    "\n",
    "start = time.Time('2019-09-01 10:00:00.000', scale='tt')        # Start time of simulation\n",
    "stop = start + T_sim * u.s # Stop time of simulation\n",
    "step = 1 * u.s\n",
    "\n",
    "scenario = Scenario(start, stop, step, hermes.objects.Earth, name='Example')\n",
    "\n",
    "# Make a new Satellite object and give it a cyan color\n",
    "sat_500_97 = Satellite.circular(hermes.objects.Earth.poli_body, 500 * u.km, inc=90.0 * u.deg, raan=0 * u.deg, arglat=0 * u.deg)\n",
    "sat_500_97.color = hex2rgb('#00ffff')\n",
    "sat_500_97.name = 'sat_500km_97deg'\n",
    "#sat_500_97.J2_perturbation = True\n",
    "\n",
    "# And we add it to the scenario\n",
    "scenario.add_satellite(sat_500_97)\n",
    "\n",
    "# Add the constellation\n",
    "constellation = O3b_00154\n",
    "scenario.add_satellite(constellation)\n",
    "\n",
    "# Add line-of-sight analysis\n",
    "scenario.add_analysis(LOSAnalysis(scenario, sat_500_97, constellation))\n",
    "\n",
    "# Initialise the scenario\n",
    "scenario.initialise()\n",
    "\n",
    "simulation = Simulation(scenario, show_3d=False)\n",
    "simulation.run()"
   ],
   "metadata": {
    "collapsed": false,
    "pycharm": {
     "name": "#%% Contact simulation\n"
    }
   }
  },
  {
   "cell_type": "code",
   "execution_count": 4,
   "outputs": [
    {
     "name": "stderr",
     "output_type": "stream",
     "text": [
      "C:\\git\\hermes-simulator\\hermes\\geometry.py:278: NumbaPerformanceWarning: \u001B[1m\u001B[1mnp.dot() is faster on contiguous arrays, called on (array(float64, 1d, A), array(float64, 1d, A))\u001B[0m\u001B[0m\n",
      "  v[i, 0] = np.dot(R_x[i, :], u[i, :])\n",
      "C:\\git\\hermes-simulator\\hermes\\geometry.py:279: NumbaPerformanceWarning: \u001B[1m\u001B[1mnp.dot() is faster on contiguous arrays, called on (array(float64, 1d, C), array(float64, 1d, A))\u001B[0m\u001B[0m\n",
      "  v[i, 1] = np.dot(R_y[i, :], u[i, :])\n",
      "C:\\git\\hermes-simulator\\hermes\\geometry.py:280: NumbaPerformanceWarning: \u001B[1m\u001B[1mnp.dot() is faster on contiguous arrays, called on (array(float64, 1d, A), array(float64, 1d, A))\u001B[0m\u001B[0m\n",
      "  v[i, 2] = np.dot(R_z[i, :], u[i, :])\n"
     ]
    }
   ],
   "source": [
    "columns = ['strand_name', 'tof',\n",
    "           'r_a_x', 'r_a_y', 'r_a_z',\n",
    "           'v_a_x', 'v_a_y', 'v_a_z',\n",
    "           'r_b_x', 'r_b_y', 'r_b_z']\n",
    "\n",
    "file_path = \"2021-03-28_15-04-48_Example_LOSAnalysis_sat_500km_97deg_to_node.h5\"\n",
    "\n",
    "row_limit = -1\n",
    "\n",
    "import pandas as pd\n",
    "\n",
    "store_500km = pd.HDFStore(file_path)\n",
    "instances_500km_df = store_500km.select('contact_instances', 'columns = %s' % str(columns), stop = row_limit)\n",
    "\n",
    "# Sort by pass id\n",
    "instances_500km_df = instances_500km_df.sort_index(0)\n",
    "\n",
    "from hermes.postprocessing import *\n",
    "\n",
    "# Add range column d\n",
    "instances_500km_df = add_range(instances_500km_df)\n",
    "\n",
    "# Add sff\n",
    "instances_500km_df = add_sff(instances_500km_df)\n",
    "\n",
    "instances_500km_df.to_hdf('O3b_post_processed.h5', 'contact_instances', format='table')\n"
   ],
   "metadata": {
    "collapsed": false,
    "pycharm": {
     "name": "#%% Create post-processed data file\n"
    }
   }
  }
 ],
 "metadata": {
  "kernelspec": {
   "name": "pycharm-34b782de",
   "language": "python",
   "display_name": "PyCharm (hermes-simulator)"
  },
  "language_info": {
   "codemirror_mode": {
    "name": "ipython",
    "version": 2
   },
   "file_extension": ".py",
   "mimetype": "text/x-python",
   "name": "python",
   "nbconvert_exporter": "python",
   "pygments_lexer": "ipython2",
   "version": "2.7.6"
  }
 },
 "nbformat": 4,
 "nbformat_minor": 0
}