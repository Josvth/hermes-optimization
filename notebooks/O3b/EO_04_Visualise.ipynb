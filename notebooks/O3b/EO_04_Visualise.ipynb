{
 "cells": [
  {
   "cell_type": "code",
   "execution_count": 25,
   "outputs": [
    {
     "name": "stdout",
     "output_type": "stream",
     "text": [
      "Using matplotlib backend: Qt5Agg\n"
     ]
    }
   ],
   "source": [
    "import pandas as pd\n",
    "import numpy as np\n",
    "from pymoo.optimize import minimize\n",
    "import pickle\n",
    "\n",
    "from pymoo.util.termination.f_tol import MultiObjectiveSpaceToleranceTermination\n",
    "from pymoo.visualization.scatter import Scatter\n",
    "import contact\n",
    "import util\n",
    "from notebooks.optimization_problems.constraints import Requirements\n",
    "from pyreport import PlotUtil\n",
    "import matplotlib.pyplot as plt\n",
    "\n",
    "import notebooks.util\n",
    "\n",
    "%matplotlib\n",
    "\n",
    "plt.close('all')"
   ],
   "metadata": {
    "collapsed": false,
    "pycharm": {
     "name": "#%%\n"
    }
   }
  },
  {
   "cell_type": "code",
   "execution_count": 26,
   "outputs": [],
   "source": [
    "columns = ['strand_name', 'tof',\n",
    "           'r_a_x', 'r_a_y', 'r_a_z',\n",
    "           'v_a_x', 'v_a_y', 'v_a_z',\n",
    "           'r_b_x', 'r_b_y', 'r_b_z',\n",
    "           'd',\n",
    "           'r_ab_sff_x', 'r_ab_sff_y', 'r_ab_sff_z']\n",
    "\n",
    "file_path = \"raw/eo_o3b_post_processed.h5\"\n",
    "\n",
    "row_limit = -1\n",
    "\n",
    "hdf_store = pd.HDFStore(file_path)\n",
    "\n",
    "instances_df = hdf_store.select('contact_instances', 'columns = %s' % str(columns), stop = row_limit)\n",
    "\n",
    "# Sort by pass id\n",
    "instances_df = instances_df.sort_index(0)"
   ],
   "metadata": {
    "collapsed": false,
    "pycharm": {
     "name": "#%% Import data files from visibility analysis at 500 km\n"
    }
   }
  },
  {
   "cell_type": "code",
   "execution_count": 27,
   "outputs": [
    {
     "name": "stdout",
     "output_type": "stream",
     "text": [
      "Targets per orbit\n",
      "T_target: 960.00 Gb (min: 624.00 Gb, max: 1296.00 Gb)\n",
      "L_target: 0.00 s\n",
      "E_target: 41.16 kJ (max: -0.00 kJ)\n",
      "P_target: 17030.93 s\n"
     ]
    }
   ],
   "source": [
    "case, target = pickle.load(open('raw/eo_settings.pkl', 'rb'))\n",
    "\n",
    "util.print_targets(case)"
   ],
   "metadata": {
    "collapsed": false,
    "pycharm": {
     "name": "#%%\n"
    }
   }
  },
  {
   "cell_type": "code",
   "execution_count": 28,
   "outputs": [
    {
     "ename": "AttributeError",
     "evalue": "module 'util' has no attribute 'plot_performance_eo'",
     "output_type": "error",
     "traceback": [
      "\u001B[1;31m---------------------------------------------------------------------------\u001B[0m",
      "\u001B[1;31mAttributeError\u001B[0m                            Traceback (most recent call last)",
      "\u001B[1;32m<ipython-input-28-b2e8cc80afe9>\u001B[0m in \u001B[0;36m<module>\u001B[1;34m\u001B[0m\n\u001B[0;32m     13\u001B[0m \u001B[1;33m\u001B[0m\u001B[0m\n\u001B[0;32m     14\u001B[0m \u001B[0mproblem\u001B[0m\u001B[1;33m,\u001B[0m \u001B[0msetting\u001B[0m\u001B[1;33m,\u001B[0m \u001B[0mres\u001B[0m \u001B[1;33m=\u001B[0m \u001B[0mpickle\u001B[0m\u001B[1;33m.\u001B[0m\u001B[0mload\u001B[0m\u001B[1;33m(\u001B[0m\u001B[0mopen\u001B[0m\u001B[1;33m(\u001B[0m\u001B[1;34m'raw/eo_o3b_nsga3_200_50.pkl'\u001B[0m\u001B[1;33m,\u001B[0m \u001B[1;34m'rb'\u001B[0m\u001B[1;33m)\u001B[0m\u001B[1;33m)\u001B[0m\u001B[1;33m\u001B[0m\u001B[1;33m\u001B[0m\u001B[0m\n\u001B[1;32m---> 15\u001B[1;33m \u001B[0mutil\u001B[0m\u001B[1;33m.\u001B[0m\u001B[0mplot_performance_eo\u001B[0m\u001B[1;33m(\u001B[0m\u001B[0maxs\u001B[0m\u001B[1;33m,\u001B[0m \u001B[0mproblem\u001B[0m\u001B[1;33m,\u001B[0m \u001B[0msetting\u001B[0m\u001B[1;33m,\u001B[0m \u001B[0mres\u001B[0m\u001B[1;33m,\u001B[0m \u001B[0mcase\u001B[0m\u001B[1;33m,\u001B[0m \u001B[0mtarget\u001B[0m\u001B[1;33m,\u001B[0m \u001B[0mscale_factors\u001B[0m\u001B[1;33m)\u001B[0m\u001B[1;33m\u001B[0m\u001B[1;33m\u001B[0m\u001B[0m\n\u001B[0m\u001B[0;32m     16\u001B[0m \u001B[0maxs\u001B[0m\u001B[1;33m[\u001B[0m\u001B[1;36m5\u001B[0m\u001B[1;33m]\u001B[0m\u001B[1;33m.\u001B[0m\u001B[0mscatter\u001B[0m\u001B[1;33m(\u001B[0m\u001B[0mnp\u001B[0m\u001B[1;33m.\u001B[0m\u001B[0mNaN\u001B[0m\u001B[1;33m,\u001B[0m \u001B[0mnp\u001B[0m\u001B[1;33m.\u001B[0m\u001B[0mNaN\u001B[0m\u001B[1;33m,\u001B[0m \u001B[0mmarker\u001B[0m\u001B[1;33m=\u001B[0m\u001B[1;34m'.'\u001B[0m\u001B[1;33m,\u001B[0m \u001B[0ms\u001B[0m\u001B[1;33m=\u001B[0m\u001B[1;36m1\u001B[0m\u001B[1;33m,\u001B[0m \u001B[0mlabel\u001B[0m\u001B[1;33m=\u001B[0m\u001B[1;34m'NSGA-3'\u001B[0m\u001B[1;33m)\u001B[0m\u001B[1;33m\u001B[0m\u001B[1;33m\u001B[0m\u001B[0m\n\u001B[0;32m     17\u001B[0m \u001B[1;33m\u001B[0m\u001B[0m\n",
      "\u001B[1;31mAttributeError\u001B[0m: module 'util' has no attribute 'plot_performance_eo'"
     ]
    }
   ],
   "source": [
    "plt.close('Performance')\n",
    "\n",
    "# Plot the optimizations\n",
    "fig = plt.figure(num='Performance', figsize=(3.2*3, 2.4*2))\n",
    "axs = fig.subplots(2,3, gridspec_kw={'height_ratios': [1, 1]})\n",
    "axs = axs.flatten()\n",
    "\n",
    "\n",
    "N_orbits = case['T_sim_s'] / case['T_orbit_s']\n",
    "scale_factors = np.array([1/-1e9, 1, 1/1e3, 1]) * \\\n",
    "                np.array([1/N_orbits, 1, 1/N_orbits, 1/case['T_sim_s']]) * \\\n",
    "                np.array([1/8, 1, 1, 100])\n",
    "\n",
    "problem, setting, res = pickle.load(open('raw/eo_o3b_nsga3_200_50.pkl', 'rb'))\n",
    "util.plot_performance_eo(axs, problem, setting, res, case, target, scale_factors)\n",
    "axs[5].scatter(np.NaN, np.NaN, marker='.', s=1, label='NSGA-3')"
   ],
   "metadata": {
    "collapsed": false,
    "pycharm": {
     "name": "#%%\n"
    }
   }
  },
  {
   "cell_type": "code",
   "execution_count": null,
   "outputs": [],
   "source": [
    "points = []\n",
    "\n",
    "# Targets\n",
    "p = np.array([case['T_bitorbit_target'], case['L_sorbit_target'], case['E_Jorbit_target'], case['P_sorbit_target']/3])\n",
    "p = p * np.array([-1, 1, 1, 1]) * np.array([N_orbits, 1, N_orbits, N_orbits])\n",
    "p_fmt = p * scale_factors\n",
    "points.append({'ind': -1, 'p': p, 'args': [], 'kwargs': {'s': 10, 'color': 'r', 'marker': 'x', 'label': 'Target\\n(T=%d GB/orbit, L=%d s, E=%d kJ, P=%0.2f %%)' % tuple(p_fmt)}})\n",
    "\n",
    "# Closest to target\n",
    "ref = np.array([case['T_bitorbit_target'] * -1, case['E_Jorbit_target']]) * N_orbits\n",
    "diff= np.abs(res.F[:, [0, 2]] - ref)/ ref\n",
    "ind_close = np.argmin(np.linalg.norm(diff, axis=1))\n",
    "p = np.array(util.recompute_obj(problem, res, scale_factors=1))\n",
    "p = p[:, ind_close]\n",
    "p_fmt = p * scale_factors\n",
    "points.append({'ind': ind_close, 'p': p, 'args': [], 'kwargs': {'s': 10, 'color': 'tab:red', 'marker': '+', 'label': 'Target\\n(T=%d GB/orbit, L=%d s, E=%d kJ, P=%0.2f %%)' % tuple(p_fmt)}})\n",
    "\n",
    "fig = plt.figure(num=\"Performance\")\n",
    "util.plot_points_eo(axs, points, scale_factors=scale_factors)"
   ],
   "metadata": {
    "collapsed": false,
    "pycharm": {
     "name": "#%%\n"
    }
   }
  },
  {
   "cell_type": "code",
   "execution_count": null,
   "outputs": [],
   "source": [
    "plt.close('Settings')\n",
    "\n",
    "fig = plt.figure(num='Settings', figsize=(3.2*3, 2.4*2))\n",
    "axs = fig.subplots(2,3, gridspec_kw={'height_ratios': [1, 1]})\n",
    "axs = axs.flatten()\n",
    "\n",
    "problem, setting, res = pickle.load(open('raw/eo_o3b_nsga3_200_50.pkl', 'rb'))\n",
    "util.plot_settings(axs, problem, setting, res, scale_factors=scale_factors)"
   ],
   "metadata": {
    "collapsed": false,
    "pycharm": {
     "name": "#%% Plot antenna gains\n"
    }
   }
  },
  {
   "cell_type": "code",
   "execution_count": null,
   "outputs": [],
   "source": [
    "x_pass, x_Ptx_dBm, x_Gtx_dBi, x_B_Hz = util.get_selection(problem, res)\n",
    "\n",
    "pass_ind = np.nonzero(x_pass[ind_close,:])[0]\n",
    "\n",
    "T_orbit = case['T_orbit_s']\n",
    "T_sim = case['T_sim_s']\n",
    "\n",
    "fig = plt.figure(figsize=(3.2, 2.4))\n",
    "\n",
    "# Plot all passes\n",
    "for i, pass_df in instances_df.groupby(level=0):\n",
    "    p = pass_df.index[0][0] - 1 # Pass index\n",
    "    tof = pass_df.tof.values\n",
    "    d = pass_df.d.values/1000\n",
    "    line, = plt.plot(tof, d, linewidth=0.1, color='tab:grey')\n",
    "    #plt.text(tof[0], d[0], '%d' % p)\n",
    "\n",
    "# Plot used passes\n",
    "for i, pass_df in instances_df.groupby(level=0):\n",
    "    p = pass_df.index[0][0] - 1 # Pass index\n",
    "    tof = pass_df.tof\n",
    "    d = pass_df.d/1000\n",
    "    if p in pass_ind:\n",
    "        line, = plt.plot(tof, d, linewidth=0.5, color='tab:red')\n",
    "\n",
    "\n",
    "plt.xlabel('Time of flight [s]')\n",
    "plt.ylabel('Range [km]')\n",
    "plt.xlim((0, T_sim))\n",
    "\n",
    "plt.grid()\n",
    "PlotUtil.apply_report_formatting()\n",
    "fig.set_size_inches(3.2*2, 2.4, forward=True)\n",
    "\n",
    "plt.tight_layout()\n",
    "plt.savefig('D:/git/thesis_report_ae/figures/relay_optimization/eo_o3b_range_selection.pdf')\n",
    "plt.savefig('D:/git/thesis_report_ae/figures/relay_optimization/eo_o3b_range_selection_%s_%d.svg' % (setting['label'], res.algorithm.n_gen))"
   ],
   "metadata": {
    "collapsed": false,
    "pycharm": {
     "name": "#%% Plot range\n"
    }
   }
  },
  {
   "cell_type": "code",
   "execution_count": null,
   "outputs": [],
   "source": [
    "hdf_store.close()"
   ],
   "metadata": {
    "collapsed": false,
    "pycharm": {
     "name": "#%%\n"
    }
   }
  }
 ],
 "metadata": {
  "kernelspec": {
   "name": "pycharm-34b782de",
   "language": "python",
   "display_name": "PyCharm (hermes-simulator)"
  },
  "language_info": {
   "codemirror_mode": {
    "name": "ipython",
    "version": 2
   },
   "file_extension": ".py",
   "mimetype": "text/x-python",
   "name": "python",
   "nbconvert_exporter": "python",
   "pygments_lexer": "ipython2",
   "version": "2.7.6"
  }
 },
 "nbformat": 4,
 "nbformat_minor": 0
}