{
 "cells": [
  {
   "cell_type": "code",
   "execution_count": 224,
   "metadata": {
    "collapsed": true
   },
   "outputs": [
    {
     "name": "stdout",
     "output_type": "stream",
     "text": [
      "The autoreload extension is already loaded. To reload it, use:\n",
      "  %reload_ext autoreload\n"
     ]
    }
   ],
   "source": [
    "import pandas as pd\n",
    "import numpy as np\n",
    "from pymoo.algorithms.nsga3 import NSGA3\n",
    "from pymoo.algorithms.rnsga2 import RNSGA2\n",
    "from pymoo.algorithms.rnsga3 import RNSGA3\n",
    "from pymoo.algorithms.unsga3 import UNSGA3\n",
    "from pymoo.factory import get_reference_directions\n",
    "from pymoo.optimize import minimize\n",
    "import pickle\n",
    "from os import path\n",
    "\n",
    "from pymoo.util.termination.f_tol import MultiObjectiveSpaceToleranceTermination\n",
    "from combined_problem import ExtendedCombinedProblem\n",
    "\n",
    "from notebooks.optimization_problems.constraints import Requirements\n",
    "from optimization_problems.biased_initialization import max_contact_biased\n",
    "%load_ext autoreload\n",
    "\n",
    "%autoreload 2"
   ]
  },
  {
   "cell_type": "code",
   "execution_count": 225,
   "outputs": [
    {
     "name": "stdout",
     "output_type": "stream",
     "text": [
      "Targets per orbit\n",
      "T_target: 20.00 Gb (min: 20.00 Gb, max: -0.00 Gb)\n",
      "L_target: 60.00 s\n",
      "E_target: 16.82 kJ (max: -0.00 kJ)\n",
      "P_target: 0.00 s\n"
     ]
    }
   ],
   "source": [
    "prefix = 'iot_' + 'o3b_'\n",
    "\n",
    "case, target = pickle.load(open('raw/%ssettings.pkl' % prefix, 'rb'))\n",
    "\n",
    "import util\n",
    "util.print_targets(case)"
   ],
   "metadata": {
    "collapsed": false,
    "pycharm": {
     "name": "#%%\n"
    }
   }
  },
  {
   "cell_type": "code",
   "execution_count": 226,
   "outputs": [],
   "source": [
    "columns = ['strand_name', 'tof',\n",
    "           'r_a_x', 'r_a_y', 'r_a_z',\n",
    "           'v_a_x', 'v_a_y', 'v_a_z',\n",
    "           'r_b_x', 'r_b_y', 'r_b_z',\n",
    "           'd',\n",
    "           'r_ab_sff_x', 'r_ab_sff_y', 'r_ab_sff_z']\n",
    "\n",
    "file_path = \"raw/%spost_processed.h5\" % prefix\n",
    "\n",
    "row_limit = -1\n",
    "\n",
    "store = pd.HDFStore(file_path)\n",
    "\n",
    "instances_df = store.select('contact_instances', 'columns = %s' % str(columns), stop = row_limit)\n",
    "\n",
    "# Sort by pass id\n",
    "instances_df = instances_df.sort_index(0)"
   ],
   "metadata": {
    "collapsed": false,
    "pycharm": {
     "name": "#%% Import data files from visibility analysis at 500 km\n"
    }
   }
  },
  {
   "cell_type": "code",
   "execution_count": 227,
   "outputs": [],
   "source": [
    "from notebooks.optimization_problems.design_vector import design_vector_default_scm, SystemParameters\n",
    "\n",
    "sys_param = SystemParameters()\n",
    "sys_param.fc_Hz = target['frequency']\n",
    "sys_param.GT_dBK = target['GT_dBK']\n",
    "sys_param.margin_dB = 3.0\n",
    "sys_param.B_Hz_array = np.array([0.1, 0.5, 1, 5,   10, 50, 100, 200, 300]) * 1e6\n",
    "sys_param.Gtx_dBi_bounds = (3., 50.)\n",
    "sys_param.Ptx_dBm_bounds = (20., 43.)\n",
    "\n",
    "modcods_df = pd.read_pickle('../dvbs2.pkl')\n",
    "\n",
    "sys_param.EsN0_req_dB_array = modcods_df[['isend', 'isend_200MHz', 'isend_300MHz']].to_numpy()\n",
    "sys_param.eta_bitsym_array = modcods_df[['eta', 'eta_200MHz', 'eta_300MHz']].to_numpy()\n",
    "sys_param.eta_maee_array = modcods_df[['maee_12', 'maee_12_200MHz', 'maee_12_300MHz']].to_numpy()\n",
    "\n",
    "requirements = case['requirements']\n",
    "#requirements.max_throughput = -1"
   ],
   "metadata": {
    "collapsed": false,
    "pycharm": {
     "name": "#%%\n"
    }
   }
  },
  {
   "cell_type": "code",
   "source": [
    "from notebooks.optimization_problems.design_vector import design_vector_default_scm, SystemParameters, \\\n",
    "    design_vector_nopasspower_scm, PassPowerSampling, PassPowerCrossover, PassPowerMutation, NoCrossover\n",
    "\n",
    "sys_param = SystemParameters()\n",
    "sys_param.fc_Hz = target['frequency']\n",
    "sys_param.GT_dBK = target['GT_dBK']\n",
    "sys_param.margin_dB = 3.0\n",
    "sys_param.B_Hz_array = np.array([0.1, 0.5, 1, 2, 2.5, 5, 10, 50, 100, 200, 300]) * 1e6\n",
    "sys_param.Gtx_dBi_bounds = (3., 50.)\n",
    "sys_param.Ptx_dBm_bounds = (30., 42.)\n",
    "\n",
    "modcods_df = pd.read_pickle('../dvbs2.pkl')\n",
    "\n",
    "sys_param.EsN0_req_dB_array = modcods_df[['isend', 'isend_200MHz', 'isend_300MHz']].to_numpy()\n",
    "sys_param.eta_bitsym_array = modcods_df[['eta', 'eta_200MHz', 'eta_300MHz']].to_numpy()\n",
    "sys_param.eta_maee_array = modcods_df[['maee_12', 'maee_12_200MHz', 'maee_12_300MHz']].to_numpy()\n",
    "\n",
    "requirements = case['requirements']\n",
    "#requirements.max_throughput = -1"
   ],
   "metadata": {
    "collapsed": false,
    "pycharm": {
     "name": "#%%\n"
    }
   },
   "execution_count": 228,
   "outputs": []
  },
  {
   "cell_type": "markdown",
   "source": [
    "Problem and algorithm settings"
   ],
   "metadata": {
    "collapsed": false,
    "pycharm": {
     "name": "#%% md\n"
    }
   }
  },
  {
   "cell_type": "code",
   "source": [
    "settings = {}\n",
    "\n",
    "# UNSGA-III No Pass, No Mutation\n",
    "def _unsga3_xcross_nopass_nomut():    # This function references outer scope\n",
    "\n",
    "    # Redefine problem with lower bounds\n",
    "    sys_param.Ptx_dBm_bounds = (3., 42.)\n",
    "    requirements.max_latency = 15 * 60 # 15 minutes max\n",
    "\n",
    "    problem = ExtendedCombinedProblem(instances_df, sys_param, requirements=requirements, f_mask=np.array([1, 2, 3]))\n",
    "\n",
    "    # Change cross-over\n",
    "    def _scm(var_count, indices):\n",
    "        from pymoo.operators.mixed_variable_operator import MixedVariableSampling, MixedVariableCrossover, \\\n",
    "            MixedVariableMutation\n",
    "        from pymoo.factory import get_sampling, get_crossover, get_mutation\n",
    "\n",
    "        mapping_mask = dict()\n",
    "        mapping_mask['pass'] = \"passpower\"\n",
    "        mapping_mask['power'] = \"passpower\"\n",
    "        mapping_mask['antenna'] = \"real\"\n",
    "        mapping_mask['bandwidth'] = \"int\"\n",
    "        # mapping_mask['rolloff'] = \"int\"\n",
    "        # mapping_mask['modcod'] = \"int\"\n",
    "\n",
    "        mask = [None] * var_count\n",
    "        for k, v in indices.items():\n",
    "            for i in v:\n",
    "                mask[i] = mapping_mask[k]\n",
    "\n",
    "        sampling = MixedVariableSampling(mask, {\n",
    "            \"passpower\": PassPowerSampling(get_sampling(\"bin_random\"),get_sampling(\"real_random\")),\n",
    "            \"int\": get_sampling(\"int_random\"),\n",
    "            \"real\": get_sampling(\"real_random\")\n",
    "        })\n",
    "\n",
    "        crossover = MixedVariableCrossover(mask, {\n",
    "            \"passpower\": PassPowerCrossover(pass_crossover=NoCrossover()),\n",
    "            \"int\": get_crossover(\"int_sbx\", prob=1.0, eta=3.0),\n",
    "            \"real\": get_crossover(\"real_sbx\", prob=1.0, eta=3.0),\n",
    "        })\n",
    "\n",
    "        mutation = MixedVariableMutation(mask, {\n",
    "            \"passpower\": PassPowerMutation(get_mutation(\"bin_bitflip\", prob=0.0), get_mutation(\"real_pm\", prob=0.1, eta=3.0)),\n",
    "            \"int\": get_mutation(\"int_pm\", eta=3.0),\n",
    "            \"real\": get_mutation(\"real_pm\", eta=3.0),\n",
    "        })\n",
    "\n",
    "        return sampling, crossover, mutation\n",
    "\n",
    "    sampling, crossover, mutation = _scm(problem.x_length, problem.x_indices)\n",
    "\n",
    "    ref_dirs = get_reference_directions(\"das-dennis\", 3, n_partitions=23)\n",
    "    pop_size=int(np.ceil(len(ref_dirs) / 100) * 100)\n",
    "    n_offsprings=int(np.ceil(len(ref_dirs) / 100) * 100 * 1/4)\n",
    "\n",
    "    file_label = 'unsga3_xover_nopass_nomut_%d_%d_%d' % (len(ref_dirs), pop_size, n_offsprings)\n",
    "    init_file_name = 'raw/%s%sbiased_inits_max.pkl' % (prefix, file_label + '_')\n",
    "\n",
    "    if path.exists(init_file_name):\n",
    "        print(\"Loaded biased initial population\")\n",
    "        biased_init = pickle.load(open(init_file_name, 'rb'))\n",
    "    else:\n",
    "        print(\"Generating biased initial population\")\n",
    "        biased_init = max_contact_biased(instances_df, sys_param, case, pop_size, init='max', init_max_gen=1000, verbose=True)\n",
    "        pickle.dump(biased_init, open(init_file_name, 'wb'))\n",
    "\n",
    "    setting_dict = {\n",
    "        'algorithm': UNSGA3(\n",
    "            pop_size=pop_size,\n",
    "            n_offsprings=n_offsprings,\n",
    "            sampling=biased_init,\n",
    "            crossover=crossover,\n",
    "            mutation=mutation,\n",
    "            ref_dirs=ref_dirs,\n",
    "            eliminate_duplicates=True,\n",
    "        ),\n",
    "        'desc': 'UNSGA 3 No Pass No Mut (ref_dirs=%d, pop_size=%d, n_offsprings=%d)' % (len(ref_dirs), pop_size, n_offsprings),\n",
    "        'file_label': file_label,\n",
    "        'termination': \"\"\n",
    "    }\n",
    "\n",
    "    return problem, setting_dict\n",
    "\n",
    "# UNSGA-III Custom cross-over\n",
    "def _unga_xover():    # This function references outer scope\n",
    "\n",
    "    # Redefine problem with lower bounds\n",
    "    sys_param.Ptx_dBm_bounds = (0., 42.)\n",
    "    requirements.max_latency = 15 * 60 # 15 minutes max\n",
    "\n",
    "    problem = ExtendedCombinedProblem(instances_df, sys_param, requirements=requirements, f_mask=np.array([1, 2, 3]))\n",
    "\n",
    "    # Change cross-over\n",
    "    def _scm(var_count, indices):\n",
    "        from pymoo.operators.mixed_variable_operator import MixedVariableSampling, MixedVariableCrossover, \\\n",
    "            MixedVariableMutation\n",
    "        from pymoo.factory import get_sampling, get_crossover, get_mutation\n",
    "\n",
    "        mapping_mask = dict()\n",
    "        mapping_mask['pass'] = \"passpower\"\n",
    "        mapping_mask['power'] = \"passpower\"\n",
    "        mapping_mask['antenna'] = \"real\"\n",
    "        mapping_mask['bandwidth'] = \"int\"\n",
    "        # mapping_mask['rolloff'] = \"int\"\n",
    "        # mapping_mask['modcod'] = \"int\"\n",
    "\n",
    "        mask = [None] * var_count\n",
    "        for k, v in indices.items():\n",
    "            for i in v:\n",
    "                mask[i] = mapping_mask[k]\n",
    "\n",
    "        sampling = MixedVariableSampling(mask, {\n",
    "            \"passpower\": PassPowerSampling(get_sampling(\"bin_random\"),get_sampling(\"real_random\")),\n",
    "            \"int\": get_sampling(\"int_random\"),\n",
    "            \"real\": get_sampling(\"real_random\")\n",
    "        })\n",
    "\n",
    "        crossover = MixedVariableCrossover(mask, {\n",
    "            \"passpower\": PassPowerCrossover(pass_crossover=NoCrossover()),\n",
    "            \"int\": get_crossover(\"int_sbx\", prob=1.0, eta=3.0),\n",
    "            \"real\": get_crossover(\"real_sbx\", prob=1.0, eta=3.0),\n",
    "        })\n",
    "\n",
    "        mutation = MixedVariableMutation(mask, {\n",
    "            \"passpower\": PassPowerMutation(get_mutation(\"bin_bitflip\", prob=0.0001), get_mutation(\"real_pm\", prob=0.2, eta=3.0)),\n",
    "            \"int\": get_mutation(\"int_pm\", eta=3.0),\n",
    "            \"real\": get_mutation(\"real_pm\", eta=3.0),\n",
    "        })\n",
    "\n",
    "        return sampling, crossover, mutation\n",
    "\n",
    "    sampling, crossover, mutation = _scm(problem.x_length, problem.x_indices)\n",
    "\n",
    "    ref_dirs = get_reference_directions(\"das-dennis\", 3, n_partitions=23)\n",
    "    pop_size=int(np.ceil(len(ref_dirs) / 100) * 100)\n",
    "    n_offsprings=int(np.ceil(len(ref_dirs) / 100) * 100 * 1/4)\n",
    "\n",
    "    file_label = 'unsga3_xover_%d_%d_%d' % (len(ref_dirs), pop_size, n_offsprings)\n",
    "    init_file_name = 'raw/%s%sbiased_inits_max.pkl' % (prefix, file_label + '_')\n",
    "\n",
    "    if path.exists(init_file_name):\n",
    "        print(\"Loaded biased initial population\")\n",
    "        biased_init = pickle.load(open(init_file_name, 'rb'))\n",
    "    else:\n",
    "        print(\"Generating biased initial population\")\n",
    "        biased_init = max_contact_biased(instances_df, sys_param, case, pop_size, init='max', init_max_gen=1000, verbose=True)\n",
    "        pickle.dump(biased_init, open(init_file_name, 'wb'))\n",
    "\n",
    "    setting_dict = {\n",
    "        'algorithm': UNSGA3(\n",
    "            pop_size=pop_size,\n",
    "            n_offsprings=n_offsprings,\n",
    "            sampling=biased_init,\n",
    "            crossover=crossover,\n",
    "            mutation=mutation,\n",
    "            ref_dirs=ref_dirs,\n",
    "            eliminate_duplicates=True,\n",
    "        ),\n",
    "        'desc': 'UNSGA 3 xover (ref_dirs=%d, pop_size=%d, n_offsprings=%d)' % (len(ref_dirs), pop_size, n_offsprings),\n",
    "        'file_label': file_label,\n",
    "        'termination': \"\"\n",
    "    }\n",
    "\n",
    "    return problem, setting_dict\n",
    "\n",
    "#problem, setting = _unsga3_xcross_nopass_nomut()\n",
    "problem, setting = _unga_xover()\n",
    "\n",
    "print(\"Selected setting: %s\" % setting['desc'])"
   ],
   "metadata": {
    "collapsed": false,
    "pycharm": {
     "name": "#%% Algorithm settings\n"
    }
   },
   "execution_count": 229,
   "outputs": [
    {
     "name": "stdout",
     "output_type": "stream",
     "text": [
      "Loaded biased initial population\n",
      "Selected setting: UNSGA 3 xover (ref_dirs=300, pop_size=300, n_offsprings=75)\n"
     ]
    }
   ]
  },
  {
   "cell_type": "markdown",
   "source": [
    "Setting up optimization files"
   ],
   "metadata": {
    "collapsed": false,
    "pycharm": {
     "name": "#%% md\n"
    }
   }
  },
  {
   "cell_type": "code",
   "source": [
    "termination = setting['termination']\n",
    "algorithm = setting['algorithm']\n",
    "\n",
    "n_gen_inc = 1500\n",
    "\n",
    "from os import path\n",
    "\n",
    "file_name = 'raw/%s%s.pkl' % (prefix, setting['file_label'])\n",
    "\n",
    "if path.exists(file_name):\n",
    "    print(\"Loading starting point: %s\" % file_name)\n",
    "    problem, setting, res = pickle.load(open(file_name, 'rb'))\n",
    "    algorithm = res.algorithm\n",
    "    algorithm.has_terminated = False\n",
    "    n_gen = res.algorithm.n_gen\n",
    "else:\n",
    "    print(\"Creating new starting point: %s\" % file_name)\n",
    "    n_gen = 0"
   ],
   "metadata": {
    "collapsed": false,
    "pycharm": {
     "name": "#%%\n"
    }
   },
   "execution_count": 230,
   "outputs": [
    {
     "name": "stdout",
     "output_type": "stream",
     "text": [
      "Loading starting point: raw/iot_o3b_unsga3_xover_300_300_75.pkl\n"
     ]
    }
   ]
  },
  {
   "cell_type": "code",
   "execution_count": 231,
   "outputs": [
    {
     "name": "stdout",
     "output_type": "stream",
     "text": [
      "Maximum number of generations: 4500\n"
     ]
    }
   ],
   "source": [
    "n_gen = n_gen + n_gen_inc\n",
    "print(\"Maximum number of generations: %d\" % n_gen)\n",
    "termination = ('n_gen', n_gen)"
   ],
   "metadata": {
    "collapsed": false,
    "pycharm": {
     "name": "#%%\n"
    }
   }
  },
  {
   "cell_type": "code",
   "execution_count": null,
   "outputs": [
    {
     "name": "stdout",
     "output_type": "stream",
     "text": [
      "Starting optimization...\n",
      " 3001 |  225012 |  0.00000E+00 |  0.00000E+00 |     106 |  0.000300692 |            f\n"
     ]
    }
   ],
   "source": [
    "print(\"Starting optimization...\")\n",
    "\n",
    "res = minimize(problem,\n",
    "               algorithm,\n",
    "               termination,\n",
    "               #termination=termination,\n",
    "               seed=1,\n",
    "               #save_history=True,\n",
    "               verbose=True,\n",
    "               copy_algorithm=False,\n",
    "               )\n",
    "\n",
    "print('Processes:', res.exec_time)\n",
    "print(\"Best solution found: %s\" % res.X)"
   ],
   "metadata": {
    "collapsed": false,
    "pycharm": {
     "name": "#%%\n",
     "is_executing": true
    }
   }
  },
  {
   "cell_type": "code",
   "execution_count": null,
   "outputs": [],
   "source": [
    "pickle.dump((problem, setting, res), open(file_name, 'wb'))\n",
    "print(file_name)"
   ],
   "metadata": {
    "collapsed": false,
    "pycharm": {
     "name": "#%%\n",
     "is_executing": true
    }
   }
  },
  {
   "cell_type": "code",
   "execution_count": null,
   "outputs": [],
   "source": [
    "from beepy import beep\n",
    "for i in range(3):\n",
    "    beep(sound=5)"
   ],
   "metadata": {
    "collapsed": false,
    "pycharm": {
     "name": "#%%\n",
     "is_executing": true
    }
   }
  }
 ],
 "metadata": {
  "kernelspec": {
   "name": "pycharm-34b782de",
   "language": "python",
   "display_name": "PyCharm (hermes-simulator)"
  },
  "language_info": {
   "codemirror_mode": {
    "name": "ipython",
    "version": 2
   },
   "file_extension": ".py",
   "mimetype": "text/x-python",
   "name": "python",
   "nbconvert_exporter": "python",
   "pygments_lexer": "ipython2",
   "version": "2.7.6"
  }
 },
 "nbformat": 4,
 "nbformat_minor": 0
}