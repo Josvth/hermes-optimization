{
 "cells": [
  {
   "cell_type": "code",
   "execution_count": 1,
   "metadata": {
    "collapsed": true
   },
   "outputs": [
    {
     "name": "stdout",
     "output_type": "stream",
     "text": [
      "gzip was not found on your system! You should solve this issue for astroquery.eso to be at its best!\n",
      "On POSIX system: make sure gzip is installed and in your path!On Windows: same for 7-zip (http://www.7-zip.org)!\n",
      "Using matplotlib backend: Qt5Agg\n"
     ]
    },
    {
     "name": "stderr",
     "output_type": "stream",
     "text": [
      "C:\\git\\hermes-optimization\\cenv\\lib\\site-packages\\astropy\\units\\decorators.py:222: UserWarning: Wrapping true anomaly to -π <= nu < π\n",
      "  return_ = wrapped_function(*func_args, **func_kwargs)\n"
     ]
    }
   ],
   "source": [
    "import hermes\n",
    "from hermes.analysis import LOSAnalysis\n",
    "from hermes.constellations.Telesat import Telesat_00053\n",
    "from hermes.objects import Satellite, SatGroup, Earth, Constellation\n",
    "from hermes.scenario import Scenario\n",
    "from hermes.simulation import Simulation\n",
    "from hermes.util import hex2rgb\n",
    "\n",
    "from pyreport import PlotUtil\n",
    "\n",
    "from astropy import units as u, time\n",
    "import numpy as np\n",
    "\n",
    "%matplotlib"
   ]
  },
  {
   "cell_type": "code",
   "execution_count": 2,
   "outputs": [
    {
     "name": "stdout",
     "output_type": "stream",
     "text": [
      "Targets per orbit\n",
      "T_target: 20.00 Gb (min: 20.00 Gb, max: -0.00 Gb)\n",
      "L_target: 60.00 s\n",
      "E_target: 16.82 kJ (max: -0.00 kJ)\n",
      "P_target: 0.00 s\n"
     ]
    },
    {
     "name": "stderr",
     "output_type": "stream",
     "text": [
      "C:\\git\\hermes-optimization\\cenv\\lib\\site-packages\\astropy\\units\\decorators.py:222: UserWarning: Wrapping true anomaly to -π <= nu < π\n",
      "  return_ = wrapped_function(*func_args, **func_kwargs)\n"
     ]
    }
   ],
   "source": [
    "from use_cases import IoTM2M_mission, O3b_target\n",
    "\n",
    "case = IoTM2M_mission\n",
    "target = O3b_target\n",
    "\n",
    "import util\n",
    "util.print_targets(case)\n",
    "\n",
    "import pickle\n",
    "pickle.dump((case, target), open('raw/iot_settings.pkl', 'wb'))"
   ],
   "metadata": {
    "collapsed": false,
    "pycharm": {
     "name": "#%% Define case and target\n"
    }
   }
  },
  {
   "cell_type": "code",
   "execution_count": 3,
   "outputs": [
    {
     "name": "stdout",
     "output_type": "stream",
     "text": [
      "Initializing attractor\n",
      "Initializing 43 satellites...\n",
      "Initializing analysis 1 of 1...\n"
     ]
    },
    {
     "name": "stderr",
     "output_type": "stream",
     "text": [
      "Simulation progress: 17404it [00:29, 598.17it/s]                            \n"
     ]
    }
   ],
   "source": [
    "T_sim = case['T_sim_s']\n",
    "\n",
    "start = time.Time('2019-09-01 10:00:00.000', scale='tt')        # Start time of simulation\n",
    "stop = start + T_sim * u.s # Stop time of simulation\n",
    "step = 1 * u.s\n",
    "\n",
    "scenario = Scenario(start, stop, step, hermes.objects.Earth, name='IoT_O3b')\n",
    "scenario.add_satellite(case['satellite'])\n",
    "scenario.add_satellite(target['constellation'])\n",
    "scenario.add_analysis(LOSAnalysis(scenario, case['satellite'], target['constellation']))\n",
    "\n",
    "# Initialise the scenario\n",
    "scenario.initialise()\n",
    "\n",
    "simulation = Simulation(scenario, show_3d=False)\n",
    "simulation.run()"
   ],
   "metadata": {
    "collapsed": false,
    "pycharm": {
     "name": "#%% Contact simulation\n"
    }
   }
  },
  {
   "cell_type": "code",
   "execution_count": 4,
   "outputs": [
    {
     "data": {
      "text/plain": "'raw/2021-04-25_14-46-56_IoT_O3b_LOSAnalysis_sat_to_node.h5'"
     },
     "execution_count": 4,
     "metadata": {},
     "output_type": "execute_result"
    }
   ],
   "source": [
    "import shutil\n",
    "\n",
    "# Close store\n",
    "scenario.state.analyses[0].store.close()\n",
    "\n",
    "# move output file to /raw\n",
    "shutil.move(scenario.state.analyses[0].hdf_name, \"raw/\" + scenario.state.analyses[0].hdf_name)\n"
   ],
   "metadata": {
    "collapsed": false,
    "pycharm": {
     "name": "#%%\n"
    }
   }
  },
  {
   "cell_type": "code",
   "execution_count": 5,
   "outputs": [
    {
     "name": "stderr",
     "output_type": "stream",
     "text": [
      "C:\\git\\hermes-simulator\\hermes\\geometry.py:278: NumbaPerformanceWarning: \u001B[1m\u001B[1mnp.dot() is faster on contiguous arrays, called on (array(float64, 1d, A), array(float64, 1d, A))\u001B[0m\u001B[0m\n",
      "  v[i, 0] = np.dot(R_x[i, :], u[i, :])\n",
      "C:\\git\\hermes-simulator\\hermes\\geometry.py:279: NumbaPerformanceWarning: \u001B[1m\u001B[1mnp.dot() is faster on contiguous arrays, called on (array(float64, 1d, C), array(float64, 1d, A))\u001B[0m\u001B[0m\n",
      "  v[i, 1] = np.dot(R_y[i, :], u[i, :])\n",
      "C:\\git\\hermes-simulator\\hermes\\geometry.py:280: NumbaPerformanceWarning: \u001B[1m\u001B[1mnp.dot() is faster on contiguous arrays, called on (array(float64, 1d, A), array(float64, 1d, A))\u001B[0m\u001B[0m\n",
      "  v[i, 2] = np.dot(R_z[i, :], u[i, :])\n"
     ]
    }
   ],
   "source": [
    "columns = ['strand_name', 'tof',\n",
    "           'r_a_x', 'r_a_y', 'r_a_z',\n",
    "           'v_a_x', 'v_a_y', 'v_a_z',\n",
    "           'r_b_x', 'r_b_y', 'r_b_z']\n",
    "\n",
    "file_path = \"raw/\" + scenario.state.analyses[0].hdf_name\n",
    "\n",
    "row_limit = -1\n",
    "\n",
    "import pandas as pd\n",
    "\n",
    "hdf_store = pd.HDFStore(file_path)\n",
    "instances_df = hdf_store.select('contact_instances', 'columns = %s' % str(columns), stop = row_limit)\n",
    "\n",
    "# Sort by pass id\n",
    "instances_df = instances_df.sort_index(0)\n",
    "\n",
    "from hermes.postprocessing import *\n",
    "\n",
    "# Add range column d\n",
    "instances_df = add_range(instances_df)\n",
    "\n",
    "# Add sff\n",
    "instances_df = add_sff(instances_df)\n",
    "\n",
    "instances_df.to_hdf('raw/iot_o3b_post_processed.h5', 'contact_instances', format='table')\n",
    "\n",
    "hdf_store.close()\n",
    "\n"
   ],
   "metadata": {
    "collapsed": false,
    "pycharm": {
     "name": "#%% Create post-processed data file\n"
    }
   }
  }
 ],
 "metadata": {
  "kernelspec": {
   "name": "pycharm-34b782de",
   "language": "python",
   "display_name": "PyCharm (hermes-simulator)"
  },
  "language_info": {
   "codemirror_mode": {
    "name": "ipython",
    "version": 2
   },
   "file_extension": ".py",
   "mimetype": "text/x-python",
   "name": "python",
   "nbconvert_exporter": "python",
   "pygments_lexer": "ipython2",
   "version": "2.7.6"
  }
 },
 "nbformat": 4,
 "nbformat_minor": 0
}