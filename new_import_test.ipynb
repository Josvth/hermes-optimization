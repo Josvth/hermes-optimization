{
 "cells": [
  {
   "cell_type": "code",
   "execution_count": 1,
   "metadata": {
    "collapsed": true
   },
   "outputs": [],
   "source": [
    "import pandas as pd\n",
    "import matplotlib.pyplot as plt\n",
    "import numpy as np\n",
    "from pyreport import PlotUtil\n",
    "\n",
    "%matplotlib qt\n",
    "%load_ext autoreload\n",
    "\n",
    "%autoreload 2"
   ]
  },
  {
   "cell_type": "code",
   "execution_count": 2,
   "outputs": [],
   "source": [
    "columns = ['strand_name', 'tof',\n",
    "           'r_a_x', 'r_a_y', 'r_a_z',\n",
    "           'v_a_x', 'v_a_y', 'v_a_z',\n",
    "           'r_b_x', 'r_b_y', 'r_b_z']\n",
    "\n",
    "file_path = \"2021-02-20_21-29-16_Example_LOSAnalysis_sat_500km_97deg_to_Example.h5\"\n",
    "\n",
    "row_limit = -1\n",
    "\n",
    "store_500km = pd.HDFStore(file_path)\n",
    "instances_500km_df = store_500km.select('contact_instances', 'columns = %s' % str(columns), stop = row_limit)\n",
    "\n",
    "# Sort by pass id\n",
    "instances_500km_df = instances_500km_df.sort_index(0)"
   ],
   "metadata": {
    "collapsed": false,
    "pycharm": {
     "name": "#%% Import data files from visibility analysis at 500 km\n"
    }
   }
  },
  {
   "cell_type": "code",
   "execution_count": 3,
   "outputs": [],
   "source": [
    "from hermes.postprocessing import *\n",
    "\n",
    "# Add range column d\n",
    "instances_500km_df = add_range(instances_500km_df)"
   ],
   "metadata": {
    "collapsed": false,
    "pycharm": {
     "name": "#%% Contact instances processing\n"
    }
   }
  },
  {
   "cell_type": "code",
   "execution_count": 4,
   "outputs": [],
   "source": [
    "N_passes = 30\n",
    "\n",
    "fig = plt.figure(figsize=(3.2, 2.4))\n",
    "\n",
    "for i, pass_df in instances_500km_df.loc[0:N_passes,:].groupby(level=0):\n",
    "    tof = pass_df.tof\n",
    "    d = pass_df.d/1000\n",
    "    line, = plt.plot(tof, d, linewidth=1.125)\n",
    "\n",
    "plt.xlabel('Time of flight [s]')\n",
    "plt.ylabel('Range [km]')\n",
    "plt.xlim((0, 4500))\n",
    "\n",
    "plt.grid()\n",
    "PlotUtil.apply_report_formatting()\n",
    "plt.tight_layout()\n",
    "#plt.savefig('D:/git/thesis_report_ae/figures/range.pgf')"
   ],
   "metadata": {
    "collapsed": false,
    "pycharm": {
     "name": "#%% Plot range\n"
    }
   }
  },
  {
   "cell_type": "code",
   "execution_count": 5,
   "outputs": [],
   "source": [
    "from hermes.postprocessing import *\n",
    "\n",
    "fig = plt.figure(figsize=(3.2, 2.4))\n",
    "ax = fig.add_subplot(111, projection='3d', proj_type = 'ortho')\n",
    "\n",
    "for i, pass_df in instances_500km_df.loc[0:N_passes,:].groupby(level=0):\n",
    "    tof = pass_df.tof\n",
    "    r_a = get_r_a(pass_df)\n",
    "    r_b = get_r_b(pass_df)\n",
    "    r_ab = (r_a - r_b)/1000\n",
    "    x, y, z = r_ab[:,0], r_ab[:,1], r_ab[:,2]\n",
    "    line, = ax.plot(x, y, z, linewidth=1.125)\n",
    "\n",
    "ax.scatter(0, 0, 0, s=20, c='#000000', marker='.', )\n",
    "ax.set_xlabel('x [km]')\n",
    "ax.set_ylabel('y [km]')\n",
    "ax.set_zlabel('z [km]')\n",
    "ax.xaxis.set_pane_color((1.0, 1.0, 1.0, 0.0))\n",
    "ax.yaxis.set_pane_color((1.0, 1.0, 1.0, 0.0))\n",
    "ax.zaxis.set_pane_color((1.0, 1.0, 1.0, 0.0))\n",
    "ax.set_xlim(np.array([-1, 1]) * 900)\n",
    "ax.set_ylim(np.array([-1, 1]) * 900)\n",
    "ax.set_zlim(np.array([-1, 1]) * 900)\n",
    "ax.view_init(30, 45)"
   ],
   "metadata": {
    "collapsed": false,
    "pycharm": {
     "name": "#%% Plot in ecif\n"
    }
   }
  },
  {
   "cell_type": "code",
   "execution_count": 6,
   "outputs": [
    {
     "name": "stderr",
     "output_type": "stream",
     "text": [
      "C:\\git\\hermes-simulator\\hermes\\geometry.py:278: NumbaPerformanceWarning: \u001B[1m\u001B[1mnp.dot() is faster on contiguous arrays, called on (array(float64, 1d, A), array(float64, 1d, A))\u001B[0m\u001B[0m\n",
      "  v[i, 0] = np.dot(R_x[i, :], u[i, :])\n",
      "C:\\git\\hermes-simulator\\hermes\\geometry.py:279: NumbaPerformanceWarning: \u001B[1m\u001B[1mnp.dot() is faster on contiguous arrays, called on (array(float64, 1d, C), array(float64, 1d, A))\u001B[0m\u001B[0m\n",
      "  v[i, 1] = np.dot(R_y[i, :], u[i, :])\n",
      "C:\\git\\hermes-simulator\\hermes\\geometry.py:280: NumbaPerformanceWarning: \u001B[1m\u001B[1mnp.dot() is faster on contiguous arrays, called on (array(float64, 1d, A), array(float64, 1d, A))\u001B[0m\u001B[0m\n",
      "  v[i, 2] = np.dot(R_z[i, :], u[i, :])\n"
     ]
    }
   ],
   "source": [
    "from hermes.postprocessing import *\n",
    "\n",
    "instances_500km_df = add_sff_2(instances_500km_df)"
   ],
   "metadata": {
    "collapsed": false,
    "pycharm": {
     "name": "#%% Rotate to sff\n"
    }
   }
  },
  {
   "cell_type": "code",
   "execution_count": 10,
   "outputs": [
    {
     "data": {
      "text/plain": "<Figure size 320x240 with 1 Axes>",
      "image/png": "[encoded data removed]"
     },
     "execution_count": 10,
     "metadata": {},
     "output_type": "execute_result"
    }
   ],
   "source": [
    "fig = plt.figure(figsize=(3.2, 2.4))\n",
    "ax = fig.add_subplot(111, projection='3d', proj_type = 'ortho')\n",
    "\n",
    "for i, pass_df in instances_500km_df.loc[0:N_passes,:].groupby(level=0):\n",
    "    tof = pass_df.tof\n",
    "    r_ab_sff = get_r_ab_sff(pass_df) / 1000\n",
    "    x, y, z = r_ab_sff[:,0], r_ab_sff[:,1], r_ab_sff[:,2]\n",
    "    line, = ax.plot(x, y, z, linewidth=1.125)\n",
    "\n",
    "#ax.scatter(0, 0, 0, s=20, c='#000000', marker='.', )\n",
    "\n",
    "ax.set_xlabel('x [km]')\n",
    "ax.set_ylabel('y [km]')\n",
    "ax.set_zlabel('z [km]')\n",
    "ax.xaxis.set_pane_color((1.0, 1.0, 1.0, 0.0))\n",
    "ax.yaxis.set_pane_color((1.0, 1.0, 1.0, 0.0))\n",
    "ax.zaxis.set_pane_color((1.0, 1.0, 1.0, 0.0))\n",
    "ax.set_xlim(np.array([-1, 1]) * 900)\n",
    "ax.set_ylim(np.array([-1, 1]) * 900)\n",
    "# # ax.set_zlim((-100, 100))\n",
    "ax.view_init(30, 45)\n",
    "\n",
    "per = 0.3\n",
    "u = ax.get_xlim()[1]*per\n",
    "v = ax.get_ylim()[1]*per\n",
    "w = ax.get_zlim()[1]*per*0.5\n",
    "\n",
    "# Plot coordinate system\n",
    "ax.quiver(0,0,0, u,0,0, length=1, normalize=False, linewidth=1.125, color = 'r')\n",
    "ax.quiver(0,0,0, 0,v,0, length=1, normalize=False, linewidth=1.125, color = 'g')\n",
    "ax.quiver(0,0,0, 0,0,w, length=1, normalize=False, linewidth=1.125, color = 'b')\n",
    "ax.scatter(0, 0, 0, s=10, c='#000000', marker='.', )\n",
    "\n",
    "plt.grid()\n",
    "plt.subplots_adjust(bottom=0.1)\n",
    "PlotUtil.apply_report_formatting()\n",
    "#plt.savefig('D:/git/thesis_report_ae/figures/passes_scf.pgf')\n",
    "\n",
    "fig"
   ],
   "metadata": {
    "collapsed": false,
    "pycharm": {
     "name": "#%% Plot sff\n"
    }
   }
  },
  {
   "cell_type": "markdown",
   "source": [
    "## Range plot"
   ],
   "metadata": {
    "collapsed": false
   }
  },
  {
   "cell_type": "code",
   "execution_count": 8,
   "outputs": [
    {
     "ename": "NameError",
     "evalue": "name 'passes_df' is not defined",
     "output_type": "error",
     "traceback": [
      "\u001B[1;31m---------------------------------------------------------------------------\u001B[0m",
      "\u001B[1;31mNameError\u001B[0m                                 Traceback (most recent call last)",
      "\u001B[1;32m<ipython-input-8-a1a327e44d51>\u001B[0m in \u001B[0;36m<module>\u001B[1;34m\u001B[0m\n\u001B[0;32m      1\u001B[0m \u001B[0mfig\u001B[0m \u001B[1;33m=\u001B[0m \u001B[0mplt\u001B[0m\u001B[1;33m.\u001B[0m\u001B[0mfigure\u001B[0m\u001B[1;33m(\u001B[0m\u001B[0mfigsize\u001B[0m\u001B[1;33m=\u001B[0m\u001B[1;33m(\u001B[0m\u001B[1;36m3.2\u001B[0m\u001B[1;33m,\u001B[0m \u001B[1;36m2.4\u001B[0m\u001B[1;33m)\u001B[0m\u001B[1;33m)\u001B[0m\u001B[1;33m\u001B[0m\u001B[1;33m\u001B[0m\u001B[0m\n\u001B[0;32m      2\u001B[0m \u001B[1;33m\u001B[0m\u001B[0m\n\u001B[1;32m----> 3\u001B[1;33m \u001B[1;32mfor\u001B[0m \u001B[0mi\u001B[0m\u001B[1;33m,\u001B[0m \u001B[0mpass_df\u001B[0m \u001B[1;32min\u001B[0m \u001B[0mpasses_df\u001B[0m\u001B[1;33m.\u001B[0m\u001B[0mhead\u001B[0m\u001B[1;33m(\u001B[0m\u001B[0mN_passes\u001B[0m\u001B[1;33m)\u001B[0m\u001B[1;33m.\u001B[0m\u001B[0miterrows\u001B[0m\u001B[1;33m(\u001B[0m\u001B[1;33m)\u001B[0m\u001B[1;33m:\u001B[0m\u001B[1;33m\u001B[0m\u001B[1;33m\u001B[0m\u001B[0m\n\u001B[0m\u001B[0;32m      4\u001B[0m     \u001B[0mttof\u001B[0m \u001B[1;33m=\u001B[0m \u001B[0mpass_df\u001B[0m\u001B[1;33m.\u001B[0m\u001B[0mttof\u001B[0m\u001B[1;33m\u001B[0m\u001B[1;33m\u001B[0m\u001B[0m\n\u001B[0;32m      5\u001B[0m     \u001B[0md\u001B[0m \u001B[1;33m=\u001B[0m \u001B[0mnp\u001B[0m\u001B[1;33m.\u001B[0m\u001B[0mlinalg\u001B[0m\u001B[1;33m.\u001B[0m\u001B[0mnorm\u001B[0m\u001B[1;33m(\u001B[0m\u001B[0mpass_df\u001B[0m\u001B[1;33m.\u001B[0m\u001B[0mll\u001B[0m\u001B[1;33m,\u001B[0m \u001B[0maxis\u001B[0m\u001B[1;33m=\u001B[0m\u001B[1;36m1\u001B[0m\u001B[1;33m)\u001B[0m\u001B[1;33m/\u001B[0m\u001B[1;36m1000\u001B[0m\u001B[1;33m\u001B[0m\u001B[1;33m\u001B[0m\u001B[0m\n",
      "\u001B[1;31mNameError\u001B[0m: name 'passes_df' is not defined"
     ]
    }
   ],
   "source": [
    "fig = plt.figure(figsize=(3.2, 2.4))\n",
    "\n",
    "for i, pass_df in passes_df.head(N_passes).iterrows():\n",
    "    ttof = pass_df.ttof\n",
    "    d = np.linalg.norm(pass_df.ll, axis=1)/1000\n",
    "    line, = plt.plot(ttof, d, linewidth=1.125)\n",
    "\n",
    "plt.xlabel('Time of flight [s]')\n",
    "plt.ylabel('Range [km]')\n",
    "plt.xlim((0, 4500))\n",
    "\n",
    "plt.grid()\n",
    "apply_report_formatting()\n",
    "plt.tight_layout()\n",
    "plt.savefig('D:/git/thesis_report_ae/figures/range.pgf')\n",
    "\n",
    "fig\n"
   ],
   "metadata": {
    "collapsed": false,
    "pycharm": {
     "name": "#%%\n"
    }
   }
  },
  {
   "cell_type": "markdown",
   "source": [
    "## Sky plot"
   ],
   "metadata": {
    "collapsed": false
   }
  },
  {
   "cell_type": "code",
   "execution_count": null,
   "outputs": [],
   "source": [
    "fig = plt.figure(figsize=(2.4, 2.4))\n",
    "\n",
    "def xyz_to_shperical(xyz):\n",
    "    xy = xyz[:,0]**2 + xyz[:,1]**2\n",
    "    r = np.sqrt(xy + xyz[:,2]**2)\n",
    "    theta = np.arctan2(np.sqrt(xy), xyz[:,2]) # for elevation angle defined from Z-axis down\n",
    "    phi = np.arctan2(xyz[:,1], xyz[:,0])\n",
    "    return r, theta, phi\n",
    "\n",
    "for i, pass_df in passes_df.head(N_passes).iterrows():\n",
    "    ll = pass_df.ll/1000\n",
    "    r, theta, phi = xyz_to_shperical(ll)\n",
    "    line, = plt.polar(phi, theta * 180 / np.pi, linewidth=1.125)\n",
    "\n",
    "plt.yticks(ticks=plt.yticks()[0], labels=[\"%d\" % v for v in 90 - np.array(plt.yticks()[0])])\n",
    "#plt.grid()\n",
    "apply_report_formatting()\n",
    "plt.tight_layout()\n",
    "# plt.subplots_adjust(bottom=0.1)\n",
    "plt.savefig('D:/git/thesis_report_ae/figures/skyplot.pgf')\n",
    "\n",
    "fig"
   ],
   "metadata": {
    "collapsed": false,
    "pycharm": {
     "name": "#%%\n"
    }
   }
  }
 ],
 "metadata": {
  "kernelspec": {
   "name": "pycharm-34b782de",
   "language": "python",
   "display_name": "PyCharm (hermes-simulator)"
  },
  "language_info": {
   "codemirror_mode": {
    "name": "ipython",
    "version": 2
   },
   "file_extension": ".py",
   "mimetype": "text/x-python",
   "name": "python",
   "nbconvert_exporter": "python",
   "pygments_lexer": "ipython2",
   "version": "2.7.6"
  }
 },
 "nbformat": 4,
 "nbformat_minor": 0
}